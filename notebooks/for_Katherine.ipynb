{
 "cells": [
  {
   "cell_type": "code",
   "execution_count": 2,
   "metadata": {},
   "outputs": [],
   "source": [
    "from src.utils import collapse_isoforms_to_proteoforms, read_gtf\n",
    "import polars as pl"
   ]
  },
  {
   "cell_type": "markdown",
   "metadata": {},
   "source": [
    "# Add base_isoform to protein_classification"
   ]
  },
  {
   "cell_type": "code",
   "execution_count": 3,
   "metadata": {},
   "outputs": [
    {
     "name": "stderr",
     "output_type": "stream",
     "text": [
      "/gpfs/fs0/scratch/s/shreejoy/nxu/SFARI/src/utils.py:7013: MapWithoutReturnDtypeWarning: Calling `map_elements` without specifying `return_dtype` can lead to unpredictable results. Specify `return_dtype` to silence this warning.\n",
      "  .with_columns(\n"
     ]
    }
   ],
   "source": [
    "tx_classification = pl.read_parquet(\"nextflow_results/V47/final_classification.parquet\")\n",
    "\n",
    "orfanage_gtf = read_gtf(\"nextflow_results/V47/orfanage/orfanage.gtf\", attributes=[\"gene_id\", \"transcript_id\"])\n",
    "protein_classification = pl.read_csv(\"nextflow_results/V47/orfanage/SFARI.protein_classification.tsv\", separator=\"\\t\")\n",
    "protein_classification = protein_classification\\\n",
    "    .join(\n",
    "        collapse_isoforms_to_proteoforms(orfanage_gtf).rename({\"isoform\": \"pb\"}),\n",
    "        on = \"pb\",\n",
    "        how = \"left\"\n",
    "    )"
   ]
  },
  {
   "cell_type": "code",
   "execution_count": 17,
   "metadata": {},
   "outputs": [],
   "source": [
    "protein_classification.write_csv(\"export/SFARI.protein_classification.tsv\", separator=\"\\t\")"
   ]
  },
  {
   "cell_type": "code",
   "execution_count": 8,
   "metadata": {},
   "outputs": [
    {
     "data": {
      "text/html": [
       "<div><style>\n",
       ".dataframe > thead > tr,\n",
       ".dataframe > tbody > tr {\n",
       "  text-align: right;\n",
       "  white-space: pre-wrap;\n",
       "}\n",
       "</style>\n",
       "<small>shape: (260, 51)</small><table border=\"1\" class=\"dataframe\"><thead><tr><th>isoform</th><th>chrom</th><th>strand</th><th>length</th><th>exons</th><th>structural_category</th><th>associated_gene</th><th>associated_transcript</th><th>ref_length</th><th>ref_exons</th><th>diff_to_TSS</th><th>diff_to_TTS</th><th>diff_to_gene_TSS</th><th>diff_to_gene_TTS</th><th>subcategory</th><th>RTS_stage</th><th>all_canonical</th><th>min_sample_cov</th><th>min_cov</th><th>min_cov_pos</th><th>sd_cov</th><th>FL</th><th>n_indels</th><th>n_indels_junc</th><th>bite</th><th>iso_exp</th><th>gene_exp</th><th>ratio_exp</th><th>FSM_class</th><th>coding</th><th>ORF_length</th><th>CDS_length</th><th>CDS_start</th><th>CDS_end</th><th>CDS_genomic_start</th><th>CDS_genomic_end</th><th>predicted_NMD</th><th>perc_A_downstream_TTS</th><th>seq_A_downstream_TTS</th><th>dist_to_CAGE_peak</th><th>within_CAGE_peak</th><th>dist_to_polyA_site</th><th>within_polyA_site</th><th>polyA_motif</th><th>polyA_dist</th><th>polyA_motif_found</th><th>ORF_seq</th><th>ratio_TSS</th><th>fl_assoc</th><th>cell_barcodes</th><th>containing_novel_spl</th></tr><tr><td>str</td><td>str</td><td>str</td><td>i32</td><td>i32</td><td>str</td><td>str</td><td>str</td><td>i32</td><td>i32</td><td>i32</td><td>i32</td><td>i32</td><td>i32</td><td>str</td><td>str</td><td>str</td><td>str</td><td>str</td><td>str</td><td>str</td><td>str</td><td>str</td><td>str</td><td>bool</td><td>str</td><td>str</td><td>str</td><td>str</td><td>str</td><td>str</td><td>str</td><td>str</td><td>str</td><td>str</td><td>str</td><td>str</td><td>f64</td><td>str</td><td>str</td><td>str</td><td>str</td><td>str</td><td>str</td><td>str</td><td>str</td><td>str</td><td>str</td><td>str</td><td>str</td><td>bool</td></tr></thead><tbody><tr><td>&quot;PB.44.2&quot;</td><td>&quot;chr1&quot;</td><td>&quot;-&quot;</td><td>2173</td><td>7</td><td>&quot;full-splice_match&quot;</td><td>&quot;SDF4&quot;</td><td>&quot;ENST00000360001.12&quot;</td><td>1933</td><td>7</td><td>-224</td><td>-16</td><td>-194</td><td>16</td><td>&quot;alternative_5end&quot;</td><td>&quot;FALSE&quot;</td><td>&quot;canonical&quot;</td><td>null</td><td>null</td><td>null</td><td>null</td><td>null</td><td>null</td><td>null</td><td>false</td><td>null</td><td>null</td><td>null</td><td>&quot;C&quot;</td><td>&quot;non_coding&quot;</td><td>null</td><td>null</td><td>null</td><td>null</td><td>null</td><td>null</td><td>null</td><td>10.0</td><td>&quot;AGCTTCATTCTTTGGGCGTG&quot;</td><td>null</td><td>null</td><td>null</td><td>null</td><td>null</td><td>null</td><td>null</td><td>null</td><td>null</td><td>null</td><td>null</td><td>false</td></tr><tr><td>&quot;PB.44.3&quot;</td><td>&quot;chr1&quot;</td><td>&quot;-&quot;</td><td>2094</td><td>8</td><td>&quot;novel_not_in_catalog&quot;</td><td>&quot;SDF4&quot;</td><td>&quot;novel&quot;</td><td>1933</td><td>7</td><td>null</td><td>null</td><td>-34</td><td>23</td><td>&quot;at_least_one_novel_splicesite&quot;</td><td>&quot;FALSE&quot;</td><td>&quot;canonical&quot;</td><td>null</td><td>null</td><td>null</td><td>null</td><td>null</td><td>null</td><td>null</td><td>true</td><td>null</td><td>null</td><td>null</td><td>&quot;C&quot;</td><td>&quot;non_coding&quot;</td><td>null</td><td>null</td><td>null</td><td>null</td><td>null</td><td>null</td><td>null</td><td>30.0</td><td>&quot;TTCTTTGGGCGTGAAACAAA&quot;</td><td>null</td><td>null</td><td>null</td><td>null</td><td>null</td><td>null</td><td>null</td><td>null</td><td>null</td><td>null</td><td>null</td><td>true</td></tr><tr><td>&quot;PB.44.4&quot;</td><td>&quot;chr1&quot;</td><td>&quot;-&quot;</td><td>1990</td><td>7</td><td>&quot;novel_in_catalog&quot;</td><td>&quot;SDF4&quot;</td><td>&quot;novel&quot;</td><td>2095</td><td>7</td><td>null</td><td>null</td><td>-20</td><td>-6</td><td>&quot;combination_of_known_junctions&quot;</td><td>&quot;FALSE&quot;</td><td>&quot;canonical&quot;</td><td>null</td><td>null</td><td>null</td><td>null</td><td>null</td><td>null</td><td>null</td><td>false</td><td>null</td><td>null</td><td>null</td><td>&quot;C&quot;</td><td>&quot;non_coding&quot;</td><td>null</td><td>null</td><td>null</td><td>null</td><td>null</td><td>null</td><td>null</td><td>25.0</td><td>&quot;TTAAATATAGTTGCCTTTTT&quot;</td><td>null</td><td>null</td><td>null</td><td>null</td><td>null</td><td>null</td><td>null</td><td>null</td><td>null</td><td>null</td><td>null</td><td>false</td></tr><tr><td>&quot;PB.44.6&quot;</td><td>&quot;chr1&quot;</td><td>&quot;-&quot;</td><td>1849</td><td>6</td><td>&quot;novel_in_catalog&quot;</td><td>&quot;SDF4&quot;</td><td>&quot;novel&quot;</td><td>1933</td><td>7</td><td>null</td><td>null</td><td>-24</td><td>21</td><td>&quot;combination_of_known_splicesit…</td><td>&quot;FALSE&quot;</td><td>&quot;canonical&quot;</td><td>null</td><td>null</td><td>null</td><td>null</td><td>null</td><td>null</td><td>null</td><td>false</td><td>null</td><td>null</td><td>null</td><td>&quot;C&quot;</td><td>&quot;non_coding&quot;</td><td>null</td><td>null</td><td>null</td><td>null</td><td>null</td><td>null</td><td>null</td><td>25.0</td><td>&quot;CATTCTTTGGGCGTGAAACA&quot;</td><td>null</td><td>null</td><td>null</td><td>null</td><td>null</td><td>null</td><td>null</td><td>null</td><td>null</td><td>null</td><td>null</td><td>false</td></tr><tr><td>&quot;PB.44.7&quot;</td><td>&quot;chr1&quot;</td><td>&quot;-&quot;</td><td>2229</td><td>7</td><td>&quot;full-splice_match&quot;</td><td>&quot;SDF4&quot;</td><td>&quot;ENST00000263741.12&quot;</td><td>2079</td><td>7</td><td>-157</td><td>7</td><td>-157</td><td>-4</td><td>&quot;alternative_5end&quot;</td><td>&quot;FALSE&quot;</td><td>&quot;canonical&quot;</td><td>null</td><td>null</td><td>null</td><td>null</td><td>null</td><td>null</td><td>null</td><td>false</td><td>null</td><td>null</td><td>null</td><td>&quot;C&quot;</td><td>&quot;non_coding&quot;</td><td>null</td><td>null</td><td>null</td><td>null</td><td>null</td><td>null</td><td>null</td><td>25.0</td><td>&quot;AAATATAGTTGCCTTTTTTG&quot;</td><td>null</td><td>null</td><td>null</td><td>null</td><td>null</td><td>null</td><td>null</td><td>null</td><td>null</td><td>null</td><td>null</td><td>false</td></tr><tr><td>&hellip;</td><td>&hellip;</td><td>&hellip;</td><td>&hellip;</td><td>&hellip;</td><td>&hellip;</td><td>&hellip;</td><td>&hellip;</td><td>&hellip;</td><td>&hellip;</td><td>&hellip;</td><td>&hellip;</td><td>&hellip;</td><td>&hellip;</td><td>&hellip;</td><td>&hellip;</td><td>&hellip;</td><td>&hellip;</td><td>&hellip;</td><td>&hellip;</td><td>&hellip;</td><td>&hellip;</td><td>&hellip;</td><td>&hellip;</td><td>&hellip;</td><td>&hellip;</td><td>&hellip;</td><td>&hellip;</td><td>&hellip;</td><td>&hellip;</td><td>&hellip;</td><td>&hellip;</td><td>&hellip;</td><td>&hellip;</td><td>&hellip;</td><td>&hellip;</td><td>&hellip;</td><td>&hellip;</td><td>&hellip;</td><td>&hellip;</td><td>&hellip;</td><td>&hellip;</td><td>&hellip;</td><td>&hellip;</td><td>&hellip;</td><td>&hellip;</td><td>&hellip;</td><td>&hellip;</td><td>&hellip;</td><td>&hellip;</td><td>&hellip;</td></tr><tr><td>&quot;PB.44.2198&quot;</td><td>&quot;chr1&quot;</td><td>&quot;-&quot;</td><td>1040</td><td>6</td><td>&quot;full-splice_match&quot;</td><td>&quot;CCNL2&quot;</td><td>&quot;ENST00000408918.8&quot;</td><td>1186</td><td>6</td><td>-11</td><td>157</td><td>0</td><td>-157</td><td>&quot;alternative_3end&quot;</td><td>&quot;FALSE&quot;</td><td>&quot;canonical&quot;</td><td>null</td><td>null</td><td>null</td><td>null</td><td>null</td><td>null</td><td>null</td><td>false</td><td>null</td><td>null</td><td>null</td><td>&quot;C&quot;</td><td>&quot;non_coding&quot;</td><td>null</td><td>null</td><td>null</td><td>null</td><td>null</td><td>null</td><td>null</td><td>20.0</td><td>&quot;AGTGTGGGGTTATGTCATGA&quot;</td><td>null</td><td>null</td><td>null</td><td>null</td><td>null</td><td>null</td><td>null</td><td>null</td><td>null</td><td>null</td><td>null</td><td>false</td></tr><tr><td>&quot;PB.44.2253&quot;</td><td>&quot;chr1&quot;</td><td>&quot;-&quot;</td><td>1242</td><td>4</td><td>&quot;full-splice_match&quot;</td><td>&quot;MRPL20&quot;</td><td>&quot;ENST00000344843.12&quot;</td><td>700</td><td>4</td><td>-541</td><td>-1</td><td>-541</td><td>1</td><td>&quot;alternative_5end&quot;</td><td>&quot;FALSE&quot;</td><td>&quot;canonical&quot;</td><td>null</td><td>null</td><td>null</td><td>null</td><td>null</td><td>null</td><td>null</td><td>false</td><td>null</td><td>null</td><td>null</td><td>&quot;C&quot;</td><td>&quot;non_coding&quot;</td><td>null</td><td>null</td><td>null</td><td>null</td><td>null</td><td>null</td><td>null</td><td>15.0</td><td>&quot;TTTTTAGAGTCATTTTCTGG&quot;</td><td>null</td><td>null</td><td>null</td><td>null</td><td>null</td><td>null</td><td>null</td><td>null</td><td>null</td><td>null</td><td>null</td><td>false</td></tr><tr><td>&quot;PB.44.2254&quot;</td><td>&quot;chr1&quot;</td><td>&quot;-&quot;</td><td>1391</td><td>4</td><td>&quot;novel_in_catalog&quot;</td><td>&quot;MRPL20&quot;</td><td>&quot;novel&quot;</td><td>700</td><td>4</td><td>null</td><td>null</td><td>-9</td><td>-1</td><td>&quot;intron_retention&quot;</td><td>&quot;FALSE&quot;</td><td>&quot;canonical&quot;</td><td>null</td><td>null</td><td>null</td><td>null</td><td>null</td><td>null</td><td>null</td><td>false</td><td>null</td><td>null</td><td>null</td><td>&quot;C&quot;</td><td>&quot;non_coding&quot;</td><td>null</td><td>null</td><td>null</td><td>null</td><td>null</td><td>null</td><td>null</td><td>20.0</td><td>&quot;AGTTTTTAGAGTCATTTTCT&quot;</td><td>null</td><td>null</td><td>null</td><td>null</td><td>null</td><td>null</td><td>null</td><td>null</td><td>null</td><td>null</td><td>null</td><td>false</td></tr><tr><td>&quot;PB.44.2257&quot;</td><td>&quot;chr1&quot;</td><td>&quot;-&quot;</td><td>1044</td><td>4</td><td>&quot;novel_in_catalog&quot;</td><td>&quot;MRPL20&quot;</td><td>&quot;novel&quot;</td><td>700</td><td>4</td><td>null</td><td>null</td><td>0</td><td>-1</td><td>&quot;combination_of_known_junctions&quot;</td><td>&quot;FALSE&quot;</td><td>&quot;canonical&quot;</td><td>null</td><td>null</td><td>null</td><td>null</td><td>null</td><td>null</td><td>null</td><td>false</td><td>null</td><td>null</td><td>null</td><td>&quot;C&quot;</td><td>&quot;non_coding&quot;</td><td>null</td><td>null</td><td>null</td><td>null</td><td>null</td><td>null</td><td>null</td><td>20.0</td><td>&quot;AGTTTTTAGAGTCATTTTCT&quot;</td><td>null</td><td>null</td><td>null</td><td>null</td><td>null</td><td>null</td><td>null</td><td>null</td><td>null</td><td>null</td><td>null</td><td>false</td></tr><tr><td>&quot;PB.44.2261&quot;</td><td>&quot;chr1&quot;</td><td>&quot;-&quot;</td><td>1721</td><td>3</td><td>&quot;full-splice_match&quot;</td><td>&quot;MRPL20&quot;</td><td>&quot;ENST00000487659.1&quot;</td><td>1693</td><td>3</td><td>-25</td><td>-3</td><td>0</td><td>-1</td><td>&quot;reference_match&quot;</td><td>&quot;FALSE&quot;</td><td>&quot;canonical&quot;</td><td>null</td><td>null</td><td>null</td><td>null</td><td>null</td><td>null</td><td>null</td><td>false</td><td>null</td><td>null</td><td>null</td><td>&quot;C&quot;</td><td>&quot;non_coding&quot;</td><td>null</td><td>null</td><td>null</td><td>null</td><td>null</td><td>null</td><td>null</td><td>20.0</td><td>&quot;AGTTTTTAGAGTCATTTTCT&quot;</td><td>null</td><td>null</td><td>null</td><td>null</td><td>null</td><td>null</td><td>null</td><td>null</td><td>null</td><td>null</td><td>null</td><td>false</td></tr></tbody></table></div>"
      ],
      "text/plain": [
       "shape: (260, 51)\n",
       "┌────────────┬───────┬────────┬────────┬───┬───────────┬──────────┬───────────────┬────────────────┐\n",
       "│ isoform    ┆ chrom ┆ strand ┆ length ┆ … ┆ ratio_TSS ┆ fl_assoc ┆ cell_barcodes ┆ containing_nov │\n",
       "│ ---        ┆ ---   ┆ ---    ┆ ---    ┆   ┆ ---       ┆ ---      ┆ ---           ┆ el_spl         │\n",
       "│ str        ┆ str   ┆ str    ┆ i32    ┆   ┆ str       ┆ str      ┆ str           ┆ ---            │\n",
       "│            ┆       ┆        ┆        ┆   ┆           ┆          ┆               ┆ bool           │\n",
       "╞════════════╪═══════╪════════╪════════╪═══╪═══════════╪══════════╪═══════════════╪════════════════╡\n",
       "│ PB.44.2    ┆ chr1  ┆ -      ┆ 2173   ┆ … ┆ null      ┆ null     ┆ null          ┆ false          │\n",
       "│ PB.44.3    ┆ chr1  ┆ -      ┆ 2094   ┆ … ┆ null      ┆ null     ┆ null          ┆ true           │\n",
       "│ PB.44.4    ┆ chr1  ┆ -      ┆ 1990   ┆ … ┆ null      ┆ null     ┆ null          ┆ false          │\n",
       "│ PB.44.6    ┆ chr1  ┆ -      ┆ 1849   ┆ … ┆ null      ┆ null     ┆ null          ┆ false          │\n",
       "│ PB.44.7    ┆ chr1  ┆ -      ┆ 2229   ┆ … ┆ null      ┆ null     ┆ null          ┆ false          │\n",
       "│ …          ┆ …     ┆ …      ┆ …      ┆ … ┆ …         ┆ …        ┆ …             ┆ …              │\n",
       "│ PB.44.2198 ┆ chr1  ┆ -      ┆ 1040   ┆ … ┆ null      ┆ null     ┆ null          ┆ false          │\n",
       "│ PB.44.2253 ┆ chr1  ┆ -      ┆ 1242   ┆ … ┆ null      ┆ null     ┆ null          ┆ false          │\n",
       "│ PB.44.2254 ┆ chr1  ┆ -      ┆ 1391   ┆ … ┆ null      ┆ null     ┆ null          ┆ false          │\n",
       "│ PB.44.2257 ┆ chr1  ┆ -      ┆ 1044   ┆ … ┆ null      ┆ null     ┆ null          ┆ false          │\n",
       "│ PB.44.2261 ┆ chr1  ┆ -      ┆ 1721   ┆ … ┆ null      ┆ null     ┆ null          ┆ false          │\n",
       "└────────────┴───────┴────────┴────────┴───┴───────────┴──────────┴───────────────┴────────────────┘"
      ]
     },
     "execution_count": 8,
     "metadata": {},
     "output_type": "execute_result"
    }
   ],
   "source": [
    "tx_classification\\\n",
    "    .filter(\n",
    "        pl.col(\"isoform\").str.starts_with(\"PB.44.\")\n",
    "    )"
   ]
  },
  {
   "cell_type": "markdown",
   "metadata": {},
   "source": [
    "# Make reduced ORFanage GTF for viewing in UCSC browser"
   ]
  },
  {
   "cell_type": "code",
   "execution_count": null,
   "metadata": {},
   "outputs": [
    {
     "ename": "",
     "evalue": "",
     "output_type": "error",
     "traceback": [
      "\u001b[1;31mThe Kernel crashed while executing code in the current cell or a previous cell. \n",
      "\n",
      "\u001b[1;31mPlease review the code in the cell(s) to identify a possible cause of the failure. \n",
      "\n",
      "\u001b[1;31mClick <a href='https://aka.ms/vscodeJupyterKernelCrash'>here</a> for more info. \n",
      "\n",
      "\u001b[1;31mView Jupyter <a href='command:jupyter.viewOutput'>log</a> for further details."
     ]
    }
   ],
   "source": [
    "orfanage_gtf\\\n",
    "    .with_columns(\n",
    "        attributes = pl.lit('gene_id \"')+pl.col(\"gene_id\")+pl.lit('\"; transcript_id \"')+pl.col(\"transcript_id\")+pl.lit('\";')\n",
    "    )\\\n",
    "    .drop(\"gene_id\", \"transcript_id\")\\\n",
    "    .write_csv(\n",
    "        \"export/orfanage_mini.gtf\",\n",
    "        separator = \"\\t\",\n",
    "        quote_style=\"never\",\n",
    "        include_header=False\n",
    "    )"
   ]
  }
 ],
 "metadata": {
  "kernelspec": {
   "display_name": "patch_seq_spl",
   "language": "python",
   "name": "python3"
  },
  "language_info": {
   "codemirror_mode": {
    "name": "ipython",
    "version": 3
   },
   "file_extension": ".py",
   "mimetype": "text/x-python",
   "name": "python",
   "nbconvert_exporter": "python",
   "pygments_lexer": "ipython3",
   "version": "3.12.3"
  }
 },
 "nbformat": 4,
 "nbformat_minor": 2
}
