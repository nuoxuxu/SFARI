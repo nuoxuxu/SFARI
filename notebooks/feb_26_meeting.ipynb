{
 "cells": [
  {
   "cell_type": "code",
   "execution_count": 1,
   "metadata": {},
   "outputs": [],
   "source": [
    "import polars as pl\n",
    "import seaborn as sns\n",
    "from src.utils import read_gtf"
   ]
  },
  {
   "cell_type": "markdown",
   "metadata": {},
   "source": [
    "# Should ISMs be kept?"
   ]
  },
  {
   "cell_type": "markdown",
   "metadata": {},
   "source": [
    "## Load datasets"
   ]
  },
  {
   "cell_type": "code",
   "execution_count": 2,
   "metadata": {},
   "outputs": [],
   "source": [
    "classification = pl.read_parquet(\"nextflow_results/V47/final_classification.parquet\")"
   ]
  },
  {
   "cell_type": "code",
   "execution_count": 3,
   "metadata": {},
   "outputs": [],
   "source": [
    "reftss = pl.read_csv(\"data/liftovered_mm39_to_hg38_peaks_overlapped_reftss_hg38_500bp.bed\", separator=\"\\t\", has_header = False, new_columns=[\"seqname\", \"start\", \"end\", \"name\", \"score\", \"strand\"])"
   ]
  },
  {
   "cell_type": "code",
   "execution_count": 4,
   "metadata": {},
   "outputs": [],
   "source": [
    "gtf = read_gtf(\"nextflow_results/V47/final_transcripts.gtf\")"
   ]
  },
  {
   "cell_type": "markdown",
   "metadata": {},
   "source": [
    "## Calculate CAGE peak overlaps"
   ]
  },
  {
   "cell_type": "code",
   "execution_count": 5,
   "metadata": {},
   "outputs": [],
   "source": [
    "validated_pbids = gtf\\\n",
    "    .filter(pl.col(\"feature\")==\"exon\")\\\n",
    "    .group_by(\"transcript_id\")\\\n",
    "    .agg(\n",
    "        pl.col(\"seqname\").map_elements(lambda x : x[0], return_dtype=pl.String),\n",
    "        pl.col(\"strand\").map_elements(lambda x : x[0], return_dtype=pl.String),\n",
    "        pl.col(\"start\").min(),\n",
    "        pl.col(\"end\").max()\n",
    "    )\\\n",
    "    .select(\n",
    "        pl.col(\"seqname\"),\n",
    "        pl.col(\"transcript_id\"),\n",
    "        pos = pl.when(pl.col(\"strand\")==\"+\")\\\n",
    "            .then(pl.col(\"start\"))\\\n",
    "            .otherwise(pl.col(\"end\"))\n",
    "    )\\\n",
    "    .join(\n",
    "        reftss,\n",
    "        on = \"seqname\",\n",
    "        how = \"inner\"\n",
    "    )\\\n",
    "    .filter(\n",
    "        (pl.col(\"start\") <= pl.col(\"pos\") + 100) &\n",
    "        (pl.col(\"end\")   >= pl.col(\"pos\") - 100)\n",
    "    )\\\n",
    "    .unique(\"transcript_id\")\\\n",
    "    .select(\"transcript_id\")"
   ]
  },
  {
   "cell_type": "code",
   "execution_count": 19,
   "metadata": {},
   "outputs": [
    {
     "data": {
      "text/html": [
       "<div><style>\n",
       ".dataframe > thead > tr,\n",
       ".dataframe > tbody > tr {\n",
       "  text-align: right;\n",
       "  white-space: pre-wrap;\n",
       "}\n",
       "</style>\n",
       "<small>shape: (7, 4)</small><table border=\"1\" class=\"dataframe\"><thead><tr><th>structural_category2</th><th>true_len</th><th>total_len</th><th>pct_true</th></tr><tr><td>str</td><td>u32</td><td>u32</td><td>f64</td></tr></thead><tbody><tr><td>&quot;Other&quot;</td><td>2873</td><td>5562</td><td>51.654081</td></tr><tr><td>&quot;novel_in_catalog&quot;</td><td>50590</td><td>62190</td><td>81.347484</td></tr><tr><td>&quot;incomplete-splice_match&quot;</td><td>2672</td><td>4304</td><td>62.081784</td></tr><tr><td>&quot;novel_not_in_catalog&quot;</td><td>30882</td><td>41763</td><td>73.945837</td></tr><tr><td>&quot;3prime_fragment&quot;</td><td>942</td><td>4757</td><td>19.802396</td></tr><tr><td>&quot;5prime_fragment&quot;</td><td>9712</td><td>11079</td><td>87.661341</td></tr><tr><td>&quot;full-splice_match&quot;</td><td>52711</td><td>68432</td><td>77.02683</td></tr></tbody></table></div>"
      ],
      "text/plain": [
       "shape: (7, 4)\n",
       "┌─────────────────────────┬──────────┬───────────┬───────────┐\n",
       "│ structural_category2    ┆ true_len ┆ total_len ┆ pct_true  │\n",
       "│ ---                     ┆ ---      ┆ ---       ┆ ---       │\n",
       "│ str                     ┆ u32      ┆ u32       ┆ f64       │\n",
       "╞═════════════════════════╪══════════╪═══════════╪═══════════╡\n",
       "│ Other                   ┆ 2873     ┆ 5562      ┆ 51.654081 │\n",
       "│ novel_in_catalog        ┆ 50590    ┆ 62190     ┆ 81.347484 │\n",
       "│ incomplete-splice_match ┆ 2672     ┆ 4304      ┆ 62.081784 │\n",
       "│ novel_not_in_catalog    ┆ 30882    ┆ 41763     ┆ 73.945837 │\n",
       "│ 3prime_fragment         ┆ 942      ┆ 4757      ┆ 19.802396 │\n",
       "│ 5prime_fragment         ┆ 9712     ┆ 11079     ┆ 87.661341 │\n",
       "│ full-splice_match       ┆ 52711    ┆ 68432     ┆ 77.02683  │\n",
       "└─────────────────────────┴──────────┴───────────┴───────────┘"
      ]
     },
     "execution_count": 19,
     "metadata": {},
     "output_type": "execute_result"
    }
   ],
   "source": [
    "classification\\\n",
    "    .with_columns(\n",
    "        CAGE = pl.col(\"isoform\").is_in(validated_pbids),\n",
    "        structural_category2 = pl.when(pl.col(\"structural_category\").is_in([\"full-splice_match\", \"incomplete-splice_match\", \"novel_in_catalog\", \"novel_not_in_catalog\"]))\\\n",
    "            .then(pl.col(\"structural_category\"))\\\n",
    "            .otherwise(pl.lit(\"Other\"))\n",
    "    )\\\n",
    "    .with_columns(\n",
    "        structural_category2 = pl.when(pl.col(\"subcategory\") == \"3prime_fragment\")\\\n",
    "            .then(pl.lit(\"3prime_fragment\"))\\\n",
    "            .when(pl.col(\"subcategory\") == \"5prime_fragment\")\\\n",
    "            .then(pl.lit(\"5prime_fragment\"))\\\n",
    "            .otherwise(pl.col(\"structural_category2\"))\n",
    "    )\\\n",
    "    .group_by([\"structural_category2\", \"CAGE\"])\\\n",
    "    .len()\\\n",
    "    .group_by(\"structural_category2\")\\\n",
    "    .agg([\n",
    "        pl.col(\"len\").filter(pl.col(\"CAGE\") == True).sum().alias(\"true_len\"),\n",
    "        pl.col(\"len\").sum().alias(\"total_len\")\n",
    "    ]).with_columns(\n",
    "        (pl.col(\"true_len\") / pl.col(\"total_len\") * 100).alias(\"pct_true\")\n",
    "    )"
   ]
  },
  {
   "cell_type": "code",
   "execution_count": 20,
   "metadata": {},
   "outputs": [
    {
     "data": {
      "text/html": [
       "<div><style>\n",
       ".dataframe > thead > tr,\n",
       ".dataframe > tbody > tr {\n",
       "  text-align: right;\n",
       "  white-space: pre-wrap;\n",
       "}\n",
       "</style>\n",
       "<small>shape: (4, 51)</small><table border=\"1\" class=\"dataframe\"><thead><tr><th>isoform</th><th>chrom</th><th>strand</th><th>length</th><th>exons</th><th>structural_category</th><th>associated_gene</th><th>associated_transcript</th><th>ref_length</th><th>ref_exons</th><th>diff_to_TSS</th><th>diff_to_TTS</th><th>diff_to_gene_TSS</th><th>diff_to_gene_TTS</th><th>subcategory</th><th>RTS_stage</th><th>all_canonical</th><th>min_sample_cov</th><th>min_cov</th><th>min_cov_pos</th><th>sd_cov</th><th>FL</th><th>n_indels</th><th>n_indels_junc</th><th>bite</th><th>iso_exp</th><th>gene_exp</th><th>ratio_exp</th><th>FSM_class</th><th>coding</th><th>ORF_length</th><th>CDS_length</th><th>CDS_start</th><th>CDS_end</th><th>CDS_genomic_start</th><th>CDS_genomic_end</th><th>predicted_NMD</th><th>perc_A_downstream_TTS</th><th>seq_A_downstream_TTS</th><th>dist_to_CAGE_peak</th><th>within_CAGE_peak</th><th>dist_to_polyA_site</th><th>within_polyA_site</th><th>polyA_motif</th><th>polyA_dist</th><th>polyA_motif_found</th><th>ORF_seq</th><th>ratio_TSS</th><th>fl_assoc</th><th>cell_barcodes</th><th>containing_novel_spl</th></tr><tr><td>str</td><td>str</td><td>str</td><td>i32</td><td>i32</td><td>str</td><td>str</td><td>str</td><td>i32</td><td>i32</td><td>i32</td><td>i32</td><td>i32</td><td>i32</td><td>str</td><td>str</td><td>str</td><td>str</td><td>str</td><td>str</td><td>str</td><td>str</td><td>str</td><td>str</td><td>bool</td><td>str</td><td>str</td><td>str</td><td>str</td><td>str</td><td>str</td><td>str</td><td>str</td><td>str</td><td>str</td><td>str</td><td>str</td><td>f64</td><td>str</td><td>str</td><td>str</td><td>str</td><td>str</td><td>str</td><td>str</td><td>str</td><td>str</td><td>str</td><td>str</td><td>str</td><td>bool</td></tr></thead><tbody><tr><td>&quot;PB.23.140&quot;</td><td>&quot;chr1&quot;</td><td>&quot;+&quot;</td><td>3818</td><td>14</td><td>&quot;incomplete-splice_match&quot;</td><td>&quot;AGRN&quot;</td><td>&quot;ENST00000652369.2&quot;</td><td>7411</td><td>35</td><td>13761</td><td>8</td><td>392</td><td>-1</td><td>&quot;intron_retention&quot;</td><td>&quot;FALSE&quot;</td><td>&quot;canonical&quot;</td><td>null</td><td>null</td><td>null</td><td>null</td><td>null</td><td>null</td><td>null</td><td>false</td><td>null</td><td>null</td><td>null</td><td>&quot;C&quot;</td><td>&quot;non_coding&quot;</td><td>null</td><td>null</td><td>null</td><td>null</td><td>null</td><td>null</td><td>null</td><td>25.0</td><td>&quot;TAAAAGCATTGCTTTTGTCC&quot;</td><td>null</td><td>null</td><td>null</td><td>null</td><td>null</td><td>null</td><td>null</td><td>null</td><td>null</td><td>null</td><td>null</td><td>false</td></tr><tr><td>&quot;PB.6.53&quot;</td><td>&quot;chr1&quot;</td><td>&quot;-&quot;</td><td>5260</td><td>9</td><td>&quot;incomplete-splice_match&quot;</td><td>&quot;WASH7P&quot;</td><td>&quot;ENST00000831505.1&quot;</td><td>1705</td><td>11</td><td>7237</td><td>5</td><td>2715</td><td>0</td><td>&quot;3prime_fragment&quot;</td><td>&quot;FALSE&quot;</td><td>&quot;canonical&quot;</td><td>null</td><td>null</td><td>null</td><td>null</td><td>null</td><td>null</td><td>null</td><td>false</td><td>null</td><td>null</td><td>null</td><td>&quot;C&quot;</td><td>&quot;non_coding&quot;</td><td>null</td><td>null</td><td>null</td><td>null</td><td>null</td><td>null</td><td>null</td><td>35.0</td><td>&quot;AGAAACCAACAGTGTGCTTT&quot;</td><td>null</td><td>null</td><td>null</td><td>null</td><td>null</td><td>null</td><td>null</td><td>null</td><td>null</td><td>null</td><td>null</td><td>false</td></tr><tr><td>&quot;PB.6.1011&quot;</td><td>&quot;chr1&quot;</td><td>&quot;-&quot;</td><td>5551</td><td>2</td><td>&quot;incomplete-splice_match&quot;</td><td>&quot;ENSG00000292994&quot;</td><td>&quot;ENST00000634344.2&quot;</td><td>1554</td><td>3</td><td>44</td><td>4236</td><td>44</td><td>255</td><td>&quot;5prime_fragment&quot;</td><td>&quot;FALSE&quot;</td><td>&quot;canonical&quot;</td><td>null</td><td>null</td><td>null</td><td>null</td><td>null</td><td>null</td><td>null</td><td>false</td><td>null</td><td>null</td><td>null</td><td>&quot;B&quot;</td><td>&quot;non_coding&quot;</td><td>null</td><td>null</td><td>null</td><td>null</td><td>null</td><td>null</td><td>null</td><td>50.0</td><td>&quot;TAAAAAAACTGTGTTTTAAA&quot;</td><td>null</td><td>null</td><td>null</td><td>null</td><td>null</td><td>null</td><td>null</td><td>null</td><td>null</td><td>null</td><td>null</td><td>false</td></tr><tr><td>&quot;PB.419.241&quot;</td><td>&quot;chr1&quot;</td><td>&quot;+&quot;</td><td>5924</td><td>37</td><td>&quot;incomplete-splice_match&quot;</td><td>&quot;VPS13D&quot;</td><td>&quot;ENST00000011700.10&quot;</td><td>10969</td><td>52</td><td>44797</td><td>2719</td><td>10392</td><td>479</td><td>&quot;internal_fragment&quot;</td><td>&quot;FALSE&quot;</td><td>&quot;canonical&quot;</td><td>null</td><td>null</td><td>null</td><td>null</td><td>null</td><td>null</td><td>null</td><td>false</td><td>null</td><td>null</td><td>null</td><td>&quot;C&quot;</td><td>&quot;non_coding&quot;</td><td>null</td><td>null</td><td>null</td><td>null</td><td>null</td><td>null</td><td>null</td><td>20.0</td><td>&quot;TAACGTTCCTAGAGGGCTGG&quot;</td><td>null</td><td>null</td><td>null</td><td>null</td><td>null</td><td>null</td><td>null</td><td>null</td><td>null</td><td>null</td><td>null</td><td>false</td></tr></tbody></table></div>"
      ],
      "text/plain": [
       "shape: (4, 51)\n",
       "┌────────────┬───────┬────────┬────────┬───┬───────────┬──────────┬───────────────┬────────────────┐\n",
       "│ isoform    ┆ chrom ┆ strand ┆ length ┆ … ┆ ratio_TSS ┆ fl_assoc ┆ cell_barcodes ┆ containing_nov │\n",
       "│ ---        ┆ ---   ┆ ---    ┆ ---    ┆   ┆ ---       ┆ ---      ┆ ---           ┆ el_spl         │\n",
       "│ str        ┆ str   ┆ str    ┆ i32    ┆   ┆ str       ┆ str      ┆ str           ┆ ---            │\n",
       "│            ┆       ┆        ┆        ┆   ┆           ┆          ┆               ┆ bool           │\n",
       "╞════════════╪═══════╪════════╪════════╪═══╪═══════════╪══════════╪═══════════════╪════════════════╡\n",
       "│ PB.23.140  ┆ chr1  ┆ +      ┆ 3818   ┆ … ┆ null      ┆ null     ┆ null          ┆ false          │\n",
       "│ PB.6.53    ┆ chr1  ┆ -      ┆ 5260   ┆ … ┆ null      ┆ null     ┆ null          ┆ false          │\n",
       "│ PB.6.1011  ┆ chr1  ┆ -      ┆ 5551   ┆ … ┆ null      ┆ null     ┆ null          ┆ false          │\n",
       "│ PB.419.241 ┆ chr1  ┆ +      ┆ 5924   ┆ … ┆ null      ┆ null     ┆ null          ┆ false          │\n",
       "└────────────┴───────┴────────┴────────┴───┴───────────┴──────────┴───────────────┴────────────────┘"
      ]
     },
     "execution_count": 20,
     "metadata": {},
     "output_type": "execute_result"
    }
   ],
   "source": [
    "classification\\\n",
    "    .filter(\n",
    "        pl.col(\"structural_category\") == \"incomplete-splice_match\"\n",
    "    )\\\n",
    "    .unique(\"subcategory\")"
   ]
  },
  {
   "cell_type": "code",
   "execution_count": 23,
   "metadata": {},
   "outputs": [],
   "source": [
    "IR_pbids = classification\\\n",
    "    .filter(pl.col(\"subcategory\")==\"intron_retention\")\\\n",
    "    .select(\"isoform\")"
   ]
  },
  {
   "cell_type": "code",
   "execution_count": 22,
   "metadata": {},
   "outputs": [],
   "source": [
    "protein_classification = pl.read_csv(\"export/SFARI.protein_classification.tsv\", separator=\"\\t\")"
   ]
  },
  {
   "cell_type": "code",
   "execution_count": 24,
   "metadata": {},
   "outputs": [
    {
     "data": {
      "text/html": [
       "<div><style>\n",
       ".dataframe > thead > tr,\n",
       ".dataframe > tbody > tr {\n",
       "  text-align: right;\n",
       "  white-space: pre-wrap;\n",
       "}\n",
       "</style>\n",
       "<small>shape: (30_691, 32)</small><table border=\"1\" class=\"dataframe\"><thead><tr><th>pb</th><th>tx_cat</th><th>pr_splice_cat</th><th>tx_subcat</th><th>pr_splice_subcat</th><th>tx_tss_diff</th><th>tx_tts_diff</th><th>tx_tss_gene_diff</th><th>tx_tts_gene_diff</th><th>pr_nterm_diff</th><th>pr_cterm_diff</th><th>pr_nterm_gene_diff</th><th>pr_cterm_gene_diff</th><th>tx_transcripts</th><th>pr_transcripts</th><th>tx_gene</th><th>pr_gene</th><th>tx_num_exons</th><th>pr_num_exons</th><th>is_nmd</th><th>num_junc_after_stop_codon</th><th>num_nt_after_stop_codon</th><th>tx_5hang</th><th>tx_3hang</th><th>pr_nhang</th><th>pr_chang</th><th>utr_exon_status</th><th>utr_cat</th><th>protein_classification</th><th>protein_classification_base</th><th>protein_classification_subset</th><th>base_isoform</th></tr><tr><td>str</td><td>str</td><td>str</td><td>str</td><td>str</td><td>f64</td><td>f64</td><td>i64</td><td>i64</td><td>f64</td><td>f64</td><td>f64</td><td>f64</td><td>str</td><td>str</td><td>str</td><td>str</td><td>i64</td><td>i64</td><td>bool</td><td>i64</td><td>i64</td><td>f64</td><td>f64</td><td>f64</td><td>f64</td><td>str</td><td>str</td><td>str</td><td>str</td><td>str</td><td>str</td></tr></thead><tbody><tr><td>&quot;PB.107407.382&quot;</td><td>&quot;novel_not_in_catalog&quot;</td><td>&quot;full-splice_match&quot;</td><td>&quot;intron_retention&quot;</td><td>&quot;multi-exon&quot;</td><td>null</td><td>null</td><td>-1</td><td>5012</td><td>0.0</td><td>0.0</td><td>0.0</td><td>0.0</td><td>&quot;novel&quot;</td><td>&quot;ENST00000381657.8&quot;</td><td>&quot;ENSG00000182378.15&quot;</td><td>&quot;ENSG00000182378.15&quot;</td><td>9</td><td>6</td><td>true</td><td>2</td><td>2146</td><td>null</td><td>null</td><td>0.0</td><td>0.0</td><td>&quot;multiexonic&quot;</td><td>&quot;unique&quot;</td><td>&quot;pFSM,known_nterm_known_splice_…</td><td>&quot;pFSM&quot;</td><td>&quot;known_nterm_known_splice_known…</td><td>&quot;PB.107407.38&quot;</td></tr><tr><td>&quot;PB.107442.404&quot;</td><td>&quot;novel_in_catalog&quot;</td><td>&quot;incomplete-splice_match&quot;</td><td>&quot;intron_retention&quot;</td><td>&quot;3prime_fragment&quot;</td><td>null</td><td>null</td><td>-56</td><td>0</td><td>4592.0</td><td>0.0</td><td>4592.0</td><td>0.0</td><td>&quot;novel&quot;</td><td>&quot;ENST00000381401.11&quot;</td><td>&quot;ENSG00000169100.14&quot;</td><td>&quot;ENSG00000169100.14&quot;</td><td>4</td><td>2</td><td>false</td><td>0</td><td>1773</td><td>null</td><td>null</td><td>-2.0</td><td>0.0</td><td>&quot;multiexonic&quot;</td><td>&quot;unique&quot;</td><td>&quot;pNNC,novel_nterm_known_splice_…</td><td>&quot;pNNC&quot;</td><td>&quot;novel_nterm_known_splice_known…</td><td>&quot;PB.107442.402&quot;</td></tr><tr><td>&quot;PB.107667.109&quot;</td><td>&quot;novel_in_catalog&quot;</td><td>&quot;incomplete-splice_match&quot;</td><td>&quot;intron_retention&quot;</td><td>&quot;5prime_fragment&quot;</td><td>null</td><td>null</td><td>-65</td><td>0</td><td>0.0</td><td>1705.0</td><td>0.0</td><td>-1705.0</td><td>&quot;novel&quot;</td><td>&quot;ENST00000452575.1&quot;</td><td>&quot;ENSG00000146950.13&quot;</td><td>&quot;ENSG00000146950.13&quot;</td><td>5</td><td>4</td><td>false</td><td>0</td><td>5258</td><td>null</td><td>null</td><td>0.0</td><td>90.0</td><td>&quot;multiexonic&quot;</td><td>&quot;unique&quot;</td><td>&quot;pNNC,known_nterm_known_splice_…</td><td>&quot;pNNC&quot;</td><td>&quot;known_nterm_known_splice_novel…</td><td>&quot;PB.107667.109&quot;</td></tr><tr><td>&quot;PB.107667.528&quot;</td><td>&quot;novel_in_catalog&quot;</td><td>&quot;incomplete-splice_match&quot;</td><td>&quot;intron_retention&quot;</td><td>&quot;3prime_fragment&quot;</td><td>null</td><td>null</td><td>-3</td><td>4</td><td>13237.0</td><td>0.0</td><td>13237.0</td><td>0.0</td><td>&quot;novel&quot;</td><td>&quot;ENST00000674669.1&quot;</td><td>&quot;ENSG00000073464.13&quot;</td><td>&quot;ENSG00000073464.13&quot;</td><td>11</td><td>5</td><td>false</td><td>0</td><td>3533</td><td>null</td><td>null</td><td>-141.0</td><td>0.0</td><td>&quot;multiexonic&quot;</td><td>&quot;unique&quot;</td><td>&quot;pNNC,novel_nterm_known_splice_…</td><td>&quot;pNNC&quot;</td><td>&quot;novel_nterm_known_splice_known…</td><td>&quot;PB.107667.528&quot;</td></tr><tr><td>&quot;PB.107687.14&quot;</td><td>&quot;novel_in_catalog&quot;</td><td>&quot;full-splice_match&quot;</td><td>&quot;intron_retention&quot;</td><td>&quot;multi-exon&quot;</td><td>null</td><td>null</td><td>-4</td><td>7</td><td>0.0</td><td>0.0</td><td>0.0</td><td>0.0</td><td>&quot;novel&quot;</td><td>&quot;ENST00000321143.8&quot;</td><td>&quot;ENSG00000004961.15&quot;</td><td>&quot;ENSG00000004961.15&quot;</td><td>6</td><td>6</td><td>false</td><td>0</td><td>2047</td><td>null</td><td>null</td><td>0.0</td><td>0.0</td><td>&quot;monoexonic&quot;</td><td>&quot;subset&quot;</td><td>&quot;pFSM,known_nterm_known_splice_…</td><td>&quot;pFSM&quot;</td><td>&quot;known_nterm_known_splice_known…</td><td>&quot;PB.107687.33&quot;</td></tr><tr><td>&hellip;</td><td>&hellip;</td><td>&hellip;</td><td>&hellip;</td><td>&hellip;</td><td>&hellip;</td><td>&hellip;</td><td>&hellip;</td><td>&hellip;</td><td>&hellip;</td><td>&hellip;</td><td>&hellip;</td><td>&hellip;</td><td>&hellip;</td><td>&hellip;</td><td>&hellip;</td><td>&hellip;</td><td>&hellip;</td><td>&hellip;</td><td>&hellip;</td><td>&hellip;</td><td>&hellip;</td><td>&hellip;</td><td>&hellip;</td><td>&hellip;</td><td>&hellip;</td><td>&hellip;</td><td>&hellip;</td><td>&hellip;</td><td>&hellip;</td><td>&hellip;</td><td>&hellip;</td></tr><tr><td>&quot;PB.107399.98&quot;</td><td>&quot;novel_in_catalog&quot;</td><td>&quot;full-splice_match&quot;</td><td>&quot;intron_retention&quot;</td><td>&quot;multi-exon&quot;</td><td>null</td><td>null</td><td>7</td><td>0</td><td>0.0</td><td>0.0</td><td>0.0</td><td>0.0</td><td>&quot;novel&quot;</td><td>&quot;ENST00000425098.5&quot;</td><td>&quot;ENSG00000079974.19&quot;</td><td>&quot;ENSG00000079974.19&quot;</td><td>9</td><td>5</td><td>true</td><td>2</td><td>1903</td><td>null</td><td>null</td><td>0.0</td><td>0.0</td><td>&quot;multiexonic&quot;</td><td>&quot;unique&quot;</td><td>&quot;pFSM,known_nterm_known_splice_…</td><td>&quot;pFSM&quot;</td><td>&quot;known_nterm_known_splice_known…</td><td>&quot;PB.107399.123&quot;</td></tr><tr><td>&quot;PB.107399.143&quot;</td><td>&quot;novel_in_catalog&quot;</td><td>&quot;incomplete-splice_match&quot;</td><td>&quot;intron_retention&quot;</td><td>&quot;5prime_fragment&quot;</td><td>null</td><td>null</td><td>0</td><td>0</td><td>0.0</td><td>1100.0</td><td>0.0</td><td>-332.0</td><td>&quot;novel&quot;</td><td>&quot;ENST00000354869.8&quot;</td><td>&quot;ENSG00000079974.19&quot;</td><td>&quot;ENSG00000079974.19&quot;</td><td>7</td><td>5</td><td>true</td><td>1</td><td>2421</td><td>null</td><td>null</td><td>0.0</td><td>26.0</td><td>&quot;multiexonic&quot;</td><td>&quot;unique&quot;</td><td>&quot;pNNC,known_nterm_known_splice_…</td><td>&quot;pNNC&quot;</td><td>&quot;known_nterm_known_splice_novel…</td><td>&quot;PB.107399.47&quot;</td></tr><tr><td>&quot;PB.107399.164&quot;</td><td>&quot;novel_in_catalog&quot;</td><td>&quot;incomplete-splice_match&quot;</td><td>&quot;intron_retention&quot;</td><td>&quot;5prime_fragment&quot;</td><td>null</td><td>null</td><td>7</td><td>-1</td><td>0.0</td><td>1100.0</td><td>0.0</td><td>-332.0</td><td>&quot;novel&quot;</td><td>&quot;ENST00000354869.8&quot;</td><td>&quot;ENSG00000079974.19&quot;</td><td>&quot;ENSG00000079974.19&quot;</td><td>7</td><td>5</td><td>true</td><td>2</td><td>3228</td><td>null</td><td>null</td><td>0.0</td><td>26.0</td><td>&quot;monoexonic&quot;</td><td>&quot;subset&quot;</td><td>&quot;pNNC,known_nterm_known_splice_…</td><td>&quot;pNNC&quot;</td><td>&quot;known_nterm_known_splice_novel…</td><td>&quot;PB.107399.47&quot;</td></tr><tr><td>&quot;PB.107399.21&quot;</td><td>&quot;novel_in_catalog&quot;</td><td>&quot;incomplete-splice_match&quot;</td><td>&quot;intron_retention&quot;</td><td>&quot;5prime_fragment&quot;</td><td>null</td><td>null</td><td>2</td><td>0</td><td>0.0</td><td>1100.0</td><td>0.0</td><td>-332.0</td><td>&quot;novel&quot;</td><td>&quot;ENST00000354869.8&quot;</td><td>&quot;ENSG00000079974.19&quot;</td><td>&quot;ENSG00000079974.19&quot;</td><td>8</td><td>5</td><td>true</td><td>2</td><td>2555</td><td>null</td><td>null</td><td>0.0</td><td>26.0</td><td>&quot;multiexonic&quot;</td><td>&quot;unique&quot;</td><td>&quot;pNNC,known_nterm_known_splice_…</td><td>&quot;pNNC&quot;</td><td>&quot;known_nterm_known_splice_novel…</td><td>&quot;PB.107399.47&quot;</td></tr><tr><td>&quot;PB.107399.47&quot;</td><td>&quot;novel_in_catalog&quot;</td><td>&quot;incomplete-splice_match&quot;</td><td>&quot;intron_retention&quot;</td><td>&quot;5prime_fragment&quot;</td><td>null</td><td>null</td><td>-1</td><td>0</td><td>0.0</td><td>1100.0</td><td>0.0</td><td>-332.0</td><td>&quot;novel&quot;</td><td>&quot;ENST00000354869.8&quot;</td><td>&quot;ENSG00000079974.19&quot;</td><td>&quot;ENSG00000079974.19&quot;</td><td>8</td><td>5</td><td>true</td><td>2</td><td>2087</td><td>null</td><td>null</td><td>0.0</td><td>26.0</td><td>&quot;multiexonic&quot;</td><td>&quot;unique&quot;</td><td>&quot;pNNC,known_nterm_known_splice_…</td><td>&quot;pNNC&quot;</td><td>&quot;known_nterm_known_splice_novel…</td><td>&quot;PB.107399.47&quot;</td></tr></tbody></table></div>"
      ],
      "text/plain": [
       "shape: (30_691, 32)\n",
       "┌───────────┬───────────┬───────────┬───────────┬───┬───────────┬───────────┬───────────┬──────────┐\n",
       "│ pb        ┆ tx_cat    ┆ pr_splice ┆ tx_subcat ┆ … ┆ protein_c ┆ protein_c ┆ protein_c ┆ base_iso │\n",
       "│ ---       ┆ ---       ┆ _cat      ┆ ---       ┆   ┆ lassifica ┆ lassifica ┆ lassifica ┆ form     │\n",
       "│ str       ┆ str       ┆ ---       ┆ str       ┆   ┆ tion      ┆ tion_base ┆ tion_subs ┆ ---      │\n",
       "│           ┆           ┆ str       ┆           ┆   ┆ ---       ┆ ---       ┆ et        ┆ str      │\n",
       "│           ┆           ┆           ┆           ┆   ┆ str       ┆ str       ┆ ---       ┆          │\n",
       "│           ┆           ┆           ┆           ┆   ┆           ┆           ┆ str       ┆          │\n",
       "╞═══════════╪═══════════╪═══════════╪═══════════╪═══╪═══════════╪═══════════╪═══════════╪══════════╡\n",
       "│ PB.107407 ┆ novel_not ┆ full-spli ┆ intron_re ┆ … ┆ pFSM,know ┆ pFSM      ┆ known_nte ┆ PB.10740 │\n",
       "│ .382      ┆ _in_catal ┆ ce_match  ┆ tention   ┆   ┆ n_nterm_k ┆           ┆ rm_known_ ┆ 7.38     │\n",
       "│           ┆ og        ┆           ┆           ┆   ┆ nown_spli ┆           ┆ splice_kn ┆          │\n",
       "│           ┆           ┆           ┆           ┆   ┆ ce_…      ┆           ┆ own…      ┆          │\n",
       "│ PB.107442 ┆ novel_in_ ┆ incomplet ┆ intron_re ┆ … ┆ pNNC,nove ┆ pNNC      ┆ novel_nte ┆ PB.10744 │\n",
       "│ .404      ┆ catalog   ┆ e-splice_ ┆ tention   ┆   ┆ l_nterm_k ┆           ┆ rm_known_ ┆ 2.402    │\n",
       "│           ┆           ┆ match     ┆           ┆   ┆ nown_spli ┆           ┆ splice_kn ┆          │\n",
       "│           ┆           ┆           ┆           ┆   ┆ ce_…      ┆           ┆ own…      ┆          │\n",
       "│ PB.107667 ┆ novel_in_ ┆ incomplet ┆ intron_re ┆ … ┆ pNNC,know ┆ pNNC      ┆ known_nte ┆ PB.10766 │\n",
       "│ .109      ┆ catalog   ┆ e-splice_ ┆ tention   ┆   ┆ n_nterm_k ┆           ┆ rm_known_ ┆ 7.109    │\n",
       "│           ┆           ┆ match     ┆           ┆   ┆ nown_spli ┆           ┆ splice_no ┆          │\n",
       "│           ┆           ┆           ┆           ┆   ┆ ce_…      ┆           ┆ vel…      ┆          │\n",
       "│ PB.107667 ┆ novel_in_ ┆ incomplet ┆ intron_re ┆ … ┆ pNNC,nove ┆ pNNC      ┆ novel_nte ┆ PB.10766 │\n",
       "│ .528      ┆ catalog   ┆ e-splice_ ┆ tention   ┆   ┆ l_nterm_k ┆           ┆ rm_known_ ┆ 7.528    │\n",
       "│           ┆           ┆ match     ┆           ┆   ┆ nown_spli ┆           ┆ splice_kn ┆          │\n",
       "│           ┆           ┆           ┆           ┆   ┆ ce_…      ┆           ┆ own…      ┆          │\n",
       "│ PB.107687 ┆ novel_in_ ┆ full-spli ┆ intron_re ┆ … ┆ pFSM,know ┆ pFSM      ┆ known_nte ┆ PB.10768 │\n",
       "│ .14       ┆ catalog   ┆ ce_match  ┆ tention   ┆   ┆ n_nterm_k ┆           ┆ rm_known_ ┆ 7.33     │\n",
       "│           ┆           ┆           ┆           ┆   ┆ nown_spli ┆           ┆ splice_kn ┆          │\n",
       "│           ┆           ┆           ┆           ┆   ┆ ce_…      ┆           ┆ own…      ┆          │\n",
       "│ …         ┆ …         ┆ …         ┆ …         ┆ … ┆ …         ┆ …         ┆ …         ┆ …        │\n",
       "│ PB.107399 ┆ novel_in_ ┆ full-spli ┆ intron_re ┆ … ┆ pFSM,know ┆ pFSM      ┆ known_nte ┆ PB.10739 │\n",
       "│ .98       ┆ catalog   ┆ ce_match  ┆ tention   ┆   ┆ n_nterm_k ┆           ┆ rm_known_ ┆ 9.123    │\n",
       "│           ┆           ┆           ┆           ┆   ┆ nown_spli ┆           ┆ splice_kn ┆          │\n",
       "│           ┆           ┆           ┆           ┆   ┆ ce_…      ┆           ┆ own…      ┆          │\n",
       "│ PB.107399 ┆ novel_in_ ┆ incomplet ┆ intron_re ┆ … ┆ pNNC,know ┆ pNNC      ┆ known_nte ┆ PB.10739 │\n",
       "│ .143      ┆ catalog   ┆ e-splice_ ┆ tention   ┆   ┆ n_nterm_k ┆           ┆ rm_known_ ┆ 9.47     │\n",
       "│           ┆           ┆ match     ┆           ┆   ┆ nown_spli ┆           ┆ splice_no ┆          │\n",
       "│           ┆           ┆           ┆           ┆   ┆ ce_…      ┆           ┆ vel…      ┆          │\n",
       "│ PB.107399 ┆ novel_in_ ┆ incomplet ┆ intron_re ┆ … ┆ pNNC,know ┆ pNNC      ┆ known_nte ┆ PB.10739 │\n",
       "│ .164      ┆ catalog   ┆ e-splice_ ┆ tention   ┆   ┆ n_nterm_k ┆           ┆ rm_known_ ┆ 9.47     │\n",
       "│           ┆           ┆ match     ┆           ┆   ┆ nown_spli ┆           ┆ splice_no ┆          │\n",
       "│           ┆           ┆           ┆           ┆   ┆ ce_…      ┆           ┆ vel…      ┆          │\n",
       "│ PB.107399 ┆ novel_in_ ┆ incomplet ┆ intron_re ┆ … ┆ pNNC,know ┆ pNNC      ┆ known_nte ┆ PB.10739 │\n",
       "│ .21       ┆ catalog   ┆ e-splice_ ┆ tention   ┆   ┆ n_nterm_k ┆           ┆ rm_known_ ┆ 9.47     │\n",
       "│           ┆           ┆ match     ┆           ┆   ┆ nown_spli ┆           ┆ splice_no ┆          │\n",
       "│           ┆           ┆           ┆           ┆   ┆ ce_…      ┆           ┆ vel…      ┆          │\n",
       "│ PB.107399 ┆ novel_in_ ┆ incomplet ┆ intron_re ┆ … ┆ pNNC,know ┆ pNNC      ┆ known_nte ┆ PB.10739 │\n",
       "│ .47       ┆ catalog   ┆ e-splice_ ┆ tention   ┆   ┆ n_nterm_k ┆           ┆ rm_known_ ┆ 9.47     │\n",
       "│           ┆           ┆ match     ┆           ┆   ┆ nown_spli ┆           ┆ splice_no ┆          │\n",
       "│           ┆           ┆           ┆           ┆   ┆ ce_…      ┆           ┆ vel…      ┆          │\n",
       "└───────────┴───────────┴───────────┴───────────┴───┴───────────┴───────────┴───────────┴──────────┘"
      ]
     },
     "execution_count": 24,
     "metadata": {},
     "output_type": "execute_result"
    }
   ],
   "source": [
    "protein_classification\\\n",
    "    .filter(\n",
    "        pl.col(\"pb\").is_in(IR_pbids)\n",
    "    )"
   ]
  },
  {
   "cell_type": "code",
   "execution_count": null,
   "metadata": {},
   "outputs": [],
   "source": []
  }
 ],
 "metadata": {
  "kernelspec": {
   "display_name": "Python 3 (ipykernel)",
   "language": "python",
   "name": "python3"
  }
 },
 "nbformat": 4,
 "nbformat_minor": 2
}
