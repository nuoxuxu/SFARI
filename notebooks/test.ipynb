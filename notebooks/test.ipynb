{
 "cells": [
  {
   "cell_type": "code",
   "execution_count": 2,
   "metadata": {},
   "outputs": [],
   "source": [
    "from src.single_cell import SingleCell\n",
    "import polars as pl\n",
    "from src.utils import read_gff"
   ]
  },
  {
   "cell_type": "code",
   "execution_count": 14,
   "metadata": {},
   "outputs": [],
   "source": [
    "lr_bulk = SingleCell(\"nextflow_results/pbid_orf.h5ad\")"
   ]
  },
  {
   "cell_type": "code",
   "execution_count": 15,
   "metadata": {},
   "outputs": [
    {
     "data": {
      "text/html": [
       "<div><style>\n",
       ".dataframe > thead > tr,\n",
       ".dataframe > tbody > tr {\n",
       "  text-align: right;\n",
       "  white-space: pre-wrap;\n",
       "}\n",
       "</style>\n",
       "<small>shape: (196_656, 54)</small><table border=\"1\" class=\"dataframe\"><thead><tr><th>isoform</th><th>chrom</th><th>strand</th><th>length</th><th>exons</th><th>structural_category</th><th>associated_gene</th><th>associated_transcript</th><th>ref_length</th><th>ref_exons</th><th>diff_to_TSS</th><th>diff_to_TTS</th><th>diff_to_gene_TSS</th><th>diff_to_gene_TTS</th><th>subcategory</th><th>RTS_stage</th><th>all_canonical</th><th>min_sample_cov</th><th>min_cov</th><th>min_cov_pos</th><th>sd_cov</th><th>FL</th><th>n_indels</th><th>n_indels_junc</th><th>bite</th><th>iso_exp</th><th>gene_exp</th><th>ratio_exp</th><th>FSM_class</th><th>coding</th><th>ORF_length</th><th>CDS_length</th><th>CDS_start</th><th>CDS_end</th><th>CDS_genomic_start</th><th>CDS_genomic_end</th><th>predicted_NMD</th><th>perc_A_downstream_TTS</th><th>seq_A_downstream_TTS</th><th>dist_to_CAGE_peak</th><th>within_CAGE_peak</th><th>dist_to_polyA_site</th><th>within_polyA_site</th><th>polyA_motif</th><th>polyA_dist</th><th>polyA_motif_found</th><th>ORF_seq</th><th>ratio_TSS</th><th>fl_assoc</th><th>cell_barcodes</th><th>at_least_one_orf</th><th>predicted_orf</th><th>ORF_type</th><th>base_isoform</th></tr><tr><td>str</td><td>enum</td><td>enum</td><td>i64</td><td>i64</td><td>enum</td><td>enum</td><td>enum</td><td>i64</td><td>i64</td><td>i64</td><td>i64</td><td>i64</td><td>i64</td><td>enum</td><td>enum</td><td>enum</td><td>enum</td><td>enum</td><td>enum</td><td>enum</td><td>enum</td><td>enum</td><td>enum</td><td>bool</td><td>enum</td><td>enum</td><td>enum</td><td>enum</td><td>enum</td><td>enum</td><td>enum</td><td>enum</td><td>enum</td><td>i64</td><td>i64</td><td>enum</td><td>f64</td><td>enum</td><td>enum</td><td>enum</td><td>enum</td><td>enum</td><td>enum</td><td>enum</td><td>enum</td><td>enum</td><td>enum</td><td>enum</td><td>enum</td><td>bool</td><td>bool</td><td>enum</td><td>enum</td></tr></thead><tbody><tr><td>&quot;PB.4.1&quot;</td><td>&quot;chr1&quot;</td><td>&quot;+&quot;</td><td>2418</td><td>2</td><td>&quot;full-splice_match&quot;</td><td>&quot;LINC01409&quot;</td><td>&quot;ENST00000457084.1&quot;</td><td>566</td><td>2</td><td>-6</td><td>-1846</td><td>6</td><td>-392</td><td>&quot;alternative_3end&quot;</td><td>&quot;FALSE&quot;</td><td>&quot;canonical&quot;</td><td>null</td><td>null</td><td>null</td><td>null</td><td>null</td><td>null</td><td>null</td><td>false</td><td>null</td><td>null</td><td>null</td><td>&quot;C&quot;</td><td>&quot;non_coding&quot;</td><td>null</td><td>null</td><td>null</td><td>null</td><td>null</td><td>null</td><td>null</td><td>40.0</td><td>&quot;ATTTTGTGTTTAAATATAAA&quot;</td><td>null</td><td>null</td><td>null</td><td>null</td><td>null</td><td>null</td><td>null</td><td>null</td><td>null</td><td>null</td><td>null</td><td>false</td><td>false</td><td>null</td><td>null</td></tr><tr><td>&quot;PB.4.33&quot;</td><td>&quot;chr1&quot;</td><td>&quot;+&quot;</td><td>2863</td><td>1</td><td>&quot;full-splice_match&quot;</td><td>&quot;LINC01409&quot;</td><td>&quot;ENST00000591702.1&quot;</td><td>1873</td><td>1</td><td>-989</td><td>-1</td><td>415</td><td>1</td><td>&quot;mono-exon&quot;</td><td>&quot;????&quot;</td><td>null</td><td>null</td><td>null</td><td>null</td><td>null</td><td>null</td><td>null</td><td>null</td><td>null</td><td>null</td><td>null</td><td>null</td><td>&quot;C&quot;</td><td>&quot;non_coding&quot;</td><td>null</td><td>null</td><td>null</td><td>null</td><td>786025</td><td>786532</td><td>null</td><td>25.0</td><td>&quot;CACAAAGCCTGTTGGTGGAC&quot;</td><td>null</td><td>null</td><td>null</td><td>null</td><td>null</td><td>null</td><td>null</td><td>null</td><td>null</td><td>null</td><td>null</td><td>true</td><td>true</td><td>&quot;complete&quot;</td><td>&quot;PB.4.33&quot;</td></tr><tr><td>&quot;PB.5.30&quot;</td><td>&quot;chr1&quot;</td><td>&quot;+&quot;</td><td>3494</td><td>3</td><td>&quot;full-splice_match&quot;</td><td>&quot;LINC01128&quot;</td><td>&quot;ENST00000669922.1&quot;</td><td>5441</td><td>3</td><td>-51</td><td>1998</td><td>-46</td><td>773</td><td>&quot;alternative_3end5end&quot;</td><td>&quot;FALSE&quot;</td><td>&quot;canonical&quot;</td><td>null</td><td>null</td><td>null</td><td>null</td><td>null</td><td>null</td><td>null</td><td>false</td><td>null</td><td>null</td><td>null</td><td>&quot;C&quot;</td><td>&quot;non_coding&quot;</td><td>null</td><td>null</td><td>null</td><td>null</td><td>841885</td><td>842254</td><td>null</td><td>25.0</td><td>&quot;TAAACTGGTTCAGTCTGATT&quot;</td><td>null</td><td>null</td><td>null</td><td>null</td><td>null</td><td>null</td><td>null</td><td>null</td><td>null</td><td>null</td><td>null</td><td>true</td><td>true</td><td>&quot;complete&quot;</td><td>&quot;PB.5.30&quot;</td></tr><tr><td>&quot;PB.5.37&quot;</td><td>&quot;chr1&quot;</td><td>&quot;+&quot;</td><td>2100</td><td>4</td><td>&quot;full-splice_match&quot;</td><td>&quot;LINC01128&quot;</td><td>&quot;ENST00000610067.7&quot;</td><td>2065</td><td>4</td><td>-41</td><td>6</td><td>-31</td><td>-6</td><td>&quot;reference_match&quot;</td><td>&quot;FALSE&quot;</td><td>&quot;canonical&quot;</td><td>null</td><td>null</td><td>null</td><td>null</td><td>null</td><td>null</td><td>null</td><td>false</td><td>null</td><td>null</td><td>null</td><td>&quot;C&quot;</td><td>&quot;non_coding&quot;</td><td>null</td><td>null</td><td>null</td><td>null</td><td>null</td><td>null</td><td>null</td><td>25.0</td><td>&quot;TCTTTATAGCAGCATGATTT&quot;</td><td>null</td><td>null</td><td>null</td><td>null</td><td>null</td><td>null</td><td>null</td><td>null</td><td>null</td><td>null</td><td>null</td><td>false</td><td>false</td><td>null</td><td>null</td></tr><tr><td>&quot;PB.5.47&quot;</td><td>&quot;chr1&quot;</td><td>&quot;+&quot;</td><td>2675</td><td>3</td><td>&quot;full-splice_match&quot;</td><td>&quot;LINC01128&quot;</td><td>&quot;ENST00000669922.1&quot;</td><td>5441</td><td>3</td><td>-5</td><td>2771</td><td>0</td><td>0</td><td>&quot;alternative_3end&quot;</td><td>&quot;FALSE&quot;</td><td>&quot;canonical&quot;</td><td>null</td><td>null</td><td>null</td><td>null</td><td>null</td><td>null</td><td>null</td><td>false</td><td>null</td><td>null</td><td>null</td><td>&quot;C&quot;</td><td>&quot;non_coding&quot;</td><td>null</td><td>null</td><td>null</td><td>null</td><td>841885</td><td>842254</td><td>null</td><td>30.0</td><td>&quot;TAGTTACCTACTCACTCGAA&quot;</td><td>null</td><td>null</td><td>null</td><td>null</td><td>null</td><td>null</td><td>null</td><td>null</td><td>null</td><td>null</td><td>null</td><td>true</td><td>true</td><td>&quot;complete&quot;</td><td>&quot;PB.5.30&quot;</td></tr><tr><td>&hellip;</td><td>&hellip;</td><td>&hellip;</td><td>&hellip;</td><td>&hellip;</td><td>&hellip;</td><td>&hellip;</td><td>&hellip;</td><td>&hellip;</td><td>&hellip;</td><td>&hellip;</td><td>&hellip;</td><td>&hellip;</td><td>&hellip;</td><td>&hellip;</td><td>&hellip;</td><td>&hellip;</td><td>&hellip;</td><td>&hellip;</td><td>&hellip;</td><td>&hellip;</td><td>&hellip;</td><td>&hellip;</td><td>&hellip;</td><td>&hellip;</td><td>&hellip;</td><td>&hellip;</td><td>&hellip;</td><td>&hellip;</td><td>&hellip;</td><td>&hellip;</td><td>&hellip;</td><td>&hellip;</td><td>&hellip;</td><td>&hellip;</td><td>&hellip;</td><td>&hellip;</td><td>&hellip;</td><td>&hellip;</td><td>&hellip;</td><td>&hellip;</td><td>&hellip;</td><td>&hellip;</td><td>&hellip;</td><td>&hellip;</td><td>&hellip;</td><td>&hellip;</td><td>&hellip;</td><td>&hellip;</td><td>&hellip;</td><td>&hellip;</td><td>&hellip;</td><td>&hellip;</td><td>&hellip;</td></tr><tr><td>&quot;PB.112873.21&quot;</td><td>&quot;chrY&quot;</td><td>&quot;+&quot;</td><td>2324</td><td>11</td><td>&quot;fusion&quot;</td><td>&quot;ANKRD36P1_TPTE2P4&quot;</td><td>&quot;novel&quot;</td><td>659</td><td>5</td><td>null</td><td>null</td><td>-666</td><td>-51700</td><td>&quot;multi-exon&quot;</td><td>&quot;FALSE&quot;</td><td>&quot;canonical&quot;</td><td>null</td><td>null</td><td>null</td><td>null</td><td>null</td><td>null</td><td>null</td><td>true</td><td>null</td><td>null</td><td>null</td><td>&quot;B&quot;</td><td>&quot;non_coding&quot;</td><td>null</td><td>null</td><td>null</td><td>null</td><td>26477957</td><td>26526541</td><td>null</td><td>25.0</td><td>&quot;AATTTACTTTGTCTTAAGGT&quot;</td><td>null</td><td>null</td><td>null</td><td>null</td><td>null</td><td>null</td><td>null</td><td>null</td><td>null</td><td>null</td><td>null</td><td>true</td><td>true</td><td>&quot;complete&quot;</td><td>&quot;PB.112873.21&quot;</td></tr><tr><td>&quot;PB.112873.43&quot;</td><td>&quot;chrY&quot;</td><td>&quot;+&quot;</td><td>1346</td><td>9</td><td>&quot;fusion&quot;</td><td>&quot;ANKRD36P1_TPTE2P4&quot;</td><td>&quot;novel&quot;</td><td>659</td><td>5</td><td>null</td><td>null</td><td>-662</td><td>-50610</td><td>&quot;multi-exon&quot;</td><td>&quot;FALSE&quot;</td><td>&quot;canonical&quot;</td><td>null</td><td>null</td><td>null</td><td>null</td><td>null</td><td>null</td><td>null</td><td>true</td><td>null</td><td>null</td><td>null</td><td>&quot;B&quot;</td><td>&quot;non_coding&quot;</td><td>null</td><td>null</td><td>null</td><td>null</td><td>26409914</td><td>26528528</td><td>null</td><td>55.0</td><td>&quot;AAAGATAAGAAATGCAACCT&quot;</td><td>null</td><td>null</td><td>null</td><td>null</td><td>null</td><td>null</td><td>null</td><td>null</td><td>null</td><td>null</td><td>null</td><td>true</td><td>true</td><td>&quot;complete&quot;</td><td>&quot;PB.112873.43&quot;</td></tr><tr><td>&quot;PB.112873.86&quot;</td><td>&quot;chrY&quot;</td><td>&quot;+&quot;</td><td>5008</td><td>12</td><td>&quot;fusion&quot;</td><td>&quot;ANKRD36P1_TPTE2P4&quot;</td><td>&quot;novel&quot;</td><td>659</td><td>5</td><td>null</td><td>null</td><td>-641</td><td>-28572</td><td>&quot;multi-exon&quot;</td><td>&quot;FALSE&quot;</td><td>&quot;canonical&quot;</td><td>null</td><td>null</td><td>null</td><td>null</td><td>null</td><td>null</td><td>null</td><td>true</td><td>null</td><td>null</td><td>null</td><td>&quot;B&quot;</td><td>&quot;non_coding&quot;</td><td>null</td><td>null</td><td>null</td><td>null</td><td>26409914</td><td>26547216</td><td>null</td><td>10.0</td><td>&quot;TATAGGTCTGTTTCTGGGCT&quot;</td><td>null</td><td>null</td><td>null</td><td>null</td><td>null</td><td>null</td><td>null</td><td>null</td><td>null</td><td>null</td><td>null</td><td>true</td><td>true</td><td>&quot;complete&quot;</td><td>&quot;PB.112873.86&quot;</td></tr><tr><td>&quot;PB.112873.116&quot;</td><td>&quot;chrY&quot;</td><td>&quot;+&quot;</td><td>2139</td><td>9</td><td>&quot;fusion&quot;</td><td>&quot;ANKRD36P1_TPTE2P4&quot;</td><td>&quot;novel&quot;</td><td>659</td><td>5</td><td>null</td><td>null</td><td>-636</td><td>-51697</td><td>&quot;multi-exon&quot;</td><td>&quot;FALSE&quot;</td><td>&quot;canonical&quot;</td><td>null</td><td>null</td><td>null</td><td>null</td><td>null</td><td>null</td><td>null</td><td>true</td><td>null</td><td>null</td><td>null</td><td>&quot;B&quot;</td><td>&quot;non_coding&quot;</td><td>null</td><td>null</td><td>null</td><td>null</td><td>26409914</td><td>26526541</td><td>null</td><td>25.0</td><td>&quot;TTACTTTGTCTTAAGGTATA&quot;</td><td>null</td><td>null</td><td>null</td><td>null</td><td>null</td><td>null</td><td>null</td><td>null</td><td>null</td><td>null</td><td>null</td><td>true</td><td>true</td><td>&quot;complete&quot;</td><td>&quot;PB.112873.116&quot;</td></tr><tr><td>&quot;PB.112873.169&quot;</td><td>&quot;chrY&quot;</td><td>&quot;+&quot;</td><td>2070</td><td>9</td><td>&quot;fusion&quot;</td><td>&quot;ANKRD36P1_TPTE2P4&quot;</td><td>&quot;novel&quot;</td><td>659</td><td>5</td><td>null</td><td>null</td><td>-636</td><td>-61550</td><td>&quot;multi-exon&quot;</td><td>&quot;FALSE&quot;</td><td>&quot;canonical&quot;</td><td>null</td><td>null</td><td>null</td><td>null</td><td>null</td><td>null</td><td>null</td><td>true</td><td>null</td><td>null</td><td>null</td><td>&quot;B&quot;</td><td>&quot;non_coding&quot;</td><td>null</td><td>null</td><td>null</td><td>null</td><td>26409914</td><td>26516742</td><td>null</td><td>45.0</td><td>&quot;AAATAACTGATTAATGTCCA&quot;</td><td>null</td><td>null</td><td>null</td><td>null</td><td>null</td><td>null</td><td>null</td><td>null</td><td>null</td><td>null</td><td>null</td><td>true</td><td>true</td><td>&quot;complete&quot;</td><td>&quot;PB.112873.169&quot;</td></tr></tbody></table></div>"
      ],
      "text/plain": [
       "shape: (196_656, 54)\n",
       "┌──────────────┬───────┬────────┬────────┬───┬──────────────┬─────────────┬──────────┬─────────────┐\n",
       "│ isoform      ┆ chrom ┆ strand ┆ length ┆ … ┆ at_least_one ┆ predicted_o ┆ ORF_type ┆ base_isofor │\n",
       "│ ---          ┆ ---   ┆ ---    ┆ ---    ┆   ┆ _orf         ┆ rf          ┆ ---      ┆ m           │\n",
       "│ str          ┆ enum  ┆ enum   ┆ i64    ┆   ┆ ---          ┆ ---         ┆ enum     ┆ ---         │\n",
       "│              ┆       ┆        ┆        ┆   ┆ bool         ┆ bool        ┆          ┆ enum        │\n",
       "╞══════════════╪═══════╪════════╪════════╪═══╪══════════════╪═════════════╪══════════╪═════════════╡\n",
       "│ PB.4.1       ┆ chr1  ┆ +      ┆ 2418   ┆ … ┆ false        ┆ false       ┆ null     ┆ null        │\n",
       "│ PB.4.33      ┆ chr1  ┆ +      ┆ 2863   ┆ … ┆ true         ┆ true        ┆ complete ┆ PB.4.33     │\n",
       "│ PB.5.30      ┆ chr1  ┆ +      ┆ 3494   ┆ … ┆ true         ┆ true        ┆ complete ┆ PB.5.30     │\n",
       "│ PB.5.37      ┆ chr1  ┆ +      ┆ 2100   ┆ … ┆ false        ┆ false       ┆ null     ┆ null        │\n",
       "│ PB.5.47      ┆ chr1  ┆ +      ┆ 2675   ┆ … ┆ true         ┆ true        ┆ complete ┆ PB.5.30     │\n",
       "│ …            ┆ …     ┆ …      ┆ …      ┆ … ┆ …            ┆ …           ┆ …        ┆ …           │\n",
       "│ PB.112873.21 ┆ chrY  ┆ +      ┆ 2324   ┆ … ┆ true         ┆ true        ┆ complete ┆ PB.112873.2 │\n",
       "│              ┆       ┆        ┆        ┆   ┆              ┆             ┆          ┆ 1           │\n",
       "│ PB.112873.43 ┆ chrY  ┆ +      ┆ 1346   ┆ … ┆ true         ┆ true        ┆ complete ┆ PB.112873.4 │\n",
       "│              ┆       ┆        ┆        ┆   ┆              ┆             ┆          ┆ 3           │\n",
       "│ PB.112873.86 ┆ chrY  ┆ +      ┆ 5008   ┆ … ┆ true         ┆ true        ┆ complete ┆ PB.112873.8 │\n",
       "│              ┆       ┆        ┆        ┆   ┆              ┆             ┆          ┆ 6           │\n",
       "│ PB.112873.11 ┆ chrY  ┆ +      ┆ 2139   ┆ … ┆ true         ┆ true        ┆ complete ┆ PB.112873.1 │\n",
       "│ 6            ┆       ┆        ┆        ┆   ┆              ┆             ┆          ┆ 16          │\n",
       "│ PB.112873.16 ┆ chrY  ┆ +      ┆ 2070   ┆ … ┆ true         ┆ true        ┆ complete ┆ PB.112873.1 │\n",
       "│ 9            ┆       ┆        ┆        ┆   ┆              ┆             ┆          ┆ 69          │\n",
       "└──────────────┴───────┴────────┴────────┴───┴──────────────┴─────────────┴──────────┴─────────────┘"
      ]
     },
     "execution_count": 15,
     "metadata": {},
     "output_type": "execute_result"
    }
   ],
   "source": [
    "lr_bulk.var"
   ]
  },
  {
   "cell_type": "code",
   "execution_count": 7,
   "metadata": {},
   "outputs": [
    {
     "data": {
      "text/html": [
       "<div><style>\n",
       ".dataframe > thead > tr,\n",
       ".dataframe > tbody > tr {\n",
       "  text-align: right;\n",
       "  white-space: pre-wrap;\n",
       "}\n",
       "</style>\n",
       "<small>shape: (144_225, 54)</small><table border=\"1\" class=\"dataframe\"><thead><tr><th>isoform</th><th>chrom</th><th>strand</th><th>length</th><th>exons</th><th>structural_category</th><th>associated_gene</th><th>associated_transcript</th><th>ref_length</th><th>ref_exons</th><th>diff_to_TSS</th><th>diff_to_TTS</th><th>diff_to_gene_TSS</th><th>diff_to_gene_TTS</th><th>subcategory</th><th>RTS_stage</th><th>all_canonical</th><th>min_sample_cov</th><th>min_cov</th><th>min_cov_pos</th><th>sd_cov</th><th>FL</th><th>n_indels</th><th>n_indels_junc</th><th>bite</th><th>iso_exp</th><th>gene_exp</th><th>ratio_exp</th><th>FSM_class</th><th>coding</th><th>ORF_length</th><th>CDS_length</th><th>CDS_start</th><th>CDS_end</th><th>CDS_genomic_start</th><th>CDS_genomic_end</th><th>predicted_NMD</th><th>perc_A_downstream_TTS</th><th>seq_A_downstream_TTS</th><th>dist_to_CAGE_peak</th><th>within_CAGE_peak</th><th>dist_to_polyA_site</th><th>within_polyA_site</th><th>polyA_motif</th><th>polyA_dist</th><th>polyA_motif_found</th><th>ORF_seq</th><th>ratio_TSS</th><th>fl_assoc</th><th>cell_barcodes</th><th>at_least_one_orf</th><th>predicted_orf</th><th>ORF_type</th><th>base_isoform</th></tr><tr><td>str</td><td>enum</td><td>enum</td><td>i64</td><td>i64</td><td>enum</td><td>enum</td><td>enum</td><td>i64</td><td>i64</td><td>i64</td><td>i64</td><td>i64</td><td>i64</td><td>enum</td><td>enum</td><td>enum</td><td>enum</td><td>enum</td><td>enum</td><td>enum</td><td>enum</td><td>enum</td><td>enum</td><td>bool</td><td>enum</td><td>enum</td><td>enum</td><td>enum</td><td>enum</td><td>enum</td><td>enum</td><td>enum</td><td>enum</td><td>i64</td><td>i64</td><td>enum</td><td>f64</td><td>enum</td><td>enum</td><td>enum</td><td>enum</td><td>enum</td><td>enum</td><td>enum</td><td>enum</td><td>enum</td><td>enum</td><td>enum</td><td>enum</td><td>bool</td><td>bool</td><td>enum</td><td>enum</td></tr></thead><tbody><tr><td>&quot;PB.4.33&quot;</td><td>&quot;chr1&quot;</td><td>&quot;+&quot;</td><td>2863</td><td>1</td><td>&quot;full-splice_match&quot;</td><td>&quot;LINC01409&quot;</td><td>&quot;ENST00000591702.1&quot;</td><td>1873</td><td>1</td><td>-989</td><td>-1</td><td>415</td><td>1</td><td>&quot;mono-exon&quot;</td><td>&quot;????&quot;</td><td>null</td><td>null</td><td>null</td><td>null</td><td>null</td><td>null</td><td>null</td><td>null</td><td>null</td><td>null</td><td>null</td><td>null</td><td>&quot;C&quot;</td><td>&quot;non_coding&quot;</td><td>null</td><td>null</td><td>null</td><td>null</td><td>786025</td><td>786532</td><td>null</td><td>25.0</td><td>&quot;CACAAAGCCTGTTGGTGGAC&quot;</td><td>null</td><td>null</td><td>null</td><td>null</td><td>null</td><td>null</td><td>null</td><td>null</td><td>null</td><td>null</td><td>null</td><td>true</td><td>true</td><td>&quot;complete&quot;</td><td>&quot;PB.4.33&quot;</td></tr><tr><td>&quot;PB.5.30&quot;</td><td>&quot;chr1&quot;</td><td>&quot;+&quot;</td><td>3494</td><td>3</td><td>&quot;full-splice_match&quot;</td><td>&quot;LINC01128&quot;</td><td>&quot;ENST00000669922.1&quot;</td><td>5441</td><td>3</td><td>-51</td><td>1998</td><td>-46</td><td>773</td><td>&quot;alternative_3end5end&quot;</td><td>&quot;FALSE&quot;</td><td>&quot;canonical&quot;</td><td>null</td><td>null</td><td>null</td><td>null</td><td>null</td><td>null</td><td>null</td><td>false</td><td>null</td><td>null</td><td>null</td><td>&quot;C&quot;</td><td>&quot;non_coding&quot;</td><td>null</td><td>null</td><td>null</td><td>null</td><td>841885</td><td>842254</td><td>null</td><td>25.0</td><td>&quot;TAAACTGGTTCAGTCTGATT&quot;</td><td>null</td><td>null</td><td>null</td><td>null</td><td>null</td><td>null</td><td>null</td><td>null</td><td>null</td><td>null</td><td>null</td><td>true</td><td>true</td><td>&quot;complete&quot;</td><td>&quot;PB.5.30&quot;</td></tr><tr><td>&quot;PB.5.47&quot;</td><td>&quot;chr1&quot;</td><td>&quot;+&quot;</td><td>2675</td><td>3</td><td>&quot;full-splice_match&quot;</td><td>&quot;LINC01128&quot;</td><td>&quot;ENST00000669922.1&quot;</td><td>5441</td><td>3</td><td>-5</td><td>2771</td><td>0</td><td>0</td><td>&quot;alternative_3end&quot;</td><td>&quot;FALSE&quot;</td><td>&quot;canonical&quot;</td><td>null</td><td>null</td><td>null</td><td>null</td><td>null</td><td>null</td><td>null</td><td>false</td><td>null</td><td>null</td><td>null</td><td>&quot;C&quot;</td><td>&quot;non_coding&quot;</td><td>null</td><td>null</td><td>null</td><td>null</td><td>841885</td><td>842254</td><td>null</td><td>30.0</td><td>&quot;TAGTTACCTACTCACTCGAA&quot;</td><td>null</td><td>null</td><td>null</td><td>null</td><td>null</td><td>null</td><td>null</td><td>null</td><td>null</td><td>null</td><td>null</td><td>true</td><td>true</td><td>&quot;complete&quot;</td><td>&quot;PB.5.30&quot;</td></tr><tr><td>&quot;PB.5.100&quot;</td><td>&quot;chr1&quot;</td><td>&quot;+&quot;</td><td>3625</td><td>3</td><td>&quot;full-splice_match&quot;</td><td>&quot;LINC01128&quot;</td><td>&quot;ENST00000669922.1&quot;</td><td>5441</td><td>3</td><td>17</td><td>1799</td><td>12</td><td>972</td><td>&quot;alternative_3end&quot;</td><td>&quot;FALSE&quot;</td><td>&quot;canonical&quot;</td><td>null</td><td>null</td><td>null</td><td>null</td><td>null</td><td>null</td><td>null</td><td>false</td><td>null</td><td>null</td><td>null</td><td>&quot;C&quot;</td><td>&quot;non_coding&quot;</td><td>null</td><td>null</td><td>null</td><td>null</td><td>841885</td><td>842254</td><td>null</td><td>40.0</td><td>&quot;AAAAATAGCAGCCTCTGTAT&quot;</td><td>null</td><td>null</td><td>null</td><td>null</td><td>null</td><td>null</td><td>null</td><td>null</td><td>null</td><td>null</td><td>null</td><td>true</td><td>true</td><td>&quot;complete&quot;</td><td>&quot;PB.5.30&quot;</td></tr><tr><td>&quot;PB.6.4&quot;</td><td>&quot;chr1&quot;</td><td>&quot;-&quot;</td><td>4957</td><td>8</td><td>&quot;novel_not_in_catalog&quot;</td><td>&quot;WASH7P&quot;</td><td>&quot;novel&quot;</td><td>1351</td><td>11</td><td>null</td><td>null</td><td>8118</td><td>-3</td><td>&quot;intron_retention&quot;</td><td>&quot;FALSE&quot;</td><td>&quot;canonical&quot;</td><td>null</td><td>null</td><td>null</td><td>null</td><td>null</td><td>null</td><td>null</td><td>true</td><td>null</td><td>null</td><td>null</td><td>&quot;B&quot;</td><td>&quot;non_coding&quot;</td><td>null</td><td>null</td><td>null</td><td>null</td><td>18912</td><td>17368</td><td>null</td><td>35.0</td><td>&quot;AAACCAACAGTGTGCTTTTA&quot;</td><td>null</td><td>null</td><td>null</td><td>null</td><td>null</td><td>null</td><td>null</td><td>null</td><td>null</td><td>null</td><td>null</td><td>true</td><td>true</td><td>&quot;complete&quot;</td><td>&quot;PB.6.4&quot;</td></tr><tr><td>&hellip;</td><td>&hellip;</td><td>&hellip;</td><td>&hellip;</td><td>&hellip;</td><td>&hellip;</td><td>&hellip;</td><td>&hellip;</td><td>&hellip;</td><td>&hellip;</td><td>&hellip;</td><td>&hellip;</td><td>&hellip;</td><td>&hellip;</td><td>&hellip;</td><td>&hellip;</td><td>&hellip;</td><td>&hellip;</td><td>&hellip;</td><td>&hellip;</td><td>&hellip;</td><td>&hellip;</td><td>&hellip;</td><td>&hellip;</td><td>&hellip;</td><td>&hellip;</td><td>&hellip;</td><td>&hellip;</td><td>&hellip;</td><td>&hellip;</td><td>&hellip;</td><td>&hellip;</td><td>&hellip;</td><td>&hellip;</td><td>&hellip;</td><td>&hellip;</td><td>&hellip;</td><td>&hellip;</td><td>&hellip;</td><td>&hellip;</td><td>&hellip;</td><td>&hellip;</td><td>&hellip;</td><td>&hellip;</td><td>&hellip;</td><td>&hellip;</td><td>&hellip;</td><td>&hellip;</td><td>&hellip;</td><td>&hellip;</td><td>&hellip;</td><td>&hellip;</td><td>&hellip;</td><td>&hellip;</td></tr><tr><td>&quot;PB.112873.21&quot;</td><td>&quot;chrY&quot;</td><td>&quot;+&quot;</td><td>2324</td><td>11</td><td>&quot;fusion&quot;</td><td>&quot;ANKRD36P1_TPTE2P4&quot;</td><td>&quot;novel&quot;</td><td>659</td><td>5</td><td>null</td><td>null</td><td>-666</td><td>-51700</td><td>&quot;multi-exon&quot;</td><td>&quot;FALSE&quot;</td><td>&quot;canonical&quot;</td><td>null</td><td>null</td><td>null</td><td>null</td><td>null</td><td>null</td><td>null</td><td>true</td><td>null</td><td>null</td><td>null</td><td>&quot;B&quot;</td><td>&quot;non_coding&quot;</td><td>null</td><td>null</td><td>null</td><td>null</td><td>26477957</td><td>26526541</td><td>null</td><td>25.0</td><td>&quot;AATTTACTTTGTCTTAAGGT&quot;</td><td>null</td><td>null</td><td>null</td><td>null</td><td>null</td><td>null</td><td>null</td><td>null</td><td>null</td><td>null</td><td>null</td><td>true</td><td>true</td><td>&quot;complete&quot;</td><td>&quot;PB.112873.21&quot;</td></tr><tr><td>&quot;PB.112873.43&quot;</td><td>&quot;chrY&quot;</td><td>&quot;+&quot;</td><td>1346</td><td>9</td><td>&quot;fusion&quot;</td><td>&quot;ANKRD36P1_TPTE2P4&quot;</td><td>&quot;novel&quot;</td><td>659</td><td>5</td><td>null</td><td>null</td><td>-662</td><td>-50610</td><td>&quot;multi-exon&quot;</td><td>&quot;FALSE&quot;</td><td>&quot;canonical&quot;</td><td>null</td><td>null</td><td>null</td><td>null</td><td>null</td><td>null</td><td>null</td><td>true</td><td>null</td><td>null</td><td>null</td><td>&quot;B&quot;</td><td>&quot;non_coding&quot;</td><td>null</td><td>null</td><td>null</td><td>null</td><td>26409914</td><td>26528528</td><td>null</td><td>55.0</td><td>&quot;AAAGATAAGAAATGCAACCT&quot;</td><td>null</td><td>null</td><td>null</td><td>null</td><td>null</td><td>null</td><td>null</td><td>null</td><td>null</td><td>null</td><td>null</td><td>true</td><td>true</td><td>&quot;complete&quot;</td><td>&quot;PB.112873.43&quot;</td></tr><tr><td>&quot;PB.112873.86&quot;</td><td>&quot;chrY&quot;</td><td>&quot;+&quot;</td><td>5008</td><td>12</td><td>&quot;fusion&quot;</td><td>&quot;ANKRD36P1_TPTE2P4&quot;</td><td>&quot;novel&quot;</td><td>659</td><td>5</td><td>null</td><td>null</td><td>-641</td><td>-28572</td><td>&quot;multi-exon&quot;</td><td>&quot;FALSE&quot;</td><td>&quot;canonical&quot;</td><td>null</td><td>null</td><td>null</td><td>null</td><td>null</td><td>null</td><td>null</td><td>true</td><td>null</td><td>null</td><td>null</td><td>&quot;B&quot;</td><td>&quot;non_coding&quot;</td><td>null</td><td>null</td><td>null</td><td>null</td><td>26409914</td><td>26547216</td><td>null</td><td>10.0</td><td>&quot;TATAGGTCTGTTTCTGGGCT&quot;</td><td>null</td><td>null</td><td>null</td><td>null</td><td>null</td><td>null</td><td>null</td><td>null</td><td>null</td><td>null</td><td>null</td><td>true</td><td>true</td><td>&quot;complete&quot;</td><td>&quot;PB.112873.86&quot;</td></tr><tr><td>&quot;PB.112873.116&quot;</td><td>&quot;chrY&quot;</td><td>&quot;+&quot;</td><td>2139</td><td>9</td><td>&quot;fusion&quot;</td><td>&quot;ANKRD36P1_TPTE2P4&quot;</td><td>&quot;novel&quot;</td><td>659</td><td>5</td><td>null</td><td>null</td><td>-636</td><td>-51697</td><td>&quot;multi-exon&quot;</td><td>&quot;FALSE&quot;</td><td>&quot;canonical&quot;</td><td>null</td><td>null</td><td>null</td><td>null</td><td>null</td><td>null</td><td>null</td><td>true</td><td>null</td><td>null</td><td>null</td><td>&quot;B&quot;</td><td>&quot;non_coding&quot;</td><td>null</td><td>null</td><td>null</td><td>null</td><td>26409914</td><td>26526541</td><td>null</td><td>25.0</td><td>&quot;TTACTTTGTCTTAAGGTATA&quot;</td><td>null</td><td>null</td><td>null</td><td>null</td><td>null</td><td>null</td><td>null</td><td>null</td><td>null</td><td>null</td><td>null</td><td>true</td><td>true</td><td>&quot;complete&quot;</td><td>&quot;PB.112873.116&quot;</td></tr><tr><td>&quot;PB.112873.169&quot;</td><td>&quot;chrY&quot;</td><td>&quot;+&quot;</td><td>2070</td><td>9</td><td>&quot;fusion&quot;</td><td>&quot;ANKRD36P1_TPTE2P4&quot;</td><td>&quot;novel&quot;</td><td>659</td><td>5</td><td>null</td><td>null</td><td>-636</td><td>-61550</td><td>&quot;multi-exon&quot;</td><td>&quot;FALSE&quot;</td><td>&quot;canonical&quot;</td><td>null</td><td>null</td><td>null</td><td>null</td><td>null</td><td>null</td><td>null</td><td>true</td><td>null</td><td>null</td><td>null</td><td>&quot;B&quot;</td><td>&quot;non_coding&quot;</td><td>null</td><td>null</td><td>null</td><td>null</td><td>26409914</td><td>26516742</td><td>null</td><td>45.0</td><td>&quot;AAATAACTGATTAATGTCCA&quot;</td><td>null</td><td>null</td><td>null</td><td>null</td><td>null</td><td>null</td><td>null</td><td>null</td><td>null</td><td>null</td><td>null</td><td>true</td><td>true</td><td>&quot;complete&quot;</td><td>&quot;PB.112873.169&quot;</td></tr></tbody></table></div>"
      ],
      "text/plain": [
       "shape: (144_225, 54)\n",
       "┌──────────────┬───────┬────────┬────────┬───┬──────────────┬─────────────┬──────────┬─────────────┐\n",
       "│ isoform      ┆ chrom ┆ strand ┆ length ┆ … ┆ at_least_one ┆ predicted_o ┆ ORF_type ┆ base_isofor │\n",
       "│ ---          ┆ ---   ┆ ---    ┆ ---    ┆   ┆ _orf         ┆ rf          ┆ ---      ┆ m           │\n",
       "│ str          ┆ enum  ┆ enum   ┆ i64    ┆   ┆ ---          ┆ ---         ┆ enum     ┆ ---         │\n",
       "│              ┆       ┆        ┆        ┆   ┆ bool         ┆ bool        ┆          ┆ enum        │\n",
       "╞══════════════╪═══════╪════════╪════════╪═══╪══════════════╪═════════════╪══════════╪═════════════╡\n",
       "│ PB.4.33      ┆ chr1  ┆ +      ┆ 2863   ┆ … ┆ true         ┆ true        ┆ complete ┆ PB.4.33     │\n",
       "│ PB.5.30      ┆ chr1  ┆ +      ┆ 3494   ┆ … ┆ true         ┆ true        ┆ complete ┆ PB.5.30     │\n",
       "│ PB.5.47      ┆ chr1  ┆ +      ┆ 2675   ┆ … ┆ true         ┆ true        ┆ complete ┆ PB.5.30     │\n",
       "│ PB.5.100     ┆ chr1  ┆ +      ┆ 3625   ┆ … ┆ true         ┆ true        ┆ complete ┆ PB.5.30     │\n",
       "│ PB.6.4       ┆ chr1  ┆ -      ┆ 4957   ┆ … ┆ true         ┆ true        ┆ complete ┆ PB.6.4      │\n",
       "│ …            ┆ …     ┆ …      ┆ …      ┆ … ┆ …            ┆ …           ┆ …        ┆ …           │\n",
       "│ PB.112873.21 ┆ chrY  ┆ +      ┆ 2324   ┆ … ┆ true         ┆ true        ┆ complete ┆ PB.112873.2 │\n",
       "│              ┆       ┆        ┆        ┆   ┆              ┆             ┆          ┆ 1           │\n",
       "│ PB.112873.43 ┆ chrY  ┆ +      ┆ 1346   ┆ … ┆ true         ┆ true        ┆ complete ┆ PB.112873.4 │\n",
       "│              ┆       ┆        ┆        ┆   ┆              ┆             ┆          ┆ 3           │\n",
       "│ PB.112873.86 ┆ chrY  ┆ +      ┆ 5008   ┆ … ┆ true         ┆ true        ┆ complete ┆ PB.112873.8 │\n",
       "│              ┆       ┆        ┆        ┆   ┆              ┆             ┆          ┆ 6           │\n",
       "│ PB.112873.11 ┆ chrY  ┆ +      ┆ 2139   ┆ … ┆ true         ┆ true        ┆ complete ┆ PB.112873.1 │\n",
       "│ 6            ┆       ┆        ┆        ┆   ┆              ┆             ┆          ┆ 16          │\n",
       "│ PB.112873.16 ┆ chrY  ┆ +      ┆ 2070   ┆ … ┆ true         ┆ true        ┆ complete ┆ PB.112873.1 │\n",
       "│ 9            ┆       ┆        ┆        ┆   ┆              ┆             ┆          ┆ 69          │\n",
       "└──────────────┴───────┴────────┴────────┴───┴──────────────┴─────────────┴──────────┴─────────────┘"
      ]
     },
     "execution_count": 7,
     "metadata": {},
     "output_type": "execute_result"
    }
   ],
   "source": [
    "lr_bulk.var.filter(pl.col(\"ORF_type\")==\"complete\")"
   ]
  },
  {
   "cell_type": "code",
   "execution_count": 8,
   "metadata": {},
   "outputs": [],
   "source": [
    "genome_gff3 = read_gff(\"nextflow_results/transcripts_filtered.fasta.transdecoder.genome.gff3\")"
   ]
  },
  {
   "cell_type": "code",
   "execution_count": null,
   "metadata": {},
   "outputs": [],
   "source": [
    "genome_gff3"
   ]
  },
  {
   "cell_type": "code",
   "execution_count": 12,
   "metadata": {},
   "outputs": [],
   "source": [
    "gff3_IDs = genome_gff3.filter(pl.col(\"feature\")==\"mRNA\")\\\n",
    "    .with_columns(\n",
    "        ID = pl.col(\"ID\").str.extract(r\"^(PB\\.\\d+\\.\\d+)\")\n",
    "    )\\\n",
    "    .filter(\n",
    "        pl.col(\"attributes\").str.contains(\"complete\")\n",
    "    )[\"ID\"]"
   ]
  },
  {
   "cell_type": "code",
   "execution_count": 24,
   "metadata": {},
   "outputs": [],
   "source": [
    "lr_bulk_IDs = set(lr_bulk.var[\"isoform\"])"
   ]
  },
  {
   "cell_type": "code",
   "execution_count": 26,
   "metadata": {},
   "outputs": [
    {
     "data": {
      "text/plain": [
       "51107"
      ]
     },
     "execution_count": 26,
     "metadata": {},
     "output_type": "execute_result"
    }
   ],
   "source": [
    "len(lr_bulk_IDs - set(gff3_IDs))"
   ]
  },
  {
   "cell_type": "code",
   "execution_count": 27,
   "metadata": {},
   "outputs": [
    {
     "data": {
      "text/plain": [
       "0"
      ]
     },
     "execution_count": 27,
     "metadata": {},
     "output_type": "execute_result"
    }
   ],
   "source": [
    "len(set(gff3_IDs) - lr_bulk_IDs)"
   ]
  },
  {
   "cell_type": "code",
   "execution_count": null,
   "metadata": {},
   "outputs": [],
   "source": []
  }
 ],
 "metadata": {
  "kernelspec": {
   "display_name": "patch_seq_spl",
   "language": "python",
   "name": "python3"
  },
  "language_info": {
   "codemirror_mode": {
    "name": "ipython",
    "version": 3
   },
   "file_extension": ".py",
   "mimetype": "text/x-python",
   "name": "python",
   "nbconvert_exporter": "python",
   "pygments_lexer": "ipython3",
   "version": "3.12.3"
  }
 },
 "nbformat": 4,
 "nbformat_minor": 2
}
