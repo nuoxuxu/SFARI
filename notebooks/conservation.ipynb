{
 "cells": [
  {
   "cell_type": "markdown",
   "metadata": {},
   "source": [
    "# Import packages"
   ]
  },
  {
   "cell_type": "code",
   "execution_count": 12,
   "metadata": {},
   "outputs": [],
   "source": [
    "from src.utils import read_gtf\n",
    "from scripts.splice_sites_annotation import add_phyloP, gtf_to_SJ\n",
    "import polars as pl\n",
    "import seaborn as sns\n",
    "import matplotlib.pyplot as plt"
   ]
  },
  {
   "cell_type": "code",
   "execution_count": 13,
   "metadata": {},
   "outputs": [],
   "source": [
    "ORFanage_ss = pl.read_csv(\"export/ORFanage_splice_sites.csv\")"
   ]
  },
  {
   "cell_type": "code",
   "execution_count": 14,
   "metadata": {},
   "outputs": [],
   "source": [
    "intronic_seq = read_gtf(\"nextflow_results/V47/orfanage/orfanage.gtf\")\\\n",
    "    .filter(pl.col(\"feature\").is_in([\"CDS\", \"exon\"]))\\\n",
    "    .filter(pl.col(\"seqname\")!= \"chrM\")\\\n",
    "    .pipe(gtf_to_SJ)\\\n",
    "    .unique([\"chrom\", \"strand\", \"start\", \"end\"])\\\n",
    "    .with_columns(\n",
    "        coord = pl.int_ranges(pl.col(\"start\") - 1, pl.col(\"end\")).list.sample(2, with_replacement=False)\n",
    "    )\\\n",
    "    .explode(\"coord\")\\\n",
    "    .with_columns(\n",
    "        is_novel = pl.lit(\"intronic\"),\n",
    "        start_or_end = pl.lit(\"start\")\n",
    "    )\\\n",
    "    .pipe(add_phyloP, \"data/cactus241way.phyloP.bw\", \"mammal\")\n"
   ]
  },
  {
   "cell_type": "code",
   "execution_count": 18,
   "metadata": {},
   "outputs": [
    {
     "data": {
      "text/plain": [
       "Text(0.5, 0, 'PhyloP score')"
      ]
     },
     "execution_count": 18,
     "metadata": {},
     "output_type": "execute_result"
    },
    {
     "data": {
      "image/png": "[encoded data removed]",
      "text/plain": [
       "<Figure size 640x480 with 1 Axes>"
      ]
     },
     "metadata": {},
     "output_type": "display_data"
    }
   ],
   "source": [
    "pl.concat([ORFanage_ss.with_columns(pl.col(\"is_novel\").cast(pl.String)), intronic_seq.drop(\"feature\", \"start\", \"end\")], how=\"diagonal\")\\\n",
    "    .pipe(sns.histplot, x=\"mammal_phyloP_1\", hue=\"is_novel\")\n",
    "plt.xlim(-5,10)\n",
    "plt.ylim(0, 5000)\n",
    "plt.xlabel(\"PhyloP score\")"
   ]
  },
  {
   "cell_type": "markdown",
   "metadata": {},
   "source": [
    "# Test export/variant/novel_splice_sites_all.csv"
   ]
  },
  {
   "cell_type": "code",
   "execution_count": 3,
   "metadata": {},
   "outputs": [],
   "source": [
    "novel_splice_sites_all = pl.read_csv(\"export/variant/novel_splice_sites_all.csv\")\n",
    "ORFanage_splice_sites = pl.read_csv(\"export/ORFanage_splice_sites.csv\")"
   ]
  },
  {
   "cell_type": "code",
   "execution_count": 10,
   "metadata": {},
   "outputs": [
    {
     "data": {
      "text/html": [
       "<div><style>\n",
       ".dataframe > thead > tr,\n",
       ".dataframe > tbody > tr {\n",
       "  text-align: right;\n",
       "  white-space: pre-wrap;\n",
       "}\n",
       "</style>\n",
       "<small>shape: (74, 6)</small><table border=\"1\" class=\"dataframe\"><thead><tr><th>chrom</th><th>transcript_id</th><th>start_or_end</th><th>start</th><th>end</th><th>canonical</th></tr><tr><td>str</td><td>str</td><td>str</td><td>i64</td><td>i64</td><td>bool</td></tr></thead><tbody><tr><td>&quot;chrM&quot;</td><td>&quot;PB.112885.4020&quot;</td><td>&quot;end&quot;</td><td>13995</td><td>13996</td><td>null</td></tr><tr><td>&quot;chrM&quot;</td><td>&quot;PB.112885.366&quot;</td><td>&quot;start&quot;</td><td>2241</td><td>2242</td><td>null</td></tr><tr><td>&quot;chrM&quot;</td><td>&quot;PB.112885.3879&quot;</td><td>&quot;start&quot;</td><td>13558</td><td>13559</td><td>null</td></tr><tr><td>&quot;chrM&quot;</td><td>&quot;PB.112885.2563&quot;</td><td>&quot;end&quot;</td><td>10703</td><td>10704</td><td>null</td></tr><tr><td>&quot;chrM&quot;</td><td>&quot;PB.112885.3568&quot;</td><td>&quot;start&quot;</td><td>12962</td><td>12963</td><td>null</td></tr><tr><td>&hellip;</td><td>&hellip;</td><td>&hellip;</td><td>&hellip;</td><td>&hellip;</td><td>&hellip;</td></tr><tr><td>&quot;chrM&quot;</td><td>&quot;PB.112885.3676&quot;</td><td>&quot;end&quot;</td><td>14480</td><td>14481</td><td>null</td></tr><tr><td>&quot;chrM&quot;</td><td>&quot;PB.112885.3913&quot;</td><td>&quot;end&quot;</td><td>14573</td><td>14574</td><td>null</td></tr><tr><td>&quot;chrM&quot;</td><td>&quot;PB.112885.3519&quot;</td><td>&quot;start&quot;</td><td>13009</td><td>13010</td><td>null</td></tr><tr><td>&quot;chrM&quot;</td><td>&quot;PB.112885.255&quot;</td><td>&quot;start&quot;</td><td>2758</td><td>2759</td><td>null</td></tr><tr><td>&quot;chrM&quot;</td><td>&quot;PB.112885.3676&quot;</td><td>&quot;start&quot;</td><td>14059</td><td>14060</td><td>null</td></tr></tbody></table></div>"
      ],
      "text/plain": [
       "shape: (74, 6)\n",
       "┌───────┬────────────────┬──────────────┬───────┬───────┬───────────┐\n",
       "│ chrom ┆ transcript_id  ┆ start_or_end ┆ start ┆ end   ┆ canonical │\n",
       "│ ---   ┆ ---            ┆ ---          ┆ ---   ┆ ---   ┆ ---       │\n",
       "│ str   ┆ str            ┆ str          ┆ i64   ┆ i64   ┆ bool      │\n",
       "╞═══════╪════════════════╪══════════════╪═══════╪═══════╪═══════════╡\n",
       "│ chrM  ┆ PB.112885.4020 ┆ end          ┆ 13995 ┆ 13996 ┆ null      │\n",
       "│ chrM  ┆ PB.112885.366  ┆ start        ┆ 2241  ┆ 2242  ┆ null      │\n",
       "│ chrM  ┆ PB.112885.3879 ┆ start        ┆ 13558 ┆ 13559 ┆ null      │\n",
       "│ chrM  ┆ PB.112885.2563 ┆ end          ┆ 10703 ┆ 10704 ┆ null      │\n",
       "│ chrM  ┆ PB.112885.3568 ┆ start        ┆ 12962 ┆ 12963 ┆ null      │\n",
       "│ …     ┆ …              ┆ …            ┆ …     ┆ …     ┆ …         │\n",
       "│ chrM  ┆ PB.112885.3676 ┆ end          ┆ 14480 ┆ 14481 ┆ null      │\n",
       "│ chrM  ┆ PB.112885.3913 ┆ end          ┆ 14573 ┆ 14574 ┆ null      │\n",
       "│ chrM  ┆ PB.112885.3519 ┆ start        ┆ 13009 ┆ 13010 ┆ null      │\n",
       "│ chrM  ┆ PB.112885.255  ┆ start        ┆ 2758  ┆ 2759  ┆ null      │\n",
       "│ chrM  ┆ PB.112885.3676 ┆ start        ┆ 14059 ┆ 14060 ┆ null      │\n",
       "└───────┴────────────────┴──────────────┴───────┴───────┴───────────┘"
      ]
     },
     "execution_count": 10,
     "metadata": {},
     "output_type": "execute_result"
    }
   ],
   "source": [
    "novel_splice_sites_all\\\n",
    "    .join(\n",
    "        ORFanage_splice_sites[\"chrom\", \"start\", \"end\", \"canonical\"],\n",
    "        on=[\"chrom\", \"start\", \"end\"],\n",
    "        how=\"left\"\n",
    "    )\\\n",
    "    .filter(\n",
    "        pl.col(\"canonical\").is_null()\n",
    "    )"
   ]
  },
  {
   "cell_type": "markdown",
   "metadata": {},
   "source": [
    "The only differences between the two files are the following:\n",
    " - `novel_splice_sites_all` contains fewer columns, no strand information\n",
    " - `ORFanage_splice_sites` does not contain splice sites in chrM, because phyloP is not available for chrM"
   ]
  }
 ],
 "metadata": {
  "kernelspec": {
   "display_name": "Python 3",
   "language": "python",
   "name": "python3"
  },
  "language_info": {
   "codemirror_mode": {
    "name": "ipython",
    "version": 3
   },
   "file_extension": ".py",
   "mimetype": "text/x-python",
   "name": "python",
   "nbconvert_exporter": "python",
   "pygments_lexer": "ipython3",
   "version": "3.12.3"
  }
 },
 "nbformat": 4,
 "nbformat_minor": 2
}
