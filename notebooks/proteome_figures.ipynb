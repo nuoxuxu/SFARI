{
 "cells": [
  {
   "cell_type": "markdown",
   "metadata": {},
   "source": [
    "# Import packages"
   ]
  },
  {
   "cell_type": "code",
   "execution_count": null,
   "metadata": {},
   "outputs": [
    {
     "ename": "",
     "evalue": "",
     "output_type": "error",
     "traceback": [
      "\u001b[1;31mThe Kernel crashed while executing code in the current cell or a previous cell. \n",
      "\u001b[1;31mPlease review the code in the cell(s) to identify a possible cause of the failure. \n",
      "\u001b[1;31mClick <a href='https://aka.ms/vscodeJupyterKernelCrash'>here</a> for more info. \n",
      "\u001b[1;31mView Jupyter <a href='command:jupyter.viewOutput'>log</a> for further details."
     ]
    }
   ],
   "source": [
    "from src.utils import read_gtf, collapse_isoforms_to_proteoforms\n",
    "import src.plotting_functions as plotting\n",
    "import polars as pl\n",
    "from importlib import reload\n",
    "import matplotlib.pyplot as plt\n",
    "import seaborn as sns\n",
    "from src.ryp import r, to_r"
   ]
  },
  {
   "cell_type": "markdown",
   "metadata": {},
   "source": [
    "# Load datasets"
   ]
  },
  {
   "cell_type": "code",
   "execution_count": 3,
   "metadata": {},
   "outputs": [],
   "source": [
    "orfanage_gtf = read_gtf(\"nextflow_results/V47/orfanage/orfanage.gtf\")"
   ]
  },
  {
   "cell_type": "code",
   "execution_count": 4,
   "metadata": {},
   "outputs": [
    {
     "name": "stdout",
     "output_type": "stream",
     "text": [
      "There are 173897 transcripts that contain CDS predicted by ORFanage\n"
     ]
    }
   ],
   "source": [
    "print(f\"There are {orfanage_gtf.unique(\"transcript_id\").shape[0]} transcripts that contain CDS predicted by ORFanage\")"
   ]
  },
  {
   "cell_type": "code",
   "execution_count": 5,
   "metadata": {},
   "outputs": [
    {
     "name": "stderr",
     "output_type": "stream",
     "text": [
      "/gpfs/fs0/scratch/s/shreejoy/nxu/SFARI/src/utils.py:7013: MapWithoutReturnDtypeWarning: Calling `map_elements` without specifying `return_dtype` can lead to unpredictable results. Specify `return_dtype` to silence this warning.\n",
      "  .with_columns(\n"
     ]
    }
   ],
   "source": [
    "isoforms_to_proteoforms = collapse_isoforms_to_proteoforms(orfanage_gtf)"
   ]
  },
  {
   "cell_type": "code",
   "execution_count": 6,
   "metadata": {},
   "outputs": [
    {
     "data": {
      "text/plain": [
       "'There are 88404 unique ORFs.'"
      ]
     },
     "execution_count": 6,
     "metadata": {},
     "output_type": "execute_result"
    }
   ],
   "source": [
    "f\"There are {isoforms_to_proteoforms.unique(\"base_isoform\").shape[0]} unique ORFs.\""
   ]
  },
  {
   "cell_type": "code",
   "execution_count": 7,
   "metadata": {},
   "outputs": [],
   "source": [
    "protein_classification = pl.read_csv(\"nextflow_results/V47/orfanage/SFARI.protein_classification.tsv\", separator=\"\\t\")"
   ]
  },
  {
   "cell_type": "code",
   "execution_count": 10,
   "metadata": {},
   "outputs": [
    {
     "name": "stdout",
     "output_type": "stream",
     "text": [
      "There are 57460 unique novel proteoforms\n"
     ]
    }
   ],
   "source": [
    "n_novel_proteins = protein_classification\\\n",
    "    .rename({\"pb\": \"isoform\"})\\\n",
    "    .join(isoforms_to_proteoforms, on=\"isoform\")\\\n",
    "    .unique(\"base_isoform\")\\\n",
    "    .filter(\n",
    "        pl.col(\"protein_classification_base\").is_in([\"pNNC\", \"pNIC\"])\n",
    "    ).shape[0]\n",
    "\n",
    "print(f\"There are {n_novel_proteins} unique novel proteoforms\")"
   ]
  },
  {
   "cell_type": "markdown",
   "metadata": {},
   "source": [
    "# Protein classification histogram"
   ]
  },
  {
   "cell_type": "code",
   "execution_count": 22,
   "metadata": {},
   "outputs": [
    {
     "data": {
      "text/plain": [
       "<module 'src.plotting_functions' from '/gpfs/fs0/scratch/s/shreejoy/nxu/SFARI/src/plotting_functions.py'>"
      ]
     },
     "execution_count": 22,
     "metadata": {},
     "output_type": "execute_result"
    }
   ],
   "source": [
    "reload(plotting)"
   ]
  },
  {
   "cell_type": "code",
   "execution_count": 23,
   "metadata": {},
   "outputs": [
    {
     "name": "stderr",
     "output_type": "stream",
     "text": [
      "/gpfs/fs0/scratch/s/shreejoy/nxu/SFARI/src/utils.py:7013: MapWithoutReturnDtypeWarning: Calling `map_elements` without specifying `return_dtype` can lead to unpredictable results. Specify `return_dtype` to silence this warning.\n",
      "  .with_columns(\n"
     ]
    },
    {
     "name": "stdout",
     "output_type": "stream",
     "text": [
      "null device \n",
      "          1 \n"
     ]
    },
    {
     "data": {
      "image/svg+xml": [
       "<svg xmlns=\"http://www.w3.org/2000/svg\" xmlns:xlink=\"http://www.w3.org/1999/xlink\" class=\"svglite\" width=\"460.80pt\" height=\"345.60pt\" viewBox=\"0 0 460.80 345.60\">\n",
       "<defs>\n",
       "  <style type=\"text/css\"><![CDATA[\n",
       "    .svglite line, .svglite polyline, .svglite polygon, .svglite path, .svglite rect, .svglite circle {\n",
       "      fill: none;\n",
       "      stroke: #000000;\n",
       "      stroke-linecap: round;\n",
       "      stroke-linejoin: round;\n",
       "      stroke-miterlimit: 10.00;\n",
       "    }\n",
       "    .svglite text {\n",
       "      white-space: pre;\n",
       "    }\n",
       "  ]]></style>\n",
       "</defs>\n",
       "<rect width=\"100%\" height=\"100%\" style=\"stroke: none; fill: #FFFFFF;\"/>\n",
       "<defs>\n",
       "  <clipPath id=\"cpMC4wMHw0NjAuODB8MC4wMHwzNDUuNjA=\">\n",
       "    <rect x=\"0.00\" y=\"0.00\" width=\"460.80\" height=\"345.60\"/>\n",
       "  </clipPath>\n",
       "</defs>\n",
       "<g clip-path=\"url(#cpMC4wMHw0NjAuODB8MC4wMHwzNDUuNjA=)\">\n",
       "<rect x=\"0.00\" y=\"0.000000000000057\" width=\"460.80\" height=\"345.60\" style=\"stroke-width: 1.07; stroke: #FFFFFF; fill: #FFFFFF;\"/>\n",
       "</g>\n",
       "<defs>\n",
       "  <clipPath id=\"cpMzQuNjV8MzI1LjIyfDIzLjMyfDMxOC4zMg==\">\n",
       "    <rect x=\"34.65\" y=\"23.32\" width=\"290.57\" height=\"295.00\"/>\n",
       "  </clipPath>\n",
       "</defs>\n",
       "<g clip-path=\"url(#cpMzQuNjV8MzI1LjIyfDIzLjMyfDMxOC4zMg==)\">\n",
       "<rect x=\"34.65\" y=\"23.32\" width=\"290.57\" height=\"295.00\" style=\"stroke-width: 1.07; stroke: none; fill: #FFFFFF;\"/>\n",
       "<polyline points=\"34.65,304.91 325.22,304.91 \" style=\"stroke-width: 1.07; stroke: #EBEBEB; stroke-linecap: butt;\"/>\n",
       "<polyline points=\"34.65,243.62 325.22,243.62 \" style=\"stroke-width: 1.07; stroke: #EBEBEB; stroke-linecap: butt;\"/>\n",
       "<polyline points=\"34.65,182.33 325.22,182.33 \" style=\"stroke-width: 1.07; stroke: #EBEBEB; stroke-linecap: butt;\"/>\n",
       "<polyline points=\"34.65,121.04 325.22,121.04 \" style=\"stroke-width: 1.07; stroke: #EBEBEB; stroke-linecap: butt;\"/>\n",
       "<polyline points=\"34.65,59.75 325.22,59.75 \" style=\"stroke-width: 1.07; stroke: #EBEBEB; stroke-linecap: butt;\"/>\n",
       "<polyline points=\"89.13,318.32 89.13,23.32 \" style=\"stroke-width: 1.07; stroke: #EBEBEB; stroke-linecap: butt;\"/>\n",
       "<polyline points=\"179.93,318.32 179.93,23.32 \" style=\"stroke-width: 1.07; stroke: #EBEBEB; stroke-linecap: butt;\"/>\n",
       "<polyline points=\"270.73,318.32 270.73,23.32 \" style=\"stroke-width: 1.07; stroke: #EBEBEB; stroke-linecap: butt;\"/>\n",
       "<rect x=\"139.07\" y=\"220.92\" width=\"81.72\" height=\"83.99\" style=\"stroke-width: 1.07; stroke: none; stroke-linecap: butt; stroke-linejoin: miter; fill: #D55E00;\"/>\n",
       "<rect x=\"229.87\" y=\"36.73\" width=\"81.72\" height=\"268.18\" style=\"stroke-width: 1.07; stroke: none; stroke-linecap: butt; stroke-linejoin: miter; fill: #E69F00;\"/>\n",
       "<rect x=\"48.27\" y=\"154.47\" width=\"81.72\" height=\"150.44\" style=\"stroke-width: 1.07; stroke: none; stroke-linecap: butt; stroke-linejoin: miter; fill: #009E73;\"/>\n",
       "<text x=\"179.93\" y=\"241.66\" text-anchor=\"middle\" style=\"font-size: 14.23px;fill: #FFFFFF; font-family: &quot;DejaVu Sans&quot;;\" textLength=\"45.19px\" lengthAdjust=\"spacingAndGlyphs\">15.5%</text>\n",
       "<text x=\"270.73\" y=\"57.47\" text-anchor=\"middle\" style=\"font-size: 14.23px;fill: #FFFFFF; font-family: &quot;DejaVu Sans&quot;;\" textLength=\"45.19px\" lengthAdjust=\"spacingAndGlyphs\">49.5%</text>\n",
       "<text x=\"89.13\" y=\"175.21\" text-anchor=\"middle\" style=\"font-size: 14.23px;fill: #FFFFFF; font-family: &quot;DejaVu Sans&quot;;\" textLength=\"45.19px\" lengthAdjust=\"spacingAndGlyphs\">27.8%</text>\n",
       "<rect x=\"34.65\" y=\"23.32\" width=\"290.57\" height=\"295.00\" style=\"stroke-width: 1.07; stroke: #333333;\"/>\n",
       "</g>\n",
       "<g clip-path=\"url(#cpMC4wMHw0NjAuODB8MC4wMHwzNDUuNjA=)\">\n",
       "<text x=\"29.72\" y=\"308.12\" text-anchor=\"end\" style=\"font-size: 8.80px;fill: #4D4D4D; font-family: &quot;DejaVu Sans&quot;;\" textLength=\"5.59px\" lengthAdjust=\"spacingAndGlyphs\">0</text>\n",
       "<text x=\"29.72\" y=\"246.83\" text-anchor=\"end\" style=\"font-size: 8.80px;fill: #4D4D4D; font-family: &quot;DejaVu Sans&quot;;\" textLength=\"11.19px\" lengthAdjust=\"spacingAndGlyphs\">10</text>\n",
       "<text x=\"29.72\" y=\"185.54\" text-anchor=\"end\" style=\"font-size: 8.80px;fill: #4D4D4D; font-family: &quot;DejaVu Sans&quot;;\" textLength=\"11.19px\" lengthAdjust=\"spacingAndGlyphs\">20</text>\n",
       "<text x=\"29.72\" y=\"124.25\" text-anchor=\"end\" style=\"font-size: 8.80px;fill: #4D4D4D; font-family: &quot;DejaVu Sans&quot;;\" textLength=\"11.19px\" lengthAdjust=\"spacingAndGlyphs\">30</text>\n",
       "<text x=\"29.72\" y=\"62.96\" text-anchor=\"end\" style=\"font-size: 8.80px;fill: #4D4D4D; font-family: &quot;DejaVu Sans&quot;;\" textLength=\"11.19px\" lengthAdjust=\"spacingAndGlyphs\">40</text>\n",
       "<polyline points=\"31.91,304.91 34.65,304.91 \" style=\"stroke-width: 1.07; stroke: #333333; stroke-linecap: butt;\"/>\n",
       "<polyline points=\"31.91,243.62 34.65,243.62 \" style=\"stroke-width: 1.07; stroke: #333333; stroke-linecap: butt;\"/>\n",
       "<polyline points=\"31.91,182.33 34.65,182.33 \" style=\"stroke-width: 1.07; stroke: #333333; stroke-linecap: butt;\"/>\n",
       "<polyline points=\"31.91,121.04 34.65,121.04 \" style=\"stroke-width: 1.07; stroke: #333333; stroke-linecap: butt;\"/>\n",
       "<polyline points=\"31.91,59.75 34.65,59.75 \" style=\"stroke-width: 1.07; stroke: #333333; stroke-linecap: butt;\"/>\n",
       "<polyline points=\"89.13,321.06 89.13,318.32 \" style=\"stroke-width: 1.07; stroke: #333333; stroke-linecap: butt;\"/>\n",
       "<polyline points=\"179.93,321.06 179.93,318.32 \" style=\"stroke-width: 1.07; stroke: #333333; stroke-linecap: butt;\"/>\n",
       "<polyline points=\"270.73,321.06 270.73,318.32 \" style=\"stroke-width: 1.07; stroke: #333333; stroke-linecap: butt;\"/>\n",
       "<text x=\"89.13\" y=\"336.38\" text-anchor=\"middle\" style=\"font-size: 18.00px;fill: #4D4D4D; font-family: &quot;DejaVu Sans&quot;;\" textLength=\"48.42px\" lengthAdjust=\"spacingAndGlyphs\">pFSM</text>\n",
       "<text x=\"179.93\" y=\"336.38\" text-anchor=\"middle\" style=\"font-size: 18.00px;fill: #4D4D4D; font-family: &quot;DejaVu Sans&quot;;\" textLength=\"42.77px\" lengthAdjust=\"spacingAndGlyphs\">pNIC</text>\n",
       "<text x=\"270.73\" y=\"336.38\" text-anchor=\"middle\" style=\"font-size: 18.00px;fill: #4D4D4D; font-family: &quot;DejaVu Sans&quot;;\" textLength=\"50.93px\" lengthAdjust=\"spacingAndGlyphs\">pNNC</text>\n",
       "<text transform=\"translate(13.50,170.82) rotate(-90)\" text-anchor=\"middle\" style=\"font-size: 11.00px; font-family: &quot;DejaVu Sans&quot;;\" textLength=\"118.94px\" lengthAdjust=\"spacingAndGlyphs\">Proteoforms (x 10^3)</text>\n",
       "<rect x=\"336.17\" y=\"131.53\" width=\"119.15\" height=\"78.59\" style=\"stroke-width: 1.07; stroke: none; fill: #FFFFFF;\"/>\n",
       "<text x=\"341.65\" y=\"146.17\" style=\"font-size: 11.00px; font-family: &quot;DejaVu Sans&quot;;\" textLength=\"108.19px\" lengthAdjust=\"spacingAndGlyphs\">Structural Category</text>\n",
       "<rect x=\"341.65\" y=\"152.80\" width=\"17.28\" height=\"17.28\" style=\"stroke-width: 1.07; stroke: none; fill: #FFFFFF;\"/>\n",
       "<rect x=\"342.36\" y=\"153.50\" width=\"15.86\" height=\"15.86\" style=\"stroke-width: 1.07; stroke: none; stroke-linecap: butt; stroke-linejoin: miter; fill: #009E73;\"/>\n",
       "<rect x=\"341.65\" y=\"170.08\" width=\"17.28\" height=\"17.28\" style=\"stroke-width: 1.07; stroke: none; fill: #FFFFFF;\"/>\n",
       "<rect x=\"342.36\" y=\"170.78\" width=\"15.86\" height=\"15.86\" style=\"stroke-width: 1.07; stroke: none; stroke-linecap: butt; stroke-linejoin: miter; fill: #D55E00;\"/>\n",
       "<rect x=\"341.65\" y=\"187.36\" width=\"17.28\" height=\"17.28\" style=\"stroke-width: 1.07; stroke: none; fill: #FFFFFF;\"/>\n",
       "<rect x=\"342.36\" y=\"188.06\" width=\"15.86\" height=\"15.86\" style=\"stroke-width: 1.07; stroke: none; stroke-linecap: butt; stroke-linejoin: miter; fill: #E69F00;\"/>\n",
       "<text x=\"364.41\" y=\"164.64\" style=\"font-size: 8.80px; font-family: &quot;DejaVu Sans&quot;;\" textLength=\"23.67px\" lengthAdjust=\"spacingAndGlyphs\">pFSM</text>\n",
       "<text x=\"364.41\" y=\"181.92\" style=\"font-size: 8.80px; font-family: &quot;DejaVu Sans&quot;;\" textLength=\"20.90px\" lengthAdjust=\"spacingAndGlyphs\">pNIC</text>\n",
       "<text x=\"364.41\" y=\"199.20\" style=\"font-size: 8.80px; font-family: &quot;DejaVu Sans&quot;;\" textLength=\"24.89px\" lengthAdjust=\"spacingAndGlyphs\">pNNC</text>\n",
       "<text x=\"34.65\" y=\"15.10\" style=\"font-size: 13.20px; font-family: &quot;DejaVu Sans&quot;;\" textLength=\"221.52px\" lengthAdjust=\"spacingAndGlyphs\">Proteoforms Identified by Novelty</text>\n",
       "</g>\n",
       "</svg>"
      ],
      "text/plain": [
       "<IPython.core.display.SVG object>"
      ]
     },
     "metadata": {},
     "output_type": "display_data"
    }
   ],
   "source": [
    "plotting.plot_protein_class_hist(protein_classification, orfanage_gtf, \"figures/figure_2/protein_class.pdf\")"
   ]
  },
  {
   "cell_type": "markdown",
   "metadata": {},
   "source": [
    "# Peptides"
   ]
  },
  {
   "cell_type": "code",
   "execution_count": 4,
   "metadata": {},
   "outputs": [],
   "source": [
    "annot_peptides_hybrid = read_gtf(\"nextflow_results/V47/orfanage/annot_peptides_hybrid.gtf\", attributes=[\"gene_name\", \"transcript_id\", \"detected\", \"type\", \"novelty\"])"
   ]
  },
  {
   "cell_type": "code",
   "execution_count": 8,
   "metadata": {},
   "outputs": [
    {
     "data": {
      "text/html": [
       "<div><style>\n",
       ".dataframe > thead > tr,\n",
       ".dataframe > tbody > tr {\n",
       "  text-align: right;\n",
       "  white-space: pre-wrap;\n",
       "}\n",
       "</style>\n",
       "<small>shape: (92_197, 14)</small><table border=\"1\" class=\"dataframe\"><thead><tr><th>seqname</th><th>source</th><th>feature</th><th>start</th><th>end</th><th>score</th><th>strand</th><th>frame</th><th>attributes</th><th>gene_name</th><th>transcript_id</th><th>detected</th><th>type</th><th>novelty</th></tr><tr><td>str</td><td>str</td><td>str</td><td>i64</td><td>i64</td><td>str</td><td>str</td><td>str</td><td>str</td><td>str</td><td>str</td><td>str</td><td>str</td><td>str</td></tr></thead><tbody><tr><td>&quot;chr8&quot;</td><td>&quot;hg38_canon&quot;</td><td>&quot;exon&quot;</td><td>73981457</td><td>73981483</td><td>&quot;NA&quot;</td><td>&quot;+&quot;</td><td>&quot;NA&quot;</td><td>&quot;gene_id &quot;file3_26477_2_1&quot;; tra…</td><td>&quot;TMEM70&quot;</td><td>&quot;K.HVFTTFYAK.T(TMEM70)&quot;</td><td>&quot;True&quot;</td><td>&quot;mono-exonic&quot;</td><td>&quot;known&quot;</td></tr><tr><td>&quot;chr1&quot;</td><td>&quot;hg38_canon&quot;</td><td>&quot;exon&quot;</td><td>202964612</td><td>202964636</td><td>&quot;NA&quot;</td><td>&quot;-&quot;</td><td>&quot;NA&quot;</td><td>&quot;gene_id &quot;file11_64121_3_1&quot;; tr…</td><td>&quot;CYB5R1&quot;</td><td>&quot;K.LGMIAGGTGITPMLQLIR.A(CYB5R1)&quot;</td><td>&quot;True&quot;</td><td>&quot;splice-junction&quot;</td><td>&quot;known&quot;</td></tr><tr><td>&quot;chr11&quot;</td><td>&quot;hg38_canon&quot;</td><td>&quot;exon&quot;</td><td>93790610</td><td>93790642</td><td>&quot;NA&quot;</td><td>&quot;+&quot;</td><td>&quot;NA&quot;</td><td>&quot;gene_id &quot;file1_60264_2_1&quot;; tra…</td><td>&quot;ENSG00000284057&quot;</td><td>&quot;K.SLAGAAQILLK.G(ENSG0000028405…</td><td>&quot;True&quot;</td><td>&quot;mono-exonic&quot;</td><td>&quot;known&quot;</td></tr><tr><td>&quot;chr1&quot;</td><td>&quot;hg38_canon&quot;</td><td>&quot;exon&quot;</td><td>42683444</td><td>42683466</td><td>&quot;NA&quot;</td><td>&quot;+&quot;</td><td>&quot;NA&quot;</td><td>&quot;gene_id &quot;file3_13858_3_1&quot;; tra…</td><td>&quot;YBX1&quot;</td><td>&quot;R.NGYGFINRNDTK.E(YBX1)&quot;</td><td>&quot;True&quot;</td><td>&quot;splice-junction&quot;</td><td>&quot;known&quot;</td></tr><tr><td>&quot;chrX&quot;</td><td>&quot;hg38_canon&quot;</td><td>&quot;exon&quot;</td><td>38369820</td><td>38369843</td><td>&quot;NA&quot;</td><td>&quot;+&quot;</td><td>&quot;NA&quot;</td><td>&quot;gene_id &quot;file8_8496_3_2&quot;; tran…</td><td>&quot;OTC_chrX&quot;</td><td>&quot;K.SLGMIFEK.R(OTC_chrX)&quot;</td><td>&quot;True&quot;</td><td>&quot;mono-exonic&quot;</td><td>&quot;known&quot;</td></tr><tr><td>&hellip;</td><td>&hellip;</td><td>&hellip;</td><td>&hellip;</td><td>&hellip;</td><td>&hellip;</td><td>&hellip;</td><td>&hellip;</td><td>&hellip;</td><td>&hellip;</td><td>&hellip;</td><td>&hellip;</td><td>&hellip;</td><td>&hellip;</td></tr><tr><td>&quot;chr8&quot;</td><td>&quot;hg38_canon&quot;</td><td>&quot;exon&quot;</td><td>96256975</td><td>96257007</td><td>&quot;NA&quot;</td><td>&quot;-&quot;</td><td>&quot;NA&quot;</td><td>&quot;gene_id &quot;file3_11779_3_1&quot;; tra…</td><td>&quot;MTERF3_UQCRB&quot;</td><td>&quot;R.DYVDHSETLQK.L(MTERF3_UQCRB)&quot;</td><td>&quot;True&quot;</td><td>&quot;mono-exonic&quot;</td><td>&quot;known&quot;</td></tr><tr><td>&quot;chr1&quot;</td><td>&quot;hg38_canon&quot;</td><td>&quot;exon&quot;</td><td>155917523</td><td>155917549</td><td>&quot;NA&quot;</td><td>&quot;-&quot;</td><td>&quot;NA&quot;</td><td>&quot;gene_id &quot;file11_19250_2_1&quot;; tr…</td><td>&quot;KHDC4&quot;</td><td>&quot;R.FTEELPDER.E(KHDC4)&quot;</td><td>&quot;True&quot;</td><td>&quot;mono-exonic&quot;</td><td>&quot;known&quot;</td></tr><tr><td>&quot;chr14&quot;</td><td>&quot;hg38_canon&quot;</td><td>&quot;exon&quot;</td><td>91283432</td><td>91283461</td><td>&quot;NA&quot;</td><td>&quot;-&quot;</td><td>&quot;NA&quot;</td><td>&quot;gene_id &quot;file8_5738_2_1&quot;; tran…</td><td>&quot;CCDC88C&quot;</td><td>&quot;R.TDASTDLAMR.S(CCDC88C)&quot;</td><td>&quot;True&quot;</td><td>&quot;mono-exonic&quot;</td><td>&quot;known&quot;</td></tr><tr><td>&quot;chr12&quot;</td><td>&quot;hg38_canon&quot;</td><td>&quot;exon&quot;</td><td>122982479</td><td>122982514</td><td>&quot;NA&quot;</td><td>&quot;+&quot;</td><td>&quot;NA&quot;</td><td>&quot;gene_id &quot;file3_50047_2_1&quot;; tra…</td><td>&quot;ARL6IP4&quot;</td><td>&quot;K.GDGEVLEEIVTK.E(ARL6IP4)&quot;</td><td>&quot;True&quot;</td><td>&quot;mono-exonic&quot;</td><td>&quot;known&quot;</td></tr><tr><td>&quot;chr2&quot;</td><td>&quot;hg38_canon&quot;</td><td>&quot;exon&quot;</td><td>110669495</td><td>110669548</td><td>&quot;NA&quot;</td><td>&quot;-&quot;</td><td>&quot;NA&quot;</td><td>&quot;gene_id &quot;file5_36129_3_1&quot;; tra…</td><td>&quot;BUB1&quot;</td><td>&quot;R.TSEPLHNVQVLNQMITSK.S(BUB1)&quot;</td><td>&quot;True&quot;</td><td>&quot;mono-exonic&quot;</td><td>&quot;known&quot;</td></tr></tbody></table></div>"
      ],
      "text/plain": [
       "shape: (92_197, 14)\n",
       "┌─────────┬────────────┬─────────┬───────────┬───┬──────────────┬──────────┬─────────────┬─────────┐\n",
       "│ seqname ┆ source     ┆ feature ┆ start     ┆ … ┆ transcript_i ┆ detected ┆ type        ┆ novelty │\n",
       "│ ---     ┆ ---        ┆ ---     ┆ ---       ┆   ┆ d            ┆ ---      ┆ ---         ┆ ---     │\n",
       "│ str     ┆ str        ┆ str     ┆ i64       ┆   ┆ ---          ┆ str      ┆ str         ┆ str     │\n",
       "│         ┆            ┆         ┆           ┆   ┆ str          ┆          ┆             ┆         │\n",
       "╞═════════╪════════════╪═════════╪═══════════╪═══╪══════════════╪══════════╪═════════════╪═════════╡\n",
       "│ chr8    ┆ hg38_canon ┆ exon    ┆ 73981457  ┆ … ┆ K.HVFTTFYAK. ┆ True     ┆ mono-exonic ┆ known   │\n",
       "│         ┆            ┆         ┆           ┆   ┆ T(TMEM70)    ┆          ┆             ┆         │\n",
       "│ chr1    ┆ hg38_canon ┆ exon    ┆ 202964612 ┆ … ┆ K.LGMIAGGTGI ┆ True     ┆ splice-junc ┆ known   │\n",
       "│         ┆            ┆         ┆           ┆   ┆ TPMLQLIR.A(C ┆          ┆ tion        ┆         │\n",
       "│         ┆            ┆         ┆           ┆   ┆ YB5R1)       ┆          ┆             ┆         │\n",
       "│ chr11   ┆ hg38_canon ┆ exon    ┆ 93790610  ┆ … ┆ K.SLAGAAQILL ┆ True     ┆ mono-exonic ┆ known   │\n",
       "│         ┆            ┆         ┆           ┆   ┆ K.G(ENSG0000 ┆          ┆             ┆         │\n",
       "│         ┆            ┆         ┆           ┆   ┆ 028405…      ┆          ┆             ┆         │\n",
       "│ chr1    ┆ hg38_canon ┆ exon    ┆ 42683444  ┆ … ┆ R.NGYGFINRND ┆ True     ┆ splice-junc ┆ known   │\n",
       "│         ┆            ┆         ┆           ┆   ┆ TK.E(YBX1)   ┆          ┆ tion        ┆         │\n",
       "│ chrX    ┆ hg38_canon ┆ exon    ┆ 38369820  ┆ … ┆ K.SLGMIFEK.R ┆ True     ┆ mono-exonic ┆ known   │\n",
       "│         ┆            ┆         ┆           ┆   ┆ (OTC_chrX)   ┆          ┆             ┆         │\n",
       "│ …       ┆ …          ┆ …       ┆ …         ┆ … ┆ …            ┆ …        ┆ …           ┆ …       │\n",
       "│ chr8    ┆ hg38_canon ┆ exon    ┆ 96256975  ┆ … ┆ R.DYVDHSETLQ ┆ True     ┆ mono-exonic ┆ known   │\n",
       "│         ┆            ┆         ┆           ┆   ┆ K.L(MTERF3_U ┆          ┆             ┆         │\n",
       "│         ┆            ┆         ┆           ┆   ┆ QCRB)        ┆          ┆             ┆         │\n",
       "│ chr1    ┆ hg38_canon ┆ exon    ┆ 155917523 ┆ … ┆ R.FTEELPDER. ┆ True     ┆ mono-exonic ┆ known   │\n",
       "│         ┆            ┆         ┆           ┆   ┆ E(KHDC4)     ┆          ┆             ┆         │\n",
       "│ chr14   ┆ hg38_canon ┆ exon    ┆ 91283432  ┆ … ┆ R.TDASTDLAMR ┆ True     ┆ mono-exonic ┆ known   │\n",
       "│         ┆            ┆         ┆           ┆   ┆ .S(CCDC88C)  ┆          ┆             ┆         │\n",
       "│ chr12   ┆ hg38_canon ┆ exon    ┆ 122982479 ┆ … ┆ K.GDGEVLEEIV ┆ True     ┆ mono-exonic ┆ known   │\n",
       "│         ┆            ┆         ┆           ┆   ┆ TK.E(ARL6IP4 ┆          ┆             ┆         │\n",
       "│         ┆            ┆         ┆           ┆   ┆ )            ┆          ┆             ┆         │\n",
       "│ chr2    ┆ hg38_canon ┆ exon    ┆ 110669495 ┆ … ┆ R.TSEPLHNVQV ┆ True     ┆ mono-exonic ┆ known   │\n",
       "│         ┆            ┆         ┆           ┆   ┆ LNQMITSK.S(B ┆          ┆             ┆         │\n",
       "│         ┆            ┆         ┆           ┆   ┆ UB1)         ┆          ┆             ┆         │\n",
       "└─────────┴────────────┴─────────┴───────────┴───┴──────────────┴──────────┴─────────────┴─────────┘"
      ]
     },
     "execution_count": 8,
     "metadata": {},
     "output_type": "execute_result"
    }
   ],
   "source": [
    "annot_peptides_hybrid.unique(\"transcript_id\")\\\n",
    "    .filter(\n",
    "        pl.col(\"detected\") == \"True\"\n",
    "    )"
   ]
  },
  {
   "cell_type": "code",
   "execution_count": 9,
   "metadata": {},
   "outputs": [
    {
     "data": {
      "text/html": [
       "<div><style>\n",
       ".dataframe > thead > tr,\n",
       ".dataframe > tbody > tr {\n",
       "  text-align: right;\n",
       "  white-space: pre-wrap;\n",
       "}\n",
       "</style>\n",
       "<small>shape: (696_890, 14)</small><table border=\"1\" class=\"dataframe\"><thead><tr><th>seqname</th><th>source</th><th>feature</th><th>start</th><th>end</th><th>score</th><th>strand</th><th>frame</th><th>attributes</th><th>gene_name</th><th>transcript_id</th><th>detected</th><th>type</th><th>novelty</th></tr><tr><td>str</td><td>str</td><td>str</td><td>i64</td><td>i64</td><td>str</td><td>str</td><td>str</td><td>str</td><td>str</td><td>str</td><td>str</td><td>str</td><td>str</td></tr></thead><tbody><tr><td>&quot;chr10&quot;</td><td>&quot;hg38_canon&quot;</td><td>&quot;exon&quot;</td><td>11501101</td><td>11501130</td><td>&quot;NA&quot;</td><td>&quot;-&quot;</td><td>&quot;NA&quot;</td><td>&quot;gene_id &quot;file3_38514_4_5&quot;; tra…</td><td>&quot;USP6NL&quot;</td><td>&quot;K.MKEETRDLYSK.L(USP6NL)&quot;</td><td>&quot;False&quot;</td><td>&quot;splice-junction&quot;</td><td>&quot;known&quot;</td></tr><tr><td>&quot;chr10&quot;</td><td>&quot;hg38_canon&quot;</td><td>&quot;exon&quot;</td><td>28535722</td><td>28535757</td><td>&quot;NA&quot;</td><td>&quot;+&quot;</td><td>&quot;NA&quot;</td><td>&quot;gene_id &quot;file12_78170_3_2&quot;; tr…</td><td>&quot;WAC&quot;</td><td>&quot;K.MCILTELERGMVGPVTLHKK.I(WAC)&quot;</td><td>&quot;False&quot;</td><td>&quot;splice-junction&quot;</td><td>&quot;known&quot;</td></tr><tr><td>&quot;chr20&quot;</td><td>&quot;hg38_canon&quot;</td><td>&quot;exon&quot;</td><td>35411940</td><td>35411945</td><td>&quot;NA&quot;</td><td>&quot;-&quot;</td><td>&quot;NA&quot;</td><td>&quot;gene_id &quot;file5_70056_4_3&quot;; tra…</td><td>&quot;UQCC1&quot;</td><td>&quot;R.VLRNQTSISQWVPVCSRLIPVSPTQGQG…</td><td>&quot;False&quot;</td><td>&quot;splice-junction&quot;</td><td>&quot;known&quot;</td></tr><tr><td>&quot;chr16&quot;</td><td>&quot;hg38_canon&quot;</td><td>&quot;exon&quot;</td><td>74626421</td><td>74626531</td><td>&quot;NA&quot;</td><td>&quot;-&quot;</td><td>&quot;NA&quot;</td><td>&quot;gene_id &quot;file2_58673_5_4&quot;; tra…</td><td>&quot;RFWD3&quot;</td><td>&quot;R.SVLMEMSYRLDDTGNPICSCQPVHTFFG…</td><td>&quot;False&quot;</td><td>&quot;mono-exonic&quot;</td><td>&quot;known&quot;</td></tr><tr><td>&quot;chr4&quot;</td><td>&quot;hg38_canon&quot;</td><td>&quot;exon&quot;</td><td>121951466</td><td>121951512</td><td>&quot;NA&quot;</td><td>&quot;-&quot;</td><td>&quot;NA&quot;</td><td>&quot;gene_id &quot;file6_55439_3_4&quot;; tra…</td><td>&quot;TRPC3&quot;</td><td>&quot;R.EPHGYCPPPFSHGPDLSMEGSPSLR.R(…</td><td>&quot;False&quot;</td><td>&quot;splice-junction&quot;</td><td>&quot;known&quot;</td></tr><tr><td>&hellip;</td><td>&hellip;</td><td>&hellip;</td><td>&hellip;</td><td>&hellip;</td><td>&hellip;</td><td>&hellip;</td><td>&hellip;</td><td>&hellip;</td><td>&hellip;</td><td>&hellip;</td><td>&hellip;</td><td>&hellip;</td><td>&hellip;</td></tr><tr><td>&quot;chr6&quot;</td><td>&quot;hg38_canon&quot;</td><td>&quot;exon&quot;</td><td>167925023</td><td>167925055</td><td>&quot;NA&quot;</td><td>&quot;+&quot;</td><td>&quot;NA&quot;</td><td>&quot;gene_id &quot;file11_69664_3_5&quot;; tr…</td><td>&quot;AFDN&quot;</td><td>&quot;K.EPEIITVTLKK.Q(AFDN)&quot;</td><td>&quot;False&quot;</td><td>&quot;mono-exonic&quot;</td><td>&quot;known&quot;</td></tr><tr><td>&quot;chr4&quot;</td><td>&quot;hg38_canon&quot;</td><td>&quot;exon&quot;</td><td>70762572</td><td>70762616</td><td>&quot;NA&quot;</td><td>&quot;+&quot;</td><td>&quot;NA&quot;</td><td>&quot;gene_id &quot;file5_6437_4_1&quot;; tran…</td><td>&quot;RUFY3_UTP3&quot;</td><td>&quot;K.LSIKGLIESALNLGR.T(RUFY3_UTP3…</td><td>&quot;False&quot;</td><td>&quot;mono-exonic&quot;</td><td>&quot;known&quot;</td></tr><tr><td>&quot;chr17&quot;</td><td>&quot;hg38_canon&quot;</td><td>&quot;exon&quot;</td><td>11651087</td><td>11651110</td><td>&quot;NA&quot;</td><td>&quot;+&quot;</td><td>&quot;NA&quot;</td><td>&quot;gene_id &quot;file10_26911_2_2&quot;; tr…</td><td>&quot;DNAH9&quot;</td><td>&quot;K.EMSYLEPR.E(DNAH9)&quot;</td><td>&quot;False&quot;</td><td>&quot;mono-exonic&quot;</td><td>&quot;known&quot;</td></tr><tr><td>&quot;chr18&quot;</td><td>&quot;hg38_canon&quot;</td><td>&quot;exon&quot;</td><td>59269436</td><td>59269456</td><td>&quot;NA&quot;</td><td>&quot;-&quot;</td><td>&quot;NA&quot;</td><td>&quot;gene_id &quot;file3_15816_2_4&quot;; tra…</td><td>&quot;RAX&quot;</td><td>&quot;K.LEVSSMK.L(RAX)&quot;</td><td>&quot;False&quot;</td><td>&quot;mono-exonic&quot;</td><td>&quot;known&quot;</td></tr><tr><td>&quot;chr20&quot;</td><td>&quot;hg38_canon&quot;</td><td>&quot;exon&quot;</td><td>62303650</td><td>62303694</td><td>&quot;NA&quot;</td><td>&quot;+&quot;</td><td>&quot;NA&quot;</td><td>&quot;gene_id &quot;file4_57035_4_1&quot;; tra…</td><td>&quot;ADRM1&quot;</td><td>&quot;R.AGKMSLKGTTVTPDK.R(ADRM1)&quot;</td><td>&quot;False&quot;</td><td>&quot;mono-exonic&quot;</td><td>&quot;known&quot;</td></tr></tbody></table></div>"
      ],
      "text/plain": [
       "shape: (696_890, 14)\n",
       "┌─────────┬────────────┬─────────┬───────────┬───┬──────────────┬──────────┬─────────────┬─────────┐\n",
       "│ seqname ┆ source     ┆ feature ┆ start     ┆ … ┆ transcript_i ┆ detected ┆ type        ┆ novelty │\n",
       "│ ---     ┆ ---        ┆ ---     ┆ ---       ┆   ┆ d            ┆ ---      ┆ ---         ┆ ---     │\n",
       "│ str     ┆ str        ┆ str     ┆ i64       ┆   ┆ ---          ┆ str      ┆ str         ┆ str     │\n",
       "│         ┆            ┆         ┆           ┆   ┆ str          ┆          ┆             ┆         │\n",
       "╞═════════╪════════════╪═════════╪═══════════╪═══╪══════════════╪══════════╪═════════════╪═════════╡\n",
       "│ chr10   ┆ hg38_canon ┆ exon    ┆ 11501101  ┆ … ┆ K.MKEETRDLYS ┆ False    ┆ splice-junc ┆ known   │\n",
       "│         ┆            ┆         ┆           ┆   ┆ K.L(USP6NL)  ┆          ┆ tion        ┆         │\n",
       "│ chr10   ┆ hg38_canon ┆ exon    ┆ 28535722  ┆ … ┆ K.MCILTELERG ┆ False    ┆ splice-junc ┆ known   │\n",
       "│         ┆            ┆         ┆           ┆   ┆ MVGPVTLHKK.I ┆          ┆ tion        ┆         │\n",
       "│         ┆            ┆         ┆           ┆   ┆ (WAC)        ┆          ┆             ┆         │\n",
       "│ chr20   ┆ hg38_canon ┆ exon    ┆ 35411940  ┆ … ┆ R.VLRNQTSISQ ┆ False    ┆ splice-junc ┆ known   │\n",
       "│         ┆            ┆         ┆           ┆   ┆ WVPVCSRLIPVS ┆          ┆ tion        ┆         │\n",
       "│         ┆            ┆         ┆           ┆   ┆ PTQGQG…      ┆          ┆             ┆         │\n",
       "│ chr16   ┆ hg38_canon ┆ exon    ┆ 74626421  ┆ … ┆ R.SVLMEMSYRL ┆ False    ┆ mono-exonic ┆ known   │\n",
       "│         ┆            ┆         ┆           ┆   ┆ DDTGNPICSCQP ┆          ┆             ┆         │\n",
       "│         ┆            ┆         ┆           ┆   ┆ VHTFFG…      ┆          ┆             ┆         │\n",
       "│ chr4    ┆ hg38_canon ┆ exon    ┆ 121951466 ┆ … ┆ R.EPHGYCPPPF ┆ False    ┆ splice-junc ┆ known   │\n",
       "│         ┆            ┆         ┆           ┆   ┆ SHGPDLSMEGSP ┆          ┆ tion        ┆         │\n",
       "│         ┆            ┆         ┆           ┆   ┆ SLR.R(…      ┆          ┆             ┆         │\n",
       "│ …       ┆ …          ┆ …       ┆ …         ┆ … ┆ …            ┆ …        ┆ …           ┆ …       │\n",
       "│ chr6    ┆ hg38_canon ┆ exon    ┆ 167925023 ┆ … ┆ K.EPEIITVTLK ┆ False    ┆ mono-exonic ┆ known   │\n",
       "│         ┆            ┆         ┆           ┆   ┆ K.Q(AFDN)    ┆          ┆             ┆         │\n",
       "│ chr4    ┆ hg38_canon ┆ exon    ┆ 70762572  ┆ … ┆ K.LSIKGLIESA ┆ False    ┆ mono-exonic ┆ known   │\n",
       "│         ┆            ┆         ┆           ┆   ┆ LNLGR.T(RUFY ┆          ┆             ┆         │\n",
       "│         ┆            ┆         ┆           ┆   ┆ 3_UTP3…      ┆          ┆             ┆         │\n",
       "│ chr17   ┆ hg38_canon ┆ exon    ┆ 11651087  ┆ … ┆ K.EMSYLEPR.E ┆ False    ┆ mono-exonic ┆ known   │\n",
       "│         ┆            ┆         ┆           ┆   ┆ (DNAH9)      ┆          ┆             ┆         │\n",
       "│ chr18   ┆ hg38_canon ┆ exon    ┆ 59269436  ┆ … ┆ K.LEVSSMK.L( ┆ False    ┆ mono-exonic ┆ known   │\n",
       "│         ┆            ┆         ┆           ┆   ┆ RAX)         ┆          ┆             ┆         │\n",
       "│ chr20   ┆ hg38_canon ┆ exon    ┆ 62303650  ┆ … ┆ R.AGKMSLKGTT ┆ False    ┆ mono-exonic ┆ known   │\n",
       "│         ┆            ┆         ┆           ┆   ┆ VTPDK.R(ADRM ┆          ┆             ┆         │\n",
       "│         ┆            ┆         ┆           ┆   ┆ 1)           ┆          ┆             ┆         │\n",
       "└─────────┴────────────┴─────────┴───────────┴───┴──────────────┴──────────┴─────────────┴─────────┘"
      ]
     },
     "execution_count": 9,
     "metadata": {},
     "output_type": "execute_result"
    }
   ],
   "source": [
    "annot_peptides_hybrid.unique(\"transcript_id\")\\\n",
    "    .filter(\n",
    "        pl.col(\"detected\") == \"False\"\n",
    "    )"
   ]
  },
  {
   "cell_type": "code",
   "execution_count": 18,
   "metadata": {},
   "outputs": [
    {
     "data": {
      "text/plain": [
       "Text(0.5, 0, '')"
      ]
     },
     "execution_count": 18,
     "metadata": {},
     "output_type": "execute_result"
    },
    {
     "data": {
      "image/png": "[encoded data removed]",
      "text/plain": [
       "<Figure size 640x480 with 1 Axes>"
      ]
     },
     "metadata": {},
     "output_type": "display_data"
    }
   ],
   "source": [
    "known = annot_peptides_hybrid\\\n",
    "    .filter(\n",
    "        pl.col(\"novelty\") == \"known\"\n",
    "    )\\\n",
    "    .group_by(\"detected\")\\\n",
    "    .len()\\\n",
    "    .with_columns(\n",
    "        (pl.col(\"len\") / pl.sum(\"len\")).alias(\"percent\")*100,\n",
    "        type = pl.lit(\"known\")\n",
    "    )\\\n",
    "    .filter(\n",
    "        pl.col(\"detected\") == \"True\"\n",
    "    )\n",
    "\n",
    "novel = annot_peptides_hybrid\\\n",
    "    .filter(\n",
    "        pl.col(\"novelty\") == \"novel\"\n",
    "    )\\\n",
    "    .group_by(\"detected\")\\\n",
    "    .len()\\\n",
    "    .with_columns(\n",
    "        (pl.col(\"len\") / pl.sum(\"len\")).alias(\"percent\")*100,\n",
    "        type = pl.lit(\"novel\")\n",
    "    )\\\n",
    "    .filter(\n",
    "        pl.col(\"detected\") == \"True\"\n",
    "    )\n",
    "\n",
    "df = pl.concat([known, novel], how = \"vertical\")\n",
    "\n",
    "fig, ax = plt.subplots()\n",
    "sns.barplot(data=df.to_pandas(), x=\"type\", y=\"percent\", ax = ax)\n",
    "ax.set_ylabel(\"\")\n",
    "ax.set_xlabel(\"\")"
   ]
  },
  {
   "cell_type": "markdown",
   "metadata": {},
   "source": [
    "# Percentage of protein isoforms validated by peptides in each category"
   ]
  },
  {
   "cell_type": "code",
   "execution_count": 1,
   "metadata": {},
   "outputs": [
    {
     "ename": "NameError",
     "evalue": "name 'collapse_isoforms_to_proteoforms' is not defined",
     "output_type": "error",
     "traceback": [
      "\u001b[0;31m---------------------------------------------------------------------------\u001b[0m",
      "\u001b[0;31mNameError\u001b[0m                                 Traceback (most recent call last)",
      "Cell \u001b[0;32mIn[1], line 1\u001b[0m\n\u001b[0;32m----> 1\u001b[0m base_isoform \u001b[38;5;241m=\u001b[39m \u001b[43mcollapse_isoforms_to_proteoforms\u001b[49m(orfanage_gtf)\n\u001b[1;32m      3\u001b[0m classification \u001b[38;5;241m=\u001b[39m pl\u001b[38;5;241m.\u001b[39mread_parquet(\u001b[38;5;124m\"\u001b[39m\u001b[38;5;124mnextflow_results/V47/final_classification.parquet\u001b[39m\u001b[38;5;124m\"\u001b[39m)\\\n\u001b[1;32m      4\u001b[0m     \u001b[38;5;241m.\u001b[39mselect([\u001b[38;5;124m\"\u001b[39m\u001b[38;5;124misoform\u001b[39m\u001b[38;5;124m\"\u001b[39m, \u001b[38;5;124m\"\u001b[39m\u001b[38;5;124mstructural_category\u001b[39m\u001b[38;5;124m\"\u001b[39m, \u001b[38;5;124m\"\u001b[39m\u001b[38;5;124mcontaining_novel_spl\u001b[39m\u001b[38;5;124m\"\u001b[39m])\\\n\u001b[1;32m      5\u001b[0m     \u001b[38;5;241m.\u001b[39mjoin(\n\u001b[0;32m   (...)\u001b[0m\n\u001b[1;32m     10\u001b[0m     \u001b[38;5;241m.\u001b[39mdrop_nulls()\\\n\u001b[1;32m     11\u001b[0m     \u001b[38;5;241m.\u001b[39munique(\u001b[38;5;124m\"\u001b[39m\u001b[38;5;124mbase_isoform\u001b[39m\u001b[38;5;124m\"\u001b[39m)\n\u001b[1;32m     13\u001b[0m protein_classification \u001b[38;5;241m=\u001b[39mpl\u001b[38;5;241m.\u001b[39mread_csv(\u001b[38;5;124m\"\u001b[39m\u001b[38;5;124mnextflow_results/V47/orfanage/SFARI.protein_classification.tsv\u001b[39m\u001b[38;5;124m\"\u001b[39m, separator \u001b[38;5;241m=\u001b[39m \u001b[38;5;124m\"\u001b[39m\u001b[38;5;130;01m\\t\u001b[39;00m\u001b[38;5;124m\"\u001b[39m)\n",
      "\u001b[0;31mNameError\u001b[0m: name 'collapse_isoforms_to_proteoforms' is not defined"
     ]
    }
   ],
   "source": [
    "base_isoform = collapse_isoforms_to_proteoforms(orfanage_gtf)\n",
    "\n",
    "classification = pl.read_parquet(\"nextflow_results/V47/final_classification.parquet\")\\\n",
    "    .select([\"isoform\", \"structural_category\", \"containing_novel_spl\"])\\\n",
    "    .join(\n",
    "        base_isoform.rename({\"transcript_id\": \"isoform\"}),\n",
    "        on = \"isoform\",\n",
    "        how = \"left\"\n",
    "    )\\\n",
    "    .drop_nulls()\\\n",
    "    .unique(\"base_isoform\")\n",
    "\n",
    "protein_classification =pl.read_csv(\"nextflow_results/V47/orfanage/SFARI.protein_classification.tsv\", separator = \"\\t\")\n",
    "structural_category_labels = {\"full-splice_match\": \"FSM\", \"incomplete-splice_match\": \"ISM\", \"novel_in_catalog\": \"NIC\", \"novel_not_in_catalog\": \"NNC\", \"Other\": \"Other\"}\n",
    "classification = classification\\\n",
    "    .with_columns(\n",
    "        structural_category2 = pl.when(pl.col(\"structural_category\").is_in([\"full-splice_match\", \"incomplete-splice_match\", \"novel_in_catalog\", \"novel_not_in_catalog\"]))\\\n",
    "            .then(pl.col(\"structural_category\"))\\\n",
    "            .otherwise(pl.lit(\"Other\"))\n",
    "    )\\\n",
    "    .with_columns(\n",
    "        structural_category2 = pl.col(\"structural_category2\").map_elements(lambda x: structural_category_labels[x])\n",
    "    )\\\n",
    "    .join(\n",
    "        protein_classification[\"pb\", \"protein_classification_base\"].rename({\"pb\": \"isoform\"}),\n",
    "        on = \"isoform\",\n",
    "        how = \"left\"\n",
    "    )\\\n",
    "    .drop_nulls()"
   ]
  },
  {
   "cell_type": "code",
   "execution_count": 56,
   "metadata": {},
   "outputs": [
    {
     "name": "stdout",
     "output_type": "stream",
     "text": [
      "null device \n",
      "          1 \n"
     ]
    },
    {
     "data": {
      "image/svg+xml": [
       "<svg xmlns=\"http://www.w3.org/2000/svg\" xmlns:xlink=\"http://www.w3.org/1999/xlink\" class=\"svglite\" width=\"460.80pt\" height=\"345.60pt\" viewBox=\"0 0 460.80 345.60\">\n",
       "<defs>\n",
       "  <style type=\"text/css\"><![CDATA[\n",
       "    .svglite line, .svglite polyline, .svglite polygon, .svglite path, .svglite rect, .svglite circle {\n",
       "      fill: none;\n",
       "      stroke: #000000;\n",
       "      stroke-linecap: round;\n",
       "      stroke-linejoin: round;\n",
       "      stroke-miterlimit: 10.00;\n",
       "    }\n",
       "    .svglite text {\n",
       "      white-space: pre;\n",
       "    }\n",
       "  ]]></style>\n",
       "</defs>\n",
       "<rect width=\"100%\" height=\"100%\" style=\"stroke: none; fill: #FFFFFF;\"/>\n",
       "<defs>\n",
       "  <clipPath id=\"cpMC4wMHw0NjAuODB8MC4wMHwzNDUuNjA=\">\n",
       "    <rect x=\"0.00\" y=\"0.00\" width=\"460.80\" height=\"345.60\"/>\n",
       "  </clipPath>\n",
       "</defs>\n",
       "<g clip-path=\"url(#cpMC4wMHw0NjAuODB8MC4wMHwzNDUuNjA=)\">\n",
       "<rect x=\"0.000000000000064\" y=\"0.00\" width=\"460.80\" height=\"345.60\" style=\"stroke-width: 1.07; stroke: #FFFFFF; fill: #FFFFFF;\"/>\n",
       "</g>\n",
       "<defs>\n",
       "  <clipPath id=\"cpNTAuMTl8MzE4Ljc0fDUuNDh8MjM1LjQ2\">\n",
       "    <rect x=\"50.19\" y=\"5.48\" width=\"268.55\" height=\"229.98\"/>\n",
       "  </clipPath>\n",
       "</defs>\n",
       "<g clip-path=\"url(#cpNTAuMTl8MzE4Ljc0fDUuNDh8MjM1LjQ2)\">\n",
       "<rect x=\"50.19\" y=\"5.48\" width=\"268.55\" height=\"229.98\" style=\"stroke-width: 1.07; stroke: none; fill: #EBEBEB;\"/>\n",
       "<polyline points=\"50.19,198.87 318.74,198.87 \" style=\"stroke-width: 0.53; stroke: #FFFFFF; stroke-linecap: butt;\"/>\n",
       "<polyline points=\"50.19,146.60 318.74,146.60 \" style=\"stroke-width: 0.53; stroke: #FFFFFF; stroke-linecap: butt;\"/>\n",
       "<polyline points=\"50.19,94.33 318.74,94.33 \" style=\"stroke-width: 0.53; stroke: #FFFFFF; stroke-linecap: butt;\"/>\n",
       "<polyline points=\"50.19,42.07 318.74,42.07 \" style=\"stroke-width: 0.53; stroke: #FFFFFF; stroke-linecap: butt;\"/>\n",
       "<polyline points=\"50.19,225.00 318.74,225.00 \" style=\"stroke-width: 1.07; stroke: #FFFFFF; stroke-linecap: butt;\"/>\n",
       "<polyline points=\"50.19,172.74 318.74,172.74 \" style=\"stroke-width: 1.07; stroke: #FFFFFF; stroke-linecap: butt;\"/>\n",
       "<polyline points=\"50.19,120.47 318.74,120.47 \" style=\"stroke-width: 1.07; stroke: #FFFFFF; stroke-linecap: butt;\"/>\n",
       "<polyline points=\"50.19,68.20 318.74,68.20 \" style=\"stroke-width: 1.07; stroke: #FFFFFF; stroke-linecap: butt;\"/>\n",
       "<polyline points=\"50.19,15.93 318.74,15.93 \" style=\"stroke-width: 1.07; stroke: #FFFFFF; stroke-linecap: butt;\"/>\n",
       "<polyline points=\"69.84,235.46 69.84,5.48 \" style=\"stroke-width: 1.07; stroke: #FFFFFF; stroke-linecap: butt;\"/>\n",
       "<polyline points=\"102.59,235.46 102.59,5.48 \" style=\"stroke-width: 1.07; stroke: #FFFFFF; stroke-linecap: butt;\"/>\n",
       "<polyline points=\"135.34,235.46 135.34,5.48 \" style=\"stroke-width: 1.07; stroke: #FFFFFF; stroke-linecap: butt;\"/>\n",
       "<polyline points=\"168.09,235.46 168.09,5.48 \" style=\"stroke-width: 1.07; stroke: #FFFFFF; stroke-linecap: butt;\"/>\n",
       "<polyline points=\"200.84,235.46 200.84,5.48 \" style=\"stroke-width: 1.07; stroke: #FFFFFF; stroke-linecap: butt;\"/>\n",
       "<polyline points=\"233.59,235.46 233.59,5.48 \" style=\"stroke-width: 1.07; stroke: #FFFFFF; stroke-linecap: butt;\"/>\n",
       "<polyline points=\"266.34,235.46 266.34,5.48 \" style=\"stroke-width: 1.07; stroke: #FFFFFF; stroke-linecap: butt;\"/>\n",
       "<polyline points=\"299.09,235.46 299.09,5.48 \" style=\"stroke-width: 1.07; stroke: #FFFFFF; stroke-linecap: butt;\"/>\n",
       "<rect x=\"55.11\" y=\"15.93\" width=\"29.47\" height=\"203.68\" style=\"stroke-width: 1.07; stroke: none; stroke-linecap: butt; stroke-linejoin: miter; fill: #F8766D;\"/>\n",
       "<rect x=\"55.11\" y=\"219.62\" width=\"29.47\" height=\"5.39\" style=\"stroke-width: 1.07; stroke: none; stroke-linecap: butt; stroke-linejoin: miter; fill: #00BFC4;\"/>\n",
       "<rect x=\"87.86\" y=\"15.93\" width=\"29.47\" height=\"209.07\" style=\"stroke-width: 1.07; stroke: none; stroke-linecap: butt; stroke-linejoin: miter; fill: #F8766D;\"/>\n",
       "<rect x=\"120.61\" y=\"15.93\" width=\"29.47\" height=\"209.07\" style=\"stroke-width: 1.07; stroke: none; stroke-linecap: butt; stroke-linejoin: miter; fill: #F8766D;\"/>\n",
       "<rect x=\"153.36\" y=\"15.93\" width=\"29.47\" height=\"205.23\" style=\"stroke-width: 1.07; stroke: none; stroke-linecap: butt; stroke-linejoin: miter; fill: #F8766D;\"/>\n",
       "<rect x=\"153.36\" y=\"221.16\" width=\"29.47\" height=\"3.84\" style=\"stroke-width: 1.07; stroke: none; stroke-linecap: butt; stroke-linejoin: miter; fill: #00BFC4;\"/>\n",
       "<rect x=\"186.11\" y=\"15.93\" width=\"29.47\" height=\"208.76\" style=\"stroke-width: 1.07; stroke: none; stroke-linecap: butt; stroke-linejoin: miter; fill: #F8766D;\"/>\n",
       "<rect x=\"186.11\" y=\"224.70\" width=\"29.47\" height=\"0.31\" style=\"stroke-width: 1.07; stroke: none; stroke-linecap: butt; stroke-linejoin: miter; fill: #00BFC4;\"/>\n",
       "<rect x=\"218.86\" y=\"15.93\" width=\"29.47\" height=\"202.79\" style=\"stroke-width: 1.07; stroke: none; stroke-linecap: butt; stroke-linejoin: miter; fill: #F8766D;\"/>\n",
       "<rect x=\"218.86\" y=\"218.72\" width=\"29.47\" height=\"6.28\" style=\"stroke-width: 1.07; stroke: none; stroke-linecap: butt; stroke-linejoin: miter; fill: #00BFC4;\"/>\n",
       "<rect x=\"251.61\" y=\"15.93\" width=\"29.47\" height=\"202.00\" style=\"stroke-width: 1.07; stroke: none; stroke-linecap: butt; stroke-linejoin: miter; fill: #F8766D;\"/>\n",
       "<rect x=\"251.61\" y=\"217.94\" width=\"29.47\" height=\"7.07\" style=\"stroke-width: 1.07; stroke: none; stroke-linecap: butt; stroke-linejoin: miter; fill: #00BFC4;\"/>\n",
       "<rect x=\"284.36\" y=\"15.93\" width=\"29.47\" height=\"162.18\" style=\"stroke-width: 1.07; stroke: none; stroke-linecap: butt; stroke-linejoin: miter; fill: #F8766D;\"/>\n",
       "<rect x=\"284.36\" y=\"178.11\" width=\"29.47\" height=\"46.89\" style=\"stroke-width: 1.07; stroke: none; stroke-linecap: butt; stroke-linejoin: miter; fill: #00BFC4;\"/>\n",
       "</g>\n",
       "<g clip-path=\"url(#cpMC4wMHw0NjAuODB8MC4wMHwzNDUuNjA=)\">\n",
       "<text x=\"45.26\" y=\"229.38\" text-anchor=\"end\" style=\"font-size: 12.00px;fill: #4D4D4D; font-family: &quot;DejaVu Sans&quot;;\" textLength=\"26.73px\" lengthAdjust=\"spacingAndGlyphs\">0.00</text>\n",
       "<text x=\"45.26\" y=\"177.11\" text-anchor=\"end\" style=\"font-size: 12.00px;fill: #4D4D4D; font-family: &quot;DejaVu Sans&quot;;\" textLength=\"26.73px\" lengthAdjust=\"spacingAndGlyphs\">0.25</text>\n",
       "<text x=\"45.26\" y=\"124.84\" text-anchor=\"end\" style=\"font-size: 12.00px;fill: #4D4D4D; font-family: &quot;DejaVu Sans&quot;;\" textLength=\"26.73px\" lengthAdjust=\"spacingAndGlyphs\">0.50</text>\n",
       "<text x=\"45.26\" y=\"72.57\" text-anchor=\"end\" style=\"font-size: 12.00px;fill: #4D4D4D; font-family: &quot;DejaVu Sans&quot;;\" textLength=\"26.73px\" lengthAdjust=\"spacingAndGlyphs\">0.75</text>\n",
       "<text x=\"45.26\" y=\"20.31\" text-anchor=\"end\" style=\"font-size: 12.00px;fill: #4D4D4D; font-family: &quot;DejaVu Sans&quot;;\" textLength=\"26.73px\" lengthAdjust=\"spacingAndGlyphs\">1.00</text>\n",
       "<polyline points=\"47.45,225.00 50.19,225.00 \" style=\"stroke-width: 1.07; stroke: #333333; stroke-linecap: butt;\"/>\n",
       "<polyline points=\"47.45,172.74 50.19,172.74 \" style=\"stroke-width: 1.07; stroke: #333333; stroke-linecap: butt;\"/>\n",
       "<polyline points=\"47.45,120.47 50.19,120.47 \" style=\"stroke-width: 1.07; stroke: #333333; stroke-linecap: butt;\"/>\n",
       "<polyline points=\"47.45,68.20 50.19,68.20 \" style=\"stroke-width: 1.07; stroke: #333333; stroke-linecap: butt;\"/>\n",
       "<polyline points=\"47.45,15.93 50.19,15.93 \" style=\"stroke-width: 1.07; stroke: #333333; stroke-linecap: butt;\"/>\n",
       "<polyline points=\"69.84,238.20 69.84,235.46 \" style=\"stroke-width: 1.07; stroke: #333333; stroke-linecap: butt;\"/>\n",
       "<polyline points=\"102.59,238.20 102.59,235.46 \" style=\"stroke-width: 1.07; stroke: #333333; stroke-linecap: butt;\"/>\n",
       "<polyline points=\"135.34,238.20 135.34,235.46 \" style=\"stroke-width: 1.07; stroke: #333333; stroke-linecap: butt;\"/>\n",
       "<polyline points=\"168.09,238.20 168.09,235.46 \" style=\"stroke-width: 1.07; stroke: #333333; stroke-linecap: butt;\"/>\n",
       "<polyline points=\"200.84,238.20 200.84,235.46 \" style=\"stroke-width: 1.07; stroke: #333333; stroke-linecap: butt;\"/>\n",
       "<polyline points=\"233.59,238.20 233.59,235.46 \" style=\"stroke-width: 1.07; stroke: #333333; stroke-linecap: butt;\"/>\n",
       "<polyline points=\"266.34,238.20 266.34,235.46 \" style=\"stroke-width: 1.07; stroke: #333333; stroke-linecap: butt;\"/>\n",
       "<polyline points=\"299.09,238.20 299.09,235.46 \" style=\"stroke-width: 1.07; stroke: #333333; stroke-linecap: butt;\"/>\n",
       "<text transform=\"translate(76.03,246.57) rotate(-45)\" text-anchor=\"end\" style=\"font-size: 12.00px;fill: #4D4D4D; font-family: &quot;DejaVu Sans&quot;;\" textLength=\"36.38px\" lengthAdjust=\"spacingAndGlyphs\">fusion</text>\n",
       "<text transform=\"translate(108.78,246.57) rotate(-45)\" text-anchor=\"end\" style=\"font-size: 12.00px;fill: #4D4D4D; font-family: &quot;DejaVu Sans&quot;;\" textLength=\"32.55px\" lengthAdjust=\"spacingAndGlyphs\">genic</text>\n",
       "<text transform=\"translate(141.53,246.57) rotate(-45)\" text-anchor=\"end\" style=\"font-size: 12.00px;fill: #4D4D4D; font-family: &quot;DejaVu Sans&quot;;\" textLength=\"60.31px\" lengthAdjust=\"spacingAndGlyphs\">intergenic</text>\n",
       "<text transform=\"translate(174.28,246.57) rotate(-45)\" text-anchor=\"end\" style=\"font-size: 12.00px;fill: #4D4D4D; font-family: &quot;DejaVu Sans&quot;;\" textLength=\"111.34px\" lengthAdjust=\"spacingAndGlyphs\">orphan_monoexon</text>\n",
       "<text transform=\"translate(207.03,246.57) rotate(-45)\" text-anchor=\"end\" style=\"font-size: 12.00px;fill: #4D4D4D; font-family: &quot;DejaVu Sans&quot;;\" textLength=\"32.28px\" lengthAdjust=\"spacingAndGlyphs\">pFSM</text>\n",
       "<text transform=\"translate(239.78,246.57) rotate(-45)\" text-anchor=\"end\" style=\"font-size: 12.00px;fill: #4D4D4D; font-family: &quot;DejaVu Sans&quot;;\" textLength=\"29.13px\" lengthAdjust=\"spacingAndGlyphs\">pISM</text>\n",
       "<text transform=\"translate(272.53,246.57) rotate(-45)\" text-anchor=\"end\" style=\"font-size: 12.00px;fill: #4D4D4D; font-family: &quot;DejaVu Sans&quot;;\" textLength=\"28.52px\" lengthAdjust=\"spacingAndGlyphs\">pNIC</text>\n",
       "<text transform=\"translate(305.28,246.57) rotate(-45)\" text-anchor=\"end\" style=\"font-size: 12.00px;fill: #4D4D4D; font-family: &quot;DejaVu Sans&quot;;\" textLength=\"33.96px\" lengthAdjust=\"spacingAndGlyphs\">pNNC</text>\n",
       "<rect x=\"329.70\" y=\"89.81\" width=\"125.62\" height=\"61.31\" style=\"stroke-width: 1.07; stroke: none; fill: #FFFFFF;\"/>\n",
       "<text x=\"335.18\" y=\"104.46\" style=\"font-size: 11.00px; font-family: &quot;DejaVu Sans&quot;;\" textLength=\"114.66px\" lengthAdjust=\"spacingAndGlyphs\">containing_novel_spl</text>\n",
       "<rect x=\"335.18\" y=\"111.08\" width=\"17.28\" height=\"17.28\" style=\"stroke-width: 1.07; stroke: none; fill: #EBEBEB;\"/>\n",
       "<rect x=\"335.89\" y=\"111.79\" width=\"15.86\" height=\"15.86\" style=\"stroke-width: 1.07; stroke: none; stroke-linecap: butt; stroke-linejoin: miter; fill: #F8766D;\"/>\n",
       "<rect x=\"335.18\" y=\"128.36\" width=\"17.28\" height=\"17.28\" style=\"stroke-width: 1.07; stroke: none; fill: #EBEBEB;\"/>\n",
       "<rect x=\"335.89\" y=\"129.07\" width=\"15.86\" height=\"15.86\" style=\"stroke-width: 1.07; stroke: none; stroke-linecap: butt; stroke-linejoin: miter; fill: #00BFC4;\"/>\n",
       "<text x=\"357.94\" y=\"122.93\" style=\"font-size: 8.80px; font-family: &quot;DejaVu Sans&quot;;\" textLength=\"26.32px\" lengthAdjust=\"spacingAndGlyphs\">FALSE</text>\n",
       "<text x=\"357.94\" y=\"140.21\" style=\"font-size: 8.80px; font-family: &quot;DejaVu Sans&quot;;\" textLength=\"23.48px\" lengthAdjust=\"spacingAndGlyphs\">TRUE</text>\n",
       "</g>\n",
       "</svg>"
      ],
      "text/plain": [
       "<IPython.core.display.SVG object>"
      ]
     },
     "metadata": {},
     "output_type": "display_data"
    }
   ],
   "source": [
    "to_r(classification, \"df\")\n",
    "\n",
    "r(\n",
    "\"\"\"\n",
    "df %>% \n",
    "    ggplot(aes(x=protein_classification_base, fill=containing_novel_spl)) +\n",
    "    stat_count(position=position_fill()) +\n",
    "    theme(axis.text.x = element_text(size = 8)) +\n",
    "    theme(\n",
    "        axis.text.x = element_text(angle = 45, hjust = 1, vjust = 1, size = 12),\n",
    "        axis.text.y = element_text(size = 12)\n",
    "    ) +\n",
    "    labs(x = \"\", y = \"\")\n",
    "\"\"\"\n",
    ")"
   ]
  },
  {
   "cell_type": "code",
   "execution_count": null,
   "metadata": {},
   "outputs": [],
   "source": []
  }
 ],
 "metadata": {
  "kernelspec": {
   "display_name": "Python 3 (ipykernel)",
   "language": "python",
   "name": "python3"
  },
  "language_info": {
   "codemirror_mode": {
    "name": "ipython",
    "version": 3
   },
   "file_extension": ".py",
   "mimetype": "text/x-python",
   "name": "python",
   "nbconvert_exporter": "python",
   "pygments_lexer": "ipython3",
   "version": "3.12.3"
  }
 },
 "nbformat": 4,
 "nbformat_minor": 2
}
