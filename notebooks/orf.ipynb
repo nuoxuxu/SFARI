{
 "cells": [
  {
   "cell_type": "markdown",
   "metadata": {},
   "source": [
    "# Preparation"
   ]
  },
  {
   "cell_type": "markdown",
   "metadata": {},
   "source": [
    "## Load packages and data"
   ]
  },
  {
   "cell_type": "code",
   "execution_count": 1,
   "metadata": {},
   "outputs": [
    {
     "name": "stderr",
     "output_type": "stream",
     "text": [
      "Loading required package: svglite\n"
     ]
    }
   ],
   "source": [
    "import polars as pl\n",
    "from src.utils import read_gtf, read_gff\n",
    "from src.single_cell import SingleCell\n",
    "from src.ryp import r, to_r, set_config\n",
    "import seaborn as sns\n",
    "import matplotlib.pyplot as plt"
   ]
  },
  {
   "cell_type": "code",
   "execution_count": 3,
   "metadata": {},
   "outputs": [
    {
     "name": "stderr",
     "output_type": "stream",
     "text": [
      "Loading required package: ggplot2\n",
      "\n",
      "Attaching package: ‘dplyr’\n",
      "\n",
      "The following objects are masked from ‘package:stats’:\n",
      "\n",
      "    filter, lag\n",
      "\n",
      "The following objects are masked from ‘package:base’:\n",
      "\n",
      "    intersect, setdiff, setequal, union\n",
      "\n"
     ]
    }
   ],
   "source": [
    "r(\n",
    "\"\"\"\n",
    "library(ggpubr)\n",
    "library(pheatmap)\n",
    "library(RColorBrewer)\n",
    "library(stringr)\n",
    "library(scales)\n",
    "library(dplyr)\n",
    "\"\"\"\n",
    ")"
   ]
  },
  {
   "cell_type": "code",
   "execution_count": 4,
   "metadata": {},
   "outputs": [],
   "source": [
    "r(\n",
    "\"\"\"\n",
    "colorVector <- c(\n",
    "  \"full-splice_match\" = \"#009E73\",\n",
    "  \"incomplete-splice_match\"   = \"#0072B2\",\n",
    "  \"novel_in_catalog\"   = \"#D55E00\",\n",
    "  \"novel_not_in_catalog\"   = \"#E69F00\",\n",
    "  \"Other\" = \"#000000\"\n",
    ")\n",
    "\n",
    "colorVector <- c(\n",
    "  \"Known\" = \"#009E73\",\n",
    "  \"ISM\"   = \"#0072B2\",\n",
    "  \"NIC\"   = \"#D55E00\",\n",
    "  \"NNC\"   = \"#E69F00\",\n",
    "  \"Other\" = \"#000000\"\n",
    ")\n",
    "\"\"\"\n",
    ")"
   ]
  },
  {
   "cell_type": "code",
   "execution_count": 5,
   "metadata": {},
   "outputs": [],
   "source": [
    "r(\n",
    "\"\"\"\n",
    "colorVector <- c(\n",
    "  \"full-splice_match\" = \"#009E73\",\n",
    "  \"incomplete-splice_match\"   = \"#0072B2\",\n",
    "  \"novel_in_catalog\"   = \"#D55E00\",\n",
    "  \"novel_not_in_catalog\"   = \"#E69F00\",\n",
    "  \"Other\" = \"#000000\"\n",
    ")\n",
    "\n",
    "colorVector <- c(\n",
    "  \"pFSM\" = \"#009E73\",\n",
    "  \"pISM\"   = \"#0072B2\",\n",
    "  \"pNIC\"   = \"#D55E00\",\n",
    "  \"pNNC\"   = \"#E69F00\",\n",
    "  \"Other\" = \"#000000\"\n",
    ")\n",
    "\"\"\"\n",
    ")"
   ]
  },
  {
   "cell_type": "markdown",
   "metadata": {},
   "source": [
    "# Hybrid dataset"
   ]
  },
  {
   "cell_type": "markdown",
   "metadata": {},
   "source": [
    "## Load datasets"
   ]
  },
  {
   "cell_type": "code",
   "execution_count": null,
   "metadata": {},
   "outputs": [],
   "source": [
    "detected_peptides = pl.read_csv(\"nextflow_results/SFARI_peptides_hybrid.csv\")\n",
    "all_peptides = pl.read_csv(\"nextflow_results/all_peptides_annotated_hybrid.csv\")\n",
    "genome_gff3_gtf = pl.read_csv(\"nextflow_results/genome_gff3_gtf_hybrid.csv\", ignore_errors=True)\n",
    "lr_bulk = SingleCell(\"nextflow_results/pbid_orf_hybrid.h5ad\")"
   ]
  },
  {
   "cell_type": "markdown",
   "metadata": {},
   "source": [
    "## Peptides"
   ]
  },
  {
   "cell_type": "code",
   "execution_count": 18,
   "metadata": {},
   "outputs": [],
   "source": [
    "detected_peptides = detected_peptides[\"transcript_id\"].unique()\n",
    "df = all_peptides\\\n",
    "    .with_columns(\n",
    "        detected = pl.when(\n",
    "            pl.col(\"transcript_id\").is_in(detected_peptides)\n",
    "        )\\\n",
    "        .then(pl.lit(True))\\\n",
    "        .otherwise(pl.lit(False))\n",
    "    )\n"
   ]
  },
  {
   "cell_type": "code",
   "execution_count": 25,
   "metadata": {},
   "outputs": [
    {
     "data": {
      "text/html": [
       "<div><style>\n",
       ".dataframe > thead > tr,\n",
       ".dataframe > tbody > tr {\n",
       "  text-align: right;\n",
       "  white-space: pre-wrap;\n",
       "}\n",
       "</style>\n",
       "<small>shape: (2, 2)</small><table border=\"1\" class=\"dataframe\"><thead><tr><th>novelty</th><th>len</th></tr><tr><td>str</td><td>f64</td></tr></thead><tbody><tr><td>&quot;novel&quot;</td><td>0.00836</td></tr><tr><td>&quot;known&quot;</td><td>0.126355</td></tr></tbody></table></div>"
      ],
      "text/plain": [
       "shape: (2, 2)\n",
       "┌─────────┬──────────┐\n",
       "│ novelty ┆ len      │\n",
       "│ ---     ┆ ---      │\n",
       "│ str     ┆ f64      │\n",
       "╞═════════╪══════════╡\n",
       "│ novel   ┆ 0.00836  │\n",
       "│ known   ┆ 0.126355 │\n",
       "└─────────┴──────────┘"
      ]
     },
     "execution_count": 25,
     "metadata": {},
     "output_type": "execute_result"
    }
   ],
   "source": [
    "df.group_by([\"novelty\", \"detected\"]).len()\\\n",
    "    .group_by(\"novelty\")\\\n",
    "    .agg(\n",
    "        pl.col(\"len\") / pl.col(\"len\").sum()\n",
    "    )\\\n",
    "    .explode(\"len\")\\\n",
    "    .group_by(\"novelty\")\\\n",
    "    .first()"
   ]
  },
  {
   "cell_type": "markdown",
   "metadata": {},
   "source": [
    "- [ ] Subsampling the proteomics datasets based on files (saturation plot)\n",
    "- [ ] Violinplot of expression of protein isoforms validated and not validated by novel peptides\n",
    "- [ ] Violinplot of expression of protein isoforms validated and not validated by known peptides"
   ]
  },
  {
   "cell_type": "code",
   "execution_count": 15,
   "metadata": {},
   "outputs": [
    {
     "name": "stdout",
     "output_type": "stream",
     "text": [
      "null device \n",
      "          1 \n"
     ]
    },
    {
     "data": {
      "image/svg+xml": [
       "<svg xmlns=\"http://www.w3.org/2000/svg\" xmlns:xlink=\"http://www.w3.org/1999/xlink\" class=\"svglite\" width=\"460.80pt\" height=\"345.60pt\" viewBox=\"0 0 460.80 345.60\">\n",
       "<defs>\n",
       "  <style type=\"text/css\"><![CDATA[\n",
       "    .svglite line, .svglite polyline, .svglite polygon, .svglite path, .svglite rect, .svglite circle {\n",
       "      fill: none;\n",
       "      stroke: #000000;\n",
       "      stroke-linecap: round;\n",
       "      stroke-linejoin: round;\n",
       "      stroke-miterlimit: 10.00;\n",
       "    }\n",
       "    .svglite text {\n",
       "      white-space: pre;\n",
       "    }\n",
       "  ]]></style>\n",
       "</defs>\n",
       "<rect width=\"100%\" height=\"100%\" style=\"stroke: none; fill: #FFFFFF;\"/>\n",
       "<defs>\n",
       "  <clipPath id=\"cpMC4wMHw0NjAuODB8MC4wMHwzNDUuNjA=\">\n",
       "    <rect x=\"0.00\" y=\"0.00\" width=\"460.80\" height=\"345.60\"/>\n",
       "  </clipPath>\n",
       "</defs>\n",
       "<g clip-path=\"url(#cpMC4wMHw0NjAuODB8MC4wMHwzNDUuNjA=)\">\n",
       "<rect x=\"0.000000000000064\" y=\"0.00\" width=\"460.80\" height=\"345.60\" style=\"stroke-width: 1.07; stroke: #FFFFFF; fill: #FFFFFF;\"/>\n",
       "</g>\n",
       "<defs>\n",
       "  <clipPath id=\"cpNDMuMDR8Mzg0LjMyfDUuNDh8MzE0LjY0\">\n",
       "    <rect x=\"43.04\" y=\"5.48\" width=\"341.28\" height=\"309.16\"/>\n",
       "  </clipPath>\n",
       "</defs>\n",
       "<g clip-path=\"url(#cpNDMuMDR8Mzg0LjMyfDUuNDh8MzE0LjY0)\">\n",
       "<rect x=\"43.04\" y=\"5.48\" width=\"341.28\" height=\"309.16\" style=\"stroke-width: 1.07; stroke: none; fill: #EBEBEB;\"/>\n",
       "<polyline points=\"43.04,265.46 384.32,265.46 \" style=\"stroke-width: 0.53; stroke: #FFFFFF; stroke-linecap: butt;\"/>\n",
       "<polyline points=\"43.04,195.19 384.32,195.19 \" style=\"stroke-width: 0.53; stroke: #FFFFFF; stroke-linecap: butt;\"/>\n",
       "<polyline points=\"43.04,124.93 384.32,124.93 \" style=\"stroke-width: 0.53; stroke: #FFFFFF; stroke-linecap: butt;\"/>\n",
       "<polyline points=\"43.04,54.66 384.32,54.66 \" style=\"stroke-width: 0.53; stroke: #FFFFFF; stroke-linecap: butt;\"/>\n",
       "<polyline points=\"43.04,300.59 384.32,300.59 \" style=\"stroke-width: 1.07; stroke: #FFFFFF; stroke-linecap: butt;\"/>\n",
       "<polyline points=\"43.04,230.33 384.32,230.33 \" style=\"stroke-width: 1.07; stroke: #FFFFFF; stroke-linecap: butt;\"/>\n",
       "<polyline points=\"43.04,160.06 384.32,160.06 \" style=\"stroke-width: 1.07; stroke: #FFFFFF; stroke-linecap: butt;\"/>\n",
       "<polyline points=\"43.04,89.80 384.32,89.80 \" style=\"stroke-width: 1.07; stroke: #FFFFFF; stroke-linecap: butt;\"/>\n",
       "<polyline points=\"43.04,19.53 384.32,19.53 \" style=\"stroke-width: 1.07; stroke: #FFFFFF; stroke-linecap: butt;\"/>\n",
       "<polyline points=\"136.11,314.64 136.11,5.48 \" style=\"stroke-width: 1.07; stroke: #FFFFFF; stroke-linecap: butt;\"/>\n",
       "<polyline points=\"291.24,314.64 291.24,5.48 \" style=\"stroke-width: 1.07; stroke: #FFFFFF; stroke-linecap: butt;\"/>\n",
       "<rect x=\"66.31\" y=\"19.53\" width=\"139.62\" height=\"248.18\" style=\"stroke-width: 1.07; stroke: none; stroke-linecap: butt; stroke-linejoin: miter; fill: #F8766D;\"/>\n",
       "<rect x=\"66.31\" y=\"267.71\" width=\"139.62\" height=\"32.88\" style=\"stroke-width: 1.07; stroke: none; stroke-linecap: butt; stroke-linejoin: miter; fill: #00BFC4;\"/>\n",
       "<rect x=\"221.44\" y=\"19.53\" width=\"139.62\" height=\"277.82\" style=\"stroke-width: 1.07; stroke: none; stroke-linecap: butt; stroke-linejoin: miter; fill: #F8766D;\"/>\n",
       "<rect x=\"221.44\" y=\"297.35\" width=\"139.62\" height=\"3.24\" style=\"stroke-width: 1.07; stroke: none; stroke-linecap: butt; stroke-linejoin: miter; fill: #00BFC4;\"/>\n",
       "</g>\n",
       "<g clip-path=\"url(#cpMC4wMHw0NjAuODB8MC4wMHwzNDUuNjA=)\">\n",
       "<text x=\"38.11\" y=\"303.80\" text-anchor=\"end\" style=\"font-size: 8.80px;fill: #4D4D4D; font-family: &quot;DejaVu Sans&quot;;\" textLength=\"19.58px\" lengthAdjust=\"spacingAndGlyphs\">0.00</text>\n",
       "<text x=\"38.11\" y=\"233.53\" text-anchor=\"end\" style=\"font-size: 8.80px;fill: #4D4D4D; font-family: &quot;DejaVu Sans&quot;;\" textLength=\"19.58px\" lengthAdjust=\"spacingAndGlyphs\">0.25</text>\n",
       "<text x=\"38.11\" y=\"163.27\" text-anchor=\"end\" style=\"font-size: 8.80px;fill: #4D4D4D; font-family: &quot;DejaVu Sans&quot;;\" textLength=\"19.58px\" lengthAdjust=\"spacingAndGlyphs\">0.50</text>\n",
       "<text x=\"38.11\" y=\"93.00\" text-anchor=\"end\" style=\"font-size: 8.80px;fill: #4D4D4D; font-family: &quot;DejaVu Sans&quot;;\" textLength=\"19.58px\" lengthAdjust=\"spacingAndGlyphs\">0.75</text>\n",
       "<text x=\"38.11\" y=\"22.74\" text-anchor=\"end\" style=\"font-size: 8.80px;fill: #4D4D4D; font-family: &quot;DejaVu Sans&quot;;\" textLength=\"19.58px\" lengthAdjust=\"spacingAndGlyphs\">1.00</text>\n",
       "<polyline points=\"40.30,300.59 43.04,300.59 \" style=\"stroke-width: 1.07; stroke: #333333; stroke-linecap: butt;\"/>\n",
       "<polyline points=\"40.30,230.33 43.04,230.33 \" style=\"stroke-width: 1.07; stroke: #333333; stroke-linecap: butt;\"/>\n",
       "<polyline points=\"40.30,160.06 43.04,160.06 \" style=\"stroke-width: 1.07; stroke: #333333; stroke-linecap: butt;\"/>\n",
       "<polyline points=\"40.30,89.80 43.04,89.80 \" style=\"stroke-width: 1.07; stroke: #333333; stroke-linecap: butt;\"/>\n",
       "<polyline points=\"40.30,19.53 43.04,19.53 \" style=\"stroke-width: 1.07; stroke: #333333; stroke-linecap: butt;\"/>\n",
       "<polyline points=\"136.11,317.38 136.11,314.64 \" style=\"stroke-width: 1.07; stroke: #333333; stroke-linecap: butt;\"/>\n",
       "<polyline points=\"291.24,317.38 291.24,314.64 \" style=\"stroke-width: 1.07; stroke: #333333; stroke-linecap: butt;\"/>\n",
       "<text x=\"136.11\" y=\"325.41\" text-anchor=\"middle\" style=\"font-size: 8.00px;fill: #4D4D4D; font-family: &quot;DejaVu Sans&quot;;\" textLength=\"26.21px\" lengthAdjust=\"spacingAndGlyphs\">known</text>\n",
       "<text x=\"291.24\" y=\"325.41\" text-anchor=\"middle\" style=\"font-size: 8.00px;fill: #4D4D4D; font-family: &quot;DejaVu Sans&quot;;\" textLength=\"21.84px\" lengthAdjust=\"spacingAndGlyphs\">novel</text>\n",
       "<text x=\"213.68\" y=\"337.83\" text-anchor=\"middle\" style=\"font-size: 11.00px; font-family: &quot;DejaVu Sans&quot;;\" textLength=\"40.86px\" lengthAdjust=\"spacingAndGlyphs\">novelty</text>\n",
       "<text transform=\"translate(13.50,160.06) rotate(-90)\" text-anchor=\"middle\" style=\"font-size: 11.00px; font-family: &quot;DejaVu Sans&quot;;\" textLength=\"31.03px\" lengthAdjust=\"spacingAndGlyphs\">count</text>\n",
       "<rect x=\"395.28\" y=\"129.41\" width=\"60.04\" height=\"61.31\" style=\"stroke-width: 1.07; stroke: none; fill: #FFFFFF;\"/>\n",
       "<text x=\"400.76\" y=\"144.05\" style=\"font-size: 11.00px; font-family: &quot;DejaVu Sans&quot;;\" textLength=\"48.95px\" lengthAdjust=\"spacingAndGlyphs\">detected</text>\n",
       "<rect x=\"400.76\" y=\"150.68\" width=\"17.28\" height=\"17.28\" style=\"stroke-width: 1.07; stroke: none; fill: #EBEBEB;\"/>\n",
       "<rect x=\"401.47\" y=\"151.39\" width=\"15.86\" height=\"15.86\" style=\"stroke-width: 1.07; stroke: none; stroke-linecap: butt; stroke-linejoin: miter; fill: #F8766D;\"/>\n",
       "<rect x=\"400.76\" y=\"167.96\" width=\"17.28\" height=\"17.28\" style=\"stroke-width: 1.07; stroke: none; fill: #EBEBEB;\"/>\n",
       "<rect x=\"401.47\" y=\"168.67\" width=\"15.86\" height=\"15.86\" style=\"stroke-width: 1.07; stroke: none; stroke-linecap: butt; stroke-linejoin: miter; fill: #00BFC4;\"/>\n",
       "<text x=\"423.52\" y=\"162.52\" style=\"font-size: 8.80px; font-family: &quot;DejaVu Sans&quot;;\" textLength=\"26.32px\" lengthAdjust=\"spacingAndGlyphs\">FALSE</text>\n",
       "<text x=\"423.52\" y=\"179.80\" style=\"font-size: 8.80px; font-family: &quot;DejaVu Sans&quot;;\" textLength=\"23.48px\" lengthAdjust=\"spacingAndGlyphs\">TRUE</text>\n",
       "</g>\n",
       "</svg>"
      ],
      "text/plain": [
       "<IPython.core.display.SVG object>"
      ]
     },
     "metadata": {},
     "output_type": "display_data"
    }
   ],
   "source": [
    "to_r(df, \"df\")\n",
    "r(\n",
    "\"\"\"\n",
    "df %>% \n",
    "    ggplot(aes(x=novelty, fill=detected)) +\n",
    "    stat_count(position=position_fill()) +\n",
    "    theme(axis.text.x = element_text(size = 8))\n",
    "\"\"\"\n",
    ")"
   ]
  },
  {
   "cell_type": "markdown",
   "metadata": {},
   "source": [
    "## Transcript validation by proteomics"
   ]
  },
  {
   "cell_type": "markdown",
   "metadata": {},
   "source": [
    "### Percentage of protein isoforms that are compatible with any novel peptides"
   ]
  },
  {
   "cell_type": "code",
   "execution_count": 27,
   "metadata": {},
   "outputs": [
    {
     "name": "stdout",
     "output_type": "stream",
     "text": [
      "null device \n",
      "          1 \n"
     ]
    },
    {
     "data": {
      "image/svg+xml": [
       "<svg xmlns=\"http://www.w3.org/2000/svg\" xmlns:xlink=\"http://www.w3.org/1999/xlink\" class=\"svglite\" width=\"460.80pt\" height=\"345.60pt\" viewBox=\"0 0 460.80 345.60\">\n",
       "<defs>\n",
       "  <style type=\"text/css\"><![CDATA[\n",
       "    .svglite line, .svglite polyline, .svglite polygon, .svglite path, .svglite rect, .svglite circle {\n",
       "      fill: none;\n",
       "      stroke: #000000;\n",
       "      stroke-linecap: round;\n",
       "      stroke-linejoin: round;\n",
       "      stroke-miterlimit: 10.00;\n",
       "    }\n",
       "    .svglite text {\n",
       "      white-space: pre;\n",
       "    }\n",
       "  ]]></style>\n",
       "</defs>\n",
       "<rect width=\"100%\" height=\"100%\" style=\"stroke: none; fill: #FFFFFF;\"/>\n",
       "<defs>\n",
       "  <clipPath id=\"cpMC4wMHw0NjAuODB8MC4wMHwzNDUuNjA=\">\n",
       "    <rect x=\"0.00\" y=\"0.00\" width=\"460.80\" height=\"345.60\"/>\n",
       "  </clipPath>\n",
       "</defs>\n",
       "<g clip-path=\"url(#cpMC4wMHw0NjAuODB8MC4wMHwzNDUuNjA=)\">\n",
       "<rect x=\"0.00\" y=\"0.00\" width=\"460.80\" height=\"345.60\" style=\"stroke-width: 1.07; stroke: #FFFFFF; fill: #FFFFFF;\"/>\n",
       "</g>\n",
       "<defs>\n",
       "  <clipPath id=\"cpNDMuMDR8MzE4Ljc0fDUuNDh8MzE0LjY0\">\n",
       "    <rect x=\"43.04\" y=\"5.48\" width=\"275.70\" height=\"309.16\"/>\n",
       "  </clipPath>\n",
       "</defs>\n",
       "<g clip-path=\"url(#cpNDMuMDR8MzE4Ljc0fDUuNDh8MzE0LjY0)\">\n",
       "<rect x=\"43.04\" y=\"5.48\" width=\"275.70\" height=\"309.16\" style=\"stroke-width: 1.07; stroke: none; fill: #EBEBEB;\"/>\n",
       "<polyline points=\"43.04,265.46 318.74,265.46 \" style=\"stroke-width: 0.53; stroke: #FFFFFF; stroke-linecap: butt;\"/>\n",
       "<polyline points=\"43.04,195.19 318.74,195.19 \" style=\"stroke-width: 0.53; stroke: #FFFFFF; stroke-linecap: butt;\"/>\n",
       "<polyline points=\"43.04,124.93 318.74,124.93 \" style=\"stroke-width: 0.53; stroke: #FFFFFF; stroke-linecap: butt;\"/>\n",
       "<polyline points=\"43.04,54.66 318.74,54.66 \" style=\"stroke-width: 0.53; stroke: #FFFFFF; stroke-linecap: butt;\"/>\n",
       "<polyline points=\"43.04,300.59 318.74,300.59 \" style=\"stroke-width: 1.07; stroke: #FFFFFF; stroke-linecap: butt;\"/>\n",
       "<polyline points=\"43.04,230.33 318.74,230.33 \" style=\"stroke-width: 1.07; stroke: #FFFFFF; stroke-linecap: butt;\"/>\n",
       "<polyline points=\"43.04,160.06 318.74,160.06 \" style=\"stroke-width: 1.07; stroke: #FFFFFF; stroke-linecap: butt;\"/>\n",
       "<polyline points=\"43.04,89.80 318.74,89.80 \" style=\"stroke-width: 1.07; stroke: #FFFFFF; stroke-linecap: butt;\"/>\n",
       "<polyline points=\"43.04,19.53 318.74,19.53 \" style=\"stroke-width: 1.07; stroke: #FFFFFF; stroke-linecap: butt;\"/>\n",
       "<polyline points=\"69.72,314.64 69.72,5.48 \" style=\"stroke-width: 1.07; stroke: #FFFFFF; stroke-linecap: butt;\"/>\n",
       "<polyline points=\"114.19,314.64 114.19,5.48 \" style=\"stroke-width: 1.07; stroke: #FFFFFF; stroke-linecap: butt;\"/>\n",
       "<polyline points=\"158.66,314.64 158.66,5.48 \" style=\"stroke-width: 1.07; stroke: #FFFFFF; stroke-linecap: butt;\"/>\n",
       "<polyline points=\"203.12,314.64 203.12,5.48 \" style=\"stroke-width: 1.07; stroke: #FFFFFF; stroke-linecap: butt;\"/>\n",
       "<polyline points=\"247.59,314.64 247.59,5.48 \" style=\"stroke-width: 1.07; stroke: #FFFFFF; stroke-linecap: butt;\"/>\n",
       "<polyline points=\"292.06,314.64 292.06,5.48 \" style=\"stroke-width: 1.07; stroke: #FFFFFF; stroke-linecap: butt;\"/>\n",
       "<rect x=\"49.71\" y=\"19.53\" width=\"40.02\" height=\"280.79\" style=\"stroke-width: 1.07; stroke: none; stroke-linecap: butt; stroke-linejoin: miter; fill: #F8766D;\"/>\n",
       "<rect x=\"49.71\" y=\"300.32\" width=\"40.02\" height=\"0.27\" style=\"stroke-width: 1.07; stroke: none; stroke-linecap: butt; stroke-linejoin: miter; fill: #00BFC4;\"/>\n",
       "<rect x=\"94.18\" y=\"19.53\" width=\"40.02\" height=\"281.00\" style=\"stroke-width: 1.07; stroke: none; stroke-linecap: butt; stroke-linejoin: miter; fill: #F8766D;\"/>\n",
       "<rect x=\"94.18\" y=\"300.54\" width=\"40.02\" height=\"0.054\" style=\"stroke-width: 1.07; stroke: none; stroke-linecap: butt; stroke-linejoin: miter; fill: #00BFC4;\"/>\n",
       "<rect x=\"138.65\" y=\"19.53\" width=\"40.02\" height=\"281.06\" style=\"stroke-width: 1.07; stroke: none; stroke-linecap: butt; stroke-linejoin: miter; fill: #F8766D;\"/>\n",
       "<rect x=\"183.11\" y=\"19.53\" width=\"40.02\" height=\"280.22\" style=\"stroke-width: 1.07; stroke: none; stroke-linecap: butt; stroke-linejoin: miter; fill: #F8766D;\"/>\n",
       "<rect x=\"183.11\" y=\"299.75\" width=\"40.02\" height=\"0.84\" style=\"stroke-width: 1.07; stroke: none; stroke-linecap: butt; stroke-linejoin: miter; fill: #00BFC4;\"/>\n",
       "<rect x=\"227.58\" y=\"19.53\" width=\"40.02\" height=\"280.21\" style=\"stroke-width: 1.07; stroke: none; stroke-linecap: butt; stroke-linejoin: miter; fill: #F8766D;\"/>\n",
       "<rect x=\"227.58\" y=\"299.75\" width=\"40.02\" height=\"0.84\" style=\"stroke-width: 1.07; stroke: none; stroke-linecap: butt; stroke-linejoin: miter; fill: #00BFC4;\"/>\n",
       "<rect x=\"272.05\" y=\"19.53\" width=\"40.02\" height=\"279.51\" style=\"stroke-width: 1.07; stroke: none; stroke-linecap: butt; stroke-linejoin: miter; fill: #F8766D;\"/>\n",
       "<rect x=\"272.05\" y=\"299.04\" width=\"40.02\" height=\"1.55\" style=\"stroke-width: 1.07; stroke: none; stroke-linecap: butt; stroke-linejoin: miter; fill: #00BFC4;\"/>\n",
       "</g>\n",
       "<g clip-path=\"url(#cpMC4wMHw0NjAuODB8MC4wMHwzNDUuNjA=)\">\n",
       "<text x=\"38.11\" y=\"303.80\" text-anchor=\"end\" style=\"font-size: 8.80px;fill: #4D4D4D; font-family: &quot;DejaVu Sans&quot;;\" textLength=\"19.58px\" lengthAdjust=\"spacingAndGlyphs\">0.00</text>\n",
       "<text x=\"38.11\" y=\"233.53\" text-anchor=\"end\" style=\"font-size: 8.80px;fill: #4D4D4D; font-family: &quot;DejaVu Sans&quot;;\" textLength=\"19.58px\" lengthAdjust=\"spacingAndGlyphs\">0.25</text>\n",
       "<text x=\"38.11\" y=\"163.27\" text-anchor=\"end\" style=\"font-size: 8.80px;fill: #4D4D4D; font-family: &quot;DejaVu Sans&quot;;\" textLength=\"19.58px\" lengthAdjust=\"spacingAndGlyphs\">0.50</text>\n",
       "<text x=\"38.11\" y=\"93.00\" text-anchor=\"end\" style=\"font-size: 8.80px;fill: #4D4D4D; font-family: &quot;DejaVu Sans&quot;;\" textLength=\"19.58px\" lengthAdjust=\"spacingAndGlyphs\">0.75</text>\n",
       "<text x=\"38.11\" y=\"22.74\" text-anchor=\"end\" style=\"font-size: 8.80px;fill: #4D4D4D; font-family: &quot;DejaVu Sans&quot;;\" textLength=\"19.58px\" lengthAdjust=\"spacingAndGlyphs\">1.00</text>\n",
       "<polyline points=\"40.30,300.59 43.04,300.59 \" style=\"stroke-width: 1.07; stroke: #333333; stroke-linecap: butt;\"/>\n",
       "<polyline points=\"40.30,230.33 43.04,230.33 \" style=\"stroke-width: 1.07; stroke: #333333; stroke-linecap: butt;\"/>\n",
       "<polyline points=\"40.30,160.06 43.04,160.06 \" style=\"stroke-width: 1.07; stroke: #333333; stroke-linecap: butt;\"/>\n",
       "<polyline points=\"40.30,89.80 43.04,89.80 \" style=\"stroke-width: 1.07; stroke: #333333; stroke-linecap: butt;\"/>\n",
       "<polyline points=\"40.30,19.53 43.04,19.53 \" style=\"stroke-width: 1.07; stroke: #333333; stroke-linecap: butt;\"/>\n",
       "<polyline points=\"69.72,317.38 69.72,314.64 \" style=\"stroke-width: 1.07; stroke: #333333; stroke-linecap: butt;\"/>\n",
       "<polyline points=\"114.19,317.38 114.19,314.64 \" style=\"stroke-width: 1.07; stroke: #333333; stroke-linecap: butt;\"/>\n",
       "<polyline points=\"158.66,317.38 158.66,314.64 \" style=\"stroke-width: 1.07; stroke: #333333; stroke-linecap: butt;\"/>\n",
       "<polyline points=\"203.12,317.38 203.12,314.64 \" style=\"stroke-width: 1.07; stroke: #333333; stroke-linecap: butt;\"/>\n",
       "<polyline points=\"247.59,317.38 247.59,314.64 \" style=\"stroke-width: 1.07; stroke: #333333; stroke-linecap: butt;\"/>\n",
       "<polyline points=\"292.06,317.38 292.06,314.64 \" style=\"stroke-width: 1.07; stroke: #333333; stroke-linecap: butt;\"/>\n",
       "<text x=\"69.72\" y=\"325.41\" text-anchor=\"middle\" style=\"font-size: 8.00px;fill: #4D4D4D; font-family: &quot;DejaVu Sans&quot;;\" textLength=\"74.19px\" lengthAdjust=\"spacingAndGlyphs\">orphan_monoexon</text>\n",
       "<text x=\"114.19\" y=\"325.41\" text-anchor=\"middle\" style=\"font-size: 8.00px;fill: #4D4D4D; font-family: &quot;DejaVu Sans&quot;;\" textLength=\"22.72px\" lengthAdjust=\"spacingAndGlyphs\">Other</text>\n",
       "<text x=\"158.66\" y=\"325.41\" text-anchor=\"middle\" style=\"font-size: 8.00px;fill: #4D4D4D; font-family: &quot;DejaVu Sans&quot;;\" textLength=\"21.51px\" lengthAdjust=\"spacingAndGlyphs\">pFSM</text>\n",
       "<text x=\"203.12\" y=\"325.41\" text-anchor=\"middle\" style=\"font-size: 8.00px;fill: #4D4D4D; font-family: &quot;DejaVu Sans&quot;;\" textLength=\"19.42px\" lengthAdjust=\"spacingAndGlyphs\">pISM</text>\n",
       "<text x=\"247.59\" y=\"325.41\" text-anchor=\"middle\" style=\"font-size: 8.00px;fill: #4D4D4D; font-family: &quot;DejaVu Sans&quot;;\" textLength=\"19.01px\" lengthAdjust=\"spacingAndGlyphs\">pNIC</text>\n",
       "<text x=\"292.06\" y=\"325.41\" text-anchor=\"middle\" style=\"font-size: 8.00px;fill: #4D4D4D; font-family: &quot;DejaVu Sans&quot;;\" textLength=\"22.63px\" lengthAdjust=\"spacingAndGlyphs\">pNNC</text>\n",
       "<text x=\"180.89\" y=\"337.83\" text-anchor=\"middle\" style=\"font-size: 11.00px; font-family: &quot;DejaVu Sans&quot;;\" textLength=\"147.49px\" lengthAdjust=\"spacingAndGlyphs\">protein_classification_base</text>\n",
       "<text transform=\"translate(13.50,160.06) rotate(-90)\" text-anchor=\"middle\" style=\"font-size: 11.00px; font-family: &quot;DejaVu Sans&quot;;\" textLength=\"31.03px\" lengthAdjust=\"spacingAndGlyphs\">count</text>\n",
       "<rect x=\"329.70\" y=\"129.41\" width=\"125.62\" height=\"61.31\" style=\"stroke-width: 1.07; stroke: none; fill: #FFFFFF;\"/>\n",
       "<text x=\"335.18\" y=\"144.05\" style=\"font-size: 11.00px; font-family: &quot;DejaVu Sans&quot;;\" textLength=\"114.66px\" lengthAdjust=\"spacingAndGlyphs\">containing_novel_spl</text>\n",
       "<rect x=\"335.18\" y=\"150.68\" width=\"17.28\" height=\"17.28\" style=\"stroke-width: 1.07; stroke: none; fill: #EBEBEB;\"/>\n",
       "<rect x=\"335.89\" y=\"151.39\" width=\"15.86\" height=\"15.86\" style=\"stroke-width: 1.07; stroke: none; stroke-linecap: butt; stroke-linejoin: miter; fill: #F8766D;\"/>\n",
       "<rect x=\"335.18\" y=\"167.96\" width=\"17.28\" height=\"17.28\" style=\"stroke-width: 1.07; stroke: none; fill: #EBEBEB;\"/>\n",
       "<rect x=\"335.89\" y=\"168.67\" width=\"15.86\" height=\"15.86\" style=\"stroke-width: 1.07; stroke: none; stroke-linecap: butt; stroke-linejoin: miter; fill: #00BFC4;\"/>\n",
       "<text x=\"357.94\" y=\"162.52\" style=\"font-size: 8.80px; font-family: &quot;DejaVu Sans&quot;;\" textLength=\"26.32px\" lengthAdjust=\"spacingAndGlyphs\">FALSE</text>\n",
       "<text x=\"357.94\" y=\"179.80\" style=\"font-size: 8.80px; font-family: &quot;DejaVu Sans&quot;;\" textLength=\"23.48px\" lengthAdjust=\"spacingAndGlyphs\">TRUE</text>\n",
       "</g>\n",
       "</svg>"
      ],
      "text/plain": [
       "<IPython.core.display.SVG object>"
      ]
     },
     "metadata": {},
     "output_type": "display_data"
    }
   ],
   "source": [
    "df = genome_gff3_gtf\\\n",
    "    .unique(\"transcript_id\")\\\n",
    "    .drop_nulls(\"protein_classification_base\")\\\n",
    "    .filter(pl.col(\"protein_classification_base\")!=\"NA\")\\\n",
    "    .with_columns(\n",
    "        protein_classification_base = pl.when(pl.col(\"protein_classification_base\").is_in([\"fusion\", \"antisense\", \"genic\", \"intergenic\"]))\\\n",
    "            .then(pl.lit(\"Other\"))\\\n",
    "            .otherwise(pl.col(\"protein_classification_base\")),        \n",
    "    )\\\n",
    "    .filter(pl.col(\"transcript_id\").is_in(lr_bulk.var.unique([\"base_isoform\"])[\"base_isoform\"]))\n",
    "to_r(df, \"df\")\n",
    "r(\n",
    "\"\"\"\n",
    "df %>% \n",
    "    ggplot(aes(x=protein_classification_base, fill=containing_novel_spl)) +\n",
    "    stat_count(position=position_fill()) +\n",
    "    theme(axis.text.x = element_text(size = 8))\n",
    "\"\"\"\n",
    ")"
   ]
  },
  {
   "cell_type": "code",
   "execution_count": 33,
   "metadata": {},
   "outputs": [
    {
     "data": {
      "text/plain": [
       "'375 protein isoforms are compatible with at least one novel peptides'"
      ]
     },
     "execution_count": 33,
     "metadata": {},
     "output_type": "execute_result"
    }
   ],
   "source": [
    "f\"{df.filter( pl.col(\"containing_novel_spl\")).shape[0]} protein isoforms are compatible with at least one novel peptides\""
   ]
  },
  {
   "cell_type": "markdown",
   "metadata": {},
   "source": [
    "### Percentage of protein isoforms that are compatible with any peptides"
   ]
  },
  {
   "cell_type": "markdown",
   "metadata": {},
   "source": [
    "#  PacBio isoforms in the protein sequence dataset only"
   ]
  },
  {
   "cell_type": "code",
   "execution_count": 6,
   "metadata": {},
   "outputs": [],
   "source": [
    "detected_peptides = pl.read_csv(\"nextflow_results/SFARI_peptides_pacbio.csv\")\n",
    "all_peptides = pl.read_csv(\"nextflow_results/all_peptides_annotated_pacbio.csv\")\n",
    "genome_gff3_gtf = pl.read_csv(\"nextflow_results/genome_gff3_gtf_pacbio.csv\", ignore_errors=True)\n",
    "lr_bulk = SingleCell(\"nextflow_results/pbid_orf_hybrid.h5ad\")"
   ]
  },
  {
   "cell_type": "code",
   "execution_count": 8,
   "metadata": {},
   "outputs": [
    {
     "data": {
      "text/html": [
       "<div><style>\n",
       ".dataframe > thead > tr,\n",
       ".dataframe > tbody > tr {\n",
       "  text-align: right;\n",
       "  white-space: pre-wrap;\n",
       "}\n",
       "</style>\n",
       "<small>shape: (10,)</small><table border=\"1\" class=\"dataframe\"><thead><tr><th>protein_classification_base</th></tr><tr><td>str</td></tr></thead><tbody><tr><td>&quot;pISM&quot;</td></tr><tr><td>&quot;pFSM&quot;</td></tr><tr><td>&quot;pNIC&quot;</td></tr><tr><td>&quot;genic&quot;</td></tr><tr><td>&quot;fusion&quot;</td></tr><tr><td>&quot;intergenic&quot;</td></tr><tr><td>&quot;antisense&quot;</td></tr><tr><td>&quot;pNNC&quot;</td></tr><tr><td>&quot;orphan_monoexon&quot;</td></tr><tr><td>&quot;NA&quot;</td></tr></tbody></table></div>"
      ],
      "text/plain": [
       "shape: (10,)\n",
       "Series: 'protein_classification_base' [str]\n",
       "[\n",
       "\t\"pISM\"\n",
       "\t\"pFSM\"\n",
       "\t\"pNIC\"\n",
       "\t\"genic\"\n",
       "\t\"fusion\"\n",
       "\t\"intergenic\"\n",
       "\t\"antisense\"\n",
       "\t\"pNNC\"\n",
       "\t\"orphan_monoexon\"\n",
       "\t\"NA\"\n",
       "]"
      ]
     },
     "execution_count": 8,
     "metadata": {},
     "output_type": "execute_result"
    }
   ],
   "source": [
    "genome_gff3_gtf[\"protein_classification_base\"].unique()"
   ]
  },
  {
   "cell_type": "code",
   "execution_count": 38,
   "metadata": {},
   "outputs": [
    {
     "data": {
      "text/html": [
       "<div><style>\n",
       ".dataframe > thead > tr,\n",
       ".dataframe > tbody > tr {\n",
       "  text-align: right;\n",
       "  white-space: pre-wrap;\n",
       "}\n",
       "</style>\n",
       "<small>shape: (7, 2)</small><table border=\"1\" class=\"dataframe\"><thead><tr><th>protein_classification_base</th><th>len</th></tr><tr><td>str</td><td>u32</td></tr></thead><tbody><tr><td>&quot;intergenic&quot;</td><td>61</td></tr><tr><td>&quot;pISM&quot;</td><td>26</td></tr><tr><td>&quot;pNIC&quot;</td><td>57</td></tr><tr><td>&quot;orphan_monoexon&quot;</td><td>12</td></tr><tr><td>&quot;pNNC&quot;</td><td>390</td></tr><tr><td>&quot;fusion&quot;</td><td>4</td></tr><tr><td>&quot;antisense&quot;</td><td>3</td></tr></tbody></table></div>"
      ],
      "text/plain": [
       "shape: (7, 2)\n",
       "┌─────────────────────────────┬─────┐\n",
       "│ protein_classification_base ┆ len │\n",
       "│ ---                         ┆ --- │\n",
       "│ str                         ┆ u32 │\n",
       "╞═════════════════════════════╪═════╡\n",
       "│ intergenic                  ┆ 61  │\n",
       "│ pISM                        ┆ 26  │\n",
       "│ pNIC                        ┆ 57  │\n",
       "│ orphan_monoexon             ┆ 12  │\n",
       "│ pNNC                        ┆ 390 │\n",
       "│ fusion                      ┆ 4   │\n",
       "│ antisense                   ┆ 3   │\n",
       "└─────────────────────────────┴─────┘"
      ]
     },
     "execution_count": 38,
     "metadata": {},
     "output_type": "execute_result"
    }
   ],
   "source": [
    "genome_gff3_gtf\\\n",
    "    .filter(\n",
    "        pl.col(\"containing_novel_spl\")\n",
    "    )\\\n",
    ".unique(\"transcript_id\")\\\n",
    ".group_by(\"protein_classification_base\").len()"
   ]
  },
  {
   "cell_type": "code",
   "execution_count": 39,
   "metadata": {},
   "outputs": [
    {
     "data": {
      "text/html": [
       "<div><style>\n",
       ".dataframe > thead > tr,\n",
       ".dataframe > tbody > tr {\n",
       "  text-align: right;\n",
       "  white-space: pre-wrap;\n",
       "}\n",
       "</style>\n",
       "<small>shape: (12, 10)</small><table border=\"1\" class=\"dataframe\"><thead><tr><th></th><th>seqname</th><th>feature</th><th>start</th><th>end</th><th>strand</th><th>gene_name</th><th>transcript_id</th><th>protein_classification_base</th><th>containing_novel_spl</th></tr><tr><td>i64</td><td>str</td><td>str</td><td>i64</td><td>i64</td><td>str</td><td>str</td><td>str</td><td>str</td><td>bool</td></tr></thead><tbody><tr><td>25642</td><td>&quot;chrX&quot;</td><td>&quot;CDS&quot;</td><td>53940353</td><td>53940715</td><td>&quot;-&quot;</td><td>&quot;PHF8&quot;</td><td>&quot;PB.109102.61&quot;</td><td>&quot;orphan_monoexon&quot;</td><td>true</td></tr><tr><td>517265</td><td>&quot;chr4&quot;</td><td>&quot;CDS&quot;</td><td>140379575</td><td>140379913</td><td>&quot;+&quot;</td><td>&quot;SCOC&quot;</td><td>&quot;PB.31523.39&quot;</td><td>&quot;orphan_monoexon&quot;</td><td>true</td></tr><tr><td>1418221</td><td>&quot;chr17&quot;</td><td>&quot;CDS&quot;</td><td>43021540</td><td>43022322</td><td>&quot;-&quot;</td><td>&quot;VAT1&quot;</td><td>&quot;PB.95811.103&quot;</td><td>&quot;orphan_monoexon&quot;</td><td>true</td></tr><tr><td>1594461</td><td>&quot;chr20&quot;</td><td>&quot;CDS&quot;</td><td>37522639</td><td>37523169</td><td>&quot;-&quot;</td><td>&quot;NA&quot;</td><td>&quot;PB.103669.235&quot;</td><td>&quot;orphan_monoexon&quot;</td><td>true</td></tr><tr><td>145392</td><td>&quot;chr1&quot;</td><td>&quot;CDS&quot;</td><td>111755462</td><td>111755926</td><td>&quot;-&quot;</td><td>&quot;NA&quot;</td><td>&quot;PB.4028.275&quot;</td><td>&quot;orphan_monoexon&quot;</td><td>true</td></tr><tr><td>&hellip;</td><td>&hellip;</td><td>&hellip;</td><td>&hellip;</td><td>&hellip;</td><td>&hellip;</td><td>&hellip;</td><td>&hellip;</td><td>&hellip;</td><td>&hellip;</td></tr><tr><td>1498319</td><td>&quot;chr19&quot;</td><td>&quot;CDS&quot;</td><td>4361723</td><td>4362103</td><td>&quot;+&quot;</td><td>&quot;NA&quot;</td><td>&quot;PB.100526.23&quot;</td><td>&quot;orphan_monoexon&quot;</td><td>true</td></tr><tr><td>283440</td><td>&quot;chr2&quot;</td><td>&quot;CDS&quot;</td><td>99402232</td><td>99402564</td><td>&quot;+&quot;</td><td>&quot;NA&quot;</td><td>&quot;PB.12530.1223&quot;</td><td>&quot;orphan_monoexon&quot;</td><td>true</td></tr><tr><td>128117</td><td>&quot;chr1&quot;</td><td>&quot;CDS&quot;</td><td>77044213</td><td>77044884</td><td>&quot;+&quot;</td><td>&quot;ST6GALNAC5&quot;</td><td>&quot;PB.2683.92&quot;</td><td>&quot;orphan_monoexon&quot;</td><td>true</td></tr><tr><td>1664300</td><td>&quot;chr22&quot;</td><td>&quot;CDS&quot;</td><td>50193452</td><td>50193988</td><td>&quot;-&quot;</td><td>&quot;NA&quot;</td><td>&quot;PB.107369.1&quot;</td><td>&quot;orphan_monoexon&quot;</td><td>true</td></tr><tr><td>1664301</td><td>&quot;chr22&quot;</td><td>&quot;CDS&quot;</td><td>50193452</td><td>50193988</td><td>&quot;-&quot;</td><td>&quot;NA&quot;</td><td>&quot;PB.107369.2&quot;</td><td>&quot;orphan_monoexon&quot;</td><td>true</td></tr></tbody></table></div>"
      ],
      "text/plain": [
       "shape: (12, 10)\n",
       "┌─────────┬─────────┬─────────┬───────────┬───┬────────────┬─────────────┬────────────┬────────────┐\n",
       "│         ┆ seqname ┆ feature ┆ start     ┆ … ┆ gene_name  ┆ transcript_ ┆ protein_cl ┆ containing │\n",
       "│ ---     ┆ ---     ┆ ---     ┆ ---       ┆   ┆ ---        ┆ id          ┆ assificati ┆ _novel_spl │\n",
       "│ i64     ┆ str     ┆ str     ┆ i64       ┆   ┆ str        ┆ ---         ┆ on_base    ┆ ---        │\n",
       "│         ┆         ┆         ┆           ┆   ┆            ┆ str         ┆ ---        ┆ bool       │\n",
       "│         ┆         ┆         ┆           ┆   ┆            ┆             ┆ str        ┆            │\n",
       "╞═════════╪═════════╪═════════╪═══════════╪═══╪════════════╪═════════════╪════════════╪════════════╡\n",
       "│ 25642   ┆ chrX    ┆ CDS     ┆ 53940353  ┆ … ┆ PHF8       ┆ PB.109102.6 ┆ orphan_mon ┆ true       │\n",
       "│         ┆         ┆         ┆           ┆   ┆            ┆ 1           ┆ oexon      ┆            │\n",
       "│ 517265  ┆ chr4    ┆ CDS     ┆ 140379575 ┆ … ┆ SCOC       ┆ PB.31523.39 ┆ orphan_mon ┆ true       │\n",
       "│         ┆         ┆         ┆           ┆   ┆            ┆             ┆ oexon      ┆            │\n",
       "│ 1418221 ┆ chr17   ┆ CDS     ┆ 43021540  ┆ … ┆ VAT1       ┆ PB.95811.10 ┆ orphan_mon ┆ true       │\n",
       "│         ┆         ┆         ┆           ┆   ┆            ┆ 3           ┆ oexon      ┆            │\n",
       "│ 1594461 ┆ chr20   ┆ CDS     ┆ 37522639  ┆ … ┆ NA         ┆ PB.103669.2 ┆ orphan_mon ┆ true       │\n",
       "│         ┆         ┆         ┆           ┆   ┆            ┆ 35          ┆ oexon      ┆            │\n",
       "│ 145392  ┆ chr1    ┆ CDS     ┆ 111755462 ┆ … ┆ NA         ┆ PB.4028.275 ┆ orphan_mon ┆ true       │\n",
       "│         ┆         ┆         ┆           ┆   ┆            ┆             ┆ oexon      ┆            │\n",
       "│ …       ┆ …       ┆ …       ┆ …         ┆ … ┆ …          ┆ …           ┆ …          ┆ …          │\n",
       "│ 1498319 ┆ chr19   ┆ CDS     ┆ 4361723   ┆ … ┆ NA         ┆ PB.100526.2 ┆ orphan_mon ┆ true       │\n",
       "│         ┆         ┆         ┆           ┆   ┆            ┆ 3           ┆ oexon      ┆            │\n",
       "│ 283440  ┆ chr2    ┆ CDS     ┆ 99402232  ┆ … ┆ NA         ┆ PB.12530.12 ┆ orphan_mon ┆ true       │\n",
       "│         ┆         ┆         ┆           ┆   ┆            ┆ 23          ┆ oexon      ┆            │\n",
       "│ 128117  ┆ chr1    ┆ CDS     ┆ 77044213  ┆ … ┆ ST6GALNAC5 ┆ PB.2683.92  ┆ orphan_mon ┆ true       │\n",
       "│         ┆         ┆         ┆           ┆   ┆            ┆             ┆ oexon      ┆            │\n",
       "│ 1664300 ┆ chr22   ┆ CDS     ┆ 50193452  ┆ … ┆ NA         ┆ PB.107369.1 ┆ orphan_mon ┆ true       │\n",
       "│         ┆         ┆         ┆           ┆   ┆            ┆             ┆ oexon      ┆            │\n",
       "│ 1664301 ┆ chr22   ┆ CDS     ┆ 50193452  ┆ … ┆ NA         ┆ PB.107369.2 ┆ orphan_mon ┆ true       │\n",
       "│         ┆         ┆         ┆           ┆   ┆            ┆             ┆ oexon      ┆            │\n",
       "└─────────┴─────────┴─────────┴───────────┴───┴────────────┴─────────────┴────────────┴────────────┘"
      ]
     },
     "execution_count": 39,
     "metadata": {},
     "output_type": "execute_result"
    }
   ],
   "source": [
    "genome_gff3_gtf\\\n",
    "    .filter(\n",
    "        pl.col(\"containing_novel_spl\"),\n",
    "        pl.col(\"protein_classification_base\") == \"orphan_monoexon\"\n",
    "    )\\\n",
    ".unique(\"transcript_id\")"
   ]
  },
  {
   "cell_type": "code",
   "execution_count": 40,
   "metadata": {},
   "outputs": [
    {
     "data": {
      "text/html": [
       "<div><style>\n",
       ".dataframe > thead > tr,\n",
       ".dataframe > tbody > tr {\n",
       "  text-align: right;\n",
       "  white-space: pre-wrap;\n",
       "}\n",
       "</style>\n",
       "<small>shape: (1, 57)</small><table border=\"1\" class=\"dataframe\"><thead><tr><th>isoform</th><th>chrom</th><th>strand</th><th>length</th><th>exons</th><th>structural_category</th><th>associated_gene</th><th>associated_transcript</th><th>ref_length</th><th>ref_exons</th><th>diff_to_TSS</th><th>diff_to_TTS</th><th>diff_to_gene_TSS</th><th>diff_to_gene_TTS</th><th>subcategory</th><th>RTS_stage</th><th>all_canonical</th><th>min_sample_cov</th><th>min_cov</th><th>min_cov_pos</th><th>sd_cov</th><th>FL</th><th>n_indels</th><th>n_indels_junc</th><th>bite</th><th>iso_exp</th><th>gene_exp</th><th>ratio_exp</th><th>FSM_class</th><th>coding</th><th>ORF_length</th><th>CDS_length</th><th>CDS_start</th><th>CDS_end</th><th>CDS_genomic_start</th><th>CDS_genomic_end</th><th>predicted_NMD</th><th>perc_A_downstream_TTS</th><th>seq_A_downstream_TTS</th><th>dist_to_CAGE_peak</th><th>within_CAGE_peak</th><th>dist_to_polyA_site</th><th>within_polyA_site</th><th>polyA_motif</th><th>polyA_dist</th><th>polyA_motif_found</th><th>ORF_seq</th><th>ratio_TSS</th><th>fl_assoc</th><th>cell_barcodes</th><th>at_least_one_orf</th><th>predicted_orf</th><th>ORF_type</th><th>base_isoform</th><th>in_any_PSMs</th><th>in_novel_only_PSMs</th><th>validated_proteomics</th></tr><tr><td>str</td><td>enum</td><td>enum</td><td>i64</td><td>i64</td><td>enum</td><td>enum</td><td>enum</td><td>i64</td><td>i64</td><td>i64</td><td>i64</td><td>i64</td><td>i64</td><td>enum</td><td>enum</td><td>enum</td><td>enum</td><td>enum</td><td>enum</td><td>enum</td><td>enum</td><td>enum</td><td>enum</td><td>bool</td><td>enum</td><td>enum</td><td>enum</td><td>enum</td><td>enum</td><td>enum</td><td>enum</td><td>enum</td><td>enum</td><td>i64</td><td>i64</td><td>enum</td><td>f64</td><td>enum</td><td>enum</td><td>enum</td><td>enum</td><td>enum</td><td>enum</td><td>enum</td><td>enum</td><td>enum</td><td>enum</td><td>enum</td><td>enum</td><td>bool</td><td>bool</td><td>enum</td><td>enum</td><td>bool</td><td>bool</td><td>bool</td></tr></thead><tbody><tr><td>&quot;PB.109102.61&quot;</td><td>&quot;chrX&quot;</td><td>&quot;-&quot;</td><td>4908</td><td>2</td><td>&quot;incomplete-splice_match&quot;</td><td>&quot;PHF8&quot;</td><td>&quot;ENST00000687283.1&quot;</td><td>3206</td><td>4</td><td>20527</td><td>-12</td><td>2042</td><td>-2</td><td>&quot;3prime_fragment&quot;</td><td>&quot;FALSE&quot;</td><td>&quot;canonical&quot;</td><td>null</td><td>null</td><td>null</td><td>null</td><td>null</td><td>null</td><td>null</td><td>false</td><td>null</td><td>null</td><td>null</td><td>&quot;C&quot;</td><td>&quot;non_coding&quot;</td><td>null</td><td>null</td><td>null</td><td>null</td><td>53940349</td><td>53940715</td><td>null</td><td>15.0</td><td>&quot;AATTGCTTTGCTTGGCATTC&quot;</td><td>null</td><td>null</td><td>null</td><td>null</td><td>null</td><td>null</td><td>null</td><td>null</td><td>null</td><td>null</td><td>null</td><td>true</td><td>true</td><td>&quot;complete&quot;</td><td>&quot;PB.109102.61&quot;</td><td>true</td><td>true</td><td>true</td></tr></tbody></table></div>"
      ],
      "text/plain": [
       "shape: (1, 57)\n",
       "┌─────────────┬───────┬────────┬────────┬───┬─────────────┬─────────────┬─────────────┬────────────┐\n",
       "│ isoform     ┆ chrom ┆ strand ┆ length ┆ … ┆ base_isofor ┆ in_any_PSMs ┆ in_novel_on ┆ validated_ │\n",
       "│ ---         ┆ ---   ┆ ---    ┆ ---    ┆   ┆ m           ┆ ---         ┆ ly_PSMs     ┆ proteomics │\n",
       "│ str         ┆ enum  ┆ enum   ┆ i64    ┆   ┆ ---         ┆ bool        ┆ ---         ┆ ---        │\n",
       "│             ┆       ┆        ┆        ┆   ┆ enum        ┆             ┆ bool        ┆ bool       │\n",
       "╞═════════════╪═══════╪════════╪════════╪═══╪═════════════╪═════════════╪═════════════╪════════════╡\n",
       "│ PB.109102.6 ┆ chrX  ┆ -      ┆ 4908   ┆ … ┆ PB.109102.6 ┆ true        ┆ true        ┆ true       │\n",
       "│ 1           ┆       ┆        ┆        ┆   ┆ 1           ┆             ┆             ┆            │\n",
       "└─────────────┴───────┴────────┴────────┴───┴─────────────┴─────────────┴─────────────┴────────────┘"
      ]
     },
     "execution_count": 40,
     "metadata": {},
     "output_type": "execute_result"
    }
   ],
   "source": [
    "lr_bulk.var\\\n",
    "    .filter(pl.col(\"isoform\")==\"PB.109102.61\")\n"
   ]
  },
  {
   "cell_type": "markdown",
   "metadata": {},
   "source": [
    "### WASH7P (Pseudogene)"
   ]
  },
  {
   "cell_type": "markdown",
   "metadata": {},
   "source": [
    "https://genome.ucsc.edu/cgi-bin/hgTracks?db=hg38&lastVirtModeType=default&lastVirtModeExtraState=&virtModeType=default&virtMode=0&nonVirtPosition=&position=chr1%3A17324%2D19696&hgsid=2437126059_pUXMutcmZbyePR2GkLceGzRD3aSh"
   ]
  },
  {
   "cell_type": "code",
   "execution_count": 16,
   "metadata": {},
   "outputs": [
    {
     "data": {
      "text/html": [
       "<div><style>\n",
       ".dataframe > thead > tr,\n",
       ".dataframe > tbody > tr {\n",
       "  text-align: right;\n",
       "  white-space: pre-wrap;\n",
       "}\n",
       "</style>\n",
       "<small>shape: (1, 57)</small><table border=\"1\" class=\"dataframe\"><thead><tr><th>isoform</th><th>chrom</th><th>strand</th><th>length</th><th>exons</th><th>structural_category</th><th>associated_gene</th><th>associated_transcript</th><th>ref_length</th><th>ref_exons</th><th>diff_to_TSS</th><th>diff_to_TTS</th><th>diff_to_gene_TSS</th><th>diff_to_gene_TTS</th><th>subcategory</th><th>RTS_stage</th><th>all_canonical</th><th>min_sample_cov</th><th>min_cov</th><th>min_cov_pos</th><th>sd_cov</th><th>FL</th><th>n_indels</th><th>n_indels_junc</th><th>bite</th><th>iso_exp</th><th>gene_exp</th><th>ratio_exp</th><th>FSM_class</th><th>coding</th><th>ORF_length</th><th>CDS_length</th><th>CDS_start</th><th>CDS_end</th><th>CDS_genomic_start</th><th>CDS_genomic_end</th><th>predicted_NMD</th><th>perc_A_downstream_TTS</th><th>seq_A_downstream_TTS</th><th>dist_to_CAGE_peak</th><th>within_CAGE_peak</th><th>dist_to_polyA_site</th><th>within_polyA_site</th><th>polyA_motif</th><th>polyA_dist</th><th>polyA_motif_found</th><th>ORF_seq</th><th>ratio_TSS</th><th>fl_assoc</th><th>cell_barcodes</th><th>at_least_one_orf</th><th>predicted_orf</th><th>ORF_type</th><th>base_isoform</th><th>in_any_PSMs</th><th>in_novel_only_PSMs</th><th>validated_proteomics</th></tr><tr><td>str</td><td>enum</td><td>enum</td><td>i64</td><td>i64</td><td>enum</td><td>enum</td><td>enum</td><td>i64</td><td>i64</td><td>i64</td><td>i64</td><td>i64</td><td>i64</td><td>enum</td><td>enum</td><td>enum</td><td>enum</td><td>enum</td><td>enum</td><td>enum</td><td>enum</td><td>enum</td><td>enum</td><td>bool</td><td>enum</td><td>enum</td><td>enum</td><td>enum</td><td>enum</td><td>enum</td><td>enum</td><td>enum</td><td>enum</td><td>i64</td><td>i64</td><td>enum</td><td>f64</td><td>enum</td><td>enum</td><td>enum</td><td>enum</td><td>enum</td><td>enum</td><td>enum</td><td>enum</td><td>enum</td><td>enum</td><td>enum</td><td>enum</td><td>bool</td><td>bool</td><td>enum</td><td>enum</td><td>bool</td><td>bool</td><td>bool</td></tr></thead><tbody><tr><td>&quot;PB.6.19&quot;</td><td>&quot;chr1&quot;</td><td>&quot;-&quot;</td><td>1794</td><td>11</td><td>&quot;novel_not_in_catalog&quot;</td><td>&quot;WASH7P&quot;</td><td>&quot;novel&quot;</td><td>1351</td><td>11</td><td>null</td><td>null</td><td>148</td><td>2</td><td>&quot;at_least_one_novel_splicesite&quot;</td><td>&quot;FALSE&quot;</td><td>&quot;canonical&quot;</td><td>null</td><td>null</td><td>null</td><td>null</td><td>null</td><td>null</td><td>null</td><td>true</td><td>null</td><td>null</td><td>null</td><td>&quot;B&quot;</td><td>&quot;non_coding&quot;</td><td>null</td><td>null</td><td>null</td><td>null</td><td>24737</td><td>17368</td><td>null</td><td>40.0</td><td>&quot;AACAGTGTGCTTTTAATAAA&quot;</td><td>null</td><td>null</td><td>null</td><td>null</td><td>null</td><td>null</td><td>null</td><td>null</td><td>null</td><td>null</td><td>null</td><td>true</td><td>true</td><td>&quot;complete&quot;</td><td>&quot;PB.6.19&quot;</td><td>true</td><td>true</td><td>true</td></tr></tbody></table></div>"
      ],
      "text/plain": [
       "shape: (1, 57)\n",
       "┌─────────┬───────┬────────┬────────┬───┬──────────────┬─────────────┬──────────────┬──────────────┐\n",
       "│ isoform ┆ chrom ┆ strand ┆ length ┆ … ┆ base_isoform ┆ in_any_PSMs ┆ in_novel_onl ┆ validated_pr │\n",
       "│ ---     ┆ ---   ┆ ---    ┆ ---    ┆   ┆ ---          ┆ ---         ┆ y_PSMs       ┆ oteomics     │\n",
       "│ str     ┆ enum  ┆ enum   ┆ i64    ┆   ┆ enum         ┆ bool        ┆ ---          ┆ ---          │\n",
       "│         ┆       ┆        ┆        ┆   ┆              ┆             ┆ bool         ┆ bool         │\n",
       "╞═════════╪═══════╪════════╪════════╪═══╪══════════════╪═════════════╪══════════════╪══════════════╡\n",
       "│ PB.6.19 ┆ chr1  ┆ -      ┆ 1794   ┆ … ┆ PB.6.19      ┆ true        ┆ true         ┆ true         │\n",
       "└─────────┴───────┴────────┴────────┴───┴──────────────┴─────────────┴──────────────┴──────────────┘"
      ]
     },
     "execution_count": 16,
     "metadata": {},
     "output_type": "execute_result"
    }
   ],
   "source": [
    "lr_bulk.var\\\n",
    "    .filter(pl.col(\"isoform\")==\"PB.6.19\")"
   ]
  },
  {
   "cell_type": "markdown",
   "metadata": {},
   "source": [
    "### PDE4DIPP2 (lncRNA)"
   ]
  },
  {
   "cell_type": "markdown",
   "metadata": {},
   "source": [
    "https://genome.ucsc.edu/cgi-bin/hgTracks?db=hg38&lastVirtModeType=default&lastVirtModeExtraState=&virtModeType=default&virtMode=0&nonVirtPosition=&position=chr1%3A120538148%2D120545947&hgsid=2437151929_iA9G2aYIwXgAAdXvVdSZH4opLKqp"
   ]
  },
  {
   "cell_type": "code",
   "execution_count": 31,
   "metadata": {},
   "outputs": [
    {
     "data": {
      "text/html": [
       "<div><style>\n",
       ".dataframe > thead > tr,\n",
       ".dataframe > tbody > tr {\n",
       "  text-align: right;\n",
       "  white-space: pre-wrap;\n",
       "}\n",
       "</style>\n",
       "<small>shape: (1, 57)</small><table border=\"1\" class=\"dataframe\"><thead><tr><th>isoform</th><th>chrom</th><th>strand</th><th>length</th><th>exons</th><th>structural_category</th><th>associated_gene</th><th>associated_transcript</th><th>ref_length</th><th>ref_exons</th><th>diff_to_TSS</th><th>diff_to_TTS</th><th>diff_to_gene_TSS</th><th>diff_to_gene_TTS</th><th>subcategory</th><th>RTS_stage</th><th>all_canonical</th><th>min_sample_cov</th><th>min_cov</th><th>min_cov_pos</th><th>sd_cov</th><th>FL</th><th>n_indels</th><th>n_indels_junc</th><th>bite</th><th>iso_exp</th><th>gene_exp</th><th>ratio_exp</th><th>FSM_class</th><th>coding</th><th>ORF_length</th><th>CDS_length</th><th>CDS_start</th><th>CDS_end</th><th>CDS_genomic_start</th><th>CDS_genomic_end</th><th>predicted_NMD</th><th>perc_A_downstream_TTS</th><th>seq_A_downstream_TTS</th><th>dist_to_CAGE_peak</th><th>within_CAGE_peak</th><th>dist_to_polyA_site</th><th>within_polyA_site</th><th>polyA_motif</th><th>polyA_dist</th><th>polyA_motif_found</th><th>ORF_seq</th><th>ratio_TSS</th><th>fl_assoc</th><th>cell_barcodes</th><th>at_least_one_orf</th><th>predicted_orf</th><th>ORF_type</th><th>base_isoform</th><th>in_any_PSMs</th><th>in_novel_only_PSMs</th><th>validated_proteomics</th></tr><tr><td>str</td><td>enum</td><td>enum</td><td>i64</td><td>i64</td><td>enum</td><td>enum</td><td>enum</td><td>i64</td><td>i64</td><td>i64</td><td>i64</td><td>i64</td><td>i64</td><td>enum</td><td>enum</td><td>enum</td><td>enum</td><td>enum</td><td>enum</td><td>enum</td><td>enum</td><td>enum</td><td>enum</td><td>bool</td><td>enum</td><td>enum</td><td>enum</td><td>enum</td><td>enum</td><td>enum</td><td>enum</td><td>enum</td><td>enum</td><td>i64</td><td>i64</td><td>enum</td><td>f64</td><td>enum</td><td>enum</td><td>enum</td><td>enum</td><td>enum</td><td>enum</td><td>enum</td><td>enum</td><td>enum</td><td>enum</td><td>enum</td><td>enum</td><td>bool</td><td>bool</td><td>enum</td><td>enum</td><td>bool</td><td>bool</td><td>bool</td></tr></thead><tbody><tr><td>&quot;PB.4353.244&quot;</td><td>&quot;chr1&quot;</td><td>&quot;-&quot;</td><td>5767</td><td>15</td><td>&quot;novel_not_in_catalog&quot;</td><td>&quot;PDE4DIPP2&quot;</td><td>&quot;novel&quot;</td><td>6897</td><td>42</td><td>null</td><td>null</td><td>-10533</td><td>2</td><td>&quot;at_least_one_novel_splicesite&quot;</td><td>&quot;FALSE&quot;</td><td>&quot;canonical&quot;</td><td>null</td><td>null</td><td>null</td><td>null</td><td>null</td><td>null</td><td>null</td><td>true</td><td>null</td><td>null</td><td>null</td><td>&quot;B&quot;</td><td>&quot;non_coding&quot;</td><td>null</td><td>null</td><td>null</td><td>null</td><td>120557018</td><td>120542086</td><td>null</td><td>15.0</td><td>&quot;GTTTTGTGTCCAGATTCTCA&quot;</td><td>null</td><td>null</td><td>null</td><td>null</td><td>null</td><td>null</td><td>null</td><td>null</td><td>null</td><td>null</td><td>null</td><td>true</td><td>true</td><td>&quot;complete&quot;</td><td>&quot;PB.4353.244&quot;</td><td>true</td><td>true</td><td>true</td></tr></tbody></table></div>"
      ],
      "text/plain": [
       "shape: (1, 57)\n",
       "┌─────────────┬───────┬────────┬────────┬───┬─────────────┬─────────────┬─────────────┬────────────┐\n",
       "│ isoform     ┆ chrom ┆ strand ┆ length ┆ … ┆ base_isofor ┆ in_any_PSMs ┆ in_novel_on ┆ validated_ │\n",
       "│ ---         ┆ ---   ┆ ---    ┆ ---    ┆   ┆ m           ┆ ---         ┆ ly_PSMs     ┆ proteomics │\n",
       "│ str         ┆ enum  ┆ enum   ┆ i64    ┆   ┆ ---         ┆ bool        ┆ ---         ┆ ---        │\n",
       "│             ┆       ┆        ┆        ┆   ┆ enum        ┆             ┆ bool        ┆ bool       │\n",
       "╞═════════════╪═══════╪════════╪════════╪═══╪═════════════╪═════════════╪═════════════╪════════════╡\n",
       "│ PB.4353.244 ┆ chr1  ┆ -      ┆ 5767   ┆ … ┆ PB.4353.244 ┆ true        ┆ true        ┆ true       │\n",
       "└─────────────┴───────┴────────┴────────┴───┴─────────────┴─────────────┴─────────────┴────────────┘"
      ]
     },
     "execution_count": 31,
     "metadata": {},
     "output_type": "execute_result"
    }
   ],
   "source": [
    "lr_bulk.var\\\n",
    "    .filter(pl.col(\"isoform\")==\"PB.4353.244\")"
   ]
  },
  {
   "cell_type": "markdown",
   "metadata": {},
   "source": [
    "### novelGene_ENSG00000226506_AS "
   ]
  },
  {
   "cell_type": "markdown",
   "metadata": {},
   "source": [
    "https://genome.ucsc.edu/cgi-bin/hgTracks?db=hg38&lastVirtModeType=default&lastVirtModeExtraState=&virtModeType=default&virtMode=0&nonVirtPosition=&position=chr2%3A7857892%2D7896771&hgsid=2437126059_pUXMutcmZbyePR2GkLceGzRD3aSh"
   ]
  },
  {
   "cell_type": "code",
   "execution_count": 32,
   "metadata": {},
   "outputs": [
    {
     "data": {
      "text/html": [
       "<div><style>\n",
       ".dataframe > thead > tr,\n",
       ".dataframe > tbody > tr {\n",
       "  text-align: right;\n",
       "  white-space: pre-wrap;\n",
       "}\n",
       "</style>\n",
       "<small>shape: (1, 57)</small><table border=\"1\" class=\"dataframe\"><thead><tr><th>isoform</th><th>chrom</th><th>strand</th><th>length</th><th>exons</th><th>structural_category</th><th>associated_gene</th><th>associated_transcript</th><th>ref_length</th><th>ref_exons</th><th>diff_to_TSS</th><th>diff_to_TTS</th><th>diff_to_gene_TSS</th><th>diff_to_gene_TTS</th><th>subcategory</th><th>RTS_stage</th><th>all_canonical</th><th>min_sample_cov</th><th>min_cov</th><th>min_cov_pos</th><th>sd_cov</th><th>FL</th><th>n_indels</th><th>n_indels_junc</th><th>bite</th><th>iso_exp</th><th>gene_exp</th><th>ratio_exp</th><th>FSM_class</th><th>coding</th><th>ORF_length</th><th>CDS_length</th><th>CDS_start</th><th>CDS_end</th><th>CDS_genomic_start</th><th>CDS_genomic_end</th><th>predicted_NMD</th><th>perc_A_downstream_TTS</th><th>seq_A_downstream_TTS</th><th>dist_to_CAGE_peak</th><th>within_CAGE_peak</th><th>dist_to_polyA_site</th><th>within_polyA_site</th><th>polyA_motif</th><th>polyA_dist</th><th>polyA_motif_found</th><th>ORF_seq</th><th>ratio_TSS</th><th>fl_assoc</th><th>cell_barcodes</th><th>at_least_one_orf</th><th>predicted_orf</th><th>ORF_type</th><th>base_isoform</th><th>in_any_PSMs</th><th>in_novel_only_PSMs</th><th>validated_proteomics</th></tr><tr><td>str</td><td>enum</td><td>enum</td><td>i64</td><td>i64</td><td>enum</td><td>enum</td><td>enum</td><td>i64</td><td>i64</td><td>i64</td><td>i64</td><td>i64</td><td>i64</td><td>enum</td><td>enum</td><td>enum</td><td>enum</td><td>enum</td><td>enum</td><td>enum</td><td>enum</td><td>enum</td><td>enum</td><td>bool</td><td>enum</td><td>enum</td><td>enum</td><td>enum</td><td>enum</td><td>enum</td><td>enum</td><td>enum</td><td>enum</td><td>i64</td><td>i64</td><td>enum</td><td>f64</td><td>enum</td><td>enum</td><td>enum</td><td>enum</td><td>enum</td><td>enum</td><td>enum</td><td>enum</td><td>enum</td><td>enum</td><td>enum</td><td>enum</td><td>bool</td><td>bool</td><td>enum</td><td>enum</td><td>bool</td><td>bool</td><td>bool</td></tr></thead><tbody><tr><td>&quot;PB.8928.42&quot;</td><td>&quot;chr2&quot;</td><td>&quot;+&quot;</td><td>2115</td><td>2</td><td>&quot;antisense&quot;</td><td>&quot;novelGene_ENSG00000226506_AS&quot;</td><td>&quot;novel&quot;</td><td>null</td><td>null</td><td>null</td><td>null</td><td>null</td><td>null</td><td>&quot;multi-exon&quot;</td><td>&quot;FALSE&quot;</td><td>&quot;canonical&quot;</td><td>null</td><td>null</td><td>null</td><td>null</td><td>null</td><td>null</td><td>null</td><td>true</td><td>null</td><td>null</td><td>null</td><td>&quot;B&quot;</td><td>&quot;non_coding&quot;</td><td>null</td><td>null</td><td>null</td><td>null</td><td>7877115</td><td>7877550</td><td>null</td><td>25.0</td><td>&quot;TTGTTGTATTATTCTTAAAT&quot;</td><td>null</td><td>null</td><td>null</td><td>null</td><td>null</td><td>null</td><td>null</td><td>null</td><td>null</td><td>null</td><td>null</td><td>true</td><td>true</td><td>&quot;complete&quot;</td><td>&quot;PB.8928.40&quot;</td><td>false</td><td>false</td><td>false</td></tr></tbody></table></div>"
      ],
      "text/plain": [
       "shape: (1, 57)\n",
       "┌────────────┬───────┬────────┬────────┬───┬─────────────┬─────────────┬─────────────┬─────────────┐\n",
       "│ isoform    ┆ chrom ┆ strand ┆ length ┆ … ┆ base_isofor ┆ in_any_PSMs ┆ in_novel_on ┆ validated_p │\n",
       "│ ---        ┆ ---   ┆ ---    ┆ ---    ┆   ┆ m           ┆ ---         ┆ ly_PSMs     ┆ roteomics   │\n",
       "│ str        ┆ enum  ┆ enum   ┆ i64    ┆   ┆ ---         ┆ bool        ┆ ---         ┆ ---         │\n",
       "│            ┆       ┆        ┆        ┆   ┆ enum        ┆             ┆ bool        ┆ bool        │\n",
       "╞════════════╪═══════╪════════╪════════╪═══╪═════════════╪═════════════╪═════════════╪═════════════╡\n",
       "│ PB.8928.42 ┆ chr2  ┆ +      ┆ 2115   ┆ … ┆ PB.8928.40  ┆ false       ┆ false       ┆ false       │\n",
       "└────────────┴───────┴────────┴────────┴───┴─────────────┴─────────────┴─────────────┴─────────────┘"
      ]
     },
     "execution_count": 32,
     "metadata": {},
     "output_type": "execute_result"
    }
   ],
   "source": [
    "lr_bulk.var\\\n",
    "    .filter(pl.col(\"isoform\")==\"PB.8928.42\")\n"
   ]
  },
  {
   "cell_type": "markdown",
   "metadata": {},
   "source": [
    "### ZNF783 (protein coding)"
   ]
  },
  {
   "cell_type": "markdown",
   "metadata": {},
   "source": [
    "https://genome.ucsc.edu/cgi-bin/hgTracks?db=hg38&lastVirtModeType=default&lastVirtModeExtraState=&virtModeType=default&virtMode=0&nonVirtPosition=&position=chr7%3A149284285%2D149305974&hgsid=2437126059_pUXMutcmZbyePR2GkLceGzRD3aSh"
   ]
  },
  {
   "cell_type": "code",
   "execution_count": 34,
   "metadata": {},
   "outputs": [
    {
     "data": {
      "text/html": [
       "<div><style>\n",
       ".dataframe > thead > tr,\n",
       ".dataframe > tbody > tr {\n",
       "  text-align: right;\n",
       "  white-space: pre-wrap;\n",
       "}\n",
       "</style>\n",
       "<small>shape: (1, 57)</small><table border=\"1\" class=\"dataframe\"><thead><tr><th>isoform</th><th>chrom</th><th>strand</th><th>length</th><th>exons</th><th>structural_category</th><th>associated_gene</th><th>associated_transcript</th><th>ref_length</th><th>ref_exons</th><th>diff_to_TSS</th><th>diff_to_TTS</th><th>diff_to_gene_TSS</th><th>diff_to_gene_TTS</th><th>subcategory</th><th>RTS_stage</th><th>all_canonical</th><th>min_sample_cov</th><th>min_cov</th><th>min_cov_pos</th><th>sd_cov</th><th>FL</th><th>n_indels</th><th>n_indels_junc</th><th>bite</th><th>iso_exp</th><th>gene_exp</th><th>ratio_exp</th><th>FSM_class</th><th>coding</th><th>ORF_length</th><th>CDS_length</th><th>CDS_start</th><th>CDS_end</th><th>CDS_genomic_start</th><th>CDS_genomic_end</th><th>predicted_NMD</th><th>perc_A_downstream_TTS</th><th>seq_A_downstream_TTS</th><th>dist_to_CAGE_peak</th><th>within_CAGE_peak</th><th>dist_to_polyA_site</th><th>within_polyA_site</th><th>polyA_motif</th><th>polyA_dist</th><th>polyA_motif_found</th><th>ORF_seq</th><th>ratio_TSS</th><th>fl_assoc</th><th>cell_barcodes</th><th>at_least_one_orf</th><th>predicted_orf</th><th>ORF_type</th><th>base_isoform</th><th>in_any_PSMs</th><th>in_novel_only_PSMs</th><th>validated_proteomics</th></tr><tr><td>str</td><td>enum</td><td>enum</td><td>i64</td><td>i64</td><td>enum</td><td>enum</td><td>enum</td><td>i64</td><td>i64</td><td>i64</td><td>i64</td><td>i64</td><td>i64</td><td>enum</td><td>enum</td><td>enum</td><td>enum</td><td>enum</td><td>enum</td><td>enum</td><td>enum</td><td>enum</td><td>enum</td><td>bool</td><td>enum</td><td>enum</td><td>enum</td><td>enum</td><td>enum</td><td>enum</td><td>enum</td><td>enum</td><td>enum</td><td>i64</td><td>i64</td><td>enum</td><td>f64</td><td>enum</td><td>enum</td><td>enum</td><td>enum</td><td>enum</td><td>enum</td><td>enum</td><td>enum</td><td>enum</td><td>enum</td><td>enum</td><td>enum</td><td>bool</td><td>bool</td><td>enum</td><td>enum</td><td>bool</td><td>bool</td><td>bool</td></tr></thead><tbody><tr><td>&quot;PB.53680.442&quot;</td><td>&quot;chr7&quot;</td><td>&quot;+&quot;</td><td>3786</td><td>5</td><td>&quot;novel_in_catalog&quot;</td><td>&quot;ENSG00000244560&quot;</td><td>&quot;novel&quot;</td><td>2804</td><td>10</td><td>null</td><td>null</td><td>-22</td><td>-1</td><td>&quot;intron_retention&quot;</td><td>&quot;FALSE&quot;</td><td>&quot;canonical&quot;</td><td>null</td><td>null</td><td>null</td><td>null</td><td>null</td><td>null</td><td>null</td><td>false</td><td>null</td><td>null</td><td>null</td><td>&quot;C&quot;</td><td>&quot;non_coding&quot;</td><td>null</td><td>null</td><td>null</td><td>null</td><td>149294768</td><td>149295494</td><td>null</td><td>30.0</td><td>&quot;ATGCCATTCTCAATTTTAAT&quot;</td><td>null</td><td>null</td><td>null</td><td>null</td><td>null</td><td>null</td><td>null</td><td>null</td><td>null</td><td>null</td><td>null</td><td>true</td><td>true</td><td>&quot;complete&quot;</td><td>&quot;PB.53680.418&quot;</td><td>false</td><td>false</td><td>false</td></tr></tbody></table></div>"
      ],
      "text/plain": [
       "shape: (1, 57)\n",
       "┌─────────────┬───────┬────────┬────────┬───┬─────────────┬─────────────┬─────────────┬────────────┐\n",
       "│ isoform     ┆ chrom ┆ strand ┆ length ┆ … ┆ base_isofor ┆ in_any_PSMs ┆ in_novel_on ┆ validated_ │\n",
       "│ ---         ┆ ---   ┆ ---    ┆ ---    ┆   ┆ m           ┆ ---         ┆ ly_PSMs     ┆ proteomics │\n",
       "│ str         ┆ enum  ┆ enum   ┆ i64    ┆   ┆ ---         ┆ bool        ┆ ---         ┆ ---        │\n",
       "│             ┆       ┆        ┆        ┆   ┆ enum        ┆             ┆ bool        ┆ bool       │\n",
       "╞═════════════╪═══════╪════════╪════════╪═══╪═════════════╪═════════════╪═════════════╪════════════╡\n",
       "│ PB.53680.44 ┆ chr7  ┆ +      ┆ 3786   ┆ … ┆ PB.53680.41 ┆ false       ┆ false       ┆ false      │\n",
       "│ 2           ┆       ┆        ┆        ┆   ┆ 8           ┆             ┆             ┆            │\n",
       "└─────────────┴───────┴────────┴────────┴───┴─────────────┴─────────────┴─────────────┴────────────┘"
      ]
     },
     "execution_count": 34,
     "metadata": {},
     "output_type": "execute_result"
    }
   ],
   "source": [
    "lr_bulk.var\\\n",
    "    .filter(pl.col(\"isoform\")==\"PB.53680.442\")\n"
   ]
  },
  {
   "cell_type": "markdown",
   "metadata": {},
   "source": [
    "## Peptides"
   ]
  },
  {
   "cell_type": "code",
   "execution_count": 35,
   "metadata": {},
   "outputs": [],
   "source": [
    "detected_peptides = detected_peptides[\"transcript_id\"].unique()\n",
    "df = all_peptides\\\n",
    "    .with_columns(\n",
    "        detected = pl.when(\n",
    "            pl.col(\"transcript_id\").is_in(detected_peptides)\n",
    "        )\\\n",
    "        .then(pl.lit(True))\\\n",
    "        .otherwise(pl.lit(False))\n",
    "    )\n"
   ]
  },
  {
   "cell_type": "code",
   "execution_count": 36,
   "metadata": {},
   "outputs": [
    {
     "data": {
      "text/html": [
       "<div><style>\n",
       ".dataframe > thead > tr,\n",
       ".dataframe > tbody > tr {\n",
       "  text-align: right;\n",
       "  white-space: pre-wrap;\n",
       "}\n",
       "</style>\n",
       "<small>shape: (4, 3)</small><table border=\"1\" class=\"dataframe\"><thead><tr><th>novelty</th><th>detected</th><th>len</th></tr><tr><td>str</td><td>bool</td><td>u32</td></tr></thead><tbody><tr><td>&quot;known&quot;</td><td>true</td><td>103174</td></tr><tr><td>&quot;novel&quot;</td><td>true</td><td>480</td></tr><tr><td>&quot;known&quot;</td><td>false</td><td>713365</td></tr><tr><td>&quot;novel&quot;</td><td>false</td><td>56935</td></tr></tbody></table></div>"
      ],
      "text/plain": [
       "shape: (4, 3)\n",
       "┌─────────┬──────────┬────────┐\n",
       "│ novelty ┆ detected ┆ len    │\n",
       "│ ---     ┆ ---      ┆ ---    │\n",
       "│ str     ┆ bool     ┆ u32    │\n",
       "╞═════════╪══════════╪════════╡\n",
       "│ known   ┆ true     ┆ 103174 │\n",
       "│ novel   ┆ true     ┆ 480    │\n",
       "│ known   ┆ false    ┆ 713365 │\n",
       "│ novel   ┆ false    ┆ 56935  │\n",
       "└─────────┴──────────┴────────┘"
      ]
     },
     "execution_count": 36,
     "metadata": {},
     "output_type": "execute_result"
    }
   ],
   "source": [
    "df.group_by([\"novelty\", \"detected\"]).len()"
   ]
  },
  {
   "cell_type": "code",
   "execution_count": 42,
   "metadata": {},
   "outputs": [
    {
     "data": {
      "text/plain": [
       "'Using the PacBio database, 0.8360184620743708% of the novel peptides are detected'"
      ]
     },
     "execution_count": 42,
     "metadata": {},
     "output_type": "execute_result"
    }
   ],
   "source": [
    "f\"Using the PacBio database, {480/(480+56935)*100}% of the novel peptides are detected\""
   ]
  },
  {
   "cell_type": "code",
   "execution_count": 43,
   "metadata": {},
   "outputs": [
    {
     "data": {
      "text/plain": [
       "'Using the PacBio database, 12.635526288395289% of all peptides are detected'"
      ]
     },
     "execution_count": 43,
     "metadata": {},
     "output_type": "execute_result"
    }
   ],
   "source": [
    "f\"Using the PacBio database, {103174/(103174+713365)*100}% of all peptides are detected\""
   ]
  },
  {
   "cell_type": "code",
   "execution_count": 41,
   "metadata": {},
   "outputs": [
    {
     "name": "stdout",
     "output_type": "stream",
     "text": [
      "null device \n",
      "          1 \n"
     ]
    },
    {
     "data": {
      "image/svg+xml": [
       "<svg xmlns=\"http://www.w3.org/2000/svg\" xmlns:xlink=\"http://www.w3.org/1999/xlink\" class=\"svglite\" width=\"460.80pt\" height=\"345.60pt\" viewBox=\"0 0 460.80 345.60\">\n",
       "<defs>\n",
       "  <style type=\"text/css\"><![CDATA[\n",
       "    .svglite line, .svglite polyline, .svglite polygon, .svglite path, .svglite rect, .svglite circle {\n",
       "      fill: none;\n",
       "      stroke: #000000;\n",
       "      stroke-linecap: round;\n",
       "      stroke-linejoin: round;\n",
       "      stroke-miterlimit: 10.00;\n",
       "    }\n",
       "    .svglite text {\n",
       "      white-space: pre;\n",
       "    }\n",
       "  ]]></style>\n",
       "</defs>\n",
       "<rect width=\"100%\" height=\"100%\" style=\"stroke: none; fill: #FFFFFF;\"/>\n",
       "<defs>\n",
       "  <clipPath id=\"cpMC4wMHw0NjAuODB8MC4wMHwzNDUuNjA=\">\n",
       "    <rect x=\"0.00\" y=\"0.00\" width=\"460.80\" height=\"345.60\"/>\n",
       "  </clipPath>\n",
       "</defs>\n",
       "<g clip-path=\"url(#cpMC4wMHw0NjAuODB8MC4wMHwzNDUuNjA=)\">\n",
       "<rect x=\"0.000000000000064\" y=\"0.00\" width=\"460.80\" height=\"345.60\" style=\"stroke-width: 1.07; stroke: #FFFFFF; fill: #FFFFFF;\"/>\n",
       "</g>\n",
       "<defs>\n",
       "  <clipPath id=\"cpNDMuMDR8Mzg0LjMyfDUuNDh8MzE0LjY0\">\n",
       "    <rect x=\"43.04\" y=\"5.48\" width=\"341.28\" height=\"309.16\"/>\n",
       "  </clipPath>\n",
       "</defs>\n",
       "<g clip-path=\"url(#cpNDMuMDR8Mzg0LjMyfDUuNDh8MzE0LjY0)\">\n",
       "<rect x=\"43.04\" y=\"5.48\" width=\"341.28\" height=\"309.16\" style=\"stroke-width: 1.07; stroke: none; fill: #EBEBEB;\"/>\n",
       "<polyline points=\"43.04,265.46 384.32,265.46 \" style=\"stroke-width: 0.53; stroke: #FFFFFF; stroke-linecap: butt;\"/>\n",
       "<polyline points=\"43.04,195.19 384.32,195.19 \" style=\"stroke-width: 0.53; stroke: #FFFFFF; stroke-linecap: butt;\"/>\n",
       "<polyline points=\"43.04,124.93 384.32,124.93 \" style=\"stroke-width: 0.53; stroke: #FFFFFF; stroke-linecap: butt;\"/>\n",
       "<polyline points=\"43.04,54.66 384.32,54.66 \" style=\"stroke-width: 0.53; stroke: #FFFFFF; stroke-linecap: butt;\"/>\n",
       "<polyline points=\"43.04,300.59 384.32,300.59 \" style=\"stroke-width: 1.07; stroke: #FFFFFF; stroke-linecap: butt;\"/>\n",
       "<polyline points=\"43.04,230.33 384.32,230.33 \" style=\"stroke-width: 1.07; stroke: #FFFFFF; stroke-linecap: butt;\"/>\n",
       "<polyline points=\"43.04,160.06 384.32,160.06 \" style=\"stroke-width: 1.07; stroke: #FFFFFF; stroke-linecap: butt;\"/>\n",
       "<polyline points=\"43.04,89.80 384.32,89.80 \" style=\"stroke-width: 1.07; stroke: #FFFFFF; stroke-linecap: butt;\"/>\n",
       "<polyline points=\"43.04,19.53 384.32,19.53 \" style=\"stroke-width: 1.07; stroke: #FFFFFF; stroke-linecap: butt;\"/>\n",
       "<polyline points=\"136.11,314.64 136.11,5.48 \" style=\"stroke-width: 1.07; stroke: #FFFFFF; stroke-linecap: butt;\"/>\n",
       "<polyline points=\"291.24,314.64 291.24,5.48 \" style=\"stroke-width: 1.07; stroke: #FFFFFF; stroke-linecap: butt;\"/>\n",
       "<rect x=\"66.31\" y=\"19.53\" width=\"139.62\" height=\"245.55\" style=\"stroke-width: 1.07; stroke: none; stroke-linecap: butt; stroke-linejoin: miter; fill: #F8766D;\"/>\n",
       "<rect x=\"66.31\" y=\"265.08\" width=\"139.62\" height=\"35.51\" style=\"stroke-width: 1.07; stroke: none; stroke-linecap: butt; stroke-linejoin: miter; fill: #00BFC4;\"/>\n",
       "<rect x=\"221.44\" y=\"19.53\" width=\"139.62\" height=\"278.71\" style=\"stroke-width: 1.07; stroke: none; stroke-linecap: butt; stroke-linejoin: miter; fill: #F8766D;\"/>\n",
       "<rect x=\"221.44\" y=\"298.24\" width=\"139.62\" height=\"2.35\" style=\"stroke-width: 1.07; stroke: none; stroke-linecap: butt; stroke-linejoin: miter; fill: #00BFC4;\"/>\n",
       "</g>\n",
       "<g clip-path=\"url(#cpMC4wMHw0NjAuODB8MC4wMHwzNDUuNjA=)\">\n",
       "<text x=\"38.11\" y=\"303.80\" text-anchor=\"end\" style=\"font-size: 8.80px;fill: #4D4D4D; font-family: &quot;DejaVu Sans&quot;;\" textLength=\"19.58px\" lengthAdjust=\"spacingAndGlyphs\">0.00</text>\n",
       "<text x=\"38.11\" y=\"233.53\" text-anchor=\"end\" style=\"font-size: 8.80px;fill: #4D4D4D; font-family: &quot;DejaVu Sans&quot;;\" textLength=\"19.58px\" lengthAdjust=\"spacingAndGlyphs\">0.25</text>\n",
       "<text x=\"38.11\" y=\"163.27\" text-anchor=\"end\" style=\"font-size: 8.80px;fill: #4D4D4D; font-family: &quot;DejaVu Sans&quot;;\" textLength=\"19.58px\" lengthAdjust=\"spacingAndGlyphs\">0.50</text>\n",
       "<text x=\"38.11\" y=\"93.00\" text-anchor=\"end\" style=\"font-size: 8.80px;fill: #4D4D4D; font-family: &quot;DejaVu Sans&quot;;\" textLength=\"19.58px\" lengthAdjust=\"spacingAndGlyphs\">0.75</text>\n",
       "<text x=\"38.11\" y=\"22.74\" text-anchor=\"end\" style=\"font-size: 8.80px;fill: #4D4D4D; font-family: &quot;DejaVu Sans&quot;;\" textLength=\"19.58px\" lengthAdjust=\"spacingAndGlyphs\">1.00</text>\n",
       "<polyline points=\"40.30,300.59 43.04,300.59 \" style=\"stroke-width: 1.07; stroke: #333333; stroke-linecap: butt;\"/>\n",
       "<polyline points=\"40.30,230.33 43.04,230.33 \" style=\"stroke-width: 1.07; stroke: #333333; stroke-linecap: butt;\"/>\n",
       "<polyline points=\"40.30,160.06 43.04,160.06 \" style=\"stroke-width: 1.07; stroke: #333333; stroke-linecap: butt;\"/>\n",
       "<polyline points=\"40.30,89.80 43.04,89.80 \" style=\"stroke-width: 1.07; stroke: #333333; stroke-linecap: butt;\"/>\n",
       "<polyline points=\"40.30,19.53 43.04,19.53 \" style=\"stroke-width: 1.07; stroke: #333333; stroke-linecap: butt;\"/>\n",
       "<polyline points=\"136.11,317.38 136.11,314.64 \" style=\"stroke-width: 1.07; stroke: #333333; stroke-linecap: butt;\"/>\n",
       "<polyline points=\"291.24,317.38 291.24,314.64 \" style=\"stroke-width: 1.07; stroke: #333333; stroke-linecap: butt;\"/>\n",
       "<text x=\"136.11\" y=\"325.41\" text-anchor=\"middle\" style=\"font-size: 8.00px;fill: #4D4D4D; font-family: &quot;DejaVu Sans&quot;;\" textLength=\"26.21px\" lengthAdjust=\"spacingAndGlyphs\">known</text>\n",
       "<text x=\"291.24\" y=\"325.41\" text-anchor=\"middle\" style=\"font-size: 8.00px;fill: #4D4D4D; font-family: &quot;DejaVu Sans&quot;;\" textLength=\"21.84px\" lengthAdjust=\"spacingAndGlyphs\">novel</text>\n",
       "<text x=\"213.68\" y=\"337.83\" text-anchor=\"middle\" style=\"font-size: 11.00px; font-family: &quot;DejaVu Sans&quot;;\" textLength=\"40.86px\" lengthAdjust=\"spacingAndGlyphs\">novelty</text>\n",
       "<text transform=\"translate(13.50,160.06) rotate(-90)\" text-anchor=\"middle\" style=\"font-size: 11.00px; font-family: &quot;DejaVu Sans&quot;;\" textLength=\"31.03px\" lengthAdjust=\"spacingAndGlyphs\">count</text>\n",
       "<rect x=\"395.28\" y=\"129.41\" width=\"60.04\" height=\"61.31\" style=\"stroke-width: 1.07; stroke: none; fill: #FFFFFF;\"/>\n",
       "<text x=\"400.76\" y=\"144.05\" style=\"font-size: 11.00px; font-family: &quot;DejaVu Sans&quot;;\" textLength=\"48.95px\" lengthAdjust=\"spacingAndGlyphs\">detected</text>\n",
       "<rect x=\"400.76\" y=\"150.68\" width=\"17.28\" height=\"17.28\" style=\"stroke-width: 1.07; stroke: none; fill: #EBEBEB;\"/>\n",
       "<rect x=\"401.47\" y=\"151.39\" width=\"15.86\" height=\"15.86\" style=\"stroke-width: 1.07; stroke: none; stroke-linecap: butt; stroke-linejoin: miter; fill: #F8766D;\"/>\n",
       "<rect x=\"400.76\" y=\"167.96\" width=\"17.28\" height=\"17.28\" style=\"stroke-width: 1.07; stroke: none; fill: #EBEBEB;\"/>\n",
       "<rect x=\"401.47\" y=\"168.67\" width=\"15.86\" height=\"15.86\" style=\"stroke-width: 1.07; stroke: none; stroke-linecap: butt; stroke-linejoin: miter; fill: #00BFC4;\"/>\n",
       "<text x=\"423.52\" y=\"162.52\" style=\"font-size: 8.80px; font-family: &quot;DejaVu Sans&quot;;\" textLength=\"26.32px\" lengthAdjust=\"spacingAndGlyphs\">FALSE</text>\n",
       "<text x=\"423.52\" y=\"179.80\" style=\"font-size: 8.80px; font-family: &quot;DejaVu Sans&quot;;\" textLength=\"23.48px\" lengthAdjust=\"spacingAndGlyphs\">TRUE</text>\n",
       "</g>\n",
       "</svg>"
      ],
      "text/plain": [
       "<IPython.core.display.SVG object>"
      ]
     },
     "metadata": {},
     "output_type": "display_data"
    }
   ],
   "source": [
    "to_r(df, \"df\")\n",
    "r(\n",
    "\"\"\"\n",
    "df %>% \n",
    "    ggplot(aes(x=novelty, fill=detected)) +\n",
    "    stat_count(position=position_fill()) +\n",
    "    theme(axis.text.x = element_text(size = 8))\n",
    "\"\"\"\n",
    ")"
   ]
  },
  {
   "cell_type": "markdown",
   "metadata": {},
   "source": [
    "## Transcript validation by proteomics"
   ]
  },
  {
   "cell_type": "markdown",
   "metadata": {},
   "source": [
    "### Percentage of protein isoforms that are compatible with any novel peptides"
   ]
  },
  {
   "cell_type": "code",
   "execution_count": 62,
   "metadata": {},
   "outputs": [
    {
     "name": "stdout",
     "output_type": "stream",
     "text": [
      "null device \n"
     ]
    },
    {
     "data": {
      "image/svg+xml": [
       "<svg xmlns=\"http://www.w3.org/2000/svg\" xmlns:xlink=\"http://www.w3.org/1999/xlink\" class=\"svglite\" width=\"460.80pt\" height=\"345.60pt\" viewBox=\"0 0 460.80 345.60\">\n",
       "<defs>\n",
       "  <style type=\"text/css\"><![CDATA[\n",
       "    .svglite line, .svglite polyline, .svglite polygon, .svglite path, .svglite rect, .svglite circle {\n",
       "      fill: none;\n",
       "      stroke: #000000;\n",
       "      stroke-linecap: round;\n",
       "      stroke-linejoin: round;\n",
       "      stroke-miterlimit: 10.00;\n",
       "    }\n",
       "    .svglite text {\n",
       "      white-space: pre;\n",
       "    }\n",
       "  ]]></style>\n",
       "</defs>\n",
       "<rect width=\"100%\" height=\"100%\" style=\"stroke: none; fill: #FFFFFF;\"/>\n",
       "<defs>\n",
       "  <clipPath id=\"cpMC4wMHw0NjAuODB8MC4wMHwzNDUuNjA=\">\n",
       "    <rect x=\"0.00\" y=\"0.00\" width=\"460.80\" height=\"345.60\"/>\n",
       "  </clipPath>\n",
       "</defs>\n",
       "<g clip-path=\"url(#cpMC4wMHw0NjAuODB8MC4wMHwzNDUuNjA=)\">\n",
       "<rect x=\"0.00\" y=\"0.00\" width=\"460.80\" height=\"345.60\" style=\"stroke-width: 1.07; stroke: #FFFFFF; fill: #FFFFFF;\"/>\n",
       "</g>\n",
       "<defs>\n",
       "  <clipPath id=\"cpNDMuMDR8MzE4Ljc0fDUuNDh8MzE0LjY0\">\n",
       "    <rect x=\"43.04\" y=\"5.48\" width=\"275.70\" height=\"309.16\"/>\n",
       "  </clipPath>\n",
       "</defs>\n",
       "<g clip-path=\"url(#cpNDMuMDR8MzE4Ljc0fDUuNDh8MzE0LjY0)\">\n",
       "<rect x=\"43.04\" y=\"5.48\" width=\"275.70\" height=\"309.16\" style=\"stroke-width: 1.07; stroke: none; fill: #EBEBEB;\"/>\n",
       "<polyline points=\"43.04,265.46 318.74,265.46 \" style=\"stroke-width: 0.53; stroke: #FFFFFF; stroke-linecap: butt;\"/>\n",
       "<polyline points=\"43.04,195.19 318.74,195.19 \" style=\"stroke-width: 0.53; stroke: #FFFFFF; stroke-linecap: butt;\"/>\n",
       "<polyline points=\"43.04,124.93 318.74,124.93 \" style=\"stroke-width: 0.53; stroke: #FFFFFF; stroke-linecap: butt;\"/>\n",
       "<polyline points=\"43.04,54.66 318.74,54.66 \" style=\"stroke-width: 0.53; stroke: #FFFFFF; stroke-linecap: butt;\"/>\n",
       "<polyline points=\"43.04,300.59 318.74,300.59 \" style=\"stroke-width: 1.07; stroke: #FFFFFF; stroke-linecap: butt;\"/>\n",
       "<polyline points=\"43.04,230.33 318.74,230.33 \" style=\"stroke-width: 1.07; stroke: #FFFFFF; stroke-linecap: butt;\"/>\n",
       "<polyline points=\"43.04,160.06 318.74,160.06 \" style=\"stroke-width: 1.07; stroke: #FFFFFF; stroke-linecap: butt;\"/>\n",
       "<polyline points=\"43.04,89.80 318.74,89.80 \" style=\"stroke-width: 1.07; stroke: #FFFFFF; stroke-linecap: butt;\"/>\n",
       "<polyline points=\"43.04,19.53 318.74,19.53 \" style=\"stroke-width: 1.07; stroke: #FFFFFF; stroke-linecap: butt;\"/>\n",
       "<polyline points=\"69.72,314.64 69.72,5.48 \" style=\"stroke-width: 1.07; stroke: #FFFFFF; stroke-linecap: butt;\"/>\n",
       "<polyline points=\"114.19,314.64 114.19,5.48 \" style=\"stroke-width: 1.07; stroke: #FFFFFF; stroke-linecap: butt;\"/>\n",
       "<polyline points=\"158.66,314.64 158.66,5.48 \" style=\"stroke-width: 1.07; stroke: #FFFFFF; stroke-linecap: butt;\"/>\n",
       "<polyline points=\"203.12,314.64 203.12,5.48 \" style=\"stroke-width: 1.07; stroke: #FFFFFF; stroke-linecap: butt;\"/>\n",
       "<polyline points=\"247.59,314.64 247.59,5.48 \" style=\"stroke-width: 1.07; stroke: #FFFFFF; stroke-linecap: butt;\"/>\n",
       "<polyline points=\"292.06,314.64 292.06,5.48 \" style=\"stroke-width: 1.07; stroke: #FFFFFF; stroke-linecap: butt;\"/>\n",
       "<rect x=\"49.71\" y=\"19.53\" width=\"40.02\" height=\"278.77\" style=\"stroke-width: 1.07; stroke: none; stroke-linecap: butt; stroke-linejoin: miter; fill: #F8766D;\"/>\n",
       "<rect x=\"49.71\" y=\"298.30\" width=\"40.02\" height=\"2.29\" style=\"stroke-width: 1.07; stroke: none; stroke-linecap: butt; stroke-linejoin: miter; fill: #00BFC4;\"/>\n",
       "<rect x=\"94.18\" y=\"19.53\" width=\"40.02\" height=\"276.77\" style=\"stroke-width: 1.07; stroke: none; stroke-linecap: butt; stroke-linejoin: miter; fill: #F8766D;\"/>\n",
       "<rect x=\"94.18\" y=\"296.30\" width=\"40.02\" height=\"4.29\" style=\"stroke-width: 1.07; stroke: none; stroke-linecap: butt; stroke-linejoin: miter; fill: #00BFC4;\"/>\n",
       "<rect x=\"138.65\" y=\"19.53\" width=\"40.02\" height=\"281.06\" style=\"stroke-width: 1.07; stroke: none; stroke-linecap: butt; stroke-linejoin: miter; fill: #F8766D;\"/>\n",
       "<rect x=\"183.11\" y=\"19.53\" width=\"40.02\" height=\"279.58\" style=\"stroke-width: 1.07; stroke: none; stroke-linecap: butt; stroke-linejoin: miter; fill: #F8766D;\"/>\n",
       "<rect x=\"183.11\" y=\"299.12\" width=\"40.02\" height=\"1.48\" style=\"stroke-width: 1.07; stroke: none; stroke-linecap: butt; stroke-linejoin: miter; fill: #00BFC4;\"/>\n",
       "<rect x=\"227.58\" y=\"19.53\" width=\"40.02\" height=\"280.00\" style=\"stroke-width: 1.07; stroke: none; stroke-linecap: butt; stroke-linejoin: miter; fill: #F8766D;\"/>\n",
       "<rect x=\"227.58\" y=\"299.53\" width=\"40.02\" height=\"1.06\" style=\"stroke-width: 1.07; stroke: none; stroke-linecap: butt; stroke-linejoin: miter; fill: #00BFC4;\"/>\n",
       "<rect x=\"272.05\" y=\"19.53\" width=\"40.02\" height=\"279.07\" style=\"stroke-width: 1.07; stroke: none; stroke-linecap: butt; stroke-linejoin: miter; fill: #F8766D;\"/>\n",
       "<rect x=\"272.05\" y=\"298.60\" width=\"40.02\" height=\"1.99\" style=\"stroke-width: 1.07; stroke: none; stroke-linecap: butt; stroke-linejoin: miter; fill: #00BFC4;\"/>\n",
       "</g>\n",
       "<g clip-path=\"url(#cpMC4wMHw0NjAuODB8MC4wMHwzNDUuNjA=)\">\n",
       "<text x=\"38.11\" y=\"303.80\" text-anchor=\"end\" style=\"font-size: 8.80px;fill: #4D4D4D; font-family: &quot;DejaVu Sans&quot;;\" textLength=\"19.58px\" lengthAdjust=\"spacingAndGlyphs\">0.00</text>\n",
       "<text x=\"38.11\" y=\"233.53\" text-anchor=\"end\" style=\"font-size: 8.80px;fill: #4D4D4D; font-family: &quot;DejaVu Sans&quot;;\" textLength=\"19.58px\" lengthAdjust=\"spacingAndGlyphs\">0.25</text>\n",
       "<text x=\"38.11\" y=\"163.27\" text-anchor=\"end\" style=\"font-size: 8.80px;fill: #4D4D4D; font-family: &quot;DejaVu Sans&quot;;\" textLength=\"19.58px\" lengthAdjust=\"spacingAndGlyphs\">0.50</text>\n",
       "<text x=\"38.11\" y=\"93.00\" text-anchor=\"end\" style=\"font-size: 8.80px;fill: #4D4D4D; font-family: &quot;DejaVu Sans&quot;;\" textLength=\"19.58px\" lengthAdjust=\"spacingAndGlyphs\">0.75</text>\n",
       "<text x=\"38.11\" y=\"22.74\" text-anchor=\"end\" style=\"font-size: 8.80px;fill: #4D4D4D; font-family: &quot;DejaVu Sans&quot;;\" textLength=\"19.58px\" lengthAdjust=\"spacingAndGlyphs\">1.00</text>\n",
       "<polyline points=\"40.30,300.59 43.04,300.59 \" style=\"stroke-width: 1.07; stroke: #333333; stroke-linecap: butt;\"/>\n",
       "<polyline points=\"40.30,230.33 43.04,230.33 \" style=\"stroke-width: 1.07; stroke: #333333; stroke-linecap: butt;\"/>\n",
       "<polyline points=\"40.30,160.06 43.04,160.06 \" style=\"stroke-width: 1.07; stroke: #333333; stroke-linecap: butt;\"/>\n",
       "<polyline points=\"40.30,89.80 43.04,89.80 \" style=\"stroke-width: 1.07; stroke: #333333; stroke-linecap: butt;\"/>\n",
       "<polyline points=\"40.30,19.53 43.04,19.53 \" style=\"stroke-width: 1.07; stroke: #333333; stroke-linecap: butt;\"/>\n",
       "<polyline points=\"69.72,317.38 69.72,314.64 \" style=\"stroke-width: 1.07; stroke: #333333; stroke-linecap: butt;\"/>\n",
       "<polyline points=\"114.19,317.38 114.19,314.64 \" style=\"stroke-width: 1.07; stroke: #333333; stroke-linecap: butt;\"/>\n",
       "<polyline points=\"158.66,317.38 158.66,314.64 \" style=\"stroke-width: 1.07; stroke: #333333; stroke-linecap: butt;\"/>\n",
       "<polyline points=\"203.12,317.38 203.12,314.64 \" style=\"stroke-width: 1.07; stroke: #333333; stroke-linecap: butt;\"/>\n",
       "<polyline points=\"247.59,317.38 247.59,314.64 \" style=\"stroke-width: 1.07; stroke: #333333; stroke-linecap: butt;\"/>\n",
       "<polyline points=\"292.06,317.38 292.06,314.64 \" style=\"stroke-width: 1.07; stroke: #333333; stroke-linecap: butt;\"/>\n",
       "<text x=\"69.72\" y=\"325.41\" text-anchor=\"middle\" style=\"font-size: 8.00px;fill: #4D4D4D; font-family: &quot;DejaVu Sans&quot;;\" textLength=\"74.19px\" lengthAdjust=\"spacingAndGlyphs\">orphan_monoexon</text>\n",
       "<text x=\"114.19\" y=\"325.41\" text-anchor=\"middle\" style=\"font-size: 8.00px;fill: #4D4D4D; font-family: &quot;DejaVu Sans&quot;;\" textLength=\"22.72px\" lengthAdjust=\"spacingAndGlyphs\">Other</text>\n",
       "<text x=\"158.66\" y=\"325.41\" text-anchor=\"middle\" style=\"font-size: 8.00px;fill: #4D4D4D; font-family: &quot;DejaVu Sans&quot;;\" textLength=\"21.51px\" lengthAdjust=\"spacingAndGlyphs\">pFSM</text>\n",
       "<text x=\"203.12\" y=\"325.41\" text-anchor=\"middle\" style=\"font-size: 8.00px;fill: #4D4D4D; font-family: &quot;DejaVu Sans&quot;;\" textLength=\"19.42px\" lengthAdjust=\"spacingAndGlyphs\">pISM</text>\n",
       "<text x=\"247.59\" y=\"325.41\" text-anchor=\"middle\" style=\"font-size: 8.00px;fill: #4D4D4D; font-family: &quot;DejaVu Sans&quot;;\" textLength=\"19.01px\" lengthAdjust=\"spacingAndGlyphs\">pNIC</text>\n",
       "<text x=\"292.06\" y=\"325.41\" text-anchor=\"middle\" style=\"font-size: 8.00px;fill: #4D4D4D; font-family: &quot;DejaVu Sans&quot;;\" textLength=\"22.63px\" lengthAdjust=\"spacingAndGlyphs\">pNNC</text>\n",
       "<text x=\"180.89\" y=\"337.83\" text-anchor=\"middle\" style=\"font-size: 11.00px; font-family: &quot;DejaVu Sans&quot;;\" textLength=\"147.49px\" lengthAdjust=\"spacingAndGlyphs\">protein_classification_base</text>\n",
       "<text transform=\"translate(13.50,160.06) rotate(-90)\" text-anchor=\"middle\" style=\"font-size: 11.00px; font-family: &quot;DejaVu Sans&quot;;\" textLength=\"31.03px\" lengthAdjust=\"spacingAndGlyphs\">count</text>\n",
       "<rect x=\"329.70\" y=\"129.41\" width=\"125.62\" height=\"61.31\" style=\"stroke-width: 1.07; stroke: none; fill: #FFFFFF;\"/>\n",
       "<text x=\"335.18\" y=\"144.05\" style=\"font-size: 11.00px; font-family: &quot;DejaVu Sans&quot;;\" textLength=\"114.66px\" lengthAdjust=\"spacingAndGlyphs\">containing_novel_spl</text>\n",
       "<rect x=\"335.18\" y=\"150.68\" width=\"17.28\" height=\"17.28\" style=\"stroke-width: 1.07; stroke: none; fill: #EBEBEB;\"/>\n",
       "<rect x=\"335.89\" y=\"151.39\" width=\"15.86\" height=\"15.86\" style=\"stroke-width: 1.07; stroke: none; stroke-linecap: butt; stroke-linejoin: miter; fill: #F8766D;\"/>\n",
       "<rect x=\"335.18\" y=\"167.96\" width=\"17.28\" height=\"17.28\" style=\"stroke-width: 1.07; stroke: none; fill: #EBEBEB;\"/>\n",
       "<rect x=\"335.89\" y=\"168.67\" width=\"15.86\" height=\"15.86\" style=\"stroke-width: 1.07; stroke: none; stroke-linecap: butt; stroke-linejoin: miter; fill: #00BFC4;\"/>\n",
       "<text x=\"357.94\" y=\"162.52\" style=\"font-size: 8.80px; font-family: &quot;DejaVu Sans&quot;;\" textLength=\"26.32px\" lengthAdjust=\"spacingAndGlyphs\">FALSE</text>\n",
       "<text x=\"357.94\" y=\"179.80\" style=\"font-size: 8.80px; font-family: &quot;DejaVu Sans&quot;;\" textLength=\"23.48px\" lengthAdjust=\"spacingAndGlyphs\">TRUE</text>\n",
       "</g>\n",
       "</svg>"
      ],
      "text/plain": [
       "<IPython.core.display.SVG object>"
      ]
     },
     "metadata": {},
     "output_type": "display_data"
    },
    {
     "name": "stdout",
     "output_type": "stream",
     "text": [
      "          1 \n"
     ]
    }
   ],
   "source": [
    "df = genome_gff3_gtf\\\n",
    "    .unique(\"transcript_id\")\\\n",
    "    .drop_nulls(\"protein_classification_base\")\\\n",
    "    .filter(pl.col(\"protein_classification_base\")!=\"NA\")\\\n",
    "    .with_columns(\n",
    "        protein_classification_base = pl.when(pl.col(\"protein_classification_base\").is_in([\"fusion\", \"antisense\", \"genic\", \"intergenic\"]))\\\n",
    "            .then(pl.lit(\"Other\"))\\\n",
    "            .otherwise(pl.col(\"protein_classification_base\")),        \n",
    "    )\\\n",
    "    .filter(pl.col(\"transcript_id\").is_in(lr_bulk.filter_var(pl.col(\"ORF_type\")==\"complete\").var.unique([\"base_isoform\"])[\"base_isoform\"]))\n",
    "to_r(df, \"df\")\n",
    "r(\n",
    "\"\"\"\n",
    "df %>% \n",
    "    ggplot(aes(x=protein_classification_base, fill=containing_novel_spl)) +\n",
    "    stat_count(position=position_fill()) +\n",
    "    theme(axis.text.x = element_text(size = 8))\n",
    "\"\"\"\n",
    ")"
   ]
  },
  {
   "cell_type": "code",
   "execution_count": 1,
   "metadata": {},
   "outputs": [
    {
     "ename": "NameError",
     "evalue": "name 'genome_gff3_gtf' is not defined",
     "output_type": "error",
     "traceback": [
      "\u001b[0;31m---------------------------------------------------------------------------\u001b[0m",
      "\u001b[0;31mNameError\u001b[0m                                 Traceback (most recent call last)",
      "Cell \u001b[0;32mIn[1], line 1\u001b[0m\n\u001b[0;32m----> 1\u001b[0m \u001b[43mgenome_gff3_gtf\u001b[49m\n",
      "\u001b[0;31mNameError\u001b[0m: name 'genome_gff3_gtf' is not defined"
     ]
    }
   ],
   "source": [
    "genome_gff3_gtf"
   ]
  },
  {
   "cell_type": "code",
   "execution_count": 72,
   "metadata": {},
   "outputs": [],
   "source": [
    "df.group_by([\"protein_classification_base\", \"containing_novel_spl\"]).len().write_csv(\"test.csv\")"
   ]
  },
  {
   "cell_type": "code",
   "execution_count": 45,
   "metadata": {},
   "outputs": [
    {
     "data": {
      "text/plain": [
       "'418 protein isoforms are compatible with at least one novel peptides'"
      ]
     },
     "execution_count": 45,
     "metadata": {},
     "output_type": "execute_result"
    }
   ],
   "source": [
    "f\"{df.filter( pl.col(\"containing_novel_spl\")).shape[0]} protein isoforms are compatible with at least one novel peptides\""
   ]
  },
  {
   "cell_type": "markdown",
   "metadata": {},
   "source": [
    "# Other"
   ]
  },
  {
   "cell_type": "markdown",
   "metadata": {},
   "source": [
    "## pr_splice_cat"
   ]
  },
  {
   "cell_type": "code",
   "execution_count": 65,
   "metadata": {},
   "outputs": [
    {
     "name": "stderr",
     "output_type": "stream",
     "text": [
      "/tmp/ipykernel_90900/2091807584.py:11: DeprecationWarning: `pl.count()` is deprecated. Please use `pl.len()` instead.\n",
      "  .agg(pl.count().alias(\"count\"))\\\n"
     ]
    },
    {
     "name": "stdout",
     "output_type": "stream",
     "text": [
      "null device \n",
      "          1 \n"
     ]
    },
    {
     "data": {
      "image/svg+xml": [
       "<svg xmlns=\"http://www.w3.org/2000/svg\" xmlns:xlink=\"http://www.w3.org/1999/xlink\" class=\"svglite\" width=\"460.80pt\" height=\"345.60pt\" viewBox=\"0 0 460.80 345.60\">\n",
       "<defs>\n",
       "  <style type=\"text/css\"><![CDATA[\n",
       "    .svglite line, .svglite polyline, .svglite polygon, .svglite path, .svglite rect, .svglite circle {\n",
       "      fill: none;\n",
       "      stroke: #000000;\n",
       "      stroke-linecap: round;\n",
       "      stroke-linejoin: round;\n",
       "      stroke-miterlimit: 10.00;\n",
       "    }\n",
       "    .svglite text {\n",
       "      white-space: pre;\n",
       "    }\n",
       "  ]]></style>\n",
       "</defs>\n",
       "<rect width=\"100%\" height=\"100%\" style=\"stroke: none; fill: #FFFFFF;\"/>\n",
       "<defs>\n",
       "  <clipPath id=\"cpMC4wMHw0NjAuODB8MC4wMHwzNDUuNjA=\">\n",
       "    <rect x=\"0.00\" y=\"0.00\" width=\"460.80\" height=\"345.60\"/>\n",
       "  </clipPath>\n",
       "</defs>\n",
       "<g clip-path=\"url(#cpMC4wMHw0NjAuODB8MC4wMHwzNDUuNjA=)\">\n",
       "<rect x=\"0.00\" y=\"0.000000000000057\" width=\"460.80\" height=\"345.60\" style=\"stroke-width: 1.07; stroke: #FFFFFF; fill: #FFFFFF;\"/>\n",
       "</g>\n",
       "<defs>\n",
       "  <clipPath id=\"cpMjkuMDZ8MzE4Ljc1fDIzLjMyfDMxOC4zMg==\">\n",
       "    <rect x=\"29.06\" y=\"23.32\" width=\"289.69\" height=\"295.00\"/>\n",
       "  </clipPath>\n",
       "</defs>\n",
       "<g clip-path=\"url(#cpMjkuMDZ8MzE4Ljc1fDIzLjMyfDMxOC4zMg==)\">\n",
       "<rect x=\"29.06\" y=\"23.32\" width=\"289.69\" height=\"295.00\" style=\"stroke-width: 1.07; stroke: none; fill: #EBEBEB;\"/>\n",
       "<polyline points=\"29.06,272.27 318.75,272.27 \" style=\"stroke-width: 0.53; stroke: #FFFFFF; stroke-linecap: butt;\"/>\n",
       "<polyline points=\"29.06,206.97 318.75,206.97 \" style=\"stroke-width: 0.53; stroke: #FFFFFF; stroke-linecap: butt;\"/>\n",
       "<polyline points=\"29.06,141.68 318.75,141.68 \" style=\"stroke-width: 0.53; stroke: #FFFFFF; stroke-linecap: butt;\"/>\n",
       "<polyline points=\"29.06,76.39 318.75,76.39 \" style=\"stroke-width: 0.53; stroke: #FFFFFF; stroke-linecap: butt;\"/>\n",
       "<polyline points=\"29.06,304.91 318.75,304.91 \" style=\"stroke-width: 1.07; stroke: #FFFFFF; stroke-linecap: butt;\"/>\n",
       "<polyline points=\"29.06,239.62 318.75,239.62 \" style=\"stroke-width: 1.07; stroke: #FFFFFF; stroke-linecap: butt;\"/>\n",
       "<polyline points=\"29.06,174.33 318.75,174.33 \" style=\"stroke-width: 1.07; stroke: #FFFFFF; stroke-linecap: butt;\"/>\n",
       "<polyline points=\"29.06,109.04 318.75,109.04 \" style=\"stroke-width: 1.07; stroke: #FFFFFF; stroke-linecap: butt;\"/>\n",
       "<polyline points=\"29.06,43.75 318.75,43.75 \" style=\"stroke-width: 1.07; stroke: #FFFFFF; stroke-linecap: butt;\"/>\n",
       "<polyline points=\"62.48,318.32 62.48,23.32 \" style=\"stroke-width: 1.07; stroke: #FFFFFF; stroke-linecap: butt;\"/>\n",
       "<polyline points=\"118.19,318.32 118.19,23.32 \" style=\"stroke-width: 1.07; stroke: #FFFFFF; stroke-linecap: butt;\"/>\n",
       "<polyline points=\"173.90,318.32 173.90,23.32 \" style=\"stroke-width: 1.07; stroke: #FFFFFF; stroke-linecap: butt;\"/>\n",
       "<polyline points=\"229.61,318.32 229.61,23.32 \" style=\"stroke-width: 1.07; stroke: #FFFFFF; stroke-linecap: butt;\"/>\n",
       "<polyline points=\"285.32,318.32 285.32,23.32 \" style=\"stroke-width: 1.07; stroke: #FFFFFF; stroke-linecap: butt;\"/>\n",
       "<rect x=\"148.83\" y=\"142.40\" width=\"50.14\" height=\"162.51\" style=\"stroke-width: 1.07; stroke: none; stroke-linecap: butt; stroke-linejoin: miter; fill: #D55E00;\"/>\n",
       "<rect x=\"260.25\" y=\"303.05\" width=\"50.14\" height=\"1.86\" style=\"stroke-width: 1.07; stroke: none; stroke-linecap: butt; stroke-linejoin: miter; fill: #000000;\"/>\n",
       "<rect x=\"37.41\" y=\"36.73\" width=\"50.14\" height=\"268.18\" style=\"stroke-width: 1.07; stroke: none; stroke-linecap: butt; stroke-linejoin: miter; fill: #009E73;\"/>\n",
       "<rect x=\"204.54\" y=\"195.74\" width=\"50.14\" height=\"109.17\" style=\"stroke-width: 1.07; stroke: none; stroke-linecap: butt; stroke-linejoin: miter; fill: #E69F00;\"/>\n",
       "<rect x=\"93.12\" y=\"44.79\" width=\"50.14\" height=\"260.12\" style=\"stroke-width: 1.07; stroke: none; stroke-linecap: butt; stroke-linejoin: miter; fill: #0072B2;\"/>\n",
       "<text x=\"173.90\" y=\"163.14\" text-anchor=\"middle\" style=\"font-size: 14.23px;fill: #FFFFFF; font-family: &quot;DejaVu Sans&quot;;\" textLength=\"45.19px\" lengthAdjust=\"spacingAndGlyphs\">20.3%</text>\n",
       "<text x=\"285.32\" y=\"323.79\" text-anchor=\"middle\" style=\"font-size: 14.23px;fill: #FFFFFF; font-family: &quot;DejaVu Sans&quot;;\" textLength=\"36.14px\" lengthAdjust=\"spacingAndGlyphs\">0.2%</text>\n",
       "<text x=\"62.48\" y=\"57.47\" text-anchor=\"middle\" style=\"font-size: 14.23px;fill: #FFFFFF; font-family: &quot;DejaVu Sans&quot;;\" textLength=\"45.19px\" lengthAdjust=\"spacingAndGlyphs\">33.4%</text>\n",
       "<text x=\"229.61\" y=\"216.48\" text-anchor=\"middle\" style=\"font-size: 14.23px;fill: #FFFFFF; font-family: &quot;DejaVu Sans&quot;;\" textLength=\"45.19px\" lengthAdjust=\"spacingAndGlyphs\">13.6%</text>\n",
       "<text x=\"118.19\" y=\"65.53\" text-anchor=\"middle\" style=\"font-size: 14.23px;fill: #FFFFFF; font-family: &quot;DejaVu Sans&quot;;\" textLength=\"45.19px\" lengthAdjust=\"spacingAndGlyphs\">32.4%</text>\n",
       "</g>\n",
       "<g clip-path=\"url(#cpMC4wMHw0NjAuODB8MC4wMHwzNDUuNjA=)\">\n",
       "<text x=\"24.12\" y=\"308.12\" text-anchor=\"end\" style=\"font-size: 8.80px;fill: #4D4D4D; font-family: &quot;DejaVu Sans&quot;;\" textLength=\"5.59px\" lengthAdjust=\"spacingAndGlyphs\">0</text>\n",
       "<text x=\"24.12\" y=\"242.83\" text-anchor=\"end\" style=\"font-size: 8.80px;fill: #4D4D4D; font-family: &quot;DejaVu Sans&quot;;\" textLength=\"5.59px\" lengthAdjust=\"spacingAndGlyphs\">2</text>\n",
       "<text x=\"24.12\" y=\"177.54\" text-anchor=\"end\" style=\"font-size: 8.80px;fill: #4D4D4D; font-family: &quot;DejaVu Sans&quot;;\" textLength=\"5.59px\" lengthAdjust=\"spacingAndGlyphs\">4</text>\n",
       "<text x=\"24.12\" y=\"112.25\" text-anchor=\"end\" style=\"font-size: 8.80px;fill: #4D4D4D; font-family: &quot;DejaVu Sans&quot;;\" textLength=\"5.59px\" lengthAdjust=\"spacingAndGlyphs\">6</text>\n",
       "<text x=\"24.12\" y=\"46.96\" text-anchor=\"end\" style=\"font-size: 8.80px;fill: #4D4D4D; font-family: &quot;DejaVu Sans&quot;;\" textLength=\"5.59px\" lengthAdjust=\"spacingAndGlyphs\">8</text>\n",
       "<polyline points=\"26.32,304.91 29.06,304.91 \" style=\"stroke-width: 1.07; stroke: #333333; stroke-linecap: butt;\"/>\n",
       "<polyline points=\"26.32,239.62 29.06,239.62 \" style=\"stroke-width: 1.07; stroke: #333333; stroke-linecap: butt;\"/>\n",
       "<polyline points=\"26.32,174.33 29.06,174.33 \" style=\"stroke-width: 1.07; stroke: #333333; stroke-linecap: butt;\"/>\n",
       "<polyline points=\"26.32,109.04 29.06,109.04 \" style=\"stroke-width: 1.07; stroke: #333333; stroke-linecap: butt;\"/>\n",
       "<polyline points=\"26.32,43.75 29.06,43.75 \" style=\"stroke-width: 1.07; stroke: #333333; stroke-linecap: butt;\"/>\n",
       "<polyline points=\"62.48,321.06 62.48,318.32 \" style=\"stroke-width: 1.07; stroke: #333333; stroke-linecap: butt;\"/>\n",
       "<polyline points=\"118.19,321.06 118.19,318.32 \" style=\"stroke-width: 1.07; stroke: #333333; stroke-linecap: butt;\"/>\n",
       "<polyline points=\"173.90,321.06 173.90,318.32 \" style=\"stroke-width: 1.07; stroke: #333333; stroke-linecap: butt;\"/>\n",
       "<polyline points=\"229.61,321.06 229.61,318.32 \" style=\"stroke-width: 1.07; stroke: #333333; stroke-linecap: butt;\"/>\n",
       "<polyline points=\"285.32,321.06 285.32,318.32 \" style=\"stroke-width: 1.07; stroke: #333333; stroke-linecap: butt;\"/>\n",
       "<text x=\"62.48\" y=\"336.38\" text-anchor=\"middle\" style=\"font-size: 18.00px;fill: #4D4D4D; font-family: &quot;DejaVu Sans&quot;;\" textLength=\"60.35px\" lengthAdjust=\"spacingAndGlyphs\">Known</text>\n",
       "<text x=\"118.19\" y=\"336.38\" text-anchor=\"middle\" style=\"font-size: 18.00px;fill: #4D4D4D; font-family: &quot;DejaVu Sans&quot;;\" textLength=\"32.26px\" lengthAdjust=\"spacingAndGlyphs\">ISM</text>\n",
       "<text x=\"173.90\" y=\"336.38\" text-anchor=\"middle\" style=\"font-size: 18.00px;fill: #4D4D4D; font-family: &quot;DejaVu Sans&quot;;\" textLength=\"31.34px\" lengthAdjust=\"spacingAndGlyphs\">NIC</text>\n",
       "<text x=\"229.61\" y=\"336.38\" text-anchor=\"middle\" style=\"font-size: 18.00px;fill: #4D4D4D; font-family: &quot;DejaVu Sans&quot;;\" textLength=\"39.50px\" lengthAdjust=\"spacingAndGlyphs\">NNC</text>\n",
       "<text x=\"285.32\" y=\"336.38\" text-anchor=\"middle\" style=\"font-size: 18.00px;fill: #4D4D4D; font-family: &quot;DejaVu Sans&quot;;\" textLength=\"51.11px\" lengthAdjust=\"spacingAndGlyphs\">Other</text>\n",
       "<text transform=\"translate(13.50,170.82) rotate(-90)\" text-anchor=\"middle\" style=\"font-size: 11.00px; font-family: &quot;DejaVu Sans&quot;;\" textLength=\"112.02px\" lengthAdjust=\"spacingAndGlyphs\">Transcripts (x 10^3)</text>\n",
       "<rect x=\"329.71\" y=\"114.25\" width=\"125.61\" height=\"113.15\" style=\"stroke-width: 1.07; stroke: none; fill: #FFFFFF;\"/>\n",
       "<text x=\"335.19\" y=\"128.89\" style=\"font-size: 11.00px; font-family: &quot;DejaVu Sans&quot;;\" textLength=\"114.65px\" lengthAdjust=\"spacingAndGlyphs\">Proteoform Category</text>\n",
       "<rect x=\"335.19\" y=\"135.52\" width=\"17.28\" height=\"17.28\" style=\"stroke-width: 1.07; stroke: none; fill: #EBEBEB;\"/>\n",
       "<rect x=\"335.90\" y=\"136.22\" width=\"15.86\" height=\"15.86\" style=\"stroke-width: 1.07; stroke: none; stroke-linecap: butt; stroke-linejoin: miter; fill: #009E73;\"/>\n",
       "<rect x=\"335.19\" y=\"152.80\" width=\"17.28\" height=\"17.28\" style=\"stroke-width: 1.07; stroke: none; fill: #EBEBEB;\"/>\n",
       "<rect x=\"335.90\" y=\"153.50\" width=\"15.86\" height=\"15.86\" style=\"stroke-width: 1.07; stroke: none; stroke-linecap: butt; stroke-linejoin: miter; fill: #0072B2;\"/>\n",
       "<rect x=\"335.19\" y=\"170.08\" width=\"17.28\" height=\"17.28\" style=\"stroke-width: 1.07; stroke: none; fill: #EBEBEB;\"/>\n",
       "<rect x=\"335.90\" y=\"170.78\" width=\"15.86\" height=\"15.86\" style=\"stroke-width: 1.07; stroke: none; stroke-linecap: butt; stroke-linejoin: miter; fill: #D55E00;\"/>\n",
       "<rect x=\"335.19\" y=\"187.36\" width=\"17.28\" height=\"17.28\" style=\"stroke-width: 1.07; stroke: none; fill: #EBEBEB;\"/>\n",
       "<rect x=\"335.90\" y=\"188.06\" width=\"15.86\" height=\"15.86\" style=\"stroke-width: 1.07; stroke: none; stroke-linecap: butt; stroke-linejoin: miter; fill: #E69F00;\"/>\n",
       "<rect x=\"335.19\" y=\"204.64\" width=\"17.28\" height=\"17.28\" style=\"stroke-width: 1.07; stroke: none; fill: #EBEBEB;\"/>\n",
       "<rect x=\"335.90\" y=\"205.34\" width=\"15.86\" height=\"15.86\" style=\"stroke-width: 1.07; stroke: none; stroke-linecap: butt; stroke-linejoin: miter; fill: #000000;\"/>\n",
       "<text x=\"357.95\" y=\"147.36\" style=\"font-size: 8.80px; font-family: &quot;DejaVu Sans&quot;;\" textLength=\"29.49px\" lengthAdjust=\"spacingAndGlyphs\">Known</text>\n",
       "<text x=\"357.95\" y=\"164.64\" style=\"font-size: 8.80px; font-family: &quot;DejaVu Sans&quot;;\" textLength=\"15.77px\" lengthAdjust=\"spacingAndGlyphs\">ISM</text>\n",
       "<text x=\"357.95\" y=\"181.92\" style=\"font-size: 8.80px; font-family: &quot;DejaVu Sans&quot;;\" textLength=\"15.31px\" lengthAdjust=\"spacingAndGlyphs\">NIC</text>\n",
       "<text x=\"357.95\" y=\"199.20\" style=\"font-size: 8.80px; font-family: &quot;DejaVu Sans&quot;;\" textLength=\"19.30px\" lengthAdjust=\"spacingAndGlyphs\">NNC</text>\n",
       "<text x=\"357.95\" y=\"216.48\" style=\"font-size: 8.80px; font-family: &quot;DejaVu Sans&quot;;\" textLength=\"24.98px\" lengthAdjust=\"spacingAndGlyphs\">Other</text>\n",
       "<text x=\"29.06\" y=\"15.10\" style=\"font-size: 13.20px; font-family: &quot;DejaVu Sans&quot;;\" textLength=\"221.52px\" lengthAdjust=\"spacingAndGlyphs\">Proteoforms Identified by Novelty</text>\n",
       "</g>\n",
       "</svg>"
      ],
      "text/plain": [
       "<IPython.core.display.SVG object>"
      ]
     },
     "metadata": {},
     "output_type": "display_data"
    }
   ],
   "source": [
    "df = lr_bulk.var\\\n",
    "    .with_columns(\n",
    "        pl.col(\"base_isoform\").cast(pl.String)\n",
    "    )\\\n",
    "    .filter(\n",
    "        pl.col(\"isoform\") == pl.col(\"base_isoform\"),\n",
    "        pl.col(\"ORF_type\") == \"complete\",\n",
    "        pl.col(\"validated_proteomics\")\n",
    "    )\\\n",
    "    .group_by(\"pr_splice_cat2\")\\\n",
    "    .agg(pl.count().alias(\"count\"))\\\n",
    "    .with_columns(\n",
    "        (pl.col(\"count\") / pl.col(\"count\").sum() * 100).alias(\"percentage\")\n",
    "    )\n",
    "\n",
    "to_r(df, \"df\")\n",
    "r(\n",
    "\"\"\"\n",
    "df$pr_splice_cat2 <- factor(df$pr_splice_cat2, levels = c(\"Known\", \"ISM\", \"NIC\", \"NNC\", \"Other\"))\n",
    "\n",
    "df %>% \n",
    "    ggplot(aes(x = pr_splice_cat2, y = count, fill = pr_splice_cat2)) +\n",
    "    geom_bar(stat = \"identity\") +\n",
    "    geom_text(aes(label = paste0(round(percentage, 1), \"%\")), vjust = 2, colour = \"white\", size = 5) +\n",
    "    theme(axis.text.x = element_text(size = 18)) +\n",
    "    labs(x = \"Proteoform Category\", y = \"Percentage\", title = \"Proteoforms Identified by Novelty\") +\n",
    "    scale_fill_manual(\"Proteoform Category\", values=colorVector) +\n",
    "    scale_y_continuous(labels = function(x) x/1000) +\n",
    "    ylab(\"Transcripts (x 10^3)\") +\n",
    "    xlab(NULL)\n",
    "\"\"\"\n",
    ")"
   ]
  },
  {
   "cell_type": "code",
   "execution_count": 66,
   "metadata": {},
   "outputs": [
    {
     "name": "stderr",
     "output_type": "stream",
     "text": [
      "/tmp/ipykernel_90900/3052553393.py:10: DeprecationWarning: `pl.count()` is deprecated. Please use `pl.len()` instead.\n",
      "  .agg(pl.count().alias(\"count\"))\\\n"
     ]
    },
    {
     "name": "stdout",
     "output_type": "stream",
     "text": [
      "null device \n",
      "          1 \n"
     ]
    },
    {
     "data": {
      "image/svg+xml": [
       "<svg xmlns=\"http://www.w3.org/2000/svg\" xmlns:xlink=\"http://www.w3.org/1999/xlink\" class=\"svglite\" width=\"460.80pt\" height=\"345.60pt\" viewBox=\"0 0 460.80 345.60\">\n",
       "<defs>\n",
       "  <style type=\"text/css\"><![CDATA[\n",
       "    .svglite line, .svglite polyline, .svglite polygon, .svglite path, .svglite rect, .svglite circle {\n",
       "      fill: none;\n",
       "      stroke: #000000;\n",
       "      stroke-linecap: round;\n",
       "      stroke-linejoin: round;\n",
       "      stroke-miterlimit: 10.00;\n",
       "    }\n",
       "    .svglite text {\n",
       "      white-space: pre;\n",
       "    }\n",
       "  ]]></style>\n",
       "</defs>\n",
       "<rect width=\"100%\" height=\"100%\" style=\"stroke: none; fill: #FFFFFF;\"/>\n",
       "<defs>\n",
       "  <clipPath id=\"cpMC4wMHw0NjAuODB8MC4wMHwzNDUuNjA=\">\n",
       "    <rect x=\"0.00\" y=\"0.00\" width=\"460.80\" height=\"345.60\"/>\n",
       "  </clipPath>\n",
       "</defs>\n",
       "<g clip-path=\"url(#cpMC4wMHw0NjAuODB8MC4wMHwzNDUuNjA=)\">\n",
       "<rect x=\"0.000000000000064\" y=\"0.000000000000057\" width=\"460.80\" height=\"345.60\" style=\"stroke-width: 1.07; stroke: #FFFFFF; fill: #FFFFFF;\"/>\n",
       "</g>\n",
       "<defs>\n",
       "  <clipPath id=\"cpMzQuNjV8MzE4Ljc1fDIzLjMyfDMxOC4zMg==\">\n",
       "    <rect x=\"34.65\" y=\"23.32\" width=\"284.10\" height=\"295.00\"/>\n",
       "  </clipPath>\n",
       "</defs>\n",
       "<g clip-path=\"url(#cpMzQuNjV8MzE4Ljc1fDIzLjMyfDMxOC4zMg==)\">\n",
       "<rect x=\"34.65\" y=\"23.32\" width=\"284.10\" height=\"295.00\" style=\"stroke-width: 1.07; stroke: none; fill: #EBEBEB;\"/>\n",
       "<polyline points=\"34.65,258.41 318.75,258.41 \" style=\"stroke-width: 0.53; stroke: #FFFFFF; stroke-linecap: butt;\"/>\n",
       "<polyline points=\"34.65,165.40 318.75,165.40 \" style=\"stroke-width: 0.53; stroke: #FFFFFF; stroke-linecap: butt;\"/>\n",
       "<polyline points=\"34.65,72.39 318.75,72.39 \" style=\"stroke-width: 0.53; stroke: #FFFFFF; stroke-linecap: butt;\"/>\n",
       "<polyline points=\"34.65,304.91 318.75,304.91 \" style=\"stroke-width: 1.07; stroke: #FFFFFF; stroke-linecap: butt;\"/>\n",
       "<polyline points=\"34.65,211.90 318.75,211.90 \" style=\"stroke-width: 1.07; stroke: #FFFFFF; stroke-linecap: butt;\"/>\n",
       "<polyline points=\"34.65,118.89 318.75,118.89 \" style=\"stroke-width: 1.07; stroke: #FFFFFF; stroke-linecap: butt;\"/>\n",
       "<polyline points=\"34.65,25.89 318.75,25.89 \" style=\"stroke-width: 1.07; stroke: #FFFFFF; stroke-linecap: butt;\"/>\n",
       "<polyline points=\"67.43,318.32 67.43,23.32 \" style=\"stroke-width: 1.07; stroke: #FFFFFF; stroke-linecap: butt;\"/>\n",
       "<polyline points=\"122.07,318.32 122.07,23.32 \" style=\"stroke-width: 1.07; stroke: #FFFFFF; stroke-linecap: butt;\"/>\n",
       "<polyline points=\"176.70,318.32 176.70,23.32 \" style=\"stroke-width: 1.07; stroke: #FFFFFF; stroke-linecap: butt;\"/>\n",
       "<polyline points=\"231.33,318.32 231.33,23.32 \" style=\"stroke-width: 1.07; stroke: #FFFFFF; stroke-linecap: butt;\"/>\n",
       "<polyline points=\"285.97,318.32 285.97,23.32 \" style=\"stroke-width: 1.07; stroke: #FFFFFF; stroke-linecap: butt;\"/>\n",
       "<rect x=\"97.48\" y=\"36.73\" width=\"49.17\" height=\"268.18\" style=\"stroke-width: 1.07; stroke: none; stroke-linecap: butt; stroke-linejoin: miter; fill: #0072B2;\"/>\n",
       "<rect x=\"206.75\" y=\"194.18\" width=\"49.17\" height=\"110.73\" style=\"stroke-width: 1.07; stroke: none; stroke-linecap: butt; stroke-linejoin: miter; fill: #E69F00;\"/>\n",
       "<rect x=\"42.85\" y=\"164.19\" width=\"49.17\" height=\"140.72\" style=\"stroke-width: 1.07; stroke: none; stroke-linecap: butt; stroke-linejoin: miter; fill: #009E73;\"/>\n",
       "<rect x=\"261.38\" y=\"289.69\" width=\"49.17\" height=\"15.22\" style=\"stroke-width: 1.07; stroke: none; stroke-linecap: butt; stroke-linejoin: miter; fill: #000000;\"/>\n",
       "<rect x=\"152.11\" y=\"147.07\" width=\"49.17\" height=\"157.84\" style=\"stroke-width: 1.07; stroke: none; stroke-linecap: butt; stroke-linejoin: miter; fill: #D55E00;\"/>\n",
       "<text x=\"122.07\" y=\"57.47\" text-anchor=\"middle\" style=\"font-size: 14.23px;fill: #FFFFFF; font-family: &quot;DejaVu Sans&quot;;\" textLength=\"45.19px\" lengthAdjust=\"spacingAndGlyphs\">38.7%</text>\n",
       "<text x=\"231.33\" y=\"214.92\" text-anchor=\"middle\" style=\"font-size: 14.23px;fill: #FFFFFF; font-family: &quot;DejaVu Sans&quot;;\" textLength=\"31.62px\" lengthAdjust=\"spacingAndGlyphs\">16%</text>\n",
       "<text x=\"67.43\" y=\"184.92\" text-anchor=\"middle\" style=\"font-size: 14.23px;fill: #FFFFFF; font-family: &quot;DejaVu Sans&quot;;\" textLength=\"45.19px\" lengthAdjust=\"spacingAndGlyphs\">20.3%</text>\n",
       "<text x=\"285.97\" y=\"310.43\" text-anchor=\"middle\" style=\"font-size: 14.23px;fill: #FFFFFF; font-family: &quot;DejaVu Sans&quot;;\" textLength=\"36.14px\" lengthAdjust=\"spacingAndGlyphs\">2.2%</text>\n",
       "<text x=\"176.70\" y=\"167.80\" text-anchor=\"middle\" style=\"font-size: 14.23px;fill: #FFFFFF; font-family: &quot;DejaVu Sans&quot;;\" textLength=\"45.19px\" lengthAdjust=\"spacingAndGlyphs\">22.8%</text>\n",
       "</g>\n",
       "<g clip-path=\"url(#cpMC4wMHw0NjAuODB8MC4wMHwzNDUuNjA=)\">\n",
       "<text x=\"29.72\" y=\"308.12\" text-anchor=\"end\" style=\"font-size: 8.80px;fill: #4D4D4D; font-family: &quot;DejaVu Sans&quot;;\" textLength=\"5.59px\" lengthAdjust=\"spacingAndGlyphs\">0</text>\n",
       "<text x=\"29.72\" y=\"215.11\" text-anchor=\"end\" style=\"font-size: 8.80px;fill: #4D4D4D; font-family: &quot;DejaVu Sans&quot;;\" textLength=\"11.19px\" lengthAdjust=\"spacingAndGlyphs\">10</text>\n",
       "<text x=\"29.72\" y=\"122.10\" text-anchor=\"end\" style=\"font-size: 8.80px;fill: #4D4D4D; font-family: &quot;DejaVu Sans&quot;;\" textLength=\"11.19px\" lengthAdjust=\"spacingAndGlyphs\">20</text>\n",
       "<text x=\"29.72\" y=\"29.09\" text-anchor=\"end\" style=\"font-size: 8.80px;fill: #4D4D4D; font-family: &quot;DejaVu Sans&quot;;\" textLength=\"11.19px\" lengthAdjust=\"spacingAndGlyphs\">30</text>\n",
       "<polyline points=\"31.91,304.91 34.65,304.91 \" style=\"stroke-width: 1.07; stroke: #333333; stroke-linecap: butt;\"/>\n",
       "<polyline points=\"31.91,211.90 34.65,211.90 \" style=\"stroke-width: 1.07; stroke: #333333; stroke-linecap: butt;\"/>\n",
       "<polyline points=\"31.91,118.89 34.65,118.89 \" style=\"stroke-width: 1.07; stroke: #333333; stroke-linecap: butt;\"/>\n",
       "<polyline points=\"31.91,25.89 34.65,25.89 \" style=\"stroke-width: 1.07; stroke: #333333; stroke-linecap: butt;\"/>\n",
       "<polyline points=\"67.43,321.06 67.43,318.32 \" style=\"stroke-width: 1.07; stroke: #333333; stroke-linecap: butt;\"/>\n",
       "<polyline points=\"122.07,321.06 122.07,318.32 \" style=\"stroke-width: 1.07; stroke: #333333; stroke-linecap: butt;\"/>\n",
       "<polyline points=\"176.70,321.06 176.70,318.32 \" style=\"stroke-width: 1.07; stroke: #333333; stroke-linecap: butt;\"/>\n",
       "<polyline points=\"231.33,321.06 231.33,318.32 \" style=\"stroke-width: 1.07; stroke: #333333; stroke-linecap: butt;\"/>\n",
       "<polyline points=\"285.97,321.06 285.97,318.32 \" style=\"stroke-width: 1.07; stroke: #333333; stroke-linecap: butt;\"/>\n",
       "<text x=\"67.43\" y=\"336.38\" text-anchor=\"middle\" style=\"font-size: 18.00px;fill: #4D4D4D; font-family: &quot;DejaVu Sans&quot;;\" textLength=\"60.35px\" lengthAdjust=\"spacingAndGlyphs\">Known</text>\n",
       "<text x=\"122.07\" y=\"336.38\" text-anchor=\"middle\" style=\"font-size: 18.00px;fill: #4D4D4D; font-family: &quot;DejaVu Sans&quot;;\" textLength=\"32.26px\" lengthAdjust=\"spacingAndGlyphs\">ISM</text>\n",
       "<text x=\"176.70\" y=\"336.38\" text-anchor=\"middle\" style=\"font-size: 18.00px;fill: #4D4D4D; font-family: &quot;DejaVu Sans&quot;;\" textLength=\"31.34px\" lengthAdjust=\"spacingAndGlyphs\">NIC</text>\n",
       "<text x=\"231.33\" y=\"336.38\" text-anchor=\"middle\" style=\"font-size: 18.00px;fill: #4D4D4D; font-family: &quot;DejaVu Sans&quot;;\" textLength=\"39.50px\" lengthAdjust=\"spacingAndGlyphs\">NNC</text>\n",
       "<text x=\"285.97\" y=\"336.38\" text-anchor=\"middle\" style=\"font-size: 18.00px;fill: #4D4D4D; font-family: &quot;DejaVu Sans&quot;;\" textLength=\"51.11px\" lengthAdjust=\"spacingAndGlyphs\">Other</text>\n",
       "<text transform=\"translate(13.50,170.82) rotate(-90)\" text-anchor=\"middle\" style=\"font-size: 11.00px; font-family: &quot;DejaVu Sans&quot;;\" textLength=\"112.02px\" lengthAdjust=\"spacingAndGlyphs\">Transcripts (x 10^3)</text>\n",
       "<rect x=\"329.71\" y=\"114.25\" width=\"125.61\" height=\"113.15\" style=\"stroke-width: 1.07; stroke: none; fill: #FFFFFF;\"/>\n",
       "<text x=\"335.19\" y=\"128.89\" style=\"font-size: 11.00px; font-family: &quot;DejaVu Sans&quot;;\" textLength=\"114.65px\" lengthAdjust=\"spacingAndGlyphs\">Proteoform Category</text>\n",
       "<rect x=\"335.19\" y=\"135.52\" width=\"17.28\" height=\"17.28\" style=\"stroke-width: 1.07; stroke: none; fill: #EBEBEB;\"/>\n",
       "<rect x=\"335.90\" y=\"136.22\" width=\"15.86\" height=\"15.86\" style=\"stroke-width: 1.07; stroke: none; stroke-linecap: butt; stroke-linejoin: miter; fill: #009E73;\"/>\n",
       "<rect x=\"335.19\" y=\"152.80\" width=\"17.28\" height=\"17.28\" style=\"stroke-width: 1.07; stroke: none; fill: #EBEBEB;\"/>\n",
       "<rect x=\"335.90\" y=\"153.50\" width=\"15.86\" height=\"15.86\" style=\"stroke-width: 1.07; stroke: none; stroke-linecap: butt; stroke-linejoin: miter; fill: #0072B2;\"/>\n",
       "<rect x=\"335.19\" y=\"170.08\" width=\"17.28\" height=\"17.28\" style=\"stroke-width: 1.07; stroke: none; fill: #EBEBEB;\"/>\n",
       "<rect x=\"335.90\" y=\"170.78\" width=\"15.86\" height=\"15.86\" style=\"stroke-width: 1.07; stroke: none; stroke-linecap: butt; stroke-linejoin: miter; fill: #D55E00;\"/>\n",
       "<rect x=\"335.19\" y=\"187.36\" width=\"17.28\" height=\"17.28\" style=\"stroke-width: 1.07; stroke: none; fill: #EBEBEB;\"/>\n",
       "<rect x=\"335.90\" y=\"188.06\" width=\"15.86\" height=\"15.86\" style=\"stroke-width: 1.07; stroke: none; stroke-linecap: butt; stroke-linejoin: miter; fill: #E69F00;\"/>\n",
       "<rect x=\"335.19\" y=\"204.64\" width=\"17.28\" height=\"17.28\" style=\"stroke-width: 1.07; stroke: none; fill: #EBEBEB;\"/>\n",
       "<rect x=\"335.90\" y=\"205.34\" width=\"15.86\" height=\"15.86\" style=\"stroke-width: 1.07; stroke: none; stroke-linecap: butt; stroke-linejoin: miter; fill: #000000;\"/>\n",
       "<text x=\"357.95\" y=\"147.36\" style=\"font-size: 8.80px; font-family: &quot;DejaVu Sans&quot;;\" textLength=\"29.49px\" lengthAdjust=\"spacingAndGlyphs\">Known</text>\n",
       "<text x=\"357.95\" y=\"164.64\" style=\"font-size: 8.80px; font-family: &quot;DejaVu Sans&quot;;\" textLength=\"15.77px\" lengthAdjust=\"spacingAndGlyphs\">ISM</text>\n",
       "<text x=\"357.95\" y=\"181.92\" style=\"font-size: 8.80px; font-family: &quot;DejaVu Sans&quot;;\" textLength=\"15.31px\" lengthAdjust=\"spacingAndGlyphs\">NIC</text>\n",
       "<text x=\"357.95\" y=\"199.20\" style=\"font-size: 8.80px; font-family: &quot;DejaVu Sans&quot;;\" textLength=\"19.30px\" lengthAdjust=\"spacingAndGlyphs\">NNC</text>\n",
       "<text x=\"357.95\" y=\"216.48\" style=\"font-size: 8.80px; font-family: &quot;DejaVu Sans&quot;;\" textLength=\"24.98px\" lengthAdjust=\"spacingAndGlyphs\">Other</text>\n",
       "<text x=\"34.65\" y=\"15.10\" style=\"font-size: 13.20px; font-family: &quot;DejaVu Sans&quot;;\" textLength=\"221.52px\" lengthAdjust=\"spacingAndGlyphs\">Proteoforms Identified by Novelty</text>\n",
       "</g>\n",
       "</svg>"
      ],
      "text/plain": [
       "<IPython.core.display.SVG object>"
      ]
     },
     "metadata": {},
     "output_type": "display_data"
    }
   ],
   "source": [
    "df = lr_bulk.var\\\n",
    "    .with_columns(\n",
    "        pl.col(\"base_isoform\").cast(pl.String)\n",
    "    )\\\n",
    "    .filter(\n",
    "        pl.col(\"isoform\") == pl.col(\"base_isoform\"),\n",
    "        pl.col(\"ORF_type\") == \"complete\"\n",
    "    )\\\n",
    "    .group_by(\"pr_splice_cat2\")\\\n",
    "    .agg(pl.count().alias(\"count\"))\\\n",
    "    .with_columns(\n",
    "        (pl.col(\"count\") / pl.col(\"count\").sum() * 100).alias(\"percentage\")\n",
    "    )\n",
    "\n",
    "to_r(df, \"df\")\n",
    "r(\n",
    "\"\"\"\n",
    "df$pr_splice_cat2 <- factor(df$pr_splice_cat2, levels = c(\"Known\", \"ISM\", \"NIC\", \"NNC\", \"Other\"))\n",
    "\n",
    "df %>% \n",
    "    ggplot(aes(x = pr_splice_cat2, y = count, fill = pr_splice_cat2)) +\n",
    "    geom_bar(stat = \"identity\") +\n",
    "    geom_text(aes(label = paste0(round(percentage, 1), \"%\")), vjust = 2, colour = \"white\", size = 5) +\n",
    "    theme(axis.text.x = element_text(size = 18)) +\n",
    "    labs(x = \"Proteoform Category\", y = \"Percentage\", title = \"Proteoforms Identified by Novelty\") +\n",
    "    scale_fill_manual(\"Proteoform Category\", values=colorVector) +\n",
    "    scale_y_continuous(labels = function(x) x/1000) +\n",
    "    ylab(\"Transcripts (x 10^3)\") +\n",
    "    xlab(NULL)\n",
    "\"\"\"\n",
    ")"
   ]
  },
  {
   "cell_type": "code",
   "execution_count": 48,
   "metadata": {},
   "outputs": [
    {
     "name": "stdout",
     "output_type": "stream",
     "text": [
      "null device \n",
      "          1 \n"
     ]
    },
    {
     "data": {
      "image/svg+xml": [
       "<svg xmlns=\"http://www.w3.org/2000/svg\" xmlns:xlink=\"http://www.w3.org/1999/xlink\" class=\"svglite\" width=\"460.80pt\" height=\"345.60pt\" viewBox=\"0 0 460.80 345.60\">\n",
       "<defs>\n",
       "  <style type=\"text/css\"><![CDATA[\n",
       "    .svglite line, .svglite polyline, .svglite polygon, .svglite path, .svglite rect, .svglite circle {\n",
       "      fill: none;\n",
       "      stroke: #000000;\n",
       "      stroke-linecap: round;\n",
       "      stroke-linejoin: round;\n",
       "      stroke-miterlimit: 10.00;\n",
       "    }\n",
       "    .svglite text {\n",
       "      white-space: pre;\n",
       "    }\n",
       "  ]]></style>\n",
       "</defs>\n",
       "<rect width=\"100%\" height=\"100%\" style=\"stroke: none; fill: #FFFFFF;\"/>\n",
       "<defs>\n",
       "  <clipPath id=\"cpMC4wMHw0NjAuODB8MC4wMHwzNDUuNjA=\">\n",
       "    <rect x=\"0.00\" y=\"0.00\" width=\"460.80\" height=\"345.60\"/>\n",
       "  </clipPath>\n",
       "</defs>\n",
       "<g clip-path=\"url(#cpMC4wMHw0NjAuODB8MC4wMHwzNDUuNjA=)\">\n",
       "<rect x=\"0.00\" y=\"0.000000000000057\" width=\"460.80\" height=\"345.60\" style=\"stroke-width: 1.07; stroke: #FFFFFF; fill: #FFFFFF;\"/>\n",
       "</g>\n",
       "<defs>\n",
       "  <clipPath id=\"cpMzQuNjV8MzI1LjY3fDIzLjMyfDMxOC4zMg==\">\n",
       "    <rect x=\"34.65\" y=\"23.32\" width=\"291.02\" height=\"295.00\"/>\n",
       "  </clipPath>\n",
       "</defs>\n",
       "<g clip-path=\"url(#cpMzQuNjV8MzI1LjY3fDIzLjMyfDMxOC4zMg==)\">\n",
       "<rect x=\"34.65\" y=\"23.32\" width=\"291.02\" height=\"295.00\" style=\"stroke-width: 1.07; stroke: none; fill: #EBEBEB;\"/>\n",
       "<polyline points=\"34.65,277.98 325.67,277.98 \" style=\"stroke-width: 0.53; stroke: #FFFFFF; stroke-linecap: butt;\"/>\n",
       "<polyline points=\"34.65,224.11 325.67,224.11 \" style=\"stroke-width: 0.53; stroke: #FFFFFF; stroke-linecap: butt;\"/>\n",
       "<polyline points=\"34.65,170.25 325.67,170.25 \" style=\"stroke-width: 0.53; stroke: #FFFFFF; stroke-linecap: butt;\"/>\n",
       "<polyline points=\"34.65,116.38 325.67,116.38 \" style=\"stroke-width: 0.53; stroke: #FFFFFF; stroke-linecap: butt;\"/>\n",
       "<polyline points=\"34.65,62.52 325.67,62.52 \" style=\"stroke-width: 0.53; stroke: #FFFFFF; stroke-linecap: butt;\"/>\n",
       "<polyline points=\"34.65,304.91 325.67,304.91 \" style=\"stroke-width: 1.07; stroke: #FFFFFF; stroke-linecap: butt;\"/>\n",
       "<polyline points=\"34.65,251.04 325.67,251.04 \" style=\"stroke-width: 1.07; stroke: #FFFFFF; stroke-linecap: butt;\"/>\n",
       "<polyline points=\"34.65,197.18 325.67,197.18 \" style=\"stroke-width: 1.07; stroke: #FFFFFF; stroke-linecap: butt;\"/>\n",
       "<polyline points=\"34.65,143.31 325.67,143.31 \" style=\"stroke-width: 1.07; stroke: #FFFFFF; stroke-linecap: butt;\"/>\n",
       "<polyline points=\"34.65,89.45 325.67,89.45 \" style=\"stroke-width: 1.07; stroke: #FFFFFF; stroke-linecap: butt;\"/>\n",
       "<polyline points=\"34.65,35.58 325.67,35.58 \" style=\"stroke-width: 1.07; stroke: #FFFFFF; stroke-linecap: butt;\"/>\n",
       "<polyline points=\"68.23,318.32 68.23,23.32 \" style=\"stroke-width: 1.07; stroke: #FFFFFF; stroke-linecap: butt;\"/>\n",
       "<polyline points=\"124.19,318.32 124.19,23.32 \" style=\"stroke-width: 1.07; stroke: #FFFFFF; stroke-linecap: butt;\"/>\n",
       "<polyline points=\"180.16,318.32 180.16,23.32 \" style=\"stroke-width: 1.07; stroke: #FFFFFF; stroke-linecap: butt;\"/>\n",
       "<polyline points=\"236.12,318.32 236.12,23.32 \" style=\"stroke-width: 1.07; stroke: #FFFFFF; stroke-linecap: butt;\"/>\n",
       "<polyline points=\"292.09,318.32 292.09,23.32 \" style=\"stroke-width: 1.07; stroke: #FFFFFF; stroke-linecap: butt;\"/>\n",
       "<rect x=\"154.98\" y=\"36.73\" width=\"50.37\" height=\"268.18\" style=\"stroke-width: 1.07; stroke: none; stroke-linecap: butt; stroke-linejoin: miter; fill: #D55E00;\"/>\n",
       "<rect x=\"210.94\" y=\"124.73\" width=\"50.37\" height=\"180.18\" style=\"stroke-width: 1.07; stroke: none; stroke-linecap: butt; stroke-linejoin: miter; fill: #E69F00;\"/>\n",
       "<rect x=\"99.01\" y=\"254.19\" width=\"50.37\" height=\"50.72\" style=\"stroke-width: 1.07; stroke: none; stroke-linecap: butt; stroke-linejoin: miter; fill: #0072B2;\"/>\n",
       "<rect x=\"266.91\" y=\"286.50\" width=\"50.37\" height=\"18.41\" style=\"stroke-width: 1.07; stroke: none; stroke-linecap: butt; stroke-linejoin: miter; fill: #000000;\"/>\n",
       "<rect x=\"43.04\" y=\"45.52\" width=\"50.37\" height=\"259.39\" style=\"stroke-width: 1.07; stroke: none; stroke-linecap: butt; stroke-linejoin: miter; fill: #009E73;\"/>\n",
       "<text x=\"180.16\" y=\"57.47\" text-anchor=\"middle\" style=\"font-size: 14.23px;fill: #FFFFFF; font-family: &quot;DejaVu Sans&quot;;\" textLength=\"45.19px\" lengthAdjust=\"spacingAndGlyphs\">34.5%</text>\n",
       "<text x=\"236.12\" y=\"145.47\" text-anchor=\"middle\" style=\"font-size: 14.23px;fill: #FFFFFF; font-family: &quot;DejaVu Sans&quot;;\" textLength=\"45.19px\" lengthAdjust=\"spacingAndGlyphs\">23.2%</text>\n",
       "<text x=\"124.19\" y=\"274.93\" text-anchor=\"middle\" style=\"font-size: 14.23px;fill: #FFFFFF; font-family: &quot;DejaVu Sans&quot;;\" textLength=\"36.14px\" lengthAdjust=\"spacingAndGlyphs\">6.5%</text>\n",
       "<text x=\"292.09\" y=\"307.24\" text-anchor=\"middle\" style=\"font-size: 14.23px;fill: #FFFFFF; font-family: &quot;DejaVu Sans&quot;;\" textLength=\"36.14px\" lengthAdjust=\"spacingAndGlyphs\">2.4%</text>\n",
       "<text x=\"68.23\" y=\"66.26\" text-anchor=\"middle\" style=\"font-size: 14.23px;fill: #FFFFFF; font-family: &quot;DejaVu Sans&quot;;\" textLength=\"45.19px\" lengthAdjust=\"spacingAndGlyphs\">33.4%</text>\n",
       "</g>\n",
       "<g clip-path=\"url(#cpMC4wMHw0NjAuODB8MC4wMHwzNDUuNjA=)\">\n",
       "<text x=\"29.72\" y=\"308.12\" text-anchor=\"end\" style=\"font-size: 8.80px;fill: #4D4D4D; font-family: &quot;DejaVu Sans&quot;;\" textLength=\"5.59px\" lengthAdjust=\"spacingAndGlyphs\">0</text>\n",
       "<text x=\"29.72\" y=\"254.25\" text-anchor=\"end\" style=\"font-size: 8.80px;fill: #4D4D4D; font-family: &quot;DejaVu Sans&quot;;\" textLength=\"11.19px\" lengthAdjust=\"spacingAndGlyphs\">10</text>\n",
       "<text x=\"29.72\" y=\"200.39\" text-anchor=\"end\" style=\"font-size: 8.80px;fill: #4D4D4D; font-family: &quot;DejaVu Sans&quot;;\" textLength=\"11.19px\" lengthAdjust=\"spacingAndGlyphs\">20</text>\n",
       "<text x=\"29.72\" y=\"146.52\" text-anchor=\"end\" style=\"font-size: 8.80px;fill: #4D4D4D; font-family: &quot;DejaVu Sans&quot;;\" textLength=\"11.19px\" lengthAdjust=\"spacingAndGlyphs\">30</text>\n",
       "<text x=\"29.72\" y=\"92.66\" text-anchor=\"end\" style=\"font-size: 8.80px;fill: #4D4D4D; font-family: &quot;DejaVu Sans&quot;;\" textLength=\"11.19px\" lengthAdjust=\"spacingAndGlyphs\">40</text>\n",
       "<text x=\"29.72\" y=\"38.79\" text-anchor=\"end\" style=\"font-size: 8.80px;fill: #4D4D4D; font-family: &quot;DejaVu Sans&quot;;\" textLength=\"11.19px\" lengthAdjust=\"spacingAndGlyphs\">50</text>\n",
       "<polyline points=\"31.91,304.91 34.65,304.91 \" style=\"stroke-width: 1.07; stroke: #333333; stroke-linecap: butt;\"/>\n",
       "<polyline points=\"31.91,251.04 34.65,251.04 \" style=\"stroke-width: 1.07; stroke: #333333; stroke-linecap: butt;\"/>\n",
       "<polyline points=\"31.91,197.18 34.65,197.18 \" style=\"stroke-width: 1.07; stroke: #333333; stroke-linecap: butt;\"/>\n",
       "<polyline points=\"31.91,143.31 34.65,143.31 \" style=\"stroke-width: 1.07; stroke: #333333; stroke-linecap: butt;\"/>\n",
       "<polyline points=\"31.91,89.45 34.65,89.45 \" style=\"stroke-width: 1.07; stroke: #333333; stroke-linecap: butt;\"/>\n",
       "<polyline points=\"31.91,35.58 34.65,35.58 \" style=\"stroke-width: 1.07; stroke: #333333; stroke-linecap: butt;\"/>\n",
       "<polyline points=\"68.23,321.06 68.23,318.32 \" style=\"stroke-width: 1.07; stroke: #333333; stroke-linecap: butt;\"/>\n",
       "<polyline points=\"124.19,321.06 124.19,318.32 \" style=\"stroke-width: 1.07; stroke: #333333; stroke-linecap: butt;\"/>\n",
       "<polyline points=\"180.16,321.06 180.16,318.32 \" style=\"stroke-width: 1.07; stroke: #333333; stroke-linecap: butt;\"/>\n",
       "<polyline points=\"236.12,321.06 236.12,318.32 \" style=\"stroke-width: 1.07; stroke: #333333; stroke-linecap: butt;\"/>\n",
       "<polyline points=\"292.09,321.06 292.09,318.32 \" style=\"stroke-width: 1.07; stroke: #333333; stroke-linecap: butt;\"/>\n",
       "<text x=\"68.23\" y=\"336.38\" text-anchor=\"middle\" style=\"font-size: 18.00px;fill: #4D4D4D; font-family: &quot;DejaVu Sans&quot;;\" textLength=\"60.35px\" lengthAdjust=\"spacingAndGlyphs\">Known</text>\n",
       "<text x=\"124.19\" y=\"336.38\" text-anchor=\"middle\" style=\"font-size: 18.00px;fill: #4D4D4D; font-family: &quot;DejaVu Sans&quot;;\" textLength=\"32.26px\" lengthAdjust=\"spacingAndGlyphs\">ISM</text>\n",
       "<text x=\"180.16\" y=\"336.38\" text-anchor=\"middle\" style=\"font-size: 18.00px;fill: #4D4D4D; font-family: &quot;DejaVu Sans&quot;;\" textLength=\"31.34px\" lengthAdjust=\"spacingAndGlyphs\">NIC</text>\n",
       "<text x=\"236.12\" y=\"336.38\" text-anchor=\"middle\" style=\"font-size: 18.00px;fill: #4D4D4D; font-family: &quot;DejaVu Sans&quot;;\" textLength=\"39.50px\" lengthAdjust=\"spacingAndGlyphs\">NNC</text>\n",
       "<text x=\"292.09\" y=\"336.38\" text-anchor=\"middle\" style=\"font-size: 18.00px;fill: #4D4D4D; font-family: &quot;DejaVu Sans&quot;;\" textLength=\"51.11px\" lengthAdjust=\"spacingAndGlyphs\">Other</text>\n",
       "<text transform=\"translate(13.50,170.82) rotate(-90)\" text-anchor=\"middle\" style=\"font-size: 11.00px; font-family: &quot;DejaVu Sans&quot;;\" textLength=\"112.02px\" lengthAdjust=\"spacingAndGlyphs\">Transcripts (x 10^3)</text>\n",
       "<rect x=\"336.63\" y=\"114.25\" width=\"118.69\" height=\"113.15\" style=\"stroke-width: 1.07; stroke: none; fill: #FFFFFF;\"/>\n",
       "<text x=\"342.11\" y=\"128.89\" style=\"font-size: 11.00px; font-family: &quot;DejaVu Sans&quot;;\" textLength=\"107.73px\" lengthAdjust=\"spacingAndGlyphs\">Transcript Category</text>\n",
       "<rect x=\"342.11\" y=\"135.52\" width=\"17.28\" height=\"17.28\" style=\"stroke-width: 1.07; stroke: none; fill: #EBEBEB;\"/>\n",
       "<rect x=\"342.82\" y=\"136.22\" width=\"15.86\" height=\"15.86\" style=\"stroke-width: 1.07; stroke: none; stroke-linecap: butt; stroke-linejoin: miter; fill: #009E73;\"/>\n",
       "<rect x=\"342.11\" y=\"152.80\" width=\"17.28\" height=\"17.28\" style=\"stroke-width: 1.07; stroke: none; fill: #EBEBEB;\"/>\n",
       "<rect x=\"342.82\" y=\"153.50\" width=\"15.86\" height=\"15.86\" style=\"stroke-width: 1.07; stroke: none; stroke-linecap: butt; stroke-linejoin: miter; fill: #0072B2;\"/>\n",
       "<rect x=\"342.11\" y=\"170.08\" width=\"17.28\" height=\"17.28\" style=\"stroke-width: 1.07; stroke: none; fill: #EBEBEB;\"/>\n",
       "<rect x=\"342.82\" y=\"170.78\" width=\"15.86\" height=\"15.86\" style=\"stroke-width: 1.07; stroke: none; stroke-linecap: butt; stroke-linejoin: miter; fill: #D55E00;\"/>\n",
       "<rect x=\"342.11\" y=\"187.36\" width=\"17.28\" height=\"17.28\" style=\"stroke-width: 1.07; stroke: none; fill: #EBEBEB;\"/>\n",
       "<rect x=\"342.82\" y=\"188.06\" width=\"15.86\" height=\"15.86\" style=\"stroke-width: 1.07; stroke: none; stroke-linecap: butt; stroke-linejoin: miter; fill: #E69F00;\"/>\n",
       "<rect x=\"342.11\" y=\"204.64\" width=\"17.28\" height=\"17.28\" style=\"stroke-width: 1.07; stroke: none; fill: #EBEBEB;\"/>\n",
       "<rect x=\"342.82\" y=\"205.34\" width=\"15.86\" height=\"15.86\" style=\"stroke-width: 1.07; stroke: none; stroke-linecap: butt; stroke-linejoin: miter; fill: #000000;\"/>\n",
       "<text x=\"364.87\" y=\"147.36\" style=\"font-size: 8.80px; font-family: &quot;DejaVu Sans&quot;;\" textLength=\"29.49px\" lengthAdjust=\"spacingAndGlyphs\">Known</text>\n",
       "<text x=\"364.87\" y=\"164.64\" style=\"font-size: 8.80px; font-family: &quot;DejaVu Sans&quot;;\" textLength=\"15.77px\" lengthAdjust=\"spacingAndGlyphs\">ISM</text>\n",
       "<text x=\"364.87\" y=\"181.92\" style=\"font-size: 8.80px; font-family: &quot;DejaVu Sans&quot;;\" textLength=\"15.31px\" lengthAdjust=\"spacingAndGlyphs\">NIC</text>\n",
       "<text x=\"364.87\" y=\"199.20\" style=\"font-size: 8.80px; font-family: &quot;DejaVu Sans&quot;;\" textLength=\"19.30px\" lengthAdjust=\"spacingAndGlyphs\">NNC</text>\n",
       "<text x=\"364.87\" y=\"216.48\" style=\"font-size: 8.80px; font-family: &quot;DejaVu Sans&quot;;\" textLength=\"24.98px\" lengthAdjust=\"spacingAndGlyphs\">Other</text>\n",
       "<text x=\"34.65\" y=\"15.10\" style=\"font-size: 13.20px; font-family: &quot;DejaVu Sans&quot;;\" textLength=\"340.25px\" lengthAdjust=\"spacingAndGlyphs\">Transcript Structural Category Identified by Novelty</text>\n",
       "</g>\n",
       "</svg>"
      ],
      "text/plain": [
       "<IPython.core.display.SVG object>"
      ]
     },
     "metadata": {},
     "output_type": "display_data"
    }
   ],
   "source": [
    "df = lr_bulk.var\\\n",
    "    .filter(pl.col(\"ORF_type\")==\"complete\")\\\n",
    "    .with_columns(\n",
    "        structural_category2 = pl.col(\"structural_category2\").replace_strict(structural_category_labels)\n",
    "    )\\\n",
    "    .group_by(\"structural_category2\")\\\n",
    "    .agg(pl.len().alias(\"len\"))\\\n",
    "    .with_columns(\n",
    "        (pl.col(\"len\") / pl.col(\"len\").sum() * 100).alias(\"percentage\")\n",
    "    )\n",
    "to_r(df, \"df\")\n",
    "r(\n",
    "\"\"\"\n",
    "df$structural_category2 <- factor(df$structural_category2, levels = c(\"Known\", \"ISM\", \"NIC\", \"NNC\", \"Other\"))\n",
    "\n",
    "df %>% \n",
    "    ggplot(aes(x = structural_category2, y = len, fill = structural_category2)) +\n",
    "    geom_bar(stat = \"identity\") +\n",
    "    geom_text(aes(label = paste0(round(percentage, 1), \"%\")), vjust = 2, colour = \"white\", size = 5) +\n",
    "    theme(axis.text.x = element_text(size = 18)) +\n",
    "    labs(x = \"Transcript Structural Category\", y = \"Percentage\", title = \"Transcript Structural Category Identified by Novelty\") +\n",
    "    scale_fill_manual(\"Transcript Category\", values=colorVector) +\n",
    "    scale_y_continuous(labels = function(x) x/1000) +\n",
    "    ylab(\"Transcripts (x 10^3)\") +\n",
    "    xlab(NULL)\n",
    "\"\"\"\n",
    ")\n"
   ]
  },
  {
   "cell_type": "code",
   "execution_count": 63,
   "metadata": {},
   "outputs": [
    {
     "name": "stdout",
     "output_type": "stream",
     "text": [
      "null device \n",
      "          1 \n"
     ]
    },
    {
     "data": {
      "image/svg+xml": [
       "<svg xmlns=\"http://www.w3.org/2000/svg\" xmlns:xlink=\"http://www.w3.org/1999/xlink\" class=\"svglite\" width=\"460.80pt\" height=\"345.60pt\" viewBox=\"0 0 460.80 345.60\">\n",
       "<defs>\n",
       "  <style type=\"text/css\"><![CDATA[\n",
       "    .svglite line, .svglite polyline, .svglite polygon, .svglite path, .svglite rect, .svglite circle {\n",
       "      fill: none;\n",
       "      stroke: #000000;\n",
       "      stroke-linecap: round;\n",
       "      stroke-linejoin: round;\n",
       "      stroke-miterlimit: 10.00;\n",
       "    }\n",
       "    .svglite text {\n",
       "      white-space: pre;\n",
       "    }\n",
       "  ]]></style>\n",
       "</defs>\n",
       "<rect width=\"100%\" height=\"100%\" style=\"stroke: none; fill: #FFFFFF;\"/>\n",
       "<defs>\n",
       "  <clipPath id=\"cpMC4wMHw0NjAuODB8MC4wMHwzNDUuNjA=\">\n",
       "    <rect x=\"0.00\" y=\"0.00\" width=\"460.80\" height=\"345.60\"/>\n",
       "  </clipPath>\n",
       "</defs>\n",
       "<g clip-path=\"url(#cpMC4wMHw0NjAuODB8MC4wMHwzNDUuNjA=)\">\n",
       "<rect x=\"0.00\" y=\"0.000000000000057\" width=\"460.80\" height=\"345.60\" style=\"stroke-width: 1.07; stroke: #FFFFFF; fill: #FFFFFF;\"/>\n",
       "</g>\n",
       "<defs>\n",
       "  <clipPath id=\"cpMzQuNjV8MzI1LjY3fDIzLjMyfDMxOC4zMg==\">\n",
       "    <rect x=\"34.65\" y=\"23.32\" width=\"291.02\" height=\"295.00\"/>\n",
       "  </clipPath>\n",
       "</defs>\n",
       "<g clip-path=\"url(#cpMzQuNjV8MzI1LjY3fDIzLjMyfDMxOC4zMg==)\">\n",
       "<rect x=\"34.65\" y=\"23.32\" width=\"291.02\" height=\"295.00\" style=\"stroke-width: 1.07; stroke: none; fill: #EBEBEB;\"/>\n",
       "<polyline points=\"34.65,264.11 325.67,264.11 \" style=\"stroke-width: 0.53; stroke: #FFFFFF; stroke-linecap: butt;\"/>\n",
       "<polyline points=\"34.65,182.50 325.67,182.50 \" style=\"stroke-width: 0.53; stroke: #FFFFFF; stroke-linecap: butt;\"/>\n",
       "<polyline points=\"34.65,100.89 325.67,100.89 \" style=\"stroke-width: 0.53; stroke: #FFFFFF; stroke-linecap: butt;\"/>\n",
       "<polyline points=\"34.65,304.91 325.67,304.91 \" style=\"stroke-width: 1.07; stroke: #FFFFFF; stroke-linecap: butt;\"/>\n",
       "<polyline points=\"34.65,223.30 325.67,223.30 \" style=\"stroke-width: 1.07; stroke: #FFFFFF; stroke-linecap: butt;\"/>\n",
       "<polyline points=\"34.65,141.69 325.67,141.69 \" style=\"stroke-width: 1.07; stroke: #FFFFFF; stroke-linecap: butt;\"/>\n",
       "<polyline points=\"34.65,60.09 325.67,60.09 \" style=\"stroke-width: 1.07; stroke: #FFFFFF; stroke-linecap: butt;\"/>\n",
       "<polyline points=\"68.23,318.32 68.23,23.32 \" style=\"stroke-width: 1.07; stroke: #FFFFFF; stroke-linecap: butt;\"/>\n",
       "<polyline points=\"124.19,318.32 124.19,23.32 \" style=\"stroke-width: 1.07; stroke: #FFFFFF; stroke-linecap: butt;\"/>\n",
       "<polyline points=\"180.16,318.32 180.16,23.32 \" style=\"stroke-width: 1.07; stroke: #FFFFFF; stroke-linecap: butt;\"/>\n",
       "<polyline points=\"236.12,318.32 236.12,23.32 \" style=\"stroke-width: 1.07; stroke: #FFFFFF; stroke-linecap: butt;\"/>\n",
       "<polyline points=\"292.09,318.32 292.09,23.32 \" style=\"stroke-width: 1.07; stroke: #FFFFFF; stroke-linecap: butt;\"/>\n",
       "<rect x=\"210.94\" y=\"276.95\" width=\"50.37\" height=\"27.96\" style=\"stroke-width: 1.07; stroke: none; stroke-linecap: butt; stroke-linejoin: miter; fill: #E69F00;\"/>\n",
       "<rect x=\"266.91\" y=\"302.67\" width=\"50.37\" height=\"2.24\" style=\"stroke-width: 1.07; stroke: none; stroke-linecap: butt; stroke-linejoin: miter; fill: #000000;\"/>\n",
       "<rect x=\"99.01\" y=\"254.28\" width=\"50.37\" height=\"50.63\" style=\"stroke-width: 1.07; stroke: none; stroke-linecap: butt; stroke-linejoin: miter; fill: #0072B2;\"/>\n",
       "<rect x=\"43.04\" y=\"36.73\" width=\"50.37\" height=\"268.18\" style=\"stroke-width: 1.07; stroke: none; stroke-linecap: butt; stroke-linejoin: miter; fill: #009E73;\"/>\n",
       "<rect x=\"154.98\" y=\"269.07\" width=\"50.37\" height=\"35.84\" style=\"stroke-width: 1.07; stroke: none; stroke-linecap: butt; stroke-linejoin: miter; fill: #D55E00;\"/>\n",
       "<text x=\"236.12\" y=\"297.69\" text-anchor=\"middle\" style=\"font-size: 14.23px;fill: #FFFFFF; font-family: &quot;DejaVu Sans&quot;;\" textLength=\"36.14px\" lengthAdjust=\"spacingAndGlyphs\">7.3%</text>\n",
       "<text x=\"292.09\" y=\"323.41\" text-anchor=\"middle\" style=\"font-size: 14.23px;fill: #FFFFFF; font-family: &quot;DejaVu Sans&quot;;\" textLength=\"36.14px\" lengthAdjust=\"spacingAndGlyphs\">0.6%</text>\n",
       "<text x=\"124.19\" y=\"275.02\" text-anchor=\"middle\" style=\"font-size: 14.23px;fill: #FFFFFF; font-family: &quot;DejaVu Sans&quot;;\" textLength=\"45.19px\" lengthAdjust=\"spacingAndGlyphs\">13.2%</text>\n",
       "<text x=\"68.23\" y=\"57.47\" text-anchor=\"middle\" style=\"font-size: 14.23px;fill: #FFFFFF; font-family: &quot;DejaVu Sans&quot;;\" textLength=\"45.19px\" lengthAdjust=\"spacingAndGlyphs\">69.7%</text>\n",
       "<text x=\"180.16\" y=\"289.80\" text-anchor=\"middle\" style=\"font-size: 14.23px;fill: #FFFFFF; font-family: &quot;DejaVu Sans&quot;;\" textLength=\"36.14px\" lengthAdjust=\"spacingAndGlyphs\">9.3%</text>\n",
       "</g>\n",
       "<g clip-path=\"url(#cpMC4wMHw0NjAuODB8MC4wMHwzNDUuNjA=)\">\n",
       "<text x=\"29.72\" y=\"308.12\" text-anchor=\"end\" style=\"font-size: 8.80px;fill: #4D4D4D; font-family: &quot;DejaVu Sans&quot;;\" textLength=\"5.59px\" lengthAdjust=\"spacingAndGlyphs\">0</text>\n",
       "<text x=\"29.72\" y=\"226.51\" text-anchor=\"end\" style=\"font-size: 8.80px;fill: #4D4D4D; font-family: &quot;DejaVu Sans&quot;;\" textLength=\"11.19px\" lengthAdjust=\"spacingAndGlyphs\">10</text>\n",
       "<text x=\"29.72\" y=\"144.90\" text-anchor=\"end\" style=\"font-size: 8.80px;fill: #4D4D4D; font-family: &quot;DejaVu Sans&quot;;\" textLength=\"11.19px\" lengthAdjust=\"spacingAndGlyphs\">20</text>\n",
       "<text x=\"29.72\" y=\"63.29\" text-anchor=\"end\" style=\"font-size: 8.80px;fill: #4D4D4D; font-family: &quot;DejaVu Sans&quot;;\" textLength=\"11.19px\" lengthAdjust=\"spacingAndGlyphs\">30</text>\n",
       "<polyline points=\"31.91,304.91 34.65,304.91 \" style=\"stroke-width: 1.07; stroke: #333333; stroke-linecap: butt;\"/>\n",
       "<polyline points=\"31.91,223.30 34.65,223.30 \" style=\"stroke-width: 1.07; stroke: #333333; stroke-linecap: butt;\"/>\n",
       "<polyline points=\"31.91,141.69 34.65,141.69 \" style=\"stroke-width: 1.07; stroke: #333333; stroke-linecap: butt;\"/>\n",
       "<polyline points=\"31.91,60.09 34.65,60.09 \" style=\"stroke-width: 1.07; stroke: #333333; stroke-linecap: butt;\"/>\n",
       "<polyline points=\"68.23,321.06 68.23,318.32 \" style=\"stroke-width: 1.07; stroke: #333333; stroke-linecap: butt;\"/>\n",
       "<polyline points=\"124.19,321.06 124.19,318.32 \" style=\"stroke-width: 1.07; stroke: #333333; stroke-linecap: butt;\"/>\n",
       "<polyline points=\"180.16,321.06 180.16,318.32 \" style=\"stroke-width: 1.07; stroke: #333333; stroke-linecap: butt;\"/>\n",
       "<polyline points=\"236.12,321.06 236.12,318.32 \" style=\"stroke-width: 1.07; stroke: #333333; stroke-linecap: butt;\"/>\n",
       "<polyline points=\"292.09,321.06 292.09,318.32 \" style=\"stroke-width: 1.07; stroke: #333333; stroke-linecap: butt;\"/>\n",
       "<text x=\"68.23\" y=\"336.38\" text-anchor=\"middle\" style=\"font-size: 18.00px;fill: #4D4D4D; font-family: &quot;DejaVu Sans&quot;;\" textLength=\"60.35px\" lengthAdjust=\"spacingAndGlyphs\">Known</text>\n",
       "<text x=\"124.19\" y=\"336.38\" text-anchor=\"middle\" style=\"font-size: 18.00px;fill: #4D4D4D; font-family: &quot;DejaVu Sans&quot;;\" textLength=\"32.26px\" lengthAdjust=\"spacingAndGlyphs\">ISM</text>\n",
       "<text x=\"180.16\" y=\"336.38\" text-anchor=\"middle\" style=\"font-size: 18.00px;fill: #4D4D4D; font-family: &quot;DejaVu Sans&quot;;\" textLength=\"31.34px\" lengthAdjust=\"spacingAndGlyphs\">NIC</text>\n",
       "<text x=\"236.12\" y=\"336.38\" text-anchor=\"middle\" style=\"font-size: 18.00px;fill: #4D4D4D; font-family: &quot;DejaVu Sans&quot;;\" textLength=\"39.50px\" lengthAdjust=\"spacingAndGlyphs\">NNC</text>\n",
       "<text x=\"292.09\" y=\"336.38\" text-anchor=\"middle\" style=\"font-size: 18.00px;fill: #4D4D4D; font-family: &quot;DejaVu Sans&quot;;\" textLength=\"51.11px\" lengthAdjust=\"spacingAndGlyphs\">Other</text>\n",
       "<text transform=\"translate(13.50,170.82) rotate(-90)\" text-anchor=\"middle\" style=\"font-size: 11.00px; font-family: &quot;DejaVu Sans&quot;;\" textLength=\"112.02px\" lengthAdjust=\"spacingAndGlyphs\">Transcripts (x 10^3)</text>\n",
       "<rect x=\"336.63\" y=\"114.25\" width=\"118.69\" height=\"113.15\" style=\"stroke-width: 1.07; stroke: none; fill: #FFFFFF;\"/>\n",
       "<text x=\"342.11\" y=\"128.89\" style=\"font-size: 11.00px; font-family: &quot;DejaVu Sans&quot;;\" textLength=\"107.73px\" lengthAdjust=\"spacingAndGlyphs\">Transcript Category</text>\n",
       "<rect x=\"342.11\" y=\"135.52\" width=\"17.28\" height=\"17.28\" style=\"stroke-width: 1.07; stroke: none; fill: #EBEBEB;\"/>\n",
       "<rect x=\"342.82\" y=\"136.22\" width=\"15.86\" height=\"15.86\" style=\"stroke-width: 1.07; stroke: none; stroke-linecap: butt; stroke-linejoin: miter; fill: #009E73;\"/>\n",
       "<rect x=\"342.11\" y=\"152.80\" width=\"17.28\" height=\"17.28\" style=\"stroke-width: 1.07; stroke: none; fill: #EBEBEB;\"/>\n",
       "<rect x=\"342.82\" y=\"153.50\" width=\"15.86\" height=\"15.86\" style=\"stroke-width: 1.07; stroke: none; stroke-linecap: butt; stroke-linejoin: miter; fill: #0072B2;\"/>\n",
       "<rect x=\"342.11\" y=\"170.08\" width=\"17.28\" height=\"17.28\" style=\"stroke-width: 1.07; stroke: none; fill: #EBEBEB;\"/>\n",
       "<rect x=\"342.82\" y=\"170.78\" width=\"15.86\" height=\"15.86\" style=\"stroke-width: 1.07; stroke: none; stroke-linecap: butt; stroke-linejoin: miter; fill: #D55E00;\"/>\n",
       "<rect x=\"342.11\" y=\"187.36\" width=\"17.28\" height=\"17.28\" style=\"stroke-width: 1.07; stroke: none; fill: #EBEBEB;\"/>\n",
       "<rect x=\"342.82\" y=\"188.06\" width=\"15.86\" height=\"15.86\" style=\"stroke-width: 1.07; stroke: none; stroke-linecap: butt; stroke-linejoin: miter; fill: #E69F00;\"/>\n",
       "<rect x=\"342.11\" y=\"204.64\" width=\"17.28\" height=\"17.28\" style=\"stroke-width: 1.07; stroke: none; fill: #EBEBEB;\"/>\n",
       "<rect x=\"342.82\" y=\"205.34\" width=\"15.86\" height=\"15.86\" style=\"stroke-width: 1.07; stroke: none; stroke-linecap: butt; stroke-linejoin: miter; fill: #000000;\"/>\n",
       "<text x=\"364.87\" y=\"147.36\" style=\"font-size: 8.80px; font-family: &quot;DejaVu Sans&quot;;\" textLength=\"29.49px\" lengthAdjust=\"spacingAndGlyphs\">Known</text>\n",
       "<text x=\"364.87\" y=\"164.64\" style=\"font-size: 8.80px; font-family: &quot;DejaVu Sans&quot;;\" textLength=\"15.77px\" lengthAdjust=\"spacingAndGlyphs\">ISM</text>\n",
       "<text x=\"364.87\" y=\"181.92\" style=\"font-size: 8.80px; font-family: &quot;DejaVu Sans&quot;;\" textLength=\"15.31px\" lengthAdjust=\"spacingAndGlyphs\">NIC</text>\n",
       "<text x=\"364.87\" y=\"199.20\" style=\"font-size: 8.80px; font-family: &quot;DejaVu Sans&quot;;\" textLength=\"19.30px\" lengthAdjust=\"spacingAndGlyphs\">NNC</text>\n",
       "<text x=\"364.87\" y=\"216.48\" style=\"font-size: 8.80px; font-family: &quot;DejaVu Sans&quot;;\" textLength=\"24.98px\" lengthAdjust=\"spacingAndGlyphs\">Other</text>\n",
       "<text x=\"34.65\" y=\"15.10\" style=\"font-size: 13.20px; font-family: &quot;DejaVu Sans&quot;;\" textLength=\"340.25px\" lengthAdjust=\"spacingAndGlyphs\">Transcript Structural Category Identified by Novelty</text>\n",
       "</g>\n",
       "</svg>"
      ],
      "text/plain": [
       "<IPython.core.display.SVG object>"
      ]
     },
     "metadata": {},
     "output_type": "display_data"
    }
   ],
   "source": [
    "df = lr_bulk.var\\\n",
    "    .filter(\n",
    "        pl.col(\"ORF_type\")==\"complete\",\n",
    "        pl.col(\"validated_proteomics\")\n",
    "        )\\\n",
    "    .with_columns(\n",
    "        structural_category2 = pl.col(\"structural_category2\").replace_strict(structural_category_labels)\n",
    "    )\\\n",
    "    .group_by(\"structural_category2\")\\\n",
    "    .agg(pl.len().alias(\"len\"))\\\n",
    "    .with_columns(\n",
    "        (pl.col(\"len\") / pl.col(\"len\").sum() * 100).alias(\"percentage\")\n",
    "    )\n",
    "to_r(df, \"df\")\n",
    "r(\n",
    "\"\"\"\n",
    "df$structural_category2 <- factor(df$structural_category2, levels = c(\"Known\", \"ISM\", \"NIC\", \"NNC\", \"Other\"))\n",
    "\n",
    "df %>% \n",
    "    ggplot(aes(x = structural_category2, y = len, fill = structural_category2)) +\n",
    "    geom_bar(stat = \"identity\") +\n",
    "    geom_text(aes(label = paste0(round(percentage, 1), \"%\")), vjust = 2, colour = \"white\", size = 5) +\n",
    "    theme(axis.text.x = element_text(size = 18)) +\n",
    "    labs(x = \"Transcript Structural Category\", y = \"Percentage\", title = \"Transcript Structural Category Identified by Novelty\") +\n",
    "    scale_fill_manual(\"Transcript Category\", values=colorVector) +\n",
    "    scale_y_continuous(labels = function(x) x/1000) +\n",
    "    ylab(\"Transcripts (x 10^3)\") +\n",
    "    xlab(NULL)\n",
    "\"\"\"\n",
    ")\n"
   ]
  },
  {
   "cell_type": "markdown",
   "metadata": {},
   "source": [
    "## protein_classification_base"
   ]
  },
  {
   "cell_type": "code",
   "execution_count": 56,
   "metadata": {},
   "outputs": [],
   "source": [
    "structural_category_labels = {\"full-splice_match\": \"Known\", \"incomplete-splice_match\": \"ISM\", \"novel_in_catalog\": \"NIC\", \"novel_not_in_catalog\": \"NNC\", \"Other\": \"Other\"}\n",
    "lr_bulk = SingleCell(\"nextflow_results/pbid_orf_hybrid.h5ad\")\n",
    "protein_classification = pl.read_csv(\"nextflow_results/SFARI_unfiltered.protein_classification.tsv\", separator = \"\\t\")\n",
    "lr_bulk = lr_bulk\\\n",
    "    .with_columns_var(\n",
    "        base_isoform = pl.col(\"base_isoform\").cast(pl.String)\n",
    "    )\\\n",
    "    .filter_var(\n",
    "        pl.col(\"base_isoform\") == pl.col(\"isoform\"),\n",
    "        pl.col(\"ORF_type\") == \"complete\"\n",
    "    )\n",
    "lr_bulk.var = lr_bulk.var\\\n",
    "    .join(\n",
    "        protein_classification[\"pb\", \"protein_classification_base\"].rename({\"pb\": \"isoform\"}), \n",
    "        on = \"isoform\", \n",
    "        how = \"left\"\n",
    "    )\\\n",
    "    .with_columns(\n",
    "        pl.col(\"structural_category\").cast(pl.String)\n",
    "    )\\\n",
    "    .with_columns(\n",
    "        protein_classification_base2 = pl.when(pl.col(\"protein_classification_base\").is_in([\"fusion\", \"antisense\", \"genic\", \"intergenic\", \"orphan_monoexon\"]))\\\n",
    "            .then(pl.lit(\"Other\"))\\\n",
    "            .otherwise(pl.col(\"protein_classification_base\")),\n",
    "        structural_category2 = pl.when(pl.col(\"structural_category\").is_in([\"fusion\", \"antisense\", \"genic\", \"intergenic\", \"moreJunctions\"]))\\\n",
    "            .then(pl.lit(\"Other\"))\\\n",
    "            .otherwise(pl.col(\"structural_category\"))\n",
    "    )"
   ]
  },
  {
   "cell_type": "code",
   "execution_count": 64,
   "metadata": {},
   "outputs": [
    {
     "name": "stderr",
     "output_type": "stream",
     "text": [
      "/tmp/ipykernel_218392/2148886444.py:5: DeprecationWarning: `pl.count()` is deprecated. Please use `pl.len()` instead.\n",
      "  .agg(pl.count().alias(\"count\"))\\\n"
     ]
    },
    {
     "name": "stdout",
     "output_type": "stream",
     "text": [
      "null device \n",
      "          1 \n"
     ]
    },
    {
     "data": {
      "image/svg+xml": [
       "<svg xmlns=\"http://www.w3.org/2000/svg\" xmlns:xlink=\"http://www.w3.org/1999/xlink\" class=\"svglite\" width=\"504.00pt\" height=\"360.00pt\" viewBox=\"0 0 504.00 360.00\">\n",
       "<defs>\n",
       "  <style type=\"text/css\"><![CDATA[\n",
       "    .svglite line, .svglite polyline, .svglite polygon, .svglite path, .svglite rect, .svglite circle {\n",
       "      fill: none;\n",
       "      stroke: #000000;\n",
       "      stroke-linecap: round;\n",
       "      stroke-linejoin: round;\n",
       "      stroke-miterlimit: 10.00;\n",
       "    }\n",
       "    .svglite text {\n",
       "      white-space: pre;\n",
       "    }\n",
       "  ]]></style>\n",
       "</defs>\n",
       "<rect width=\"100%\" height=\"100%\" style=\"stroke: none; fill: #FFFFFF;\"/>\n",
       "<defs>\n",
       "  <clipPath id=\"cpMC4wMHw1MDQuMDB8MC4wMHwzNjAuMDA=\">\n",
       "    <rect x=\"0.00\" y=\"0.00\" width=\"504.00\" height=\"360.00\"/>\n",
       "  </clipPath>\n",
       "</defs>\n",
       "<g clip-path=\"url(#cpMC4wMHw1MDQuMDB8MC4wMHwzNjAuMDA=)\">\n",
       "<rect x=\"0.000000000000064\" y=\"0.00\" width=\"504.00\" height=\"360.00\" style=\"stroke-width: 1.07; stroke: #FFFFFF; fill: #FFFFFF;\"/>\n",
       "</g>\n",
       "<defs>\n",
       "  <clipPath id=\"cpMzQuNjV8MzYxLjk1fDIzLjMyfDMzMi43Mg==\">\n",
       "    <rect x=\"34.65\" y=\"23.32\" width=\"327.30\" height=\"309.40\"/>\n",
       "  </clipPath>\n",
       "</defs>\n",
       "<g clip-path=\"url(#cpMzQuNjV8MzYxLjk1fDIzLjMyfDMzMi43Mg==)\">\n",
       "<rect x=\"34.65\" y=\"23.32\" width=\"327.30\" height=\"309.40\" style=\"stroke-width: 1.07; stroke: none; fill: #EBEBEB;\"/>\n",
       "<polyline points=\"34.65,279.67 361.95,279.67 \" style=\"stroke-width: 0.53; stroke: #FFFFFF; stroke-linecap: butt;\"/>\n",
       "<polyline points=\"34.65,201.69 361.95,201.69 \" style=\"stroke-width: 0.53; stroke: #FFFFFF; stroke-linecap: butt;\"/>\n",
       "<polyline points=\"34.65,123.72 361.95,123.72 \" style=\"stroke-width: 0.53; stroke: #FFFFFF; stroke-linecap: butt;\"/>\n",
       "<polyline points=\"34.65,45.74 361.95,45.74 \" style=\"stroke-width: 0.53; stroke: #FFFFFF; stroke-linecap: butt;\"/>\n",
       "<polyline points=\"34.65,318.66 361.95,318.66 \" style=\"stroke-width: 1.07; stroke: #FFFFFF; stroke-linecap: butt;\"/>\n",
       "<polyline points=\"34.65,240.68 361.95,240.68 \" style=\"stroke-width: 1.07; stroke: #FFFFFF; stroke-linecap: butt;\"/>\n",
       "<polyline points=\"34.65,162.71 361.95,162.71 \" style=\"stroke-width: 1.07; stroke: #FFFFFF; stroke-linecap: butt;\"/>\n",
       "<polyline points=\"34.65,84.73 361.95,84.73 \" style=\"stroke-width: 1.07; stroke: #FFFFFF; stroke-linecap: butt;\"/>\n",
       "<polyline points=\"72.42,332.72 72.42,23.32 \" style=\"stroke-width: 1.07; stroke: #FFFFFF; stroke-linecap: butt;\"/>\n",
       "<polyline points=\"135.36,332.72 135.36,23.32 \" style=\"stroke-width: 1.07; stroke: #FFFFFF; stroke-linecap: butt;\"/>\n",
       "<polyline points=\"198.30,332.72 198.30,23.32 \" style=\"stroke-width: 1.07; stroke: #FFFFFF; stroke-linecap: butt;\"/>\n",
       "<polyline points=\"261.24,332.72 261.24,23.32 \" style=\"stroke-width: 1.07; stroke: #FFFFFF; stroke-linecap: butt;\"/>\n",
       "<polyline points=\"324.18,332.72 324.18,23.32 \" style=\"stroke-width: 1.07; stroke: #FFFFFF; stroke-linecap: butt;\"/>\n",
       "<rect x=\"232.92\" y=\"37.38\" width=\"56.65\" height=\"281.27\" style=\"stroke-width: 1.07; stroke: none; stroke-linecap: butt; stroke-linejoin: miter; fill: #E69F00;\"/>\n",
       "<rect x=\"107.03\" y=\"303.80\" width=\"56.65\" height=\"14.85\" style=\"stroke-width: 1.07; stroke: none; stroke-linecap: butt; stroke-linejoin: miter; fill: #0072B2;\"/>\n",
       "<rect x=\"169.98\" y=\"225.80\" width=\"56.65\" height=\"92.86\" style=\"stroke-width: 1.07; stroke: none; stroke-linecap: butt; stroke-linejoin: miter; fill: #D55E00;\"/>\n",
       "<rect x=\"295.86\" y=\"282.58\" width=\"56.65\" height=\"36.07\" style=\"stroke-width: 1.07; stroke: none; stroke-linecap: butt; stroke-linejoin: miter; fill: #000000;\"/>\n",
       "<rect x=\"44.09\" y=\"163.17\" width=\"56.65\" height=\"155.49\" style=\"stroke-width: 1.07; stroke: none; stroke-linecap: butt; stroke-linejoin: miter; fill: #009E73;\"/>\n",
       "<text x=\"261.24\" y=\"58.12\" text-anchor=\"middle\" style=\"font-size: 14.23px;fill: #FFFFFF; font-family: &quot;DejaVu Sans&quot;;\" textLength=\"45.19px\" lengthAdjust=\"spacingAndGlyphs\">48.4%</text>\n",
       "<text x=\"135.36\" y=\"324.54\" text-anchor=\"middle\" style=\"font-size: 14.23px;fill: #FFFFFF; font-family: &quot;DejaVu Sans&quot;;\" textLength=\"36.14px\" lengthAdjust=\"spacingAndGlyphs\">2.6%</text>\n",
       "<text x=\"198.30\" y=\"246.53\" text-anchor=\"middle\" style=\"font-size: 14.23px;fill: #FFFFFF; font-family: &quot;DejaVu Sans&quot;;\" textLength=\"31.62px\" lengthAdjust=\"spacingAndGlyphs\">16%</text>\n",
       "<text x=\"324.18\" y=\"303.32\" text-anchor=\"middle\" style=\"font-size: 14.23px;fill: #FFFFFF; font-family: &quot;DejaVu Sans&quot;;\" textLength=\"36.14px\" lengthAdjust=\"spacingAndGlyphs\">6.2%</text>\n",
       "<text x=\"72.42\" y=\"183.90\" text-anchor=\"middle\" style=\"font-size: 14.23px;fill: #FFFFFF; font-family: &quot;DejaVu Sans&quot;;\" textLength=\"45.19px\" lengthAdjust=\"spacingAndGlyphs\">26.8%</text>\n",
       "</g>\n",
       "<g clip-path=\"url(#cpMC4wMHw1MDQuMDB8MC4wMHwzNjAuMDA=)\">\n",
       "<text x=\"29.72\" y=\"321.86\" text-anchor=\"end\" style=\"font-size: 8.80px;fill: #4D4D4D; font-family: &quot;DejaVu Sans&quot;;\" textLength=\"5.59px\" lengthAdjust=\"spacingAndGlyphs\">0</text>\n",
       "<text x=\"29.72\" y=\"243.89\" text-anchor=\"end\" style=\"font-size: 8.80px;fill: #4D4D4D; font-family: &quot;DejaVu Sans&quot;;\" textLength=\"11.19px\" lengthAdjust=\"spacingAndGlyphs\">10</text>\n",
       "<text x=\"29.72\" y=\"165.91\" text-anchor=\"end\" style=\"font-size: 8.80px;fill: #4D4D4D; font-family: &quot;DejaVu Sans&quot;;\" textLength=\"11.19px\" lengthAdjust=\"spacingAndGlyphs\">20</text>\n",
       "<text x=\"29.72\" y=\"87.94\" text-anchor=\"end\" style=\"font-size: 8.80px;fill: #4D4D4D; font-family: &quot;DejaVu Sans&quot;;\" textLength=\"11.19px\" lengthAdjust=\"spacingAndGlyphs\">30</text>\n",
       "<polyline points=\"31.91,318.66 34.65,318.66 \" style=\"stroke-width: 1.07; stroke: #333333; stroke-linecap: butt;\"/>\n",
       "<polyline points=\"31.91,240.68 34.65,240.68 \" style=\"stroke-width: 1.07; stroke: #333333; stroke-linecap: butt;\"/>\n",
       "<polyline points=\"31.91,162.71 34.65,162.71 \" style=\"stroke-width: 1.07; stroke: #333333; stroke-linecap: butt;\"/>\n",
       "<polyline points=\"31.91,84.73 34.65,84.73 \" style=\"stroke-width: 1.07; stroke: #333333; stroke-linecap: butt;\"/>\n",
       "<polyline points=\"72.42,335.46 72.42,332.72 \" style=\"stroke-width: 1.07; stroke: #333333; stroke-linecap: butt;\"/>\n",
       "<polyline points=\"135.36,335.46 135.36,332.72 \" style=\"stroke-width: 1.07; stroke: #333333; stroke-linecap: butt;\"/>\n",
       "<polyline points=\"198.30,335.46 198.30,332.72 \" style=\"stroke-width: 1.07; stroke: #333333; stroke-linecap: butt;\"/>\n",
       "<polyline points=\"261.24,335.46 261.24,332.72 \" style=\"stroke-width: 1.07; stroke: #333333; stroke-linecap: butt;\"/>\n",
       "<polyline points=\"324.18,335.46 324.18,332.72 \" style=\"stroke-width: 1.07; stroke: #333333; stroke-linecap: butt;\"/>\n",
       "<text x=\"72.42\" y=\"350.78\" text-anchor=\"middle\" style=\"font-size: 18.00px;fill: #4D4D4D; font-family: &quot;DejaVu Sans&quot;;\" textLength=\"48.42px\" lengthAdjust=\"spacingAndGlyphs\">pFSM</text>\n",
       "<text x=\"135.36\" y=\"350.78\" text-anchor=\"middle\" style=\"font-size: 18.00px;fill: #4D4D4D; font-family: &quot;DejaVu Sans&quot;;\" textLength=\"43.69px\" lengthAdjust=\"spacingAndGlyphs\">pISM</text>\n",
       "<text x=\"198.30\" y=\"350.78\" text-anchor=\"middle\" style=\"font-size: 18.00px;fill: #4D4D4D; font-family: &quot;DejaVu Sans&quot;;\" textLength=\"42.77px\" lengthAdjust=\"spacingAndGlyphs\">pNIC</text>\n",
       "<text x=\"261.24\" y=\"350.78\" text-anchor=\"middle\" style=\"font-size: 18.00px;fill: #4D4D4D; font-family: &quot;DejaVu Sans&quot;;\" textLength=\"50.93px\" lengthAdjust=\"spacingAndGlyphs\">pNNC</text>\n",
       "<text x=\"324.18\" y=\"350.78\" text-anchor=\"middle\" style=\"font-size: 18.00px;fill: #4D4D4D; font-family: &quot;DejaVu Sans&quot;;\" textLength=\"51.11px\" lengthAdjust=\"spacingAndGlyphs\">Other</text>\n",
       "<text transform=\"translate(13.50,178.02) rotate(-90)\" text-anchor=\"middle\" style=\"font-size: 11.00px; font-family: &quot;DejaVu Sans&quot;;\" textLength=\"112.02px\" lengthAdjust=\"spacingAndGlyphs\">Transcripts (x 10^3)</text>\n",
       "<rect x=\"372.91\" y=\"121.45\" width=\"125.61\" height=\"113.15\" style=\"stroke-width: 1.07; stroke: none; fill: #FFFFFF;\"/>\n",
       "<text x=\"378.39\" y=\"136.09\" style=\"font-size: 11.00px; font-family: &quot;DejaVu Sans&quot;;\" textLength=\"114.65px\" lengthAdjust=\"spacingAndGlyphs\">Proteoform Category</text>\n",
       "<rect x=\"378.39\" y=\"142.72\" width=\"17.28\" height=\"17.28\" style=\"stroke-width: 1.07; stroke: none; fill: #EBEBEB;\"/>\n",
       "<rect x=\"379.10\" y=\"143.42\" width=\"15.86\" height=\"15.86\" style=\"stroke-width: 1.07; stroke: none; stroke-linecap: butt; stroke-linejoin: miter; fill: #009E73;\"/>\n",
       "<rect x=\"378.39\" y=\"160.00\" width=\"17.28\" height=\"17.28\" style=\"stroke-width: 1.07; stroke: none; fill: #EBEBEB;\"/>\n",
       "<rect x=\"379.10\" y=\"160.70\" width=\"15.86\" height=\"15.86\" style=\"stroke-width: 1.07; stroke: none; stroke-linecap: butt; stroke-linejoin: miter; fill: #0072B2;\"/>\n",
       "<rect x=\"378.39\" y=\"177.28\" width=\"17.28\" height=\"17.28\" style=\"stroke-width: 1.07; stroke: none; fill: #EBEBEB;\"/>\n",
       "<rect x=\"379.10\" y=\"177.98\" width=\"15.86\" height=\"15.86\" style=\"stroke-width: 1.07; stroke: none; stroke-linecap: butt; stroke-linejoin: miter; fill: #D55E00;\"/>\n",
       "<rect x=\"378.39\" y=\"194.56\" width=\"17.28\" height=\"17.28\" style=\"stroke-width: 1.07; stroke: none; fill: #EBEBEB;\"/>\n",
       "<rect x=\"379.10\" y=\"195.26\" width=\"15.86\" height=\"15.86\" style=\"stroke-width: 1.07; stroke: none; stroke-linecap: butt; stroke-linejoin: miter; fill: #E69F00;\"/>\n",
       "<rect x=\"378.39\" y=\"211.84\" width=\"17.28\" height=\"17.28\" style=\"stroke-width: 1.07; stroke: none; fill: #EBEBEB;\"/>\n",
       "<rect x=\"379.10\" y=\"212.54\" width=\"15.86\" height=\"15.86\" style=\"stroke-width: 1.07; stroke: none; stroke-linecap: butt; stroke-linejoin: miter; fill: #000000;\"/>\n",
       "<text x=\"401.15\" y=\"154.56\" style=\"font-size: 8.80px; font-family: &quot;DejaVu Sans&quot;;\" textLength=\"23.67px\" lengthAdjust=\"spacingAndGlyphs\">pFSM</text>\n",
       "<text x=\"401.15\" y=\"171.84\" style=\"font-size: 8.80px; font-family: &quot;DejaVu Sans&quot;;\" textLength=\"21.36px\" lengthAdjust=\"spacingAndGlyphs\">pISM</text>\n",
       "<text x=\"401.15\" y=\"189.12\" style=\"font-size: 8.80px; font-family: &quot;DejaVu Sans&quot;;\" textLength=\"20.90px\" lengthAdjust=\"spacingAndGlyphs\">pNIC</text>\n",
       "<text x=\"401.15\" y=\"206.40\" style=\"font-size: 8.80px; font-family: &quot;DejaVu Sans&quot;;\" textLength=\"24.89px\" lengthAdjust=\"spacingAndGlyphs\">pNNC</text>\n",
       "<text x=\"401.15\" y=\"223.68\" style=\"font-size: 8.80px; font-family: &quot;DejaVu Sans&quot;;\" textLength=\"24.98px\" lengthAdjust=\"spacingAndGlyphs\">Other</text>\n",
       "<text x=\"34.65\" y=\"15.10\" style=\"font-size: 13.20px; font-family: &quot;DejaVu Sans&quot;;\" textLength=\"221.52px\" lengthAdjust=\"spacingAndGlyphs\">Proteoforms Identified by Novelty</text>\n",
       "</g>\n",
       "</svg>"
      ],
      "text/plain": [
       "<IPython.core.display.SVG object>"
      ]
     },
     "metadata": {},
     "output_type": "display_data"
    }
   ],
   "source": [
    "set_config(plot_width = 7, plot_height = 5)\n",
    "df = lr_bulk.var\\\n",
    "    .drop_nulls(\"protein_classification_base2\")\\\n",
    "    .group_by(\"protein_classification_base2\")\\\n",
    "    .agg(pl.count().alias(\"count\"))\\\n",
    "    .with_columns(\n",
    "        (pl.col(\"count\") / pl.col(\"count\").sum() * 100).alias(\"percentage\")\n",
    "    )\n",
    "\n",
    "to_r(df, \"df\")\n",
    "r(\n",
    "\"\"\"\n",
    "df$protein_classification_base2 <- factor(df$protein_classification_base2, levels = c(\"pFSM\", \"pISM\", \"pNIC\", \"pNNC\", \"Other\"))\n",
    "\n",
    "df %>% \n",
    "    ggplot(aes(x = protein_classification_base2, y = count, fill = protein_classification_base2)) +\n",
    "    geom_bar(stat = \"identity\") +\n",
    "    geom_text(aes(label = paste0(round(percentage, 1), \"%\")), vjust = 2, colour = \"white\", size = 5) +\n",
    "    theme(axis.text.x = element_text(size = 18)) +\n",
    "    labs(x = \"Proteoform Category\", y = \"Percentage\", title = \"Proteoforms Identified by Novelty\") +\n",
    "    scale_fill_manual(\"Proteoform Category\", values=colorVector) +\n",
    "    scale_y_continuous(labels = function(x) x/1000) +\n",
    "    ylab(\"Transcripts (x 10^3)\") +\n",
    "    xlab(NULL)\n",
    "\"\"\"\n",
    ")"
   ]
  },
  {
   "cell_type": "markdown",
   "metadata": {},
   "source": [
    "# Fix sqanti3_protein.py"
   ]
  },
  {
   "cell_type": "code",
   "execution_count": 27,
   "metadata": {},
   "outputs": [
    {
     "ename": "ComputeError",
     "evalue": "could not parse `NA` as dtype `i64` at column 'tx_tss_gene_diff' (column number 8)\n\nThe current offset in the file is 14736486 bytes.\n\nYou might want to try:\n- increasing `infer_schema_length` (e.g. `infer_schema_length=10000`),\n- specifying correct dtype with the `dtypes` argument\n- setting `ignore_errors` to `True`,\n- adding `NA` to the `null_values` list.\n\nOriginal error: ```remaining bytes non-empty```",
     "output_type": "error",
     "traceback": [
      "\u001b[0;31m---------------------------------------------------------------------------\u001b[0m",
      "\u001b[0;31mComputeError\u001b[0m                              Traceback (most recent call last)",
      "Cell \u001b[0;32mIn[27], line 4\u001b[0m\n\u001b[1;32m      2\u001b[0m lr_bulk \u001b[38;5;241m=\u001b[39m lr_bulk\u001b[38;5;241m.\u001b[39mfilter_var(pl\u001b[38;5;241m.\u001b[39mcol(\u001b[38;5;124m\"\u001b[39m\u001b[38;5;124mORF_type\u001b[39m\u001b[38;5;124m\"\u001b[39m)\u001b[38;5;241m==\u001b[39m\u001b[38;5;124m\"\u001b[39m\u001b[38;5;124mcomplete\u001b[39m\u001b[38;5;124m\"\u001b[39m)\n\u001b[1;32m      3\u001b[0m \u001b[38;5;66;03m# protein_classification = pl.read_csv(\"nextflow_results/SFARI_unfiltered.protein_classification.tsv\", separator = \"\\t\")\u001b[39;00m\n\u001b[0;32m----> 4\u001b[0m protein_classification \u001b[38;5;241m=\u001b[39m \u001b[43mpl\u001b[49m\u001b[38;5;241;43m.\u001b[39;49m\u001b[43mread_csv\u001b[49m\u001b[43m(\u001b[49m\u001b[38;5;124;43m\"\u001b[39;49m\u001b[38;5;124;43m/gpfs/fs0/scratch/s/shreejoy/nxu/SFARI/work/d1/a1deb4128d4da133378ef227d68bce/SFARI.sqanti_protein_classification.tsv\u001b[39;49m\u001b[38;5;124;43m\"\u001b[39;49m\u001b[43m,\u001b[49m\u001b[43m \u001b[49m\u001b[43mseparator\u001b[49m\u001b[43m \u001b[49m\u001b[38;5;241;43m=\u001b[39;49m\u001b[43m \u001b[49m\u001b[38;5;124;43m\"\u001b[39;49m\u001b[38;5;130;43;01m\\t\u001b[39;49;00m\u001b[38;5;124;43m\"\u001b[39;49m\u001b[43m)\u001b[49m\n\u001b[1;32m      5\u001b[0m sample_cds \u001b[38;5;241m=\u001b[39m read_gtf(\u001b[38;5;124m\"\u001b[39m\u001b[38;5;124mnextflow_results/transcripts_filtered.fasta.transdecoder.genome.gff3.gtf\u001b[39m\u001b[38;5;124m\"\u001b[39m)\u001b[38;5;241m.\u001b[39mfilter(pl\u001b[38;5;241m.\u001b[39mcol(\u001b[38;5;124m\"\u001b[39m\u001b[38;5;124mfeature\u001b[39m\u001b[38;5;124m\"\u001b[39m)\u001b[38;5;241m==\u001b[39m\u001b[38;5;124m\"\u001b[39m\u001b[38;5;124mCDS\u001b[39m\u001b[38;5;124m\"\u001b[39m)\n\u001b[1;32m      6\u001b[0m gencode_cds \u001b[38;5;241m=\u001b[39mread_gtf(\u001b[38;5;124m\"\u001b[39m\u001b[38;5;124m/project/s/shreejoy/Genomic_references/GENCODE/gencode.v39.annotation.gtf\u001b[39m\u001b[38;5;124m\"\u001b[39m)\u001b[38;5;241m.\u001b[39mfilter(pl\u001b[38;5;241m.\u001b[39mcol(\u001b[38;5;124m\"\u001b[39m\u001b[38;5;124mfeature\u001b[39m\u001b[38;5;124m\"\u001b[39m)\u001b[38;5;241m==\u001b[39m\u001b[38;5;124m\"\u001b[39m\u001b[38;5;124mCDS\u001b[39m\u001b[38;5;124m\"\u001b[39m)\n",
      "File \u001b[0;32m/project/s/shreejoy/nxu/envs/patch_seq_spl/lib/python3.12/site-packages/polars/_utils/deprecation.py:91\u001b[0m, in \u001b[0;36mdeprecate_renamed_parameter.<locals>.decorate.<locals>.wrapper\u001b[0;34m(*args, **kwargs)\u001b[0m\n\u001b[1;32m     86\u001b[0m \u001b[38;5;129m@wraps\u001b[39m(function)\n\u001b[1;32m     87\u001b[0m \u001b[38;5;28;01mdef\u001b[39;00m \u001b[38;5;21mwrapper\u001b[39m(\u001b[38;5;241m*\u001b[39margs: P\u001b[38;5;241m.\u001b[39margs, \u001b[38;5;241m*\u001b[39m\u001b[38;5;241m*\u001b[39mkwargs: P\u001b[38;5;241m.\u001b[39mkwargs) \u001b[38;5;241m-\u001b[39m\u001b[38;5;241m>\u001b[39m T:\n\u001b[1;32m     88\u001b[0m     _rename_keyword_argument(\n\u001b[1;32m     89\u001b[0m         old_name, new_name, kwargs, function\u001b[38;5;241m.\u001b[39m\u001b[38;5;18m__qualname__\u001b[39m, version\n\u001b[1;32m     90\u001b[0m     )\n\u001b[0;32m---> 91\u001b[0m     \u001b[38;5;28;01mreturn\u001b[39;00m \u001b[43mfunction\u001b[49m\u001b[43m(\u001b[49m\u001b[38;5;241;43m*\u001b[39;49m\u001b[43margs\u001b[49m\u001b[43m,\u001b[49m\u001b[43m \u001b[49m\u001b[38;5;241;43m*\u001b[39;49m\u001b[38;5;241;43m*\u001b[39;49m\u001b[43mkwargs\u001b[49m\u001b[43m)\u001b[49m\n",
      "File \u001b[0;32m/project/s/shreejoy/nxu/envs/patch_seq_spl/lib/python3.12/site-packages/polars/_utils/deprecation.py:91\u001b[0m, in \u001b[0;36mdeprecate_renamed_parameter.<locals>.decorate.<locals>.wrapper\u001b[0;34m(*args, **kwargs)\u001b[0m\n\u001b[1;32m     86\u001b[0m \u001b[38;5;129m@wraps\u001b[39m(function)\n\u001b[1;32m     87\u001b[0m \u001b[38;5;28;01mdef\u001b[39;00m \u001b[38;5;21mwrapper\u001b[39m(\u001b[38;5;241m*\u001b[39margs: P\u001b[38;5;241m.\u001b[39margs, \u001b[38;5;241m*\u001b[39m\u001b[38;5;241m*\u001b[39mkwargs: P\u001b[38;5;241m.\u001b[39mkwargs) \u001b[38;5;241m-\u001b[39m\u001b[38;5;241m>\u001b[39m T:\n\u001b[1;32m     88\u001b[0m     _rename_keyword_argument(\n\u001b[1;32m     89\u001b[0m         old_name, new_name, kwargs, function\u001b[38;5;241m.\u001b[39m\u001b[38;5;18m__qualname__\u001b[39m, version\n\u001b[1;32m     90\u001b[0m     )\n\u001b[0;32m---> 91\u001b[0m     \u001b[38;5;28;01mreturn\u001b[39;00m \u001b[43mfunction\u001b[49m\u001b[43m(\u001b[49m\u001b[38;5;241;43m*\u001b[39;49m\u001b[43margs\u001b[49m\u001b[43m,\u001b[49m\u001b[43m \u001b[49m\u001b[38;5;241;43m*\u001b[39;49m\u001b[38;5;241;43m*\u001b[39;49m\u001b[43mkwargs\u001b[49m\u001b[43m)\u001b[49m\n",
      "File \u001b[0;32m/project/s/shreejoy/nxu/envs/patch_seq_spl/lib/python3.12/site-packages/polars/_utils/deprecation.py:91\u001b[0m, in \u001b[0;36mdeprecate_renamed_parameter.<locals>.decorate.<locals>.wrapper\u001b[0;34m(*args, **kwargs)\u001b[0m\n\u001b[1;32m     86\u001b[0m \u001b[38;5;129m@wraps\u001b[39m(function)\n\u001b[1;32m     87\u001b[0m \u001b[38;5;28;01mdef\u001b[39;00m \u001b[38;5;21mwrapper\u001b[39m(\u001b[38;5;241m*\u001b[39margs: P\u001b[38;5;241m.\u001b[39margs, \u001b[38;5;241m*\u001b[39m\u001b[38;5;241m*\u001b[39mkwargs: P\u001b[38;5;241m.\u001b[39mkwargs) \u001b[38;5;241m-\u001b[39m\u001b[38;5;241m>\u001b[39m T:\n\u001b[1;32m     88\u001b[0m     _rename_keyword_argument(\n\u001b[1;32m     89\u001b[0m         old_name, new_name, kwargs, function\u001b[38;5;241m.\u001b[39m\u001b[38;5;18m__qualname__\u001b[39m, version\n\u001b[1;32m     90\u001b[0m     )\n\u001b[0;32m---> 91\u001b[0m     \u001b[38;5;28;01mreturn\u001b[39;00m \u001b[43mfunction\u001b[49m\u001b[43m(\u001b[49m\u001b[38;5;241;43m*\u001b[39;49m\u001b[43margs\u001b[49m\u001b[43m,\u001b[49m\u001b[43m \u001b[49m\u001b[38;5;241;43m*\u001b[39;49m\u001b[38;5;241;43m*\u001b[39;49m\u001b[43mkwargs\u001b[49m\u001b[43m)\u001b[49m\n",
      "File \u001b[0;32m/project/s/shreejoy/nxu/envs/patch_seq_spl/lib/python3.12/site-packages/polars/io/csv/functions.py:429\u001b[0m, in \u001b[0;36mread_csv\u001b[0;34m(source, has_header, columns, new_columns, separator, comment_prefix, quote_char, skip_rows, schema, schema_overrides, null_values, missing_utf8_is_empty_string, ignore_errors, try_parse_dates, n_threads, infer_schema, infer_schema_length, batch_size, n_rows, encoding, low_memory, rechunk, use_pyarrow, storage_options, skip_rows_after_header, row_index_name, row_index_offset, sample_size, eol_char, raise_if_empty, truncate_ragged_lines, decimal_comma, glob)\u001b[0m\n\u001b[1;32m    420\u001b[0m     infer_schema_length \u001b[38;5;241m=\u001b[39m \u001b[38;5;241m0\u001b[39m\n\u001b[1;32m    422\u001b[0m \u001b[38;5;28;01mwith\u001b[39;00m prepare_file_arg(\n\u001b[1;32m    423\u001b[0m     source,\n\u001b[1;32m    424\u001b[0m     encoding\u001b[38;5;241m=\u001b[39mencoding,\n\u001b[0;32m   (...)\u001b[0m\n\u001b[1;32m    427\u001b[0m     storage_options\u001b[38;5;241m=\u001b[39mstorage_options,\n\u001b[1;32m    428\u001b[0m ) \u001b[38;5;28;01mas\u001b[39;00m data:\n\u001b[0;32m--> 429\u001b[0m     df \u001b[38;5;241m=\u001b[39m \u001b[43m_read_csv_impl\u001b[49m\u001b[43m(\u001b[49m\n\u001b[1;32m    430\u001b[0m \u001b[43m        \u001b[49m\u001b[43mdata\u001b[49m\u001b[43m,\u001b[49m\n\u001b[1;32m    431\u001b[0m \u001b[43m        \u001b[49m\u001b[43mhas_header\u001b[49m\u001b[38;5;241;43m=\u001b[39;49m\u001b[43mhas_header\u001b[49m\u001b[43m,\u001b[49m\n\u001b[1;32m    432\u001b[0m \u001b[43m        \u001b[49m\u001b[43mcolumns\u001b[49m\u001b[38;5;241;43m=\u001b[39;49m\u001b[43mcolumns\u001b[49m\u001b[43m \u001b[49m\u001b[38;5;28;43;01mif\u001b[39;49;00m\u001b[43m \u001b[49m\u001b[43mcolumns\u001b[49m\u001b[43m \u001b[49m\u001b[38;5;28;43;01melse\u001b[39;49;00m\u001b[43m \u001b[49m\u001b[43mprojection\u001b[49m\u001b[43m,\u001b[49m\n\u001b[1;32m    433\u001b[0m \u001b[43m        \u001b[49m\u001b[43mseparator\u001b[49m\u001b[38;5;241;43m=\u001b[39;49m\u001b[43mseparator\u001b[49m\u001b[43m,\u001b[49m\n\u001b[1;32m    434\u001b[0m \u001b[43m        \u001b[49m\u001b[43mcomment_prefix\u001b[49m\u001b[38;5;241;43m=\u001b[39;49m\u001b[43mcomment_prefix\u001b[49m\u001b[43m,\u001b[49m\n\u001b[1;32m    435\u001b[0m \u001b[43m        \u001b[49m\u001b[43mquote_char\u001b[49m\u001b[38;5;241;43m=\u001b[39;49m\u001b[43mquote_char\u001b[49m\u001b[43m,\u001b[49m\n\u001b[1;32m    436\u001b[0m \u001b[43m        \u001b[49m\u001b[43mskip_rows\u001b[49m\u001b[38;5;241;43m=\u001b[39;49m\u001b[43mskip_rows\u001b[49m\u001b[43m,\u001b[49m\n\u001b[1;32m    437\u001b[0m \u001b[43m        \u001b[49m\u001b[43mschema_overrides\u001b[49m\u001b[38;5;241;43m=\u001b[39;49m\u001b[43mschema_overrides\u001b[49m\u001b[43m,\u001b[49m\n\u001b[1;32m    438\u001b[0m \u001b[43m        \u001b[49m\u001b[43mschema\u001b[49m\u001b[38;5;241;43m=\u001b[39;49m\u001b[43mschema\u001b[49m\u001b[43m,\u001b[49m\n\u001b[1;32m    439\u001b[0m \u001b[43m        \u001b[49m\u001b[43mnull_values\u001b[49m\u001b[38;5;241;43m=\u001b[39;49m\u001b[43mnull_values\u001b[49m\u001b[43m,\u001b[49m\n\u001b[1;32m    440\u001b[0m \u001b[43m        \u001b[49m\u001b[43mmissing_utf8_is_empty_string\u001b[49m\u001b[38;5;241;43m=\u001b[39;49m\u001b[43mmissing_utf8_is_empty_string\u001b[49m\u001b[43m,\u001b[49m\n\u001b[1;32m    441\u001b[0m \u001b[43m        \u001b[49m\u001b[43mignore_errors\u001b[49m\u001b[38;5;241;43m=\u001b[39;49m\u001b[43mignore_errors\u001b[49m\u001b[43m,\u001b[49m\n\u001b[1;32m    442\u001b[0m \u001b[43m        \u001b[49m\u001b[43mtry_parse_dates\u001b[49m\u001b[38;5;241;43m=\u001b[39;49m\u001b[43mtry_parse_dates\u001b[49m\u001b[43m,\u001b[49m\n\u001b[1;32m    443\u001b[0m \u001b[43m        \u001b[49m\u001b[43mn_threads\u001b[49m\u001b[38;5;241;43m=\u001b[39;49m\u001b[43mn_threads\u001b[49m\u001b[43m,\u001b[49m\n\u001b[1;32m    444\u001b[0m \u001b[43m        \u001b[49m\u001b[43minfer_schema_length\u001b[49m\u001b[38;5;241;43m=\u001b[39;49m\u001b[43minfer_schema_length\u001b[49m\u001b[43m,\u001b[49m\n\u001b[1;32m    445\u001b[0m \u001b[43m        \u001b[49m\u001b[43mbatch_size\u001b[49m\u001b[38;5;241;43m=\u001b[39;49m\u001b[43mbatch_size\u001b[49m\u001b[43m,\u001b[49m\n\u001b[1;32m    446\u001b[0m \u001b[43m        \u001b[49m\u001b[43mn_rows\u001b[49m\u001b[38;5;241;43m=\u001b[39;49m\u001b[43mn_rows\u001b[49m\u001b[43m,\u001b[49m\n\u001b[1;32m    447\u001b[0m \u001b[43m        \u001b[49m\u001b[43mencoding\u001b[49m\u001b[38;5;241;43m=\u001b[39;49m\u001b[43mencoding\u001b[49m\u001b[43m \u001b[49m\u001b[38;5;28;43;01mif\u001b[39;49;00m\u001b[43m \u001b[49m\u001b[43mencoding\u001b[49m\u001b[43m \u001b[49m\u001b[38;5;241;43m==\u001b[39;49m\u001b[43m \u001b[49m\u001b[38;5;124;43m\"\u001b[39;49m\u001b[38;5;124;43mutf8-lossy\u001b[39;49m\u001b[38;5;124;43m\"\u001b[39;49m\u001b[43m \u001b[49m\u001b[38;5;28;43;01melse\u001b[39;49;00m\u001b[43m \u001b[49m\u001b[38;5;124;43m\"\u001b[39;49m\u001b[38;5;124;43mutf8\u001b[39;49m\u001b[38;5;124;43m\"\u001b[39;49m\u001b[43m,\u001b[49m\n\u001b[1;32m    448\u001b[0m \u001b[43m        \u001b[49m\u001b[43mlow_memory\u001b[49m\u001b[38;5;241;43m=\u001b[39;49m\u001b[43mlow_memory\u001b[49m\u001b[43m,\u001b[49m\n\u001b[1;32m    449\u001b[0m \u001b[43m        \u001b[49m\u001b[43mrechunk\u001b[49m\u001b[38;5;241;43m=\u001b[39;49m\u001b[43mrechunk\u001b[49m\u001b[43m,\u001b[49m\n\u001b[1;32m    450\u001b[0m \u001b[43m        \u001b[49m\u001b[43mskip_rows_after_header\u001b[49m\u001b[38;5;241;43m=\u001b[39;49m\u001b[43mskip_rows_after_header\u001b[49m\u001b[43m,\u001b[49m\n\u001b[1;32m    451\u001b[0m \u001b[43m        \u001b[49m\u001b[43mrow_index_name\u001b[49m\u001b[38;5;241;43m=\u001b[39;49m\u001b[43mrow_index_name\u001b[49m\u001b[43m,\u001b[49m\n\u001b[1;32m    452\u001b[0m \u001b[43m        \u001b[49m\u001b[43mrow_index_offset\u001b[49m\u001b[38;5;241;43m=\u001b[39;49m\u001b[43mrow_index_offset\u001b[49m\u001b[43m,\u001b[49m\n\u001b[1;32m    453\u001b[0m \u001b[43m        \u001b[49m\u001b[43msample_size\u001b[49m\u001b[38;5;241;43m=\u001b[39;49m\u001b[43msample_size\u001b[49m\u001b[43m,\u001b[49m\n\u001b[1;32m    454\u001b[0m \u001b[43m        \u001b[49m\u001b[43meol_char\u001b[49m\u001b[38;5;241;43m=\u001b[39;49m\u001b[43meol_char\u001b[49m\u001b[43m,\u001b[49m\n\u001b[1;32m    455\u001b[0m \u001b[43m        \u001b[49m\u001b[43mraise_if_empty\u001b[49m\u001b[38;5;241;43m=\u001b[39;49m\u001b[43mraise_if_empty\u001b[49m\u001b[43m,\u001b[49m\n\u001b[1;32m    456\u001b[0m \u001b[43m        \u001b[49m\u001b[43mtruncate_ragged_lines\u001b[49m\u001b[38;5;241;43m=\u001b[39;49m\u001b[43mtruncate_ragged_lines\u001b[49m\u001b[43m,\u001b[49m\n\u001b[1;32m    457\u001b[0m \u001b[43m        \u001b[49m\u001b[43mdecimal_comma\u001b[49m\u001b[38;5;241;43m=\u001b[39;49m\u001b[43mdecimal_comma\u001b[49m\u001b[43m,\u001b[49m\n\u001b[1;32m    458\u001b[0m \u001b[43m        \u001b[49m\u001b[43mglob\u001b[49m\u001b[38;5;241;43m=\u001b[39;49m\u001b[43mglob\u001b[49m\u001b[43m,\u001b[49m\n\u001b[1;32m    459\u001b[0m \u001b[43m    \u001b[49m\u001b[43m)\u001b[49m\n\u001b[1;32m    461\u001b[0m \u001b[38;5;28;01mif\u001b[39;00m new_columns:\n\u001b[1;32m    462\u001b[0m     \u001b[38;5;28;01mreturn\u001b[39;00m _update_columns(df, new_columns)\n",
      "File \u001b[0;32m/project/s/shreejoy/nxu/envs/patch_seq_spl/lib/python3.12/site-packages/polars/io/csv/functions.py:575\u001b[0m, in \u001b[0;36m_read_csv_impl\u001b[0;34m(source, has_header, columns, separator, comment_prefix, quote_char, skip_rows, schema, schema_overrides, null_values, missing_utf8_is_empty_string, ignore_errors, try_parse_dates, n_threads, infer_schema_length, batch_size, n_rows, encoding, low_memory, rechunk, skip_rows_after_header, row_index_name, row_index_offset, sample_size, eol_char, raise_if_empty, truncate_ragged_lines, decimal_comma, glob)\u001b[0m\n\u001b[1;32m    571\u001b[0m         \u001b[38;5;28;01mraise\u001b[39;00m \u001b[38;5;167;01mValueError\u001b[39;00m(msg)\n\u001b[1;32m    573\u001b[0m projection, columns \u001b[38;5;241m=\u001b[39m parse_columns_arg(columns)\n\u001b[0;32m--> 575\u001b[0m pydf \u001b[38;5;241m=\u001b[39m \u001b[43mPyDataFrame\u001b[49m\u001b[38;5;241;43m.\u001b[39;49m\u001b[43mread_csv\u001b[49m\u001b[43m(\u001b[49m\n\u001b[1;32m    576\u001b[0m \u001b[43m    \u001b[49m\u001b[43msource\u001b[49m\u001b[43m,\u001b[49m\n\u001b[1;32m    577\u001b[0m \u001b[43m    \u001b[49m\u001b[43minfer_schema_length\u001b[49m\u001b[43m,\u001b[49m\n\u001b[1;32m    578\u001b[0m \u001b[43m    \u001b[49m\u001b[43mbatch_size\u001b[49m\u001b[43m,\u001b[49m\n\u001b[1;32m    579\u001b[0m \u001b[43m    \u001b[49m\u001b[43mhas_header\u001b[49m\u001b[43m,\u001b[49m\n\u001b[1;32m    580\u001b[0m \u001b[43m    \u001b[49m\u001b[43mignore_errors\u001b[49m\u001b[43m,\u001b[49m\n\u001b[1;32m    581\u001b[0m \u001b[43m    \u001b[49m\u001b[43mn_rows\u001b[49m\u001b[43m,\u001b[49m\n\u001b[1;32m    582\u001b[0m \u001b[43m    \u001b[49m\u001b[43mskip_rows\u001b[49m\u001b[43m,\u001b[49m\n\u001b[1;32m    583\u001b[0m \u001b[43m    \u001b[49m\u001b[43mprojection\u001b[49m\u001b[43m,\u001b[49m\n\u001b[1;32m    584\u001b[0m \u001b[43m    \u001b[49m\u001b[43mseparator\u001b[49m\u001b[43m,\u001b[49m\n\u001b[1;32m    585\u001b[0m \u001b[43m    \u001b[49m\u001b[43mrechunk\u001b[49m\u001b[43m,\u001b[49m\n\u001b[1;32m    586\u001b[0m \u001b[43m    \u001b[49m\u001b[43mcolumns\u001b[49m\u001b[43m,\u001b[49m\n\u001b[1;32m    587\u001b[0m \u001b[43m    \u001b[49m\u001b[43mencoding\u001b[49m\u001b[43m,\u001b[49m\n\u001b[1;32m    588\u001b[0m \u001b[43m    \u001b[49m\u001b[43mn_threads\u001b[49m\u001b[43m,\u001b[49m\n\u001b[1;32m    589\u001b[0m \u001b[43m    \u001b[49m\u001b[43mpath\u001b[49m\u001b[43m,\u001b[49m\n\u001b[1;32m    590\u001b[0m \u001b[43m    \u001b[49m\u001b[43mdtype_list\u001b[49m\u001b[43m,\u001b[49m\n\u001b[1;32m    591\u001b[0m \u001b[43m    \u001b[49m\u001b[43mdtype_slice\u001b[49m\u001b[43m,\u001b[49m\n\u001b[1;32m    592\u001b[0m \u001b[43m    \u001b[49m\u001b[43mlow_memory\u001b[49m\u001b[43m,\u001b[49m\n\u001b[1;32m    593\u001b[0m \u001b[43m    \u001b[49m\u001b[43mcomment_prefix\u001b[49m\u001b[43m,\u001b[49m\n\u001b[1;32m    594\u001b[0m \u001b[43m    \u001b[49m\u001b[43mquote_char\u001b[49m\u001b[43m,\u001b[49m\n\u001b[1;32m    595\u001b[0m \u001b[43m    \u001b[49m\u001b[43mprocessed_null_values\u001b[49m\u001b[43m,\u001b[49m\n\u001b[1;32m    596\u001b[0m \u001b[43m    \u001b[49m\u001b[43mmissing_utf8_is_empty_string\u001b[49m\u001b[43m,\u001b[49m\n\u001b[1;32m    597\u001b[0m \u001b[43m    \u001b[49m\u001b[43mtry_parse_dates\u001b[49m\u001b[43m,\u001b[49m\n\u001b[1;32m    598\u001b[0m \u001b[43m    \u001b[49m\u001b[43mskip_rows_after_header\u001b[49m\u001b[43m,\u001b[49m\n\u001b[1;32m    599\u001b[0m \u001b[43m    \u001b[49m\u001b[43mparse_row_index_args\u001b[49m\u001b[43m(\u001b[49m\u001b[43mrow_index_name\u001b[49m\u001b[43m,\u001b[49m\u001b[43m \u001b[49m\u001b[43mrow_index_offset\u001b[49m\u001b[43m)\u001b[49m\u001b[43m,\u001b[49m\n\u001b[1;32m    600\u001b[0m \u001b[43m    \u001b[49m\u001b[43msample_size\u001b[49m\u001b[38;5;241;43m=\u001b[39;49m\u001b[43msample_size\u001b[49m\u001b[43m,\u001b[49m\n\u001b[1;32m    601\u001b[0m \u001b[43m    \u001b[49m\u001b[43meol_char\u001b[49m\u001b[38;5;241;43m=\u001b[39;49m\u001b[43meol_char\u001b[49m\u001b[43m,\u001b[49m\n\u001b[1;32m    602\u001b[0m \u001b[43m    \u001b[49m\u001b[43mraise_if_empty\u001b[49m\u001b[38;5;241;43m=\u001b[39;49m\u001b[43mraise_if_empty\u001b[49m\u001b[43m,\u001b[49m\n\u001b[1;32m    603\u001b[0m \u001b[43m    \u001b[49m\u001b[43mtruncate_ragged_lines\u001b[49m\u001b[38;5;241;43m=\u001b[39;49m\u001b[43mtruncate_ragged_lines\u001b[49m\u001b[43m,\u001b[49m\n\u001b[1;32m    604\u001b[0m \u001b[43m    \u001b[49m\u001b[43mdecimal_comma\u001b[49m\u001b[38;5;241;43m=\u001b[39;49m\u001b[43mdecimal_comma\u001b[49m\u001b[43m,\u001b[49m\n\u001b[1;32m    605\u001b[0m \u001b[43m    \u001b[49m\u001b[43mschema\u001b[49m\u001b[38;5;241;43m=\u001b[39;49m\u001b[43mschema\u001b[49m\u001b[43m,\u001b[49m\n\u001b[1;32m    606\u001b[0m \u001b[43m\u001b[49m\u001b[43m)\u001b[49m\n\u001b[1;32m    607\u001b[0m \u001b[38;5;28;01mreturn\u001b[39;00m wrap_df(pydf)\n",
      "\u001b[0;31mComputeError\u001b[0m: could not parse `NA` as dtype `i64` at column 'tx_tss_gene_diff' (column number 8)\n\nThe current offset in the file is 14736486 bytes.\n\nYou might want to try:\n- increasing `infer_schema_length` (e.g. `infer_schema_length=10000`),\n- specifying correct dtype with the `dtypes` argument\n- setting `ignore_errors` to `True`,\n- adding `NA` to the `null_values` list.\n\nOriginal error: ```remaining bytes non-empty```"
     ]
    }
   ],
   "source": [
    "lr_bulk = SingleCell(\"nextflow_results/pbid_orf_hybrid.h5ad\")\n",
    "lr_bulk = lr_bulk.filter_var(pl.col(\"ORF_type\")==\"complete\")\n",
    "# protein_classification = pl.read_csv(\"nextflow_results/SFARI_unfiltered.protein_classification.tsv\", separator = \"\\t\")\n",
    "protein_classification = pl.read_csv(\"/gpfs/fs0/scratch/s/shreejoy/nxu/SFARI/work/d1/a1deb4128d4da133378ef227d68bce/SFARI.sqanti_protein_classification.tsv\", separator = \"\\t\")\n",
    "lr_bulk.var = lr_bulk.var\\\n",
    "    .join(\n",
    "        protein_classification[\"pb\", \"pr_splice_cat\", \"protein_classification_base\", \"protein_classification_subset\"].rename({\"pb\": \"isoform\"}), \n",
    "        on = \"isoform\", \n",
    "        how = \"left\"\n",
    "    )"
   ]
  },
  {
   "cell_type": "code",
   "execution_count": 28,
   "metadata": {},
   "outputs": [],
   "source": [
    "sample_cds = read_gtf(\"nextflow_results/transcripts_filtered.fasta.transdecoder.genome.gff3.gtf\").filter(pl.col(\"feature\")==\"CDS\")\n",
    "gencode_cds =read_gtf(\"/project/s/shreejoy/Genomic_references/GENCODE/gencode.v39.annotation.gtf\").filter(pl.col(\"feature\")==\"CDS\")"
   ]
  },
  {
   "cell_type": "code",
   "execution_count": 32,
   "metadata": {},
   "outputs": [
    {
     "data": {
      "text/html": [
       "<div><style>\n",
       ".dataframe > thead > tr,\n",
       ".dataframe > tbody > tr {\n",
       "  text-align: right;\n",
       "  white-space: pre-wrap;\n",
       "}\n",
       "</style>\n",
       "<small>shape: (7, 10)</small><table border=\"1\" class=\"dataframe\"><thead><tr><th>seqname</th><th>source</th><th>feature</th><th>start</th><th>end</th><th>score</th><th>strand</th><th>frame</th><th>attributes</th><th>transcript_id</th></tr><tr><td>str</td><td>str</td><td>str</td><td>i64</td><td>i64</td><td>str</td><td>str</td><td>str</td><td>str</td><td>str</td></tr></thead><tbody><tr><td>&quot;chrY&quot;</td><td>&quot;transdecoder&quot;</td><td>&quot;CDS&quot;</td><td>2841944</td><td>2841973</td><td>&quot;.&quot;</td><td>&quot;+&quot;</td><td>&quot;0&quot;</td><td>&quot;gene_id &quot;PB.112403&quot;; transcrip…</td><td>&quot;PB.112403.21&quot;</td></tr><tr><td>&quot;chrY&quot;</td><td>&quot;transdecoder&quot;</td><td>&quot;CDS&quot;</td><td>2842165</td><td>2842242</td><td>&quot;.&quot;</td><td>&quot;+&quot;</td><td>&quot;0&quot;</td><td>&quot;gene_id &quot;PB.112403&quot;; transcrip…</td><td>&quot;PB.112403.21&quot;</td></tr><tr><td>&quot;chrY&quot;</td><td>&quot;transdecoder&quot;</td><td>&quot;CDS&quot;</td><td>2844077</td><td>2844257</td><td>&quot;.&quot;</td><td>&quot;+&quot;</td><td>&quot;0&quot;</td><td>&quot;gene_id &quot;PB.112403&quot;; transcrip…</td><td>&quot;PB.112403.21&quot;</td></tr><tr><td>&quot;chrY&quot;</td><td>&quot;transdecoder&quot;</td><td>&quot;CDS&quot;</td><td>2845646</td><td>2845743</td><td>&quot;.&quot;</td><td>&quot;+&quot;</td><td>&quot;2&quot;</td><td>&quot;gene_id &quot;PB.112403&quot;; transcrip…</td><td>&quot;PB.112403.21&quot;</td></tr><tr><td>&quot;chrY&quot;</td><td>&quot;transdecoder&quot;</td><td>&quot;CDS&quot;</td><td>2854600</td><td>2854771</td><td>&quot;.&quot;</td><td>&quot;+&quot;</td><td>&quot;0&quot;</td><td>&quot;gene_id &quot;PB.112403&quot;; transcrip…</td><td>&quot;PB.112403.21&quot;</td></tr><tr><td>&quot;chrY&quot;</td><td>&quot;transdecoder&quot;</td><td>&quot;CDS&quot;</td><td>2865088</td><td>2865245</td><td>&quot;.&quot;</td><td>&quot;+&quot;</td><td>&quot;2&quot;</td><td>&quot;gene_id &quot;PB.112403&quot;; transcrip…</td><td>&quot;PB.112403.21&quot;</td></tr><tr><td>&quot;chrY&quot;</td><td>&quot;transdecoder&quot;</td><td>&quot;CDS&quot;</td><td>2866793</td><td>2866891</td><td>&quot;.&quot;</td><td>&quot;+&quot;</td><td>&quot;0&quot;</td><td>&quot;gene_id &quot;PB.112403&quot;; transcrip…</td><td>&quot;PB.112403.21&quot;</td></tr></tbody></table></div>"
      ],
      "text/plain": [
       "shape: (7, 10)\n",
       "┌─────────┬──────────────┬─────────┬─────────┬───┬────────┬───────┬────────────────┬───────────────┐\n",
       "│ seqname ┆ source       ┆ feature ┆ start   ┆ … ┆ strand ┆ frame ┆ attributes     ┆ transcript_id │\n",
       "│ ---     ┆ ---          ┆ ---     ┆ ---     ┆   ┆ ---    ┆ ---   ┆ ---            ┆ ---           │\n",
       "│ str     ┆ str          ┆ str     ┆ i64     ┆   ┆ str    ┆ str   ┆ str            ┆ str           │\n",
       "╞═════════╪══════════════╪═════════╪═════════╪═══╪════════╪═══════╪════════════════╪═══════════════╡\n",
       "│ chrY    ┆ transdecoder ┆ CDS     ┆ 2841944 ┆ … ┆ +      ┆ 0     ┆ gene_id        ┆ PB.112403.21  │\n",
       "│         ┆              ┆         ┆         ┆   ┆        ┆       ┆ \"PB.112403\";   ┆               │\n",
       "│         ┆              ┆         ┆         ┆   ┆        ┆       ┆ transcrip…     ┆               │\n",
       "│ chrY    ┆ transdecoder ┆ CDS     ┆ 2842165 ┆ … ┆ +      ┆ 0     ┆ gene_id        ┆ PB.112403.21  │\n",
       "│         ┆              ┆         ┆         ┆   ┆        ┆       ┆ \"PB.112403\";   ┆               │\n",
       "│         ┆              ┆         ┆         ┆   ┆        ┆       ┆ transcrip…     ┆               │\n",
       "│ chrY    ┆ transdecoder ┆ CDS     ┆ 2844077 ┆ … ┆ +      ┆ 0     ┆ gene_id        ┆ PB.112403.21  │\n",
       "│         ┆              ┆         ┆         ┆   ┆        ┆       ┆ \"PB.112403\";   ┆               │\n",
       "│         ┆              ┆         ┆         ┆   ┆        ┆       ┆ transcrip…     ┆               │\n",
       "│ chrY    ┆ transdecoder ┆ CDS     ┆ 2845646 ┆ … ┆ +      ┆ 2     ┆ gene_id        ┆ PB.112403.21  │\n",
       "│         ┆              ┆         ┆         ┆   ┆        ┆       ┆ \"PB.112403\";   ┆               │\n",
       "│         ┆              ┆         ┆         ┆   ┆        ┆       ┆ transcrip…     ┆               │\n",
       "│ chrY    ┆ transdecoder ┆ CDS     ┆ 2854600 ┆ … ┆ +      ┆ 0     ┆ gene_id        ┆ PB.112403.21  │\n",
       "│         ┆              ┆         ┆         ┆   ┆        ┆       ┆ \"PB.112403\";   ┆               │\n",
       "│         ┆              ┆         ┆         ┆   ┆        ┆       ┆ transcrip…     ┆               │\n",
       "│ chrY    ┆ transdecoder ┆ CDS     ┆ 2865088 ┆ … ┆ +      ┆ 2     ┆ gene_id        ┆ PB.112403.21  │\n",
       "│         ┆              ┆         ┆         ┆   ┆        ┆       ┆ \"PB.112403\";   ┆               │\n",
       "│         ┆              ┆         ┆         ┆   ┆        ┆       ┆ transcrip…     ┆               │\n",
       "│ chrY    ┆ transdecoder ┆ CDS     ┆ 2866793 ┆ … ┆ +      ┆ 0     ┆ gene_id        ┆ PB.112403.21  │\n",
       "│         ┆              ┆         ┆         ┆   ┆        ┆       ┆ \"PB.112403\";   ┆               │\n",
       "│         ┆              ┆         ┆         ┆   ┆        ┆       ┆ transcrip…     ┆               │\n",
       "└─────────┴──────────────┴─────────┴─────────┴───┴────────┴───────┴────────────────┴───────────────┘"
      ]
     },
     "execution_count": 32,
     "metadata": {},
     "output_type": "execute_result"
    }
   ],
   "source": [
    "sample_cds.filter(pl.col(\"transcript_id\")==\"PB.112403.21\")"
   ]
  },
  {
   "cell_type": "code",
   "execution_count": 34,
   "metadata": {},
   "outputs": [
    {
     "data": {
      "text/html": [
       "<div><style>\n",
       ".dataframe > thead > tr,\n",
       ".dataframe > tbody > tr {\n",
       "  text-align: right;\n",
       "  white-space: pre-wrap;\n",
       "}\n",
       "</style>\n",
       "<small>shape: (7, 10)</small><table border=\"1\" class=\"dataframe\"><thead><tr><th>seqname</th><th>source</th><th>feature</th><th>start</th><th>end</th><th>score</th><th>strand</th><th>frame</th><th>attributes</th><th>transcript_id</th></tr><tr><td>str</td><td>str</td><td>str</td><td>i64</td><td>i64</td><td>str</td><td>str</td><td>str</td><td>str</td><td>str</td></tr></thead><tbody><tr><td>&quot;chrY&quot;</td><td>&quot;HAVANA&quot;</td><td>&quot;CDS&quot;</td><td>2841944</td><td>2841973</td><td>&quot;.&quot;</td><td>&quot;+&quot;</td><td>&quot;0&quot;</td><td>&quot;gene_id &quot;ENSG00000129824.16&quot;; …</td><td>&quot;ENST00000430575.1&quot;</td></tr><tr><td>&quot;chrY&quot;</td><td>&quot;HAVANA&quot;</td><td>&quot;CDS&quot;</td><td>2842165</td><td>2842242</td><td>&quot;.&quot;</td><td>&quot;+&quot;</td><td>&quot;0&quot;</td><td>&quot;gene_id &quot;ENSG00000129824.16&quot;; …</td><td>&quot;ENST00000430575.1&quot;</td></tr><tr><td>&quot;chrY&quot;</td><td>&quot;HAVANA&quot;</td><td>&quot;CDS&quot;</td><td>2844077</td><td>2844257</td><td>&quot;.&quot;</td><td>&quot;+&quot;</td><td>&quot;0&quot;</td><td>&quot;gene_id &quot;ENSG00000129824.16&quot;; …</td><td>&quot;ENST00000430575.1&quot;</td></tr><tr><td>&quot;chrY&quot;</td><td>&quot;HAVANA&quot;</td><td>&quot;CDS&quot;</td><td>2845646</td><td>2845743</td><td>&quot;.&quot;</td><td>&quot;+&quot;</td><td>&quot;2&quot;</td><td>&quot;gene_id &quot;ENSG00000129824.16&quot;; …</td><td>&quot;ENST00000430575.1&quot;</td></tr><tr><td>&quot;chrY&quot;</td><td>&quot;HAVANA&quot;</td><td>&quot;CDS&quot;</td><td>2854600</td><td>2854771</td><td>&quot;.&quot;</td><td>&quot;+&quot;</td><td>&quot;0&quot;</td><td>&quot;gene_id &quot;ENSG00000129824.16&quot;; …</td><td>&quot;ENST00000430575.1&quot;</td></tr><tr><td>&quot;chrY&quot;</td><td>&quot;HAVANA&quot;</td><td>&quot;CDS&quot;</td><td>2865088</td><td>2865245</td><td>&quot;.&quot;</td><td>&quot;+&quot;</td><td>&quot;2&quot;</td><td>&quot;gene_id &quot;ENSG00000129824.16&quot;; …</td><td>&quot;ENST00000430575.1&quot;</td></tr><tr><td>&quot;chrY&quot;</td><td>&quot;HAVANA&quot;</td><td>&quot;CDS&quot;</td><td>2866793</td><td>2866862</td><td>&quot;.&quot;</td><td>&quot;+&quot;</td><td>&quot;0&quot;</td><td>&quot;gene_id &quot;ENSG00000129824.16&quot;; …</td><td>&quot;ENST00000430575.1&quot;</td></tr></tbody></table></div>"
      ],
      "text/plain": [
       "shape: (7, 10)\n",
       "┌─────────┬────────┬─────────┬─────────┬───┬────────┬───────┬───────────────────┬──────────────────┐\n",
       "│ seqname ┆ source ┆ feature ┆ start   ┆ … ┆ strand ┆ frame ┆ attributes        ┆ transcript_id    │\n",
       "│ ---     ┆ ---    ┆ ---     ┆ ---     ┆   ┆ ---    ┆ ---   ┆ ---               ┆ ---              │\n",
       "│ str     ┆ str    ┆ str     ┆ i64     ┆   ┆ str    ┆ str   ┆ str               ┆ str              │\n",
       "╞═════════╪════════╪═════════╪═════════╪═══╪════════╪═══════╪═══════════════════╪══════════════════╡\n",
       "│ chrY    ┆ HAVANA ┆ CDS     ┆ 2841944 ┆ … ┆ +      ┆ 0     ┆ gene_id \"ENSG0000 ┆ ENST00000430575. │\n",
       "│         ┆        ┆         ┆         ┆   ┆        ┆       ┆ 0129824.16\"; …    ┆ 1                │\n",
       "│ chrY    ┆ HAVANA ┆ CDS     ┆ 2842165 ┆ … ┆ +      ┆ 0     ┆ gene_id \"ENSG0000 ┆ ENST00000430575. │\n",
       "│         ┆        ┆         ┆         ┆   ┆        ┆       ┆ 0129824.16\"; …    ┆ 1                │\n",
       "│ chrY    ┆ HAVANA ┆ CDS     ┆ 2844077 ┆ … ┆ +      ┆ 0     ┆ gene_id \"ENSG0000 ┆ ENST00000430575. │\n",
       "│         ┆        ┆         ┆         ┆   ┆        ┆       ┆ 0129824.16\"; …    ┆ 1                │\n",
       "│ chrY    ┆ HAVANA ┆ CDS     ┆ 2845646 ┆ … ┆ +      ┆ 2     ┆ gene_id \"ENSG0000 ┆ ENST00000430575. │\n",
       "│         ┆        ┆         ┆         ┆   ┆        ┆       ┆ 0129824.16\"; …    ┆ 1                │\n",
       "│ chrY    ┆ HAVANA ┆ CDS     ┆ 2854600 ┆ … ┆ +      ┆ 0     ┆ gene_id \"ENSG0000 ┆ ENST00000430575. │\n",
       "│         ┆        ┆         ┆         ┆   ┆        ┆       ┆ 0129824.16\"; …    ┆ 1                │\n",
       "│ chrY    ┆ HAVANA ┆ CDS     ┆ 2865088 ┆ … ┆ +      ┆ 2     ┆ gene_id \"ENSG0000 ┆ ENST00000430575. │\n",
       "│         ┆        ┆         ┆         ┆   ┆        ┆       ┆ 0129824.16\"; …    ┆ 1                │\n",
       "│ chrY    ┆ HAVANA ┆ CDS     ┆ 2866793 ┆ … ┆ +      ┆ 0     ┆ gene_id \"ENSG0000 ┆ ENST00000430575. │\n",
       "│         ┆        ┆         ┆         ┆   ┆        ┆       ┆ 0129824.16\"; …    ┆ 1                │\n",
       "└─────────┴────────┴─────────┴─────────┴───┴────────┴───────┴───────────────────┴──────────────────┘"
      ]
     },
     "execution_count": 34,
     "metadata": {},
     "output_type": "execute_result"
    }
   ],
   "source": [
    "gencode_cds.filter(pl.col(\"transcript_id\")==\"ENST00000430575.1\")"
   ]
  },
  {
   "cell_type": "code",
   "execution_count": 35,
   "metadata": {},
   "outputs": [
    {
     "data": {
      "text/plain": [
       "29"
      ]
     },
     "execution_count": 35,
     "metadata": {},
     "output_type": "execute_result"
    }
   ],
   "source": [
    "2866891 - 2866862"
   ]
  },
  {
   "cell_type": "code",
   "execution_count": 25,
   "metadata": {},
   "outputs": [],
   "source": [
    "lr_bulk.var\\\n",
    "    .with_columns(\n",
    "        base_isoform = pl.col(\"base_isoform\").cast(pl.String)\n",
    "    )\\\n",
    "    .filter(\n",
    "        pl.col(\"protein_classification_base\") == \"pNNC\",\n",
    "        pl.col(\"structural_category\") == \"full-splice_match\",\n",
    "        pl.col(\"base_isoform\") == pl.col(\"isoform\")\n",
    "    )[\"isoform\"].to_frame().write_csv(\"pbids_to_be_tested.csv\")"
   ]
  },
  {
   "cell_type": "code",
   "execution_count": null,
   "metadata": {
    "vscode": {
     "languageId": "shellscript"
    }
   },
   "outputs": [],
   "source": [
    "apptainer shell -B /gpfs/fs0/scratch/s/shreejoy/nxu/SFARI $NXF_SINGULARITY_CACHEDIR/sqanti_protein.sif\n",
    "cd /gpfs/fs0/scratch/s/shreejoy/nxu/SFARI/work/d1/a1deb4128d4da133378ef227d68bce\n",
    "sqanti3_protein.py \\\n",
    "    SFARI.transcript_exons_only.gtf \\\n",
    "    SFARI.cds_renamed_exon.gtf \\\n",
    "    best_orf.tsv \\\n",
    "    gencode.transcript_exons_only.gtf \\\n",
    "    gencode.cds_renamed_exon.gtf \\\n",
    "    -d ./ \\\n",
    "    -p SFARI"
   ]
  },
  {
   "cell_type": "code",
   "execution_count": 6,
   "metadata": {},
   "outputs": [
    {
     "data": {
      "text/html": [
       "<div><style>\n",
       ".dataframe > thead > tr,\n",
       ".dataframe > tbody > tr {\n",
       "  text-align: right;\n",
       "  white-space: pre-wrap;\n",
       "}\n",
       "</style>\n",
       "<small>shape: (1, 26)</small><table border=\"1\" class=\"dataframe\"><thead><tr><th>pb</th><th>tx_cat</th><th>pr_splice_cat</th><th>tx_subcat</th><th>pr_splice_subcat</th><th>tx_tss_diff</th><th>tx_tts_diff</th><th>tx_tss_gene_diff</th><th>tx_tts_gene_diff</th><th>pr_nterm_diff</th><th>pr_cterm_diff</th><th>pr_nterm_gene_diff</th><th>pr_cterm_gene_diff</th><th>tx_transcripts</th><th>pr_transcripts</th><th>tx_gene</th><th>pr_gene</th><th>tx_num_exons</th><th>pr_num_exons</th><th>is_nmd</th><th>num_junc_after_stop_codon</th><th>num_nt_after_stop_codon</th><th>tx_5hang</th><th>tx_3hang</th><th>pr_nhang</th><th>pr_chang</th></tr><tr><td>str</td><td>str</td><td>str</td><td>str</td><td>str</td><td>str</td><td>str</td><td>str</td><td>str</td><td>str</td><td>str</td><td>str</td><td>str</td><td>str</td><td>str</td><td>str</td><td>str</td><td>i64</td><td>i64</td><td>str</td><td>i64</td><td>i64</td><td>i64</td><td>i64</td><td>i64</td><td>i64</td></tr></thead><tbody><tr><td>&quot;PB.112403.1&quot;</td><td>&quot;full-splice_match&quot;</td><td>&quot;full-splice_match&quot;</td><td>&quot;multi-exon&quot;</td><td>&quot;multi-exon&quot;</td><td>&quot;-212&quot;</td><td>&quot;-62&quot;</td><td>&quot;-212&quot;</td><td>&quot;62&quot;</td><td>&quot;23&quot;</td><td>&quot;377&quot;</td><td>&quot;23&quot;</td><td>&quot;29&quot;</td><td>&quot;ENST00000250784.13&quot;</td><td>&quot;ENST00000250784.13&quot;</td><td>&quot;ENSG00000129824.16&quot;</td><td>&quot;ENSG00000129824.16&quot;</td><td>7</td><td>7</td><td>&quot;FALSE&quot;</td><td>0</td><td>271</td><td>212</td><td>62</td><td>-23</td><td>-377</td></tr></tbody></table></div>"
      ],
      "text/plain": [
       "shape: (1, 26)\n",
       "┌────────────┬────────────┬────────────┬───────────┬───┬──────────┬──────────┬──────────┬──────────┐\n",
       "│ pb         ┆ tx_cat     ┆ pr_splice_ ┆ tx_subcat ┆ … ┆ tx_5hang ┆ tx_3hang ┆ pr_nhang ┆ pr_chang │\n",
       "│ ---        ┆ ---        ┆ cat        ┆ ---       ┆   ┆ ---      ┆ ---      ┆ ---      ┆ ---      │\n",
       "│ str        ┆ str        ┆ ---        ┆ str       ┆   ┆ i64      ┆ i64      ┆ i64      ┆ i64      │\n",
       "│            ┆            ┆ str        ┆           ┆   ┆          ┆          ┆          ┆          │\n",
       "╞════════════╪════════════╪════════════╪═══════════╪═══╪══════════╪══════════╪══════════╪══════════╡\n",
       "│ PB.112403. ┆ full-splic ┆ full-splic ┆ multi-exo ┆ … ┆ 212      ┆ 62       ┆ -23      ┆ -377     │\n",
       "│ 1          ┆ e_match    ┆ e_match    ┆ n         ┆   ┆          ┆          ┆          ┆          │\n",
       "└────────────┴────────────┴────────────┴───────────┴───┴──────────┴──────────┴──────────┴──────────┘"
      ]
     },
     "execution_count": 6,
     "metadata": {},
     "output_type": "execute_result"
    }
   ],
   "source": [
    "protein_classification.filter(pl.col(\"pb\")==\"PB.112403.1\")"
   ]
  },
  {
   "cell_type": "code",
   "execution_count": 38,
   "metadata": {},
   "outputs": [
    {
     "data": {
      "text/html": [
       "<div><style>\n",
       ".dataframe > thead > tr,\n",
       ".dataframe > tbody > tr {\n",
       "  text-align: right;\n",
       "  white-space: pre-wrap;\n",
       "}\n",
       "</style>\n",
       "<small>shape: (7, 10)</small><table border=\"1\" class=\"dataframe\"><thead><tr><th>seqname</th><th>source</th><th>feature</th><th>start</th><th>end</th><th>score</th><th>strand</th><th>frame</th><th>attributes</th><th>transcript_id</th></tr><tr><td>str</td><td>str</td><td>str</td><td>i64</td><td>i64</td><td>str</td><td>str</td><td>str</td><td>str</td><td>str</td></tr></thead><tbody><tr><td>&quot;chrY&quot;</td><td>&quot;transdecoder&quot;</td><td>&quot;CDS&quot;</td><td>2841625</td><td>2841627</td><td>&quot;.&quot;</td><td>&quot;+&quot;</td><td>&quot;0&quot;</td><td>&quot;gene_id &quot;PB.112403&quot;; transcrip…</td><td>&quot;PB.112403.1&quot;</td></tr><tr><td>&quot;chrY&quot;</td><td>&quot;transdecoder&quot;</td><td>&quot;CDS&quot;</td><td>2842165</td><td>2842242</td><td>&quot;.&quot;</td><td>&quot;+&quot;</td><td>&quot;0&quot;</td><td>&quot;gene_id &quot;PB.112403&quot;; transcrip…</td><td>&quot;PB.112403.1&quot;</td></tr><tr><td>&quot;chrY&quot;</td><td>&quot;transdecoder&quot;</td><td>&quot;CDS&quot;</td><td>2844077</td><td>2844257</td><td>&quot;.&quot;</td><td>&quot;+&quot;</td><td>&quot;0&quot;</td><td>&quot;gene_id &quot;PB.112403&quot;; transcrip…</td><td>&quot;PB.112403.1&quot;</td></tr><tr><td>&quot;chrY&quot;</td><td>&quot;transdecoder&quot;</td><td>&quot;CDS&quot;</td><td>2845646</td><td>2845743</td><td>&quot;.&quot;</td><td>&quot;+&quot;</td><td>&quot;2&quot;</td><td>&quot;gene_id &quot;PB.112403&quot;; transcrip…</td><td>&quot;PB.112403.1&quot;</td></tr><tr><td>&quot;chrY&quot;</td><td>&quot;transdecoder&quot;</td><td>&quot;CDS&quot;</td><td>2854600</td><td>2854771</td><td>&quot;.&quot;</td><td>&quot;+&quot;</td><td>&quot;0&quot;</td><td>&quot;gene_id &quot;PB.112403&quot;; transcrip…</td><td>&quot;PB.112403.1&quot;</td></tr><tr><td>&quot;chrY&quot;</td><td>&quot;transdecoder&quot;</td><td>&quot;CDS&quot;</td><td>2865088</td><td>2865245</td><td>&quot;.&quot;</td><td>&quot;+&quot;</td><td>&quot;2&quot;</td><td>&quot;gene_id &quot;PB.112403&quot;; transcrip…</td><td>&quot;PB.112403.1&quot;</td></tr><tr><td>&quot;chrY&quot;</td><td>&quot;transdecoder&quot;</td><td>&quot;CDS&quot;</td><td>2866793</td><td>2866891</td><td>&quot;.&quot;</td><td>&quot;+&quot;</td><td>&quot;0&quot;</td><td>&quot;gene_id &quot;PB.112403&quot;; transcrip…</td><td>&quot;PB.112403.1&quot;</td></tr></tbody></table></div>"
      ],
      "text/plain": [
       "shape: (7, 10)\n",
       "┌─────────┬──────────────┬─────────┬─────────┬───┬────────┬───────┬────────────────┬───────────────┐\n",
       "│ seqname ┆ source       ┆ feature ┆ start   ┆ … ┆ strand ┆ frame ┆ attributes     ┆ transcript_id │\n",
       "│ ---     ┆ ---          ┆ ---     ┆ ---     ┆   ┆ ---    ┆ ---   ┆ ---            ┆ ---           │\n",
       "│ str     ┆ str          ┆ str     ┆ i64     ┆   ┆ str    ┆ str   ┆ str            ┆ str           │\n",
       "╞═════════╪══════════════╪═════════╪═════════╪═══╪════════╪═══════╪════════════════╪═══════════════╡\n",
       "│ chrY    ┆ transdecoder ┆ CDS     ┆ 2841625 ┆ … ┆ +      ┆ 0     ┆ gene_id        ┆ PB.112403.1   │\n",
       "│         ┆              ┆         ┆         ┆   ┆        ┆       ┆ \"PB.112403\";   ┆               │\n",
       "│         ┆              ┆         ┆         ┆   ┆        ┆       ┆ transcrip…     ┆               │\n",
       "│ chrY    ┆ transdecoder ┆ CDS     ┆ 2842165 ┆ … ┆ +      ┆ 0     ┆ gene_id        ┆ PB.112403.1   │\n",
       "│         ┆              ┆         ┆         ┆   ┆        ┆       ┆ \"PB.112403\";   ┆               │\n",
       "│         ┆              ┆         ┆         ┆   ┆        ┆       ┆ transcrip…     ┆               │\n",
       "│ chrY    ┆ transdecoder ┆ CDS     ┆ 2844077 ┆ … ┆ +      ┆ 0     ┆ gene_id        ┆ PB.112403.1   │\n",
       "│         ┆              ┆         ┆         ┆   ┆        ┆       ┆ \"PB.112403\";   ┆               │\n",
       "│         ┆              ┆         ┆         ┆   ┆        ┆       ┆ transcrip…     ┆               │\n",
       "│ chrY    ┆ transdecoder ┆ CDS     ┆ 2845646 ┆ … ┆ +      ┆ 2     ┆ gene_id        ┆ PB.112403.1   │\n",
       "│         ┆              ┆         ┆         ┆   ┆        ┆       ┆ \"PB.112403\";   ┆               │\n",
       "│         ┆              ┆         ┆         ┆   ┆        ┆       ┆ transcrip…     ┆               │\n",
       "│ chrY    ┆ transdecoder ┆ CDS     ┆ 2854600 ┆ … ┆ +      ┆ 0     ┆ gene_id        ┆ PB.112403.1   │\n",
       "│         ┆              ┆         ┆         ┆   ┆        ┆       ┆ \"PB.112403\";   ┆               │\n",
       "│         ┆              ┆         ┆         ┆   ┆        ┆       ┆ transcrip…     ┆               │\n",
       "│ chrY    ┆ transdecoder ┆ CDS     ┆ 2865088 ┆ … ┆ +      ┆ 2     ┆ gene_id        ┆ PB.112403.1   │\n",
       "│         ┆              ┆         ┆         ┆   ┆        ┆       ┆ \"PB.112403\";   ┆               │\n",
       "│         ┆              ┆         ┆         ┆   ┆        ┆       ┆ transcrip…     ┆               │\n",
       "│ chrY    ┆ transdecoder ┆ CDS     ┆ 2866793 ┆ … ┆ +      ┆ 0     ┆ gene_id        ┆ PB.112403.1   │\n",
       "│         ┆              ┆         ┆         ┆   ┆        ┆       ┆ \"PB.112403\";   ┆               │\n",
       "│         ┆              ┆         ┆         ┆   ┆        ┆       ┆ transcrip…     ┆               │\n",
       "└─────────┴──────────────┴─────────┴─────────┴───┴────────┴───────┴────────────────┴───────────────┘"
      ]
     },
     "execution_count": 38,
     "metadata": {},
     "output_type": "execute_result"
    }
   ],
   "source": [
    "sample_cds.filter(pl.col(\"transcript_id\")==\"PB.112403.1\")"
   ]
  },
  {
   "cell_type": "code",
   "execution_count": 39,
   "metadata": {},
   "outputs": [
    {
     "data": {
      "text/html": [
       "<div><style>\n",
       ".dataframe > thead > tr,\n",
       ".dataframe > tbody > tr {\n",
       "  text-align: right;\n",
       "  white-space: pre-wrap;\n",
       "}\n",
       "</style>\n",
       "<small>shape: (7, 10)</small><table border=\"1\" class=\"dataframe\"><thead><tr><th>seqname</th><th>source</th><th>feature</th><th>start</th><th>end</th><th>score</th><th>strand</th><th>frame</th><th>attributes</th><th>transcript_id</th></tr><tr><td>str</td><td>str</td><td>str</td><td>i64</td><td>i64</td><td>str</td><td>str</td><td>str</td><td>str</td><td>str</td></tr></thead><tbody><tr><td>&quot;chrY&quot;</td><td>&quot;HAVANA&quot;</td><td>&quot;CDS&quot;</td><td>2841625</td><td>2841627</td><td>&quot;.&quot;</td><td>&quot;+&quot;</td><td>&quot;0&quot;</td><td>&quot;gene_id &quot;ENSG00000129824.16&quot;; …</td><td>&quot;ENST00000250784.13&quot;</td></tr><tr><td>&quot;chrY&quot;</td><td>&quot;HAVANA&quot;</td><td>&quot;CDS&quot;</td><td>2842165</td><td>2842242</td><td>&quot;.&quot;</td><td>&quot;+&quot;</td><td>&quot;0&quot;</td><td>&quot;gene_id &quot;ENSG00000129824.16&quot;; …</td><td>&quot;ENST00000250784.13&quot;</td></tr><tr><td>&quot;chrY&quot;</td><td>&quot;HAVANA&quot;</td><td>&quot;CDS&quot;</td><td>2844077</td><td>2844257</td><td>&quot;.&quot;</td><td>&quot;+&quot;</td><td>&quot;0&quot;</td><td>&quot;gene_id &quot;ENSG00000129824.16&quot;; …</td><td>&quot;ENST00000250784.13&quot;</td></tr><tr><td>&quot;chrY&quot;</td><td>&quot;HAVANA&quot;</td><td>&quot;CDS&quot;</td><td>2845646</td><td>2845743</td><td>&quot;.&quot;</td><td>&quot;+&quot;</td><td>&quot;2&quot;</td><td>&quot;gene_id &quot;ENSG00000129824.16&quot;; …</td><td>&quot;ENST00000250784.13&quot;</td></tr><tr><td>&quot;chrY&quot;</td><td>&quot;HAVANA&quot;</td><td>&quot;CDS&quot;</td><td>2854600</td><td>2854771</td><td>&quot;.&quot;</td><td>&quot;+&quot;</td><td>&quot;0&quot;</td><td>&quot;gene_id &quot;ENSG00000129824.16&quot;; …</td><td>&quot;ENST00000250784.13&quot;</td></tr><tr><td>&quot;chrY&quot;</td><td>&quot;HAVANA&quot;</td><td>&quot;CDS&quot;</td><td>2865088</td><td>2865245</td><td>&quot;.&quot;</td><td>&quot;+&quot;</td><td>&quot;2&quot;</td><td>&quot;gene_id &quot;ENSG00000129824.16&quot;; …</td><td>&quot;ENST00000250784.13&quot;</td></tr><tr><td>&quot;chrY&quot;</td><td>&quot;HAVANA&quot;</td><td>&quot;CDS&quot;</td><td>2866793</td><td>2866891</td><td>&quot;.&quot;</td><td>&quot;+&quot;</td><td>&quot;0&quot;</td><td>&quot;gene_id &quot;ENSG00000129824.16&quot;; …</td><td>&quot;ENST00000250784.13&quot;</td></tr></tbody></table></div>"
      ],
      "text/plain": [
       "shape: (7, 10)\n",
       "┌─────────┬────────┬─────────┬─────────┬───┬────────┬───────┬───────────────────┬──────────────────┐\n",
       "│ seqname ┆ source ┆ feature ┆ start   ┆ … ┆ strand ┆ frame ┆ attributes        ┆ transcript_id    │\n",
       "│ ---     ┆ ---    ┆ ---     ┆ ---     ┆   ┆ ---    ┆ ---   ┆ ---               ┆ ---              │\n",
       "│ str     ┆ str    ┆ str     ┆ i64     ┆   ┆ str    ┆ str   ┆ str               ┆ str              │\n",
       "╞═════════╪════════╪═════════╪═════════╪═══╪════════╪═══════╪═══════════════════╪══════════════════╡\n",
       "│ chrY    ┆ HAVANA ┆ CDS     ┆ 2841625 ┆ … ┆ +      ┆ 0     ┆ gene_id \"ENSG0000 ┆ ENST00000250784. │\n",
       "│         ┆        ┆         ┆         ┆   ┆        ┆       ┆ 0129824.16\"; …    ┆ 13               │\n",
       "│ chrY    ┆ HAVANA ┆ CDS     ┆ 2842165 ┆ … ┆ +      ┆ 0     ┆ gene_id \"ENSG0000 ┆ ENST00000250784. │\n",
       "│         ┆        ┆         ┆         ┆   ┆        ┆       ┆ 0129824.16\"; …    ┆ 13               │\n",
       "│ chrY    ┆ HAVANA ┆ CDS     ┆ 2844077 ┆ … ┆ +      ┆ 0     ┆ gene_id \"ENSG0000 ┆ ENST00000250784. │\n",
       "│         ┆        ┆         ┆         ┆   ┆        ┆       ┆ 0129824.16\"; …    ┆ 13               │\n",
       "│ chrY    ┆ HAVANA ┆ CDS     ┆ 2845646 ┆ … ┆ +      ┆ 2     ┆ gene_id \"ENSG0000 ┆ ENST00000250784. │\n",
       "│         ┆        ┆         ┆         ┆   ┆        ┆       ┆ 0129824.16\"; …    ┆ 13               │\n",
       "│ chrY    ┆ HAVANA ┆ CDS     ┆ 2854600 ┆ … ┆ +      ┆ 0     ┆ gene_id \"ENSG0000 ┆ ENST00000250784. │\n",
       "│         ┆        ┆         ┆         ┆   ┆        ┆       ┆ 0129824.16\"; …    ┆ 13               │\n",
       "│ chrY    ┆ HAVANA ┆ CDS     ┆ 2865088 ┆ … ┆ +      ┆ 2     ┆ gene_id \"ENSG0000 ┆ ENST00000250784. │\n",
       "│         ┆        ┆         ┆         ┆   ┆        ┆       ┆ 0129824.16\"; …    ┆ 13               │\n",
       "│ chrY    ┆ HAVANA ┆ CDS     ┆ 2866793 ┆ … ┆ +      ┆ 0     ┆ gene_id \"ENSG0000 ┆ ENST00000250784. │\n",
       "│         ┆        ┆         ┆         ┆   ┆        ┆       ┆ 0129824.16\"; …    ┆ 13               │\n",
       "└─────────┴────────┴─────────┴─────────┴───┴────────┴───────┴───────────────────┴──────────────────┘"
      ]
     },
     "execution_count": 39,
     "metadata": {},
     "output_type": "execute_result"
    }
   ],
   "source": [
    "gencode_cds.filter(pl.col(\"transcript_id\")==\"ENST00000250784.13\")"
   ]
  },
  {
   "cell_type": "markdown",
   "metadata": {},
   "source": [
    "# Add peptide support"
   ]
  },
  {
   "cell_type": "code",
   "execution_count": 60,
   "metadata": {},
   "outputs": [
    {
     "name": "stderr",
     "output_type": "stream",
     "text": [
      "/tmp/ipykernel_90900/2481585650.py:4: MapWithoutReturnDtypeWarning: Calling `map_elements` without specifying `return_dtype` can lead to unpredictable results. Specify `return_dtype` to silence this warning.\n",
      "  proteinIds = percolator[\"proteinIds\"].map_elements(lambda s: s.split(\",\"))\n"
     ]
    }
   ],
   "source": [
    "percolator = pl.read_csv(\"nextflow_results/hybrid_percolator.tsv\", has_header=True, separator=\"\\t\")\n",
    "percolator = percolator\\\n",
    "    .with_columns(\n",
    "    proteinIds = percolator[\"proteinIds\"].map_elements(lambda s: s.split(\",\"))\n",
    "    ).explode(\"proteinIds\")\\\n",
    "    .filter(\n",
    "        pl.col(\"q-value\") < 0.05\n",
    "    )\n",
    "percolator_pbid = percolator\\\n",
    "    .filter(pl.col(\"proteinIds\").str.starts_with(\"PB\"))\n",
    "\n",
    "percolator_ENST = percolator\\\n",
    "    .filter(pl.col(\"proteinIds\").str.starts_with(\"ENSP\"))\n",
    "\n",
    "percolator_ENST = percolator_ENST.with_columns(pl.col(\"proteinIds\").str.split(\"|\").map_elements(lambda s: s[1], return_dtype=pl.String))\n",
    "percolator = pl.concat([percolator_pbid, percolator_ENST], how=\"vertical\")"
   ]
  },
  {
   "cell_type": "code",
   "execution_count": 62,
   "metadata": {},
   "outputs": [],
   "source": [
    "PSMId_mapped_to_novel_transcripts_uniquely = percolator\\\n",
    "    .with_columns(\n",
    "        is_known = pl.col(\"proteinIds\").str.starts_with(\"ENST\").cast(pl.Boolean)\n",
    "        )\\\n",
    "    .group_by(\"PSMId\")\\\n",
    "    .agg(\n",
    "        pl.col(\"is_known\").sum()\n",
    "    )\\\n",
    "    .filter(\n",
    "        pl.col(\"is_known\")==0\n",
    "    )\\\n",
    "    .select(\"PSMId\")\n",
    "\n",
    "validated_pbids = percolator\\\n",
    "    .filter(\n",
    "        pl.col(\"PSMId\").is_in(PSMId_mapped_to_novel_transcripts_uniquely)\n",
    "    )\\\n",
    "    .select(\"proteinIds\").unique()\n",
    "\n",
    "lr_bulk.var = lr_bulk.var\\\n",
    "    .with_columns(\n",
    "        in_any_PSMs = pl.col(\"associated_transcript\").is_in(percolator[\"proteinIds\"].unique()) | pl.col(\"isoform\").is_in(percolator[\"proteinIds\"].unique()),\n",
    "        in_novel_only_PSMs = pl.col(\"isoform\").is_in(validated_pbids)\n",
    "    )\\\n",
    "    .with_columns(\n",
    "        validated_proteomics = pl.when(pl.col(\"structural_category\").is_in([\"novel_not_in_catalog\", \"novel_in_catalog\"]))\\\n",
    "            .then(pl.col(\"in_novel_only_PSMs\")).otherwise(pl.col(\"in_any_PSMs\"))\n",
    "    )"
   ]
  },
  {
   "cell_type": "code",
   "execution_count": 46,
   "metadata": {},
   "outputs": [
    {
     "name": "stderr",
     "output_type": "stream",
     "text": [
      "/tmp/ipykernel_190858/1932673567.py:29: UserWarning: set_ticklabels() should only be used with a fixed number of ticks, i.e. after set_ticks() or using a FixedLocator.\n",
      "  ax.set_xticklabels(ax.get_xticklabels(), rotation=45, horizontalalignment='right')\n"
     ]
    },
    {
     "data": {
      "text/plain": [
       "[Text(0, 0, 'full-splice_match'),\n",
       " Text(1, 0, 'incomplete-splice_match'),\n",
       " Text(2, 0, 'novel_in_catalog'),\n",
       " Text(3, 0, 'novel_not_in_catalog'),\n",
       " Text(4, 0, 'Other')]"
      ]
     },
     "execution_count": 46,
     "metadata": {},
     "output_type": "execute_result"
    },
    {
     "data": {
      "image/png": "[encoded data removed]",
      "text/plain": [
       "<Figure size 640x480 with 1 Axes>"
      ]
     },
     "metadata": {},
     "output_type": "display_data"
    }
   ],
   "source": [
    "lr_bulk.var = lr_bulk.var\\\n",
    "    .with_columns(\n",
    "        pl.col(\"structural_category\").cast(pl.String)\n",
    "    )\\\n",
    "    .with_columns(\n",
    "        pl.when(pl.col(\"structural_category\").is_in([\"novel_not_in_catalog\", \"novel_in_catalog\", \"full-splice_match\", \"incomplete-splice_match\"]))\\\n",
    "            .then(pl.col(\"structural_category\"))\\\n",
    "            .otherwise(pl.lit(\"Other\"))\n",
    "    )\n",
    "temp = lr_bulk.var\\\n",
    "    .with_columns(\n",
    "        pl.when(pl.col(\"ORF_type\")==\"complete\").then(pl.lit(True)).otherwise(pl.lit(False)).alias(\"complete_ORF\")\n",
    "    ).drop(\"ORF_type\")\\\n",
    "    .group_by(\"structural_category\")\\\n",
    "    .agg(\n",
    "        at_least_one_ORF = pl.col(\"at_least_one_orf\").sum(),\n",
    "        predicted_ORF = pl.col(\"predicted_orf\").sum(),\n",
    "        complete_ORF = pl.col(\"complete_ORF\").sum(),\n",
    "        validated_proteomics = pl.col(\"validated_proteomics\").sum()\n",
    "    )\\\n",
    "    .unpivot(index=\"structural_category\")\\\n",
    "    .with_columns(\n",
    "        pl.col(\"structural_category\").cast(pl.Enum([\"full-splice_match\", \"incomplete-splice_match\", \"novel_in_catalog\", \"novel_not_in_catalog\", \"Other\"]))\n",
    "    )\n",
    "import seaborn as sns\n",
    "import matplotlib.pyplot as plt\n",
    "fig, ax = plt.subplots()\n",
    "sns.barplot(data=temp.to_pandas(), x=\"structural_category\", y=\"value\", hue=\"variable\", ax =ax)\n",
    "ax.set_xticklabels(ax.get_xticklabels(), rotation=45, horizontalalignment='right')"
   ]
  },
  {
   "cell_type": "code",
   "execution_count": 9,
   "metadata": {},
   "outputs": [
    {
     "data": {
      "text/html": [
       "<div><style>\n",
       ".dataframe > thead > tr,\n",
       ".dataframe > tbody > tr {\n",
       "  text-align: right;\n",
       "  white-space: pre-wrap;\n",
       "}\n",
       "</style>\n",
       "<small>shape: (36_396, 6)</small><table border=\"1\" class=\"dataframe\"><thead><tr><th>isoform</th><th>structural_category</th><th>associated_gene</th><th>protein_classification_base</th><th>associated_transcript</th><th>protein_classification_subset</th></tr><tr><td>str</td><td>enum</td><td>enum</td><td>str</td><td>enum</td><td>str</td></tr></thead><tbody><tr><td>&quot;PB.6.390&quot;</td><td>&quot;full-splice_match&quot;</td><td>&quot;ENSG00000238009&quot;</td><td>&quot;pNNC&quot;</td><td>&quot;ENST00000453576.2&quot;</td><td>&quot;novel_nterm_known_splice_novel…</td></tr><tr><td>&quot;PB.15.8&quot;</td><td>&quot;full-splice_match&quot;</td><td>&quot;NOC2L&quot;</td><td>&quot;pNNC&quot;</td><td>&quot;ENST00000327044.7&quot;</td><td>&quot;novel_nterm_known_splice_novel…</td></tr><tr><td>&quot;PB.15.514&quot;</td><td>&quot;full-splice_match&quot;</td><td>&quot;NOC2L&quot;</td><td>&quot;pNNC&quot;</td><td>&quot;ENST00000469563.1&quot;</td><td>&quot;novel_nterm_known_splice_novel…</td></tr><tr><td>&quot;PB.19.3&quot;</td><td>&quot;full-splice_match&quot;</td><td>&quot;HES4&quot;</td><td>&quot;pNNC&quot;</td><td>&quot;ENST00000484667.2&quot;</td><td>&quot;novel_nterm_known_splice_novel…</td></tr><tr><td>&quot;PB.19.4&quot;</td><td>&quot;full-splice_match&quot;</td><td>&quot;HES4&quot;</td><td>&quot;pNNC&quot;</td><td>&quot;ENST00000304952.11&quot;</td><td>&quot;novel_nterm_known_splice_novel…</td></tr><tr><td>&hellip;</td><td>&hellip;</td><td>&hellip;</td><td>&hellip;</td><td>&hellip;</td><td>&hellip;</td></tr><tr><td>&quot;PB.112762.203&quot;</td><td>&quot;full-splice_match&quot;</td><td>&quot;KDM5D&quot;</td><td>&quot;pNNC&quot;</td><td>&quot;ENST00000382806.6&quot;</td><td>&quot;known_nterm_known_splice_novel…</td></tr><tr><td>&quot;PB.112762.206&quot;</td><td>&quot;full-splice_match&quot;</td><td>&quot;KDM5D&quot;</td><td>&quot;pNNC&quot;</td><td>&quot;ENST00000317961.9&quot;</td><td>&quot;novel_nterm_known_splice_novel…</td></tr><tr><td>&quot;PB.112777.1&quot;</td><td>&quot;full-splice_match&quot;</td><td>&quot;EIF1AY&quot;</td><td>&quot;pNNC&quot;</td><td>&quot;ENST00000361365.7&quot;</td><td>&quot;novel_nterm_known_splice_novel…</td></tr><tr><td>&quot;PB.112777.9&quot;</td><td>&quot;full-splice_match&quot;</td><td>&quot;EIF1AY&quot;</td><td>&quot;pNNC&quot;</td><td>&quot;ENST00000361365.7&quot;</td><td>&quot;novel_nterm_known_splice_novel…</td></tr><tr><td>&quot;PB.112777.12&quot;</td><td>&quot;full-splice_match&quot;</td><td>&quot;EIF1AY&quot;</td><td>&quot;pNNC&quot;</td><td>&quot;ENST00000382772.3&quot;</td><td>&quot;novel_nterm_known_splice_novel…</td></tr></tbody></table></div>"
      ],
      "text/plain": [
       "shape: (36_396, 6)\n",
       "┌───────────────┬────────────────┬────────────────┬────────────────┬───────────────┬───────────────┐\n",
       "│ isoform       ┆ structural_cat ┆ associated_gen ┆ protein_classi ┆ associated_tr ┆ protein_class │\n",
       "│ ---           ┆ egory          ┆ e              ┆ fication_base  ┆ anscript      ┆ ification_sub │\n",
       "│ str           ┆ ---            ┆ ---            ┆ ---            ┆ ---           ┆ set           │\n",
       "│               ┆ enum           ┆ enum           ┆ str            ┆ enum          ┆ ---           │\n",
       "│               ┆                ┆                ┆                ┆               ┆ str           │\n",
       "╞═══════════════╪════════════════╪════════════════╪════════════════╪═══════════════╪═══════════════╡\n",
       "│ PB.6.390      ┆ full-splice_ma ┆ ENSG0000023800 ┆ pNNC           ┆ ENST000004535 ┆ novel_nterm_k │\n",
       "│               ┆ tch            ┆ 9              ┆                ┆ 76.2          ┆ nown_splice_n │\n",
       "│               ┆                ┆                ┆                ┆               ┆ ovel…         │\n",
       "│ PB.15.8       ┆ full-splice_ma ┆ NOC2L          ┆ pNNC           ┆ ENST000003270 ┆ novel_nterm_k │\n",
       "│               ┆ tch            ┆                ┆                ┆ 44.7          ┆ nown_splice_n │\n",
       "│               ┆                ┆                ┆                ┆               ┆ ovel…         │\n",
       "│ PB.15.514     ┆ full-splice_ma ┆ NOC2L          ┆ pNNC           ┆ ENST000004695 ┆ novel_nterm_k │\n",
       "│               ┆ tch            ┆                ┆                ┆ 63.1          ┆ nown_splice_n │\n",
       "│               ┆                ┆                ┆                ┆               ┆ ovel…         │\n",
       "│ PB.19.3       ┆ full-splice_ma ┆ HES4           ┆ pNNC           ┆ ENST000004846 ┆ novel_nterm_k │\n",
       "│               ┆ tch            ┆                ┆                ┆ 67.2          ┆ nown_splice_n │\n",
       "│               ┆                ┆                ┆                ┆               ┆ ovel…         │\n",
       "│ PB.19.4       ┆ full-splice_ma ┆ HES4           ┆ pNNC           ┆ ENST000003049 ┆ novel_nterm_k │\n",
       "│               ┆ tch            ┆                ┆                ┆ 52.11         ┆ nown_splice_n │\n",
       "│               ┆                ┆                ┆                ┆               ┆ ovel…         │\n",
       "│ …             ┆ …              ┆ …              ┆ …              ┆ …             ┆ …             │\n",
       "│ PB.112762.203 ┆ full-splice_ma ┆ KDM5D          ┆ pNNC           ┆ ENST000003828 ┆ known_nterm_k │\n",
       "│               ┆ tch            ┆                ┆                ┆ 06.6          ┆ nown_splice_n │\n",
       "│               ┆                ┆                ┆                ┆               ┆ ovel…         │\n",
       "│ PB.112762.206 ┆ full-splice_ma ┆ KDM5D          ┆ pNNC           ┆ ENST000003179 ┆ novel_nterm_k │\n",
       "│               ┆ tch            ┆                ┆                ┆ 61.9          ┆ nown_splice_n │\n",
       "│               ┆                ┆                ┆                ┆               ┆ ovel…         │\n",
       "│ PB.112777.1   ┆ full-splice_ma ┆ EIF1AY         ┆ pNNC           ┆ ENST000003613 ┆ novel_nterm_k │\n",
       "│               ┆ tch            ┆                ┆                ┆ 65.7          ┆ nown_splice_n │\n",
       "│               ┆                ┆                ┆                ┆               ┆ ovel…         │\n",
       "│ PB.112777.9   ┆ full-splice_ma ┆ EIF1AY         ┆ pNNC           ┆ ENST000003613 ┆ novel_nterm_k │\n",
       "│               ┆ tch            ┆                ┆                ┆ 65.7          ┆ nown_splice_n │\n",
       "│               ┆                ┆                ┆                ┆               ┆ ovel…         │\n",
       "│ PB.112777.12  ┆ full-splice_ma ┆ EIF1AY         ┆ pNNC           ┆ ENST000003827 ┆ novel_nterm_k │\n",
       "│               ┆ tch            ┆                ┆                ┆ 72.3          ┆ nown_splice_n │\n",
       "│               ┆                ┆                ┆                ┆               ┆ ovel…         │\n",
       "└───────────────┴────────────────┴────────────────┴────────────────┴───────────────┴───────────────┘"
      ]
     },
     "execution_count": 9,
     "metadata": {},
     "output_type": "execute_result"
    }
   ],
   "source": [
    "lr_bulk.var\\\n",
    "    .filter(\n",
    "        pl.col(\"structural_category\") == \"full-splice_match\",\n",
    "        pl.col(\"protein_classification_base\") == \"pNNC\"\n",
    "    )[\"isoform\", \"structural_category\", \"associated_gene\", \"protein_classification_base\", \"associated_transcript\", \"protein_classification_subset\"]"
   ]
  },
  {
   "cell_type": "code",
   "execution_count": 7,
   "metadata": {},
   "outputs": [],
   "source": [
    "from src.utils import read_gtf\n",
    "sample_gtf = read_gtf(\"nextflow_results/transcripts_filtered.fasta.transdecoder.genome.gff3.gtf\")"
   ]
  },
  {
   "cell_type": "code",
   "execution_count": 8,
   "metadata": {},
   "outputs": [],
   "source": [
    "sample_gtf.filter(pl.col(\"transcript_id\") == \"PB.15.8\").write_csv(\"test.csv\")\n"
   ]
  },
  {
   "cell_type": "code",
   "execution_count": null,
   "metadata": {},
   "outputs": [],
   "source": [
    "import seaborn as sns\n",
    "import matplotlib.pyplot as plt"
   ]
  },
  {
   "cell_type": "markdown",
   "metadata": {},
   "source": [
    "## Define functions"
   ]
  },
  {
   "cell_type": "markdown",
   "metadata": {},
   "source": [
    "# Start here"
   ]
  },
  {
   "cell_type": "markdown",
   "metadata": {},
   "source": [
    "## Annotate lr_bulk with peptide support"
   ]
  },
  {
   "cell_type": "code",
   "execution_count": 4,
   "metadata": {},
   "outputs": [],
   "source": [
    "percolator_res = pl.read_csv(\"nextflow_results/percolator.tsv\", has_header=True, separator=\"\\t\")"
   ]
  },
  {
   "cell_type": "code",
   "execution_count": 8,
   "metadata": {},
   "outputs": [],
   "source": [
    "percolator_res = percolator_res\\\n",
    "    .with_columns(\n",
    "       proteinIds = pl.col(\"proteinIds\").map_elements(lambda s: s.split(\",\"), return_dtype=pl.List(pl.String))\n",
    "   )\\\n",
    "   .explode(\"proteinIds\")\\\n",
    "   .filter(\n",
    "        pl.col(\"q-value\") < 0.05\n",
    "    )"
   ]
  },
  {
   "cell_type": "code",
   "execution_count": 10,
   "metadata": {},
   "outputs": [
    {
     "data": {
      "text/html": [
       "<div><style>\n",
       ".dataframe > thead > tr,\n",
       ".dataframe > tbody > tr {\n",
       "  text-align: right;\n",
       "  white-space: pre-wrap;\n",
       "}\n",
       "</style>\n",
       "<small>shape: (668_824, 6)</small><table border=\"1\" class=\"dataframe\"><thead><tr><th>PSMId</th><th>score</th><th>q-value</th><th>posterior_error_prob</th><th>peptide</th><th>proteinIds</th></tr><tr><td>str</td><td>f64</td><td>f64</td><td>f64</td><td>str</td><td>str</td></tr></thead><tbody><tr><td>&quot;file7_4078_3_1&quot;</td><td>2.12649</td><td>0.000056</td><td>1.9562e-13</td><td>&quot;R.QHGEQLGGGGSGGGGYNNSK.H&quot;</td><td>&quot;PB.1039.1336&quot;</td></tr><tr><td>&quot;file7_4078_3_1&quot;</td><td>2.12649</td><td>0.000056</td><td>1.9562e-13</td><td>&quot;R.QHGEQLGGGGSGGGGYNNSK.H&quot;</td><td>&quot;PB.1039.287&quot;</td></tr><tr><td>&quot;file7_4078_3_1&quot;</td><td>2.12649</td><td>0.000056</td><td>1.9562e-13</td><td>&quot;R.QHGEQLGGGGSGGGGYNNSK.H&quot;</td><td>&quot;PB.1039.293&quot;</td></tr><tr><td>&quot;file7_4078_3_1&quot;</td><td>2.12649</td><td>0.000056</td><td>1.9562e-13</td><td>&quot;R.QHGEQLGGGGSGGGGYNNSK.H&quot;</td><td>&quot;PB.1039.295&quot;</td></tr><tr><td>&quot;file7_4078_3_1&quot;</td><td>2.12649</td><td>0.000056</td><td>1.9562e-13</td><td>&quot;R.QHGEQLGGGGSGGGGYNNSK.H&quot;</td><td>&quot;PB.1039.296&quot;</td></tr><tr><td>&hellip;</td><td>&hellip;</td><td>&hellip;</td><td>&hellip;</td><td>&hellip;</td><td>&hellip;</td></tr><tr><td>&quot;file1_34096_2_3&quot;</td><td>-0.109295</td><td>0.0499947</td><td>0.514237</td><td>&quot;K.ELNILK.S&quot;</td><td>&quot;ENSP00000496653.1|ENST00000645…</td></tr><tr><td>&quot;file1_34096_2_3&quot;</td><td>-0.109295</td><td>0.0499947</td><td>0.514237</td><td>&quot;K.ELNILK.S&quot;</td><td>&quot;ENSP00000494610.1|ENST00000646…</td></tr><tr><td>&quot;file1_34096_2_3&quot;</td><td>-0.109295</td><td>0.0499947</td><td>0.514237</td><td>&quot;K.ELNILK.S&quot;</td><td>&quot;ENSP00000292538.4|ENST00000292…</td></tr><tr><td>&quot;file1_34096_2_3&quot;</td><td>-0.109295</td><td>0.0499947</td><td>0.514237</td><td>&quot;K.ELNILK.S&quot;</td><td>&quot;ENSP00000484760.2|ENST00000622…</td></tr><tr><td>&quot;file1_34096_2_3&quot;</td><td>-0.109295</td><td>0.0499947</td><td>0.514237</td><td>&quot;K.ELNILK.S&quot;</td><td>&quot;ENSP00000377410.3|ENST00000393…</td></tr></tbody></table></div>"
      ],
      "text/plain": [
       "shape: (668_824, 6)\n",
       "┌─────────────────┬───────────┬───────────┬──────────────────┬──────────────────┬──────────────────┐\n",
       "│ PSMId           ┆ score     ┆ q-value   ┆ posterior_error_ ┆ peptide          ┆ proteinIds       │\n",
       "│ ---             ┆ ---       ┆ ---       ┆ prob             ┆ ---              ┆ ---              │\n",
       "│ str             ┆ f64       ┆ f64       ┆ ---              ┆ str              ┆ str              │\n",
       "│                 ┆           ┆           ┆ f64              ┆                  ┆                  │\n",
       "╞═════════════════╪═══════════╪═══════════╪══════════════════╪══════════════════╪══════════════════╡\n",
       "│ file7_4078_3_1  ┆ 2.12649   ┆ 0.000056  ┆ 1.9562e-13       ┆ R.QHGEQLGGGGSGGG ┆ PB.1039.1336     │\n",
       "│                 ┆           ┆           ┆                  ┆ GYNNSK.H         ┆                  │\n",
       "│ file7_4078_3_1  ┆ 2.12649   ┆ 0.000056  ┆ 1.9562e-13       ┆ R.QHGEQLGGGGSGGG ┆ PB.1039.287      │\n",
       "│                 ┆           ┆           ┆                  ┆ GYNNSK.H         ┆                  │\n",
       "│ file7_4078_3_1  ┆ 2.12649   ┆ 0.000056  ┆ 1.9562e-13       ┆ R.QHGEQLGGGGSGGG ┆ PB.1039.293      │\n",
       "│                 ┆           ┆           ┆                  ┆ GYNNSK.H         ┆                  │\n",
       "│ file7_4078_3_1  ┆ 2.12649   ┆ 0.000056  ┆ 1.9562e-13       ┆ R.QHGEQLGGGGSGGG ┆ PB.1039.295      │\n",
       "│                 ┆           ┆           ┆                  ┆ GYNNSK.H         ┆                  │\n",
       "│ file7_4078_3_1  ┆ 2.12649   ┆ 0.000056  ┆ 1.9562e-13       ┆ R.QHGEQLGGGGSGGG ┆ PB.1039.296      │\n",
       "│                 ┆           ┆           ┆                  ┆ GYNNSK.H         ┆                  │\n",
       "│ …               ┆ …         ┆ …         ┆ …                ┆ …                ┆ …                │\n",
       "│ file1_34096_2_3 ┆ -0.109295 ┆ 0.0499947 ┆ 0.514237         ┆ K.ELNILK.S       ┆ ENSP00000496653. │\n",
       "│                 ┆           ┆           ┆                  ┆                  ┆ 1|ENST00000645…  │\n",
       "│ file1_34096_2_3 ┆ -0.109295 ┆ 0.0499947 ┆ 0.514237         ┆ K.ELNILK.S       ┆ ENSP00000494610. │\n",
       "│                 ┆           ┆           ┆                  ┆                  ┆ 1|ENST00000646…  │\n",
       "│ file1_34096_2_3 ┆ -0.109295 ┆ 0.0499947 ┆ 0.514237         ┆ K.ELNILK.S       ┆ ENSP00000292538. │\n",
       "│                 ┆           ┆           ┆                  ┆                  ┆ 4|ENST00000292…  │\n",
       "│ file1_34096_2_3 ┆ -0.109295 ┆ 0.0499947 ┆ 0.514237         ┆ K.ELNILK.S       ┆ ENSP00000484760. │\n",
       "│                 ┆           ┆           ┆                  ┆                  ┆ 2|ENST00000622…  │\n",
       "│ file1_34096_2_3 ┆ -0.109295 ┆ 0.0499947 ┆ 0.514237         ┆ K.ELNILK.S       ┆ ENSP00000377410. │\n",
       "│                 ┆           ┆           ┆                  ┆                  ┆ 3|ENST00000393…  │\n",
       "└─────────────────┴───────────┴───────────┴──────────────────┴──────────────────┴──────────────────┘"
      ]
     },
     "execution_count": 10,
     "metadata": {},
     "output_type": "execute_result"
    }
   ],
   "source": [
    "percolator_res"
   ]
  },
  {
   "cell_type": "code",
   "execution_count": 15,
   "metadata": {},
   "outputs": [
    {
     "name": "stderr",
     "output_type": "stream",
     "text": [
      "/tmp/ipykernel_91289/3302576709.py:5: MapWithoutReturnDtypeWarning: Calling `map_elements` without specifying `return_dtype` can lead to unpredictable results. Specify `return_dtype` to silence this warning.\n",
      "  .with_columns(\n"
     ]
    }
   ],
   "source": [
    "ENST = percolator_res\\\n",
    "    .filter(\n",
    "        pl.col(\"proteinIds\").str.starts_with(\"ENSP\")\n",
    "    )\\\n",
    "    .with_columns(\n",
    "        proteinIds = pl.col(\"proteinIds\").str.split(\"|\").map_elements(lambda x: x[1])\n",
    "    )\n",
    "PB_ID = percolator_res\\\n",
    "    .filter(\n",
    "        pl.col(\"proteinIds\").str.starts_with(\"PB\")\n",
    "    )\n",
    "\n",
    "percolator_res = pl.concat([ENST, PB_ID], how=\"vertical\")"
   ]
  },
  {
   "cell_type": "code",
   "execution_count": 16,
   "metadata": {},
   "outputs": [],
   "source": [
    "PSMId_mapped_to_novel_transcripts_uniquely = percolator_res\\\n",
    "    .with_columns(\n",
    "        is_known = pl.col(\"proteinIds\").str.starts_with(\"ENST\")\n",
    "    )\\\n",
    "    .group_by(\"PSMId\")\\\n",
    "    .agg(\n",
    "        pl.col(\"is_known\").sum()\n",
    "    )\\\n",
    "    .filter(\n",
    "        pl.col(\"is_known\")==0\n",
    "    )\\\n",
    "    .select(\"PSMId\")"
   ]
  },
  {
   "cell_type": "code",
   "execution_count": 17,
   "metadata": {},
   "outputs": [],
   "source": [
    "validated_pbids = percolator_res\\\n",
    "    .filter(\n",
    "        pl.col(\"PSMId\").is_in(PSMId_mapped_to_novel_transcripts_uniquely)\n",
    "    )\\\n",
    "    .select(\"proteinIds\").unique()"
   ]
  },
  {
   "cell_type": "code",
   "execution_count": 18,
   "metadata": {},
   "outputs": [],
   "source": [
    "lr_bulk.var = lr_bulk.var\\\n",
    "    .with_columns(\n",
    "        in_any_PSMs = pl.col(\"associated_transcript\").is_in(percolator_res[\"proteinIds\"].unique()) | pl.col(\"isoform\").is_in(percolator_res[\"proteinIds\"].unique()),\n",
    "        in_novel_only_PSMs = pl.col(\"isoform\").is_in(validated_pbids)\n",
    "    )\\\n",
    "    .with_columns(\n",
    "        validated_proteomics = pl.when(pl.col(\"structural_category\").is_in([\"novel_not_in_catalog\", \"novel_in_catalog\"]))\\\n",
    "            .then(pl.col(\"in_novel_only_PSMs\")).otherwise(pl.col(\"in_any_PSMs\"))\n",
    "    )\n"
   ]
  },
  {
   "cell_type": "markdown",
   "metadata": {},
   "source": [
    "## GenomeKit"
   ]
  },
  {
   "cell_type": "code",
   "execution_count": 4,
   "metadata": {},
   "outputs": [],
   "source": [
    "genome = gk.Genome(\"SFARI\")"
   ]
  },
  {
   "cell_type": "code",
   "execution_count": 10,
   "metadata": {},
   "outputs": [
    {
     "name": "stderr",
     "output_type": "stream",
     "text": [
      "/tmp/ipykernel_125142/3978943237.py:11: MapWithoutReturnDtypeWarning: Calling `map_elements` without specifying `return_dtype` can lead to unpredictable results. Specify `return_dtype` to silence this warning.\n",
      "  .with_columns(\n",
      "/tmp/ipykernel_125142/3978943237.py:1: MapWithoutReturnDtypeWarning: Calling `map_elements` without specifying `return_dtype` can lead to unpredictable results. Specify `return_dtype` to silence this warning.\n",
      "  base_isoform = lr_bulk.var\\\n"
     ]
    }
   ],
   "source": [
    "base_isoform = lr_bulk.var\\\n",
    "    .filter(\n",
    "        pl.col(\"base_isoform\").is_null().not_(),\n",
    "        pl.col(\"ORF_type\")==\"complete\"\n",
    "        )\\\n",
    "    .group_by(\"base_isoform\")\\\n",
    "    .agg(\n",
    "        pl.col(\"isoform\"),\n",
    "        pl.col(\"structural_category\")\n",
    "    )\\\n",
    "    .with_columns(\n",
    "        pl.col(\"structural_category\").map_elements(lambda x: x.unique())\n",
    "    )\\\n",
    "    .with_columns(\n",
    "        n_structural_category = pl.col(\"structural_category\").map_elements(lambda x : len(x))\n",
    "    )\\\n",
    "    .rename({\"structural_category\": \"structural_category_list\"})"
   ]
  },
  {
   "cell_type": "code",
   "execution_count": 29,
   "metadata": {},
   "outputs": [
    {
     "name": "stderr",
     "output_type": "stream",
     "text": [
      "/tmp/ipykernel_125142/4065386927.py:1: MapWithoutReturnDtypeWarning: Calling `map_elements` without specifying `return_dtype` can lead to unpredictable results. Specify `return_dtype` to silence this warning.\n",
      "  base_isoform.filter(pl.col(\"isoform\").map_elements(lambda x :len(x)>1)).shape[0]\n"
     ]
    },
    {
     "data": {
      "text/plain": [
       "25007"
      ]
     },
     "execution_count": 29,
     "metadata": {},
     "output_type": "execute_result"
    }
   ],
   "source": [
    "base_isoform.filter(pl.col(\"isoform\").map_elements(lambda x :len(x)>1)).shape[0]"
   ]
  },
  {
   "cell_type": "code",
   "execution_count": 28,
   "metadata": {},
   "outputs": [
    {
     "name": "stderr",
     "output_type": "stream",
     "text": [
      "/tmp/ipykernel_125142/343316249.py:2: MapWithoutReturnDtypeWarning: Calling `map_elements` without specifying `return_dtype` can lead to unpredictable results. Specify `return_dtype` to silence this warning.\n",
      "  .filter(\n",
      "/tmp/ipykernel_125142/343316249.py:8: MapWithoutReturnDtypeWarning: Calling `map_elements` without specifying `return_dtype` can lead to unpredictable results. Specify `return_dtype` to silence this warning.\n",
      "  percentage = (pl.col(\"len\") / base_isoform.filter(pl.col(\"isoform\").map_elements(lambda x :len(x)>1)).shape[0]) * 100\n"
     ]
    },
    {
     "data": {
      "text/html": [
       "<div><style>\n",
       ".dataframe > thead > tr,\n",
       ".dataframe > tbody > tr {\n",
       "  text-align: right;\n",
       "  white-space: pre-wrap;\n",
       "}\n",
       "</style>\n",
       "<small>shape: (5, 3)</small><table border=\"1\" class=\"dataframe\"><thead><tr><th>n_structural_category</th><th>len</th><th>percentage</th></tr><tr><td>i64</td><td>u32</td><td>f64</td></tr></thead><tbody><tr><td>4</td><td>345</td><td>1.379614</td></tr><tr><td>5</td><td>21</td><td>0.083976</td></tr><tr><td>3</td><td>2092</td><td>8.365658</td></tr><tr><td>1</td><td>14776</td><td>59.087456</td></tr><tr><td>2</td><td>7773</td><td>31.083297</td></tr></tbody></table></div>"
      ],
      "text/plain": [
       "shape: (5, 3)\n",
       "┌───────────────────────┬───────┬────────────┐\n",
       "│ n_structural_category ┆ len   ┆ percentage │\n",
       "│ ---                   ┆ ---   ┆ ---        │\n",
       "│ i64                   ┆ u32   ┆ f64        │\n",
       "╞═══════════════════════╪═══════╪════════════╡\n",
       "│ 4                     ┆ 345   ┆ 1.379614   │\n",
       "│ 5                     ┆ 21    ┆ 0.083976   │\n",
       "│ 3                     ┆ 2092  ┆ 8.365658   │\n",
       "│ 1                     ┆ 14776 ┆ 59.087456  │\n",
       "│ 2                     ┆ 7773  ┆ 31.083297  │\n",
       "└───────────────────────┴───────┴────────────┘"
      ]
     },
     "execution_count": 28,
     "metadata": {},
     "output_type": "execute_result"
    }
   ],
   "source": [
    "base_isoform\\\n",
    "    .filter(\n",
    "        pl.col(\"isoform\").map_elements(lambda x :len(x)>1)\n",
    "    )\\\n",
    "    .group_by(\"n_structural_category\")\\\n",
    "    .len()\\\n",
    "    .with_columns(\n",
    "        percentage = (pl.col(\"len\") / base_isoform.filter(pl.col(\"isoform\").map_elements(lambda x :len(x)>1)).shape[0]) * 100\n",
    "    )"
   ]
  },
  {
   "cell_type": "markdown",
   "metadata": {},
   "source": [
    "## Visualization"
   ]
  },
  {
   "cell_type": "code",
   "execution_count": 19,
   "metadata": {},
   "outputs": [
    {
     "name": "stderr",
     "output_type": "stream",
     "text": [
      "/tmp/ipykernel_91289/1932673567.py:29: UserWarning: set_ticklabels() should only be used with a fixed number of ticks, i.e. after set_ticks() or using a FixedLocator.\n",
      "  ax.set_xticklabels(ax.get_xticklabels(), rotation=45, horizontalalignment='right')\n"
     ]
    },
    {
     "data": {
      "text/plain": [
       "[Text(0, 0, 'full-splice_match'),\n",
       " Text(1, 0, 'incomplete-splice_match'),\n",
       " Text(2, 0, 'novel_in_catalog'),\n",
       " Text(3, 0, 'novel_not_in_catalog'),\n",
       " Text(4, 0, 'Other')]"
      ]
     },
     "execution_count": 19,
     "metadata": {},
     "output_type": "execute_result"
    },
    {
     "data": {
      "image/png": "[encoded data removed]",
      "text/plain": [
       "<Figure size 640x480 with 1 Axes>"
      ]
     },
     "metadata": {},
     "output_type": "display_data"
    }
   ],
   "source": [
    "lr_bulk.var = lr_bulk.var\\\n",
    "    .with_columns(\n",
    "        pl.col(\"structural_category\").cast(pl.String)\n",
    "    )\\\n",
    "    .with_columns(\n",
    "        pl.when(pl.col(\"structural_category\").is_in([\"novel_not_in_catalog\", \"novel_in_catalog\", \"full-splice_match\", \"incomplete-splice_match\"]))\\\n",
    "            .then(pl.col(\"structural_category\"))\\\n",
    "            .otherwise(pl.lit(\"Other\"))\n",
    "    )\n",
    "temp = lr_bulk.var\\\n",
    "    .with_columns(\n",
    "        pl.when(pl.col(\"ORF_type\")==\"complete\").then(pl.lit(True)).otherwise(pl.lit(False)).alias(\"complete_ORF\")\n",
    "    ).drop(\"ORF_type\")\\\n",
    "    .group_by(\"structural_category\")\\\n",
    "    .agg(\n",
    "        at_least_one_ORF = pl.col(\"at_least_one_orf\").sum(),\n",
    "        predicted_ORF = pl.col(\"predicted_orf\").sum(),\n",
    "        complete_ORF = pl.col(\"complete_ORF\").sum(),\n",
    "        validated_proteomics = pl.col(\"validated_proteomics\").sum()\n",
    "    )\\\n",
    "    .unpivot(index=\"structural_category\")\\\n",
    "    .with_columns(\n",
    "        pl.col(\"structural_category\").cast(pl.Enum([\"full-splice_match\", \"incomplete-splice_match\", \"novel_in_catalog\", \"novel_not_in_catalog\", \"Other\"]))\n",
    "    )\n",
    "import seaborn as sns\n",
    "import matplotlib.pyplot as plt\n",
    "fig, ax = plt.subplots()\n",
    "sns.barplot(data=temp.to_pandas(), x=\"structural_category\", y=\"value\", hue=\"variable\", ax =ax)\n",
    "ax.set_xticklabels(ax.get_xticklabels(), rotation=45, horizontalalignment='right')"
   ]
  },
  {
   "cell_type": "markdown",
   "metadata": {},
   "source": [
    "## Lengths don't match in PacBio files"
   ]
  },
  {
   "cell_type": "code",
   "execution_count": null,
   "metadata": {},
   "outputs": [],
   "source": [
    "def compare_sequence_len(fasta_tab_file, gtf_file):\n",
    "    fasta = pl.read_csv(fasta_tab_file, separator = \"\\t\", has_header=False, new_columns=[\"pbid\", \"sequence\", \"null\", \"len\"])[\"pbid\", \"len\"]\n",
    "    fasta = fasta\\\n",
    "        .with_columns(\n",
    "            pl.col(\"pbid\").str.split(\"|\").map_elements(lambda x: x[0], return_dtype=pl.String)\n",
    "        )\n",
    "    gtf = read_gtf(gtf_file)\n",
    "    gtf_len = gtf\\\n",
    "        .filter(\n",
    "            pl.col(\"feature\") == \"exon\"\n",
    "        )\\\n",
    "        .with_columns(\n",
    "            diff = pl.col(\"end\") - pl.col(\"start\") + 1\n",
    "        )\\\n",
    "        .group_by(\"transcript_id\")\\\n",
    "        .agg(\n",
    "            pl.col(\"diff\").sum()\n",
    "        )\n",
    "    return fasta\\\n",
    "        .join(\n",
    "            gtf_len.rename({\"transcript_id\": \"pbid\"}),\n",
    "            how = \"left\",\n",
    "            on = \"pbid\"\n",
    "        )"
   ]
  },
  {
   "cell_type": "code",
   "execution_count": 11,
   "metadata": {},
   "outputs": [
    {
     "data": {
      "text/html": [
       "<div><style>\n",
       ".dataframe > thead > tr,\n",
       ".dataframe > tbody > tr {\n",
       "  text-align: right;\n",
       "  white-space: pre-wrap;\n",
       "}\n",
       "</style>\n",
       "<small>shape: (4_900_923, 3)</small><table border=\"1\" class=\"dataframe\"><thead><tr><th>pbid</th><th>len</th><th>diff</th></tr><tr><td>str</td><td>i64</td><td>i64</td></tr></thead><tbody><tr><td>&quot;PB.1.1&quot;</td><td>2810</td><td>2809</td></tr><tr><td>&quot;PB.1.2&quot;</td><td>1680</td><td>1678</td></tr><tr><td>&quot;PB.1.3&quot;</td><td>2499</td><td>2498</td></tr><tr><td>&quot;PB.1.4&quot;</td><td>2113</td><td>2111</td></tr><tr><td>&quot;PB.1.5&quot;</td><td>3359</td><td>3360</td></tr><tr><td>&hellip;</td><td>&hellip;</td><td>&hellip;</td></tr><tr><td>&quot;PB.113109.1&quot;</td><td>1831</td><td>1837</td></tr><tr><td>&quot;PB.113110.1&quot;</td><td>723</td><td>726</td></tr><tr><td>&quot;PB.113111.1&quot;</td><td>1264</td><td>1264</td></tr><tr><td>&quot;PB.113112.1&quot;</td><td>1165</td><td>1162</td></tr><tr><td>&quot;PB.113113.1&quot;</td><td>1277</td><td>1282</td></tr></tbody></table></div>"
      ],
      "text/plain": [
       "shape: (4_900_923, 3)\n",
       "┌─────────────┬──────┬──────┐\n",
       "│ pbid        ┆ len  ┆ diff │\n",
       "│ ---         ┆ ---  ┆ ---  │\n",
       "│ str         ┆ i64  ┆ i64  │\n",
       "╞═════════════╪══════╪══════╡\n",
       "│ PB.1.1      ┆ 2810 ┆ 2809 │\n",
       "│ PB.1.2      ┆ 1680 ┆ 1678 │\n",
       "│ PB.1.3      ┆ 2499 ┆ 2498 │\n",
       "│ PB.1.4      ┆ 2113 ┆ 2111 │\n",
       "│ PB.1.5      ┆ 3359 ┆ 3360 │\n",
       "│ …           ┆ …    ┆ …    │\n",
       "│ PB.113109.1 ┆ 1831 ┆ 1837 │\n",
       "│ PB.113110.1 ┆ 723  ┆ 726  │\n",
       "│ PB.113111.1 ┆ 1264 ┆ 1264 │\n",
       "│ PB.113112.1 ┆ 1165 ┆ 1162 │\n",
       "│ PB.113113.1 ┆ 1277 ┆ 1282 │\n",
       "└─────────────┴──────┴──────┘"
      ]
     },
     "execution_count": 11,
     "metadata": {},
     "output_type": "execute_result"
    }
   ],
   "source": [
    "compare_sequence_len(\"proc/merged_collapsed.fasta.tab\", \"proc/merged_collapsed.gff\")"
   ]
  },
  {
   "cell_type": "code",
   "execution_count": 50,
   "metadata": {},
   "outputs": [
    {
     "data": {
      "text/html": [
       "<div><style>\n",
       ".dataframe > thead > tr,\n",
       ".dataframe > tbody > tr {\n",
       "  text-align: right;\n",
       "  white-space: pre-wrap;\n",
       "}\n",
       "</style>\n",
       "<small>shape: (1_455_907, 3)</small><table border=\"1\" class=\"dataframe\"><thead><tr><th>pbid</th><th>len</th><th>diff</th></tr><tr><td>str</td><td>i64</td><td>i64</td></tr></thead><tbody><tr><td>&quot;PB.6.9&quot;</td><td>3984</td><td>3984</td></tr><tr><td>&quot;PB.6.8&quot;</td><td>2646</td><td>2646</td></tr><tr><td>&quot;PB.6.10&quot;</td><td>2339</td><td>2339</td></tr><tr><td>&quot;PB.6.14&quot;</td><td>1898</td><td>1898</td></tr><tr><td>&quot;PB.6.2&quot;</td><td>1658</td><td>1658</td></tr><tr><td>&hellip;</td><td>&hellip;</td><td>&hellip;</td></tr><tr><td>&quot;PB.112873.1193&quot;</td><td>4436</td><td>4436</td></tr><tr><td>&quot;PB.112873.1196&quot;</td><td>3680</td><td>3680</td></tr><tr><td>&quot;PB.112873.1199&quot;</td><td>2482</td><td>2482</td></tr><tr><td>&quot;PB.112873.1205&quot;</td><td>4904</td><td>4904</td></tr><tr><td>&quot;PB.112873.1230&quot;</td><td>4291</td><td>4291</td></tr></tbody></table></div>"
      ],
      "text/plain": [
       "shape: (1_455_907, 3)\n",
       "┌────────────────┬──────┬──────┐\n",
       "│ pbid           ┆ len  ┆ diff │\n",
       "│ ---            ┆ ---  ┆ ---  │\n",
       "│ str            ┆ i64  ┆ i64  │\n",
       "╞════════════════╪══════╪══════╡\n",
       "│ PB.6.9         ┆ 3984 ┆ 3984 │\n",
       "│ PB.6.8         ┆ 2646 ┆ 2646 │\n",
       "│ PB.6.10        ┆ 2339 ┆ 2339 │\n",
       "│ PB.6.14        ┆ 1898 ┆ 1898 │\n",
       "│ PB.6.2         ┆ 1658 ┆ 1658 │\n",
       "│ …              ┆ …    ┆ …    │\n",
       "│ PB.112873.1193 ┆ 4436 ┆ 4436 │\n",
       "│ PB.112873.1196 ┆ 3680 ┆ 3680 │\n",
       "│ PB.112873.1199 ┆ 2482 ┆ 2482 │\n",
       "│ PB.112873.1205 ┆ 4904 ┆ 4904 │\n",
       "│ PB.112873.1230 ┆ 4291 ┆ 4291 │\n",
       "└────────────────┴──────┴──────┘"
      ]
     },
     "execution_count": 50,
     "metadata": {},
     "output_type": "execute_result"
    }
   ],
   "source": [
    "compare_sequence_len(\"/scratch/s/shreejoy/nxu/SFARI/work/c5/65ddff00571c118620e9321f40211d/transcripts.fasta.tab\", \"/scratch/s/shreejoy/nxu/SFARI/work/c5/65ddff00571c118620e9321f40211d/merged_collapsed.sorted.filtered_lite.gff\")"
   ]
  },
  {
   "cell_type": "code",
   "execution_count": 17,
   "metadata": {},
   "outputs": [],
   "source": [
    "TD_genome_gff3 = read_gff(\"nextflow_results/transcripts_filtered.fasta.transdecoder.genome.gff3\", attributes=[\"ID\", \"Parent\"]).drop_nulls(\"seqname\")\\\n",
    "    .with_columns(\n",
    "        pl.col(\"feature\").replace({\"gene\": \"gene\", \"five_prime_UTR\": \"five_prime_UTR\", \"exon\": \"exon\", \"mRNA\": \"transcript\", \"CDS\": \"CDS\", \"three_prime_UTR\": \"three_prime_UTR\"})\n",
    "    )\\\n",
    "    .with_columns(\n",
    "        pl.when(pl.col(\"feature\")==\"gene\")\\\n",
    "            .then(pl.col(\"ID\").str.split(\"^\").map_elements(lambda x: x[0], return_dtype=pl.String))\\\n",
    "            .when(pl.col(\"feature\")==\"transcript\")\\\n",
    "            .then(pl.col(\"ID\").str.extract(r\"^(.*)\\.p\\d+$\"))\\\n",
    "            .otherwise(pl.col(\"ID\")),\n",
    "        pl.when(pl.col(\"feature\")==\"transcript\")\\\n",
    "            .then(pl.col(\"Parent\").str.extract(r\"^(.*)\\^chr\"))\\\n",
    "            .when(pl.col(\"feature\").is_in([\"three_prime_UTR\", \"five_prime_UTR\", \"CDS\", \"exon\"]))\\\n",
    "            .then(pl.col(\"Parent\").str.extract(r\"^(.*)\\.p\\d+$\"))\\\n",
    "            .otherwise(pl.col(\"Parent\"))\n",
    "    )\\\n",
    "    .with_columns(\n",
    "        gene_id = pl.when(pl.col(\"feature\")==\"gene\")\\\n",
    "        .then(pl.col(\"ID\"))\\\n",
    "        .when(pl.col(\"feature\")==\"transcript\")\\\n",
    "        .then(pl.col(\"Parent\"))\\\n",
    "        .otherwise(pl.col(\"Parent\").str.split(\".\").map_elements(lambda x: \".\".join([x[0], x[1]]), return_dtype=pl.String)),\n",
    "\n",
    "        transcript_id = pl.when(pl.col(\"feature\")==\"gene\")\\\n",
    "        .then(pl.lit(None))\\\n",
    "        .when(pl.col(\"feature\")==\"transcript\")\\\n",
    "        .then(pl.col(\"ID\"))\\\n",
    "        .otherwise(pl.col(\"Parent\"))\n",
    "    )"
   ]
  },
  {
   "cell_type": "code",
   "execution_count": 32,
   "metadata": {},
   "outputs": [
    {
     "name": "stdout",
     "output_type": "stream",
     "text": [
      "\n",
      "\n",
      "\n",
      "\tDone.  180238 / 180238 transcript orfs could be propagated to the genome\n",
      "\n",
      "\n",
      "scontrol show job 13974842\n",
      "JobId=13974842 JobName=nf-cdnaAlignmentOrfToGenome\n",
      "   UserId=nxu(3122125) GroupId=shreejoy(6036412) MCS_label=N/A\n",
      "   Priority=2324467 Nice=0 Account=rrg-shreejoy QOS=normal\n",
      "   JobState=COMPLETING Reason=None Dependency=(null)\n",
      "   Requeue=0 Restarts=0 BatchFlag=1 Reboot=0 ExitCode=0:0\n",
      "   RunTime=00:09:58 TimeLimit=02:00:00 TimeMin=N/A\n",
      "   SubmitTime=2024-12-13T03:59:43 EligibleTime=2024-12-13T03:59:43\n",
      "   AccrueTime=2024-12-13T03:59:43\n",
      "   StartTime=2024-12-13T03:59:45 EndTime=2024-12-13T04:09:43 Deadline=N/A\n",
      "   SuspendTime=None SecsPreSuspend=0 LastSchedEval=2024-12-13T03:59:45 Scheduler=Main\n",
      "   Partition=compute AllocNode:Sid=nia-login05:182720\n",
      "   ReqNodeList=(null) ExcNodeList=(null)\n",
      "   NodeList=nia1340\n",
      "   BatchHost=nia1340\n",
      "   NumNodes=1 NumCPUs=80 NumTasks=1 CPUs/Task=40 ReqB:S:C:T=0:0:*:*\n",
      "   ReqTRES=cpu=40,mem=175000M,node=1,billing=20\n",
      "   AllocTRES=cpu=80,mem=175000M,node=1,billing=40\n",
      "   Socks/Node=* NtasksPerN:B:S:C=0:0:*:* CoreSpec=*\n",
      "   MinCPUsNode=40 MinMemoryNode=175000M MinTmpDiskNode=0\n",
      "   Features=[skylake|cascade] DelayBoot=00:00:00\n",
      "   OverSubscribe=NO Contiguous=0 Licenses=(null) Network=(null)\n",
      "   Command=.command.run\n",
      "   WorkDir=/gpfs/fs0/scratch/s/shreejoy/nxu/SFARI/work/d8/8eea1df17bff6a68d4805cd1a50cce\n",
      "   Comment=/opt/slurm/bin/sbatch .command.run \n",
      "   StdErr=/gpfs/fs0/scratch/s/shreejoy/nxu/SFARI/work/d8/8eea1df17bff6a68d4805cd1a50cce/.command.log\n",
      "   StdIn=/dev/null\n",
      "   StdOut=/gpfs/fs0/scratch/s/shreejoy/nxu/SFARI/work/d8/8eea1df17bff6a68d4805cd1a50cce/.command.log\n",
      "   TresPerTask=cpu=40\n",
      "   \n",
      "\n",
      "sacct -j 13974842\n",
      "JobID           JobName    Account    Elapsed  MaxVMSize     MaxRSS  SystemCPU    UserCPU ExitCode \n",
      "------------ ---------- ---------- ---------- ---------- ---------- ---------- ---------- -------- \n",
      "13974842     nf-cdnaAl+ rrg-shree+   00:09:58                        00:17.118  09:38.023      0:0 \n",
      "13974842.ba+      batch rrg-shree+   00:09:58  12327736K   9635656K  00:17.118  09:38.022      0:0 \n",
      "13974842.ex+     extern rrg-shree+   00:09:59    136828K      1040K   00:00:00   00:00:00      0:0 \n"
     ]
    }
   ],
   "source": [
    "!cat /scratch/s/shreejoy/nxu/SFARI/work/d8/8eea1df17bff6a68d4805cd1a50cce/.command.log"
   ]
  },
  {
   "cell_type": "code",
   "execution_count": 38,
   "metadata": {},
   "outputs": [
    {
     "data": {
      "text/html": [
       "<div><style>\n",
       ".dataframe > thead > tr,\n",
       ".dataframe > tbody > tr {\n",
       "  text-align: right;\n",
       "  white-space: pre-wrap;\n",
       "}\n",
       "</style>\n",
       "<small>shape: (180_238, 13)</small><table border=\"1\" class=\"dataframe\"><thead><tr><th>seqname</th><th>source</th><th>feature</th><th>start</th><th>end</th><th>score</th><th>strand</th><th>frame</th><th>attributes</th><th>ID</th><th>Parent</th><th>gene_id</th><th>transcript_id</th></tr><tr><td>str</td><td>str</td><td>str</td><td>i64</td><td>i64</td><td>str</td><td>str</td><td>str</td><td>str</td><td>str</td><td>str</td><td>str</td><td>str</td></tr></thead><tbody><tr><td>&quot;chr2&quot;</td><td>&quot;transdecoder&quot;</td><td>&quot;transcript&quot;</td><td>32165807</td><td>32221735</td><td>&quot;.&quot;</td><td>&quot;+&quot;</td><td>&quot;.&quot;</td><td>&quot;ID=PB.10002.1.p2;Parent=PB.100…</td><td>&quot;PB.10002.1&quot;</td><td>&quot;PB.10002&quot;</td><td>&quot;PB.10002&quot;</td><td>&quot;PB.10002.1&quot;</td></tr><tr><td>&quot;chr2&quot;</td><td>&quot;transdecoder&quot;</td><td>&quot;transcript&quot;</td><td>32416097</td><td>32524920</td><td>&quot;.&quot;</td><td>&quot;+&quot;</td><td>&quot;.&quot;</td><td>&quot;ID=PB.10002.1164.p1;Parent=PB.…</td><td>&quot;PB.10002.1164&quot;</td><td>&quot;PB.10002&quot;</td><td>&quot;PB.10002&quot;</td><td>&quot;PB.10002.1164&quot;</td></tr><tr><td>&quot;chr2&quot;</td><td>&quot;transdecoder&quot;</td><td>&quot;transcript&quot;</td><td>32165834</td><td>32222825</td><td>&quot;.&quot;</td><td>&quot;+&quot;</td><td>&quot;.&quot;</td><td>&quot;ID=PB.10002.12.p1;Parent=PB.10…</td><td>&quot;PB.10002.12&quot;</td><td>&quot;PB.10002&quot;</td><td>&quot;PB.10002&quot;</td><td>&quot;PB.10002.12&quot;</td></tr><tr><td>&quot;chr2&quot;</td><td>&quot;transdecoder&quot;</td><td>&quot;transcript&quot;</td><td>32436014</td><td>32476261</td><td>&quot;.&quot;</td><td>&quot;+&quot;</td><td>&quot;.&quot;</td><td>&quot;ID=PB.10002.1258.p1;Parent=PB.…</td><td>&quot;PB.10002.1258&quot;</td><td>&quot;PB.10002&quot;</td><td>&quot;PB.10002&quot;</td><td>&quot;PB.10002.1258&quot;</td></tr><tr><td>&quot;chr2&quot;</td><td>&quot;transdecoder&quot;</td><td>&quot;transcript&quot;</td><td>32453873</td><td>32524934</td><td>&quot;.&quot;</td><td>&quot;+&quot;</td><td>&quot;.&quot;</td><td>&quot;ID=PB.10002.1401.p1;Parent=PB.…</td><td>&quot;PB.10002.1401&quot;</td><td>&quot;PB.10002&quot;</td><td>&quot;PB.10002&quot;</td><td>&quot;PB.10002.1401&quot;</td></tr><tr><td>&hellip;</td><td>&hellip;</td><td>&hellip;</td><td>&hellip;</td><td>&hellip;</td><td>&hellip;</td><td>&hellip;</td><td>&hellip;</td><td>&hellip;</td><td>&hellip;</td><td>&hellip;</td><td>&hellip;</td><td>&hellip;</td></tr><tr><td>&quot;chr18&quot;</td><td>&quot;transdecoder&quot;</td><td>&quot;transcript&quot;</td><td>70289012</td><td>70327119</td><td>&quot;.&quot;</td><td>&quot;+&quot;</td><td>&quot;.&quot;</td><td>&quot;ID=PB.99951.20.p1;Parent=PB.99…</td><td>&quot;PB.99951.20&quot;</td><td>&quot;PB.99951&quot;</td><td>&quot;PB.99951&quot;</td><td>&quot;PB.99951.20&quot;</td></tr><tr><td>&quot;chr18&quot;</td><td>&quot;transdecoder&quot;</td><td>&quot;transcript&quot;</td><td>70288898</td><td>70327068</td><td>&quot;.&quot;</td><td>&quot;+&quot;</td><td>&quot;.&quot;</td><td>&quot;ID=PB.99951.4.p1;Parent=PB.999…</td><td>&quot;PB.99951.4&quot;</td><td>&quot;PB.99951&quot;</td><td>&quot;PB.99951&quot;</td><td>&quot;PB.99951.4&quot;</td></tr><tr><td>&quot;chr18&quot;</td><td>&quot;transdecoder&quot;</td><td>&quot;transcript&quot;</td><td>70289687</td><td>70327117</td><td>&quot;.&quot;</td><td>&quot;+&quot;</td><td>&quot;.&quot;</td><td>&quot;ID=PB.99951.43.p1;Parent=PB.99…</td><td>&quot;PB.99951.43&quot;</td><td>&quot;PB.99951&quot;</td><td>&quot;PB.99951&quot;</td><td>&quot;PB.99951.43&quot;</td></tr><tr><td>&quot;chr18&quot;</td><td>&quot;transdecoder&quot;</td><td>&quot;transcript&quot;</td><td>70288889</td><td>70330195</td><td>&quot;.&quot;</td><td>&quot;+&quot;</td><td>&quot;.&quot;</td><td>&quot;ID=PB.99951.6.p1;Parent=PB.999…</td><td>&quot;PB.99951.6&quot;</td><td>&quot;PB.99951&quot;</td><td>&quot;PB.99951&quot;</td><td>&quot;PB.99951.6&quot;</td></tr><tr><td>&quot;chr18&quot;</td><td>&quot;transdecoder&quot;</td><td>&quot;transcript&quot;</td><td>70288904</td><td>70327317</td><td>&quot;.&quot;</td><td>&quot;+&quot;</td><td>&quot;.&quot;</td><td>&quot;ID=PB.99951.7.p1;Parent=PB.999…</td><td>&quot;PB.99951.7&quot;</td><td>&quot;PB.99951&quot;</td><td>&quot;PB.99951&quot;</td><td>&quot;PB.99951.7&quot;</td></tr></tbody></table></div>"
      ],
      "text/plain": [
       "shape: (180_238, 13)\n",
       "┌─────────┬────────────┬────────────┬──────────┬───┬────────────┬──────────┬──────────┬────────────┐\n",
       "│ seqname ┆ source     ┆ feature    ┆ start    ┆ … ┆ ID         ┆ Parent   ┆ gene_id  ┆ transcript │\n",
       "│ ---     ┆ ---        ┆ ---        ┆ ---      ┆   ┆ ---        ┆ ---      ┆ ---      ┆ _id        │\n",
       "│ str     ┆ str        ┆ str        ┆ i64      ┆   ┆ str        ┆ str      ┆ str      ┆ ---        │\n",
       "│         ┆            ┆            ┆          ┆   ┆            ┆          ┆          ┆ str        │\n",
       "╞═════════╪════════════╪════════════╪══════════╪═══╪════════════╪══════════╪══════════╪════════════╡\n",
       "│ chr2    ┆ transdecod ┆ transcript ┆ 32165807 ┆ … ┆ PB.10002.1 ┆ PB.10002 ┆ PB.10002 ┆ PB.10002.1 │\n",
       "│         ┆ er         ┆            ┆          ┆   ┆            ┆          ┆          ┆            │\n",
       "│ chr2    ┆ transdecod ┆ transcript ┆ 32416097 ┆ … ┆ PB.10002.1 ┆ PB.10002 ┆ PB.10002 ┆ PB.10002.1 │\n",
       "│         ┆ er         ┆            ┆          ┆   ┆ 164        ┆          ┆          ┆ 164        │\n",
       "│ chr2    ┆ transdecod ┆ transcript ┆ 32165834 ┆ … ┆ PB.10002.1 ┆ PB.10002 ┆ PB.10002 ┆ PB.10002.1 │\n",
       "│         ┆ er         ┆            ┆          ┆   ┆ 2          ┆          ┆          ┆ 2          │\n",
       "│ chr2    ┆ transdecod ┆ transcript ┆ 32436014 ┆ … ┆ PB.10002.1 ┆ PB.10002 ┆ PB.10002 ┆ PB.10002.1 │\n",
       "│         ┆ er         ┆            ┆          ┆   ┆ 258        ┆          ┆          ┆ 258        │\n",
       "│ chr2    ┆ transdecod ┆ transcript ┆ 32453873 ┆ … ┆ PB.10002.1 ┆ PB.10002 ┆ PB.10002 ┆ PB.10002.1 │\n",
       "│         ┆ er         ┆            ┆          ┆   ┆ 401        ┆          ┆          ┆ 401        │\n",
       "│ …       ┆ …          ┆ …          ┆ …        ┆ … ┆ …          ┆ …        ┆ …        ┆ …          │\n",
       "│ chr18   ┆ transdecod ┆ transcript ┆ 70289012 ┆ … ┆ PB.99951.2 ┆ PB.99951 ┆ PB.99951 ┆ PB.99951.2 │\n",
       "│         ┆ er         ┆            ┆          ┆   ┆ 0          ┆          ┆          ┆ 0          │\n",
       "│ chr18   ┆ transdecod ┆ transcript ┆ 70288898 ┆ … ┆ PB.99951.4 ┆ PB.99951 ┆ PB.99951 ┆ PB.99951.4 │\n",
       "│         ┆ er         ┆            ┆          ┆   ┆            ┆          ┆          ┆            │\n",
       "│ chr18   ┆ transdecod ┆ transcript ┆ 70289687 ┆ … ┆ PB.99951.4 ┆ PB.99951 ┆ PB.99951 ┆ PB.99951.4 │\n",
       "│         ┆ er         ┆            ┆          ┆   ┆ 3          ┆          ┆          ┆ 3          │\n",
       "│ chr18   ┆ transdecod ┆ transcript ┆ 70288889 ┆ … ┆ PB.99951.6 ┆ PB.99951 ┆ PB.99951 ┆ PB.99951.6 │\n",
       "│         ┆ er         ┆            ┆          ┆   ┆            ┆          ┆          ┆            │\n",
       "│ chr18   ┆ transdecod ┆ transcript ┆ 70288904 ┆ … ┆ PB.99951.7 ┆ PB.99951 ┆ PB.99951 ┆ PB.99951.7 │\n",
       "│         ┆ er         ┆            ┆          ┆   ┆            ┆          ┆          ┆            │\n",
       "└─────────┴────────────┴────────────┴──────────┴───┴────────────┴──────────┴──────────┴────────────┘"
      ]
     },
     "execution_count": 38,
     "metadata": {},
     "output_type": "execute_result"
    }
   ],
   "source": [
    "TD_genome_gff3"
   ]
  },
  {
   "cell_type": "markdown",
   "metadata": {},
   "source": [
    "# Annotate lr_bulk"
   ]
  },
  {
   "cell_type": "code",
   "execution_count": 34,
   "metadata": {},
   "outputs": [],
   "source": [
    "lr_bulk.to_frame().write_parquet(\"export/pbid_count_matrix.parquet\")"
   ]
  },
  {
   "cell_type": "code",
   "execution_count": 40,
   "metadata": {},
   "outputs": [],
   "source": [
    "lr_bulk.var.write_csv(\"export/merged_collapsed_classification.filtered_lite_classification.txt\", separator=\"\\t\")"
   ]
  }
 ],
 "metadata": {
  "kernelspec": {
   "display_name": "Python 3 (ipykernel)",
   "language": "python",
   "name": "python3"
  },
  "language_info": {
   "codemirror_mode": {
    "name": "ipython",
    "version": 3
   },
   "file_extension": ".py",
   "mimetype": "text/x-python",
   "name": "python",
   "nbconvert_exporter": "python",
   "pygments_lexer": "ipython3",
   "version": "3.12.3"
  }
 },
 "nbformat": 4,
 "nbformat_minor": 2
}
