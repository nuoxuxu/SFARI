{
 "cells": [
  {
   "cell_type": "markdown",
   "metadata": {},
   "source": [
    "# Preparation"
   ]
  },
  {
   "cell_type": "markdown",
   "metadata": {},
   "source": [
    "## Load packages and data"
   ]
  },
  {
   "cell_type": "code",
   "execution_count": 1,
   "metadata": {},
   "outputs": [],
   "source": [
    "import polars as pl\n",
    "from src.utils import read_gtf, read_gff\n",
    "from src.single_cell import SingleCell"
   ]
  },
  {
   "cell_type": "code",
   "execution_count": 2,
   "metadata": {},
   "outputs": [],
   "source": [
    "lr_bulk = SingleCell(\"nextflow_results/pbid_orf.h5ad\")"
   ]
  },
  {
   "cell_type": "code",
   "execution_count": 3,
   "metadata": {},
   "outputs": [
    {
     "data": {
      "text/html": [
       "<div><style>\n",
       ".dataframe > thead > tr,\n",
       ".dataframe > tbody > tr {\n",
       "  text-align: right;\n",
       "  white-space: pre-wrap;\n",
       "}\n",
       "</style>\n",
       "<small>shape: (196_656, 54)</small><table border=\"1\" class=\"dataframe\"><thead><tr><th>isoform</th><th>chrom</th><th>strand</th><th>length</th><th>exons</th><th>structural_category</th><th>associated_gene</th><th>associated_transcript</th><th>ref_length</th><th>ref_exons</th><th>diff_to_TSS</th><th>diff_to_TTS</th><th>diff_to_gene_TSS</th><th>diff_to_gene_TTS</th><th>subcategory</th><th>RTS_stage</th><th>all_canonical</th><th>min_sample_cov</th><th>min_cov</th><th>min_cov_pos</th><th>sd_cov</th><th>FL</th><th>n_indels</th><th>n_indels_junc</th><th>bite</th><th>iso_exp</th><th>gene_exp</th><th>ratio_exp</th><th>FSM_class</th><th>coding</th><th>ORF_length</th><th>CDS_length</th><th>CDS_start</th><th>CDS_end</th><th>CDS_genomic_start</th><th>CDS_genomic_end</th><th>predicted_NMD</th><th>perc_A_downstream_TTS</th><th>seq_A_downstream_TTS</th><th>dist_to_CAGE_peak</th><th>within_CAGE_peak</th><th>dist_to_polyA_site</th><th>within_polyA_site</th><th>polyA_motif</th><th>polyA_dist</th><th>polyA_motif_found</th><th>ORF_seq</th><th>ratio_TSS</th><th>fl_assoc</th><th>cell_barcodes</th><th>at_least_one_orf</th><th>predicted_orf</th><th>ORF_type</th><th>base_isoform</th></tr><tr><td>str</td><td>enum</td><td>enum</td><td>i64</td><td>i64</td><td>enum</td><td>enum</td><td>enum</td><td>i64</td><td>i64</td><td>i64</td><td>i64</td><td>i64</td><td>i64</td><td>enum</td><td>enum</td><td>enum</td><td>enum</td><td>enum</td><td>enum</td><td>enum</td><td>enum</td><td>enum</td><td>enum</td><td>bool</td><td>enum</td><td>enum</td><td>enum</td><td>enum</td><td>enum</td><td>enum</td><td>enum</td><td>enum</td><td>enum</td><td>i64</td><td>i64</td><td>enum</td><td>f64</td><td>enum</td><td>enum</td><td>enum</td><td>enum</td><td>enum</td><td>enum</td><td>enum</td><td>enum</td><td>enum</td><td>enum</td><td>enum</td><td>enum</td><td>bool</td><td>bool</td><td>enum</td><td>enum</td></tr></thead><tbody><tr><td>&quot;PB.4.1&quot;</td><td>&quot;chr1&quot;</td><td>&quot;+&quot;</td><td>2418</td><td>2</td><td>&quot;full-splice_match&quot;</td><td>&quot;LINC01409&quot;</td><td>&quot;ENST00000457084.1&quot;</td><td>566</td><td>2</td><td>-6</td><td>-1846</td><td>6</td><td>-392</td><td>&quot;alternative_3end&quot;</td><td>&quot;FALSE&quot;</td><td>&quot;canonical&quot;</td><td>null</td><td>null</td><td>null</td><td>null</td><td>null</td><td>null</td><td>null</td><td>false</td><td>null</td><td>null</td><td>null</td><td>&quot;C&quot;</td><td>&quot;non_coding&quot;</td><td>null</td><td>null</td><td>null</td><td>null</td><td>null</td><td>null</td><td>null</td><td>40.0</td><td>&quot;ATTTTGTGTTTAAATATAAA&quot;</td><td>null</td><td>null</td><td>null</td><td>null</td><td>null</td><td>null</td><td>null</td><td>null</td><td>null</td><td>null</td><td>null</td><td>false</td><td>false</td><td>null</td><td>null</td></tr><tr><td>&quot;PB.4.33&quot;</td><td>&quot;chr1&quot;</td><td>&quot;+&quot;</td><td>2863</td><td>1</td><td>&quot;full-splice_match&quot;</td><td>&quot;LINC01409&quot;</td><td>&quot;ENST00000591702.1&quot;</td><td>1873</td><td>1</td><td>-989</td><td>-1</td><td>415</td><td>1</td><td>&quot;mono-exon&quot;</td><td>&quot;????&quot;</td><td>null</td><td>null</td><td>null</td><td>null</td><td>null</td><td>null</td><td>null</td><td>null</td><td>null</td><td>null</td><td>null</td><td>null</td><td>&quot;C&quot;</td><td>&quot;non_coding&quot;</td><td>null</td><td>null</td><td>null</td><td>null</td><td>786025</td><td>786532</td><td>null</td><td>25.0</td><td>&quot;CACAAAGCCTGTTGGTGGAC&quot;</td><td>null</td><td>null</td><td>null</td><td>null</td><td>null</td><td>null</td><td>null</td><td>null</td><td>null</td><td>null</td><td>null</td><td>true</td><td>true</td><td>&quot;complete&quot;</td><td>&quot;PB.4.33&quot;</td></tr><tr><td>&quot;PB.5.30&quot;</td><td>&quot;chr1&quot;</td><td>&quot;+&quot;</td><td>3494</td><td>3</td><td>&quot;full-splice_match&quot;</td><td>&quot;LINC01128&quot;</td><td>&quot;ENST00000669922.1&quot;</td><td>5441</td><td>3</td><td>-51</td><td>1998</td><td>-46</td><td>773</td><td>&quot;alternative_3end5end&quot;</td><td>&quot;FALSE&quot;</td><td>&quot;canonical&quot;</td><td>null</td><td>null</td><td>null</td><td>null</td><td>null</td><td>null</td><td>null</td><td>false</td><td>null</td><td>null</td><td>null</td><td>&quot;C&quot;</td><td>&quot;non_coding&quot;</td><td>null</td><td>null</td><td>null</td><td>null</td><td>841885</td><td>842254</td><td>null</td><td>25.0</td><td>&quot;TAAACTGGTTCAGTCTGATT&quot;</td><td>null</td><td>null</td><td>null</td><td>null</td><td>null</td><td>null</td><td>null</td><td>null</td><td>null</td><td>null</td><td>null</td><td>true</td><td>true</td><td>&quot;complete&quot;</td><td>&quot;PB.5.30&quot;</td></tr><tr><td>&quot;PB.5.37&quot;</td><td>&quot;chr1&quot;</td><td>&quot;+&quot;</td><td>2100</td><td>4</td><td>&quot;full-splice_match&quot;</td><td>&quot;LINC01128&quot;</td><td>&quot;ENST00000610067.7&quot;</td><td>2065</td><td>4</td><td>-41</td><td>6</td><td>-31</td><td>-6</td><td>&quot;reference_match&quot;</td><td>&quot;FALSE&quot;</td><td>&quot;canonical&quot;</td><td>null</td><td>null</td><td>null</td><td>null</td><td>null</td><td>null</td><td>null</td><td>false</td><td>null</td><td>null</td><td>null</td><td>&quot;C&quot;</td><td>&quot;non_coding&quot;</td><td>null</td><td>null</td><td>null</td><td>null</td><td>null</td><td>null</td><td>null</td><td>25.0</td><td>&quot;TCTTTATAGCAGCATGATTT&quot;</td><td>null</td><td>null</td><td>null</td><td>null</td><td>null</td><td>null</td><td>null</td><td>null</td><td>null</td><td>null</td><td>null</td><td>false</td><td>false</td><td>null</td><td>null</td></tr><tr><td>&quot;PB.5.47&quot;</td><td>&quot;chr1&quot;</td><td>&quot;+&quot;</td><td>2675</td><td>3</td><td>&quot;full-splice_match&quot;</td><td>&quot;LINC01128&quot;</td><td>&quot;ENST00000669922.1&quot;</td><td>5441</td><td>3</td><td>-5</td><td>2771</td><td>0</td><td>0</td><td>&quot;alternative_3end&quot;</td><td>&quot;FALSE&quot;</td><td>&quot;canonical&quot;</td><td>null</td><td>null</td><td>null</td><td>null</td><td>null</td><td>null</td><td>null</td><td>false</td><td>null</td><td>null</td><td>null</td><td>&quot;C&quot;</td><td>&quot;non_coding&quot;</td><td>null</td><td>null</td><td>null</td><td>null</td><td>841885</td><td>842254</td><td>null</td><td>30.0</td><td>&quot;TAGTTACCTACTCACTCGAA&quot;</td><td>null</td><td>null</td><td>null</td><td>null</td><td>null</td><td>null</td><td>null</td><td>null</td><td>null</td><td>null</td><td>null</td><td>true</td><td>true</td><td>&quot;complete&quot;</td><td>&quot;PB.5.30&quot;</td></tr><tr><td>&hellip;</td><td>&hellip;</td><td>&hellip;</td><td>&hellip;</td><td>&hellip;</td><td>&hellip;</td><td>&hellip;</td><td>&hellip;</td><td>&hellip;</td><td>&hellip;</td><td>&hellip;</td><td>&hellip;</td><td>&hellip;</td><td>&hellip;</td><td>&hellip;</td><td>&hellip;</td><td>&hellip;</td><td>&hellip;</td><td>&hellip;</td><td>&hellip;</td><td>&hellip;</td><td>&hellip;</td><td>&hellip;</td><td>&hellip;</td><td>&hellip;</td><td>&hellip;</td><td>&hellip;</td><td>&hellip;</td><td>&hellip;</td><td>&hellip;</td><td>&hellip;</td><td>&hellip;</td><td>&hellip;</td><td>&hellip;</td><td>&hellip;</td><td>&hellip;</td><td>&hellip;</td><td>&hellip;</td><td>&hellip;</td><td>&hellip;</td><td>&hellip;</td><td>&hellip;</td><td>&hellip;</td><td>&hellip;</td><td>&hellip;</td><td>&hellip;</td><td>&hellip;</td><td>&hellip;</td><td>&hellip;</td><td>&hellip;</td><td>&hellip;</td><td>&hellip;</td><td>&hellip;</td><td>&hellip;</td></tr><tr><td>&quot;PB.112873.21&quot;</td><td>&quot;chrY&quot;</td><td>&quot;+&quot;</td><td>2324</td><td>11</td><td>&quot;fusion&quot;</td><td>&quot;ANKRD36P1_TPTE2P4&quot;</td><td>&quot;novel&quot;</td><td>659</td><td>5</td><td>null</td><td>null</td><td>-666</td><td>-51700</td><td>&quot;multi-exon&quot;</td><td>&quot;FALSE&quot;</td><td>&quot;canonical&quot;</td><td>null</td><td>null</td><td>null</td><td>null</td><td>null</td><td>null</td><td>null</td><td>true</td><td>null</td><td>null</td><td>null</td><td>&quot;B&quot;</td><td>&quot;non_coding&quot;</td><td>null</td><td>null</td><td>null</td><td>null</td><td>26477957</td><td>26526541</td><td>null</td><td>25.0</td><td>&quot;AATTTACTTTGTCTTAAGGT&quot;</td><td>null</td><td>null</td><td>null</td><td>null</td><td>null</td><td>null</td><td>null</td><td>null</td><td>null</td><td>null</td><td>null</td><td>true</td><td>true</td><td>&quot;complete&quot;</td><td>&quot;PB.112873.21&quot;</td></tr><tr><td>&quot;PB.112873.43&quot;</td><td>&quot;chrY&quot;</td><td>&quot;+&quot;</td><td>1346</td><td>9</td><td>&quot;fusion&quot;</td><td>&quot;ANKRD36P1_TPTE2P4&quot;</td><td>&quot;novel&quot;</td><td>659</td><td>5</td><td>null</td><td>null</td><td>-662</td><td>-50610</td><td>&quot;multi-exon&quot;</td><td>&quot;FALSE&quot;</td><td>&quot;canonical&quot;</td><td>null</td><td>null</td><td>null</td><td>null</td><td>null</td><td>null</td><td>null</td><td>true</td><td>null</td><td>null</td><td>null</td><td>&quot;B&quot;</td><td>&quot;non_coding&quot;</td><td>null</td><td>null</td><td>null</td><td>null</td><td>26409914</td><td>26528528</td><td>null</td><td>55.0</td><td>&quot;AAAGATAAGAAATGCAACCT&quot;</td><td>null</td><td>null</td><td>null</td><td>null</td><td>null</td><td>null</td><td>null</td><td>null</td><td>null</td><td>null</td><td>null</td><td>true</td><td>true</td><td>&quot;complete&quot;</td><td>&quot;PB.112873.43&quot;</td></tr><tr><td>&quot;PB.112873.86&quot;</td><td>&quot;chrY&quot;</td><td>&quot;+&quot;</td><td>5008</td><td>12</td><td>&quot;fusion&quot;</td><td>&quot;ANKRD36P1_TPTE2P4&quot;</td><td>&quot;novel&quot;</td><td>659</td><td>5</td><td>null</td><td>null</td><td>-641</td><td>-28572</td><td>&quot;multi-exon&quot;</td><td>&quot;FALSE&quot;</td><td>&quot;canonical&quot;</td><td>null</td><td>null</td><td>null</td><td>null</td><td>null</td><td>null</td><td>null</td><td>true</td><td>null</td><td>null</td><td>null</td><td>&quot;B&quot;</td><td>&quot;non_coding&quot;</td><td>null</td><td>null</td><td>null</td><td>null</td><td>26409914</td><td>26547216</td><td>null</td><td>10.0</td><td>&quot;TATAGGTCTGTTTCTGGGCT&quot;</td><td>null</td><td>null</td><td>null</td><td>null</td><td>null</td><td>null</td><td>null</td><td>null</td><td>null</td><td>null</td><td>null</td><td>true</td><td>true</td><td>&quot;complete&quot;</td><td>&quot;PB.112873.86&quot;</td></tr><tr><td>&quot;PB.112873.116&quot;</td><td>&quot;chrY&quot;</td><td>&quot;+&quot;</td><td>2139</td><td>9</td><td>&quot;fusion&quot;</td><td>&quot;ANKRD36P1_TPTE2P4&quot;</td><td>&quot;novel&quot;</td><td>659</td><td>5</td><td>null</td><td>null</td><td>-636</td><td>-51697</td><td>&quot;multi-exon&quot;</td><td>&quot;FALSE&quot;</td><td>&quot;canonical&quot;</td><td>null</td><td>null</td><td>null</td><td>null</td><td>null</td><td>null</td><td>null</td><td>true</td><td>null</td><td>null</td><td>null</td><td>&quot;B&quot;</td><td>&quot;non_coding&quot;</td><td>null</td><td>null</td><td>null</td><td>null</td><td>26409914</td><td>26526541</td><td>null</td><td>25.0</td><td>&quot;TTACTTTGTCTTAAGGTATA&quot;</td><td>null</td><td>null</td><td>null</td><td>null</td><td>null</td><td>null</td><td>null</td><td>null</td><td>null</td><td>null</td><td>null</td><td>true</td><td>true</td><td>&quot;complete&quot;</td><td>&quot;PB.112873.116&quot;</td></tr><tr><td>&quot;PB.112873.169&quot;</td><td>&quot;chrY&quot;</td><td>&quot;+&quot;</td><td>2070</td><td>9</td><td>&quot;fusion&quot;</td><td>&quot;ANKRD36P1_TPTE2P4&quot;</td><td>&quot;novel&quot;</td><td>659</td><td>5</td><td>null</td><td>null</td><td>-636</td><td>-61550</td><td>&quot;multi-exon&quot;</td><td>&quot;FALSE&quot;</td><td>&quot;canonical&quot;</td><td>null</td><td>null</td><td>null</td><td>null</td><td>null</td><td>null</td><td>null</td><td>true</td><td>null</td><td>null</td><td>null</td><td>&quot;B&quot;</td><td>&quot;non_coding&quot;</td><td>null</td><td>null</td><td>null</td><td>null</td><td>26409914</td><td>26516742</td><td>null</td><td>45.0</td><td>&quot;AAATAACTGATTAATGTCCA&quot;</td><td>null</td><td>null</td><td>null</td><td>null</td><td>null</td><td>null</td><td>null</td><td>null</td><td>null</td><td>null</td><td>null</td><td>true</td><td>true</td><td>&quot;complete&quot;</td><td>&quot;PB.112873.169&quot;</td></tr></tbody></table></div>"
      ],
      "text/plain": [
       "shape: (196_656, 54)\n",
       "┌──────────────┬───────┬────────┬────────┬───┬──────────────┬─────────────┬──────────┬─────────────┐\n",
       "│ isoform      ┆ chrom ┆ strand ┆ length ┆ … ┆ at_least_one ┆ predicted_o ┆ ORF_type ┆ base_isofor │\n",
       "│ ---          ┆ ---   ┆ ---    ┆ ---    ┆   ┆ _orf         ┆ rf          ┆ ---      ┆ m           │\n",
       "│ str          ┆ enum  ┆ enum   ┆ i64    ┆   ┆ ---          ┆ ---         ┆ enum     ┆ ---         │\n",
       "│              ┆       ┆        ┆        ┆   ┆ bool         ┆ bool        ┆          ┆ enum        │\n",
       "╞══════════════╪═══════╪════════╪════════╪═══╪══════════════╪═════════════╪══════════╪═════════════╡\n",
       "│ PB.4.1       ┆ chr1  ┆ +      ┆ 2418   ┆ … ┆ false        ┆ false       ┆ null     ┆ null        │\n",
       "│ PB.4.33      ┆ chr1  ┆ +      ┆ 2863   ┆ … ┆ true         ┆ true        ┆ complete ┆ PB.4.33     │\n",
       "│ PB.5.30      ┆ chr1  ┆ +      ┆ 3494   ┆ … ┆ true         ┆ true        ┆ complete ┆ PB.5.30     │\n",
       "│ PB.5.37      ┆ chr1  ┆ +      ┆ 2100   ┆ … ┆ false        ┆ false       ┆ null     ┆ null        │\n",
       "│ PB.5.47      ┆ chr1  ┆ +      ┆ 2675   ┆ … ┆ true         ┆ true        ┆ complete ┆ PB.5.30     │\n",
       "│ …            ┆ …     ┆ …      ┆ …      ┆ … ┆ …            ┆ …           ┆ …        ┆ …           │\n",
       "│ PB.112873.21 ┆ chrY  ┆ +      ┆ 2324   ┆ … ┆ true         ┆ true        ┆ complete ┆ PB.112873.2 │\n",
       "│              ┆       ┆        ┆        ┆   ┆              ┆             ┆          ┆ 1           │\n",
       "│ PB.112873.43 ┆ chrY  ┆ +      ┆ 1346   ┆ … ┆ true         ┆ true        ┆ complete ┆ PB.112873.4 │\n",
       "│              ┆       ┆        ┆        ┆   ┆              ┆             ┆          ┆ 3           │\n",
       "│ PB.112873.86 ┆ chrY  ┆ +      ┆ 5008   ┆ … ┆ true         ┆ true        ┆ complete ┆ PB.112873.8 │\n",
       "│              ┆       ┆        ┆        ┆   ┆              ┆             ┆          ┆ 6           │\n",
       "│ PB.112873.11 ┆ chrY  ┆ +      ┆ 2139   ┆ … ┆ true         ┆ true        ┆ complete ┆ PB.112873.1 │\n",
       "│ 6            ┆       ┆        ┆        ┆   ┆              ┆             ┆          ┆ 16          │\n",
       "│ PB.112873.16 ┆ chrY  ┆ +      ┆ 2070   ┆ … ┆ true         ┆ true        ┆ complete ┆ PB.112873.1 │\n",
       "│ 9            ┆       ┆        ┆        ┆   ┆              ┆             ┆          ┆ 69          │\n",
       "└──────────────┴───────┴────────┴────────┴───┴──────────────┴─────────────┴──────────┴─────────────┘"
      ]
     },
     "execution_count": 3,
     "metadata": {},
     "output_type": "execute_result"
    }
   ],
   "source": [
    "lr_bulk.var"
   ]
  },
  {
   "cell_type": "markdown",
   "metadata": {},
   "source": [
    "## Define functions"
   ]
  },
  {
   "cell_type": "markdown",
   "metadata": {},
   "source": [
    "# Start here"
   ]
  },
  {
   "cell_type": "markdown",
   "metadata": {},
   "source": [
    "## Annotate lr_bulk with peptide support"
   ]
  },
  {
   "cell_type": "code",
   "execution_count": 4,
   "metadata": {},
   "outputs": [],
   "source": [
    "percolator_res = pl.read_csv(\"nextflow_results/percolator.tsv\", has_header=True, separator=\"\\t\")"
   ]
  },
  {
   "cell_type": "code",
   "execution_count": 8,
   "metadata": {},
   "outputs": [],
   "source": [
    "percolator_res = percolator_res\\\n",
    "    .with_columns(\n",
    "       proteinIds = pl.col(\"proteinIds\").map_elements(lambda s: s.split(\",\"), return_dtype=pl.List(pl.String))\n",
    "   )\\\n",
    "   .explode(\"proteinIds\")\\\n",
    "   .filter(\n",
    "        pl.col(\"q-value\") < 0.05\n",
    "    )"
   ]
  },
  {
   "cell_type": "code",
   "execution_count": 10,
   "metadata": {},
   "outputs": [
    {
     "data": {
      "text/html": [
       "<div><style>\n",
       ".dataframe > thead > tr,\n",
       ".dataframe > tbody > tr {\n",
       "  text-align: right;\n",
       "  white-space: pre-wrap;\n",
       "}\n",
       "</style>\n",
       "<small>shape: (668_824, 6)</small><table border=\"1\" class=\"dataframe\"><thead><tr><th>PSMId</th><th>score</th><th>q-value</th><th>posterior_error_prob</th><th>peptide</th><th>proteinIds</th></tr><tr><td>str</td><td>f64</td><td>f64</td><td>f64</td><td>str</td><td>str</td></tr></thead><tbody><tr><td>&quot;file7_4078_3_1&quot;</td><td>2.12649</td><td>0.000056</td><td>1.9562e-13</td><td>&quot;R.QHGEQLGGGGSGGGGYNNSK.H&quot;</td><td>&quot;PB.1039.1336&quot;</td></tr><tr><td>&quot;file7_4078_3_1&quot;</td><td>2.12649</td><td>0.000056</td><td>1.9562e-13</td><td>&quot;R.QHGEQLGGGGSGGGGYNNSK.H&quot;</td><td>&quot;PB.1039.287&quot;</td></tr><tr><td>&quot;file7_4078_3_1&quot;</td><td>2.12649</td><td>0.000056</td><td>1.9562e-13</td><td>&quot;R.QHGEQLGGGGSGGGGYNNSK.H&quot;</td><td>&quot;PB.1039.293&quot;</td></tr><tr><td>&quot;file7_4078_3_1&quot;</td><td>2.12649</td><td>0.000056</td><td>1.9562e-13</td><td>&quot;R.QHGEQLGGGGSGGGGYNNSK.H&quot;</td><td>&quot;PB.1039.295&quot;</td></tr><tr><td>&quot;file7_4078_3_1&quot;</td><td>2.12649</td><td>0.000056</td><td>1.9562e-13</td><td>&quot;R.QHGEQLGGGGSGGGGYNNSK.H&quot;</td><td>&quot;PB.1039.296&quot;</td></tr><tr><td>&hellip;</td><td>&hellip;</td><td>&hellip;</td><td>&hellip;</td><td>&hellip;</td><td>&hellip;</td></tr><tr><td>&quot;file1_34096_2_3&quot;</td><td>-0.109295</td><td>0.0499947</td><td>0.514237</td><td>&quot;K.ELNILK.S&quot;</td><td>&quot;ENSP00000496653.1|ENST00000645…</td></tr><tr><td>&quot;file1_34096_2_3&quot;</td><td>-0.109295</td><td>0.0499947</td><td>0.514237</td><td>&quot;K.ELNILK.S&quot;</td><td>&quot;ENSP00000494610.1|ENST00000646…</td></tr><tr><td>&quot;file1_34096_2_3&quot;</td><td>-0.109295</td><td>0.0499947</td><td>0.514237</td><td>&quot;K.ELNILK.S&quot;</td><td>&quot;ENSP00000292538.4|ENST00000292…</td></tr><tr><td>&quot;file1_34096_2_3&quot;</td><td>-0.109295</td><td>0.0499947</td><td>0.514237</td><td>&quot;K.ELNILK.S&quot;</td><td>&quot;ENSP00000484760.2|ENST00000622…</td></tr><tr><td>&quot;file1_34096_2_3&quot;</td><td>-0.109295</td><td>0.0499947</td><td>0.514237</td><td>&quot;K.ELNILK.S&quot;</td><td>&quot;ENSP00000377410.3|ENST00000393…</td></tr></tbody></table></div>"
      ],
      "text/plain": [
       "shape: (668_824, 6)\n",
       "┌─────────────────┬───────────┬───────────┬──────────────────┬──────────────────┬──────────────────┐\n",
       "│ PSMId           ┆ score     ┆ q-value   ┆ posterior_error_ ┆ peptide          ┆ proteinIds       │\n",
       "│ ---             ┆ ---       ┆ ---       ┆ prob             ┆ ---              ┆ ---              │\n",
       "│ str             ┆ f64       ┆ f64       ┆ ---              ┆ str              ┆ str              │\n",
       "│                 ┆           ┆           ┆ f64              ┆                  ┆                  │\n",
       "╞═════════════════╪═══════════╪═══════════╪══════════════════╪══════════════════╪══════════════════╡\n",
       "│ file7_4078_3_1  ┆ 2.12649   ┆ 0.000056  ┆ 1.9562e-13       ┆ R.QHGEQLGGGGSGGG ┆ PB.1039.1336     │\n",
       "│                 ┆           ┆           ┆                  ┆ GYNNSK.H         ┆                  │\n",
       "│ file7_4078_3_1  ┆ 2.12649   ┆ 0.000056  ┆ 1.9562e-13       ┆ R.QHGEQLGGGGSGGG ┆ PB.1039.287      │\n",
       "│                 ┆           ┆           ┆                  ┆ GYNNSK.H         ┆                  │\n",
       "│ file7_4078_3_1  ┆ 2.12649   ┆ 0.000056  ┆ 1.9562e-13       ┆ R.QHGEQLGGGGSGGG ┆ PB.1039.293      │\n",
       "│                 ┆           ┆           ┆                  ┆ GYNNSK.H         ┆                  │\n",
       "│ file7_4078_3_1  ┆ 2.12649   ┆ 0.000056  ┆ 1.9562e-13       ┆ R.QHGEQLGGGGSGGG ┆ PB.1039.295      │\n",
       "│                 ┆           ┆           ┆                  ┆ GYNNSK.H         ┆                  │\n",
       "│ file7_4078_3_1  ┆ 2.12649   ┆ 0.000056  ┆ 1.9562e-13       ┆ R.QHGEQLGGGGSGGG ┆ PB.1039.296      │\n",
       "│                 ┆           ┆           ┆                  ┆ GYNNSK.H         ┆                  │\n",
       "│ …               ┆ …         ┆ …         ┆ …                ┆ …                ┆ …                │\n",
       "│ file1_34096_2_3 ┆ -0.109295 ┆ 0.0499947 ┆ 0.514237         ┆ K.ELNILK.S       ┆ ENSP00000496653. │\n",
       "│                 ┆           ┆           ┆                  ┆                  ┆ 1|ENST00000645…  │\n",
       "│ file1_34096_2_3 ┆ -0.109295 ┆ 0.0499947 ┆ 0.514237         ┆ K.ELNILK.S       ┆ ENSP00000494610. │\n",
       "│                 ┆           ┆           ┆                  ┆                  ┆ 1|ENST00000646…  │\n",
       "│ file1_34096_2_3 ┆ -0.109295 ┆ 0.0499947 ┆ 0.514237         ┆ K.ELNILK.S       ┆ ENSP00000292538. │\n",
       "│                 ┆           ┆           ┆                  ┆                  ┆ 4|ENST00000292…  │\n",
       "│ file1_34096_2_3 ┆ -0.109295 ┆ 0.0499947 ┆ 0.514237         ┆ K.ELNILK.S       ┆ ENSP00000484760. │\n",
       "│                 ┆           ┆           ┆                  ┆                  ┆ 2|ENST00000622…  │\n",
       "│ file1_34096_2_3 ┆ -0.109295 ┆ 0.0499947 ┆ 0.514237         ┆ K.ELNILK.S       ┆ ENSP00000377410. │\n",
       "│                 ┆           ┆           ┆                  ┆                  ┆ 3|ENST00000393…  │\n",
       "└─────────────────┴───────────┴───────────┴──────────────────┴──────────────────┴──────────────────┘"
      ]
     },
     "execution_count": 10,
     "metadata": {},
     "output_type": "execute_result"
    }
   ],
   "source": [
    "percolator_res"
   ]
  },
  {
   "cell_type": "code",
   "execution_count": 15,
   "metadata": {},
   "outputs": [
    {
     "name": "stderr",
     "output_type": "stream",
     "text": [
      "/tmp/ipykernel_91289/3302576709.py:5: MapWithoutReturnDtypeWarning: Calling `map_elements` without specifying `return_dtype` can lead to unpredictable results. Specify `return_dtype` to silence this warning.\n",
      "  .with_columns(\n"
     ]
    }
   ],
   "source": [
    "ENST = percolator_res\\\n",
    "    .filter(\n",
    "        pl.col(\"proteinIds\").str.starts_with(\"ENSP\")\n",
    "    )\\\n",
    "    .with_columns(\n",
    "        proteinIds = pl.col(\"proteinIds\").str.split(\"|\").map_elements(lambda x: x[1])\n",
    "    )\n",
    "PB_ID = percolator_res\\\n",
    "    .filter(\n",
    "        pl.col(\"proteinIds\").str.starts_with(\"PB\")\n",
    "    )\n",
    "\n",
    "percolator_res = pl.concat([ENST, PB_ID], how=\"vertical\")"
   ]
  },
  {
   "cell_type": "code",
   "execution_count": 16,
   "metadata": {},
   "outputs": [],
   "source": [
    "PSMId_mapped_to_novel_transcripts_uniquely = percolator_res\\\n",
    "    .with_columns(\n",
    "        is_known = pl.col(\"proteinIds\").str.starts_with(\"ENST\")\n",
    "    )\\\n",
    "    .group_by(\"PSMId\")\\\n",
    "    .agg(\n",
    "        pl.col(\"is_known\").sum()\n",
    "    )\\\n",
    "    .filter(\n",
    "        pl.col(\"is_known\")==0\n",
    "    )\\\n",
    "    .select(\"PSMId\")"
   ]
  },
  {
   "cell_type": "code",
   "execution_count": 17,
   "metadata": {},
   "outputs": [],
   "source": [
    "validated_pbids = percolator_res\\\n",
    "    .filter(\n",
    "        pl.col(\"PSMId\").is_in(PSMId_mapped_to_novel_transcripts_uniquely)\n",
    "    )\\\n",
    "    .select(\"proteinIds\").unique()"
   ]
  },
  {
   "cell_type": "code",
   "execution_count": 18,
   "metadata": {},
   "outputs": [],
   "source": [
    "lr_bulk.var = lr_bulk.var\\\n",
    "    .with_columns(\n",
    "        in_any_PSMs = pl.col(\"associated_transcript\").is_in(percolator_res[\"proteinIds\"].unique()) | pl.col(\"isoform\").is_in(percolator_res[\"proteinIds\"].unique()),\n",
    "        in_novel_only_PSMs = pl.col(\"isoform\").is_in(validated_pbids)\n",
    "    )\\\n",
    "    .with_columns(\n",
    "        validated_proteomics = pl.when(pl.col(\"structural_category\").is_in([\"novel_not_in_catalog\", \"novel_in_catalog\"]))\\\n",
    "            .then(pl.col(\"in_novel_only_PSMs\")).otherwise(pl.col(\"in_any_PSMs\"))\n",
    "    )\n"
   ]
  },
  {
   "cell_type": "markdown",
   "metadata": {},
   "source": [
    "## GenomeKit"
   ]
  },
  {
   "cell_type": "code",
   "execution_count": 4,
   "metadata": {},
   "outputs": [],
   "source": [
    "genome = gk.Genome(\"SFARI\")"
   ]
  },
  {
   "cell_type": "code",
   "execution_count": 10,
   "metadata": {},
   "outputs": [
    {
     "name": "stderr",
     "output_type": "stream",
     "text": [
      "/tmp/ipykernel_125142/3978943237.py:11: MapWithoutReturnDtypeWarning: Calling `map_elements` without specifying `return_dtype` can lead to unpredictable results. Specify `return_dtype` to silence this warning.\n",
      "  .with_columns(\n",
      "/tmp/ipykernel_125142/3978943237.py:1: MapWithoutReturnDtypeWarning: Calling `map_elements` without specifying `return_dtype` can lead to unpredictable results. Specify `return_dtype` to silence this warning.\n",
      "  base_isoform = lr_bulk.var\\\n"
     ]
    }
   ],
   "source": [
    "base_isoform = lr_bulk.var\\\n",
    "    .filter(\n",
    "        pl.col(\"base_isoform\").is_null().not_(),\n",
    "        pl.col(\"ORF_type\")==\"complete\"\n",
    "        )\\\n",
    "    .group_by(\"base_isoform\")\\\n",
    "    .agg(\n",
    "        pl.col(\"isoform\"),\n",
    "        pl.col(\"structural_category\")\n",
    "    )\\\n",
    "    .with_columns(\n",
    "        pl.col(\"structural_category\").map_elements(lambda x: x.unique())\n",
    "    )\\\n",
    "    .with_columns(\n",
    "        n_structural_category = pl.col(\"structural_category\").map_elements(lambda x : len(x))\n",
    "    )\\\n",
    "    .rename({\"structural_category\": \"structural_category_list\"})"
   ]
  },
  {
   "cell_type": "code",
   "execution_count": 29,
   "metadata": {},
   "outputs": [
    {
     "name": "stderr",
     "output_type": "stream",
     "text": [
      "/tmp/ipykernel_125142/4065386927.py:1: MapWithoutReturnDtypeWarning: Calling `map_elements` without specifying `return_dtype` can lead to unpredictable results. Specify `return_dtype` to silence this warning.\n",
      "  base_isoform.filter(pl.col(\"isoform\").map_elements(lambda x :len(x)>1)).shape[0]\n"
     ]
    },
    {
     "data": {
      "text/plain": [
       "25007"
      ]
     },
     "execution_count": 29,
     "metadata": {},
     "output_type": "execute_result"
    }
   ],
   "source": [
    "base_isoform.filter(pl.col(\"isoform\").map_elements(lambda x :len(x)>1)).shape[0]"
   ]
  },
  {
   "cell_type": "code",
   "execution_count": 28,
   "metadata": {},
   "outputs": [
    {
     "name": "stderr",
     "output_type": "stream",
     "text": [
      "/tmp/ipykernel_125142/343316249.py:2: MapWithoutReturnDtypeWarning: Calling `map_elements` without specifying `return_dtype` can lead to unpredictable results. Specify `return_dtype` to silence this warning.\n",
      "  .filter(\n",
      "/tmp/ipykernel_125142/343316249.py:8: MapWithoutReturnDtypeWarning: Calling `map_elements` without specifying `return_dtype` can lead to unpredictable results. Specify `return_dtype` to silence this warning.\n",
      "  percentage = (pl.col(\"len\") / base_isoform.filter(pl.col(\"isoform\").map_elements(lambda x :len(x)>1)).shape[0]) * 100\n"
     ]
    },
    {
     "data": {
      "text/html": [
       "<div><style>\n",
       ".dataframe > thead > tr,\n",
       ".dataframe > tbody > tr {\n",
       "  text-align: right;\n",
       "  white-space: pre-wrap;\n",
       "}\n",
       "</style>\n",
       "<small>shape: (5, 3)</small><table border=\"1\" class=\"dataframe\"><thead><tr><th>n_structural_category</th><th>len</th><th>percentage</th></tr><tr><td>i64</td><td>u32</td><td>f64</td></tr></thead><tbody><tr><td>4</td><td>345</td><td>1.379614</td></tr><tr><td>5</td><td>21</td><td>0.083976</td></tr><tr><td>3</td><td>2092</td><td>8.365658</td></tr><tr><td>1</td><td>14776</td><td>59.087456</td></tr><tr><td>2</td><td>7773</td><td>31.083297</td></tr></tbody></table></div>"
      ],
      "text/plain": [
       "shape: (5, 3)\n",
       "┌───────────────────────┬───────┬────────────┐\n",
       "│ n_structural_category ┆ len   ┆ percentage │\n",
       "│ ---                   ┆ ---   ┆ ---        │\n",
       "│ i64                   ┆ u32   ┆ f64        │\n",
       "╞═══════════════════════╪═══════╪════════════╡\n",
       "│ 4                     ┆ 345   ┆ 1.379614   │\n",
       "│ 5                     ┆ 21    ┆ 0.083976   │\n",
       "│ 3                     ┆ 2092  ┆ 8.365658   │\n",
       "│ 1                     ┆ 14776 ┆ 59.087456  │\n",
       "│ 2                     ┆ 7773  ┆ 31.083297  │\n",
       "└───────────────────────┴───────┴────────────┘"
      ]
     },
     "execution_count": 28,
     "metadata": {},
     "output_type": "execute_result"
    }
   ],
   "source": [
    "base_isoform\\\n",
    "    .filter(\n",
    "        pl.col(\"isoform\").map_elements(lambda x :len(x)>1)\n",
    "    )\\\n",
    "    .group_by(\"n_structural_category\")\\\n",
    "    .len()\\\n",
    "    .with_columns(\n",
    "        percentage = (pl.col(\"len\") / base_isoform.filter(pl.col(\"isoform\").map_elements(lambda x :len(x)>1)).shape[0]) * 100\n",
    "    )"
   ]
  },
  {
   "cell_type": "markdown",
   "metadata": {},
   "source": [
    "## Visualization"
   ]
  },
  {
   "cell_type": "code",
   "execution_count": 19,
   "metadata": {},
   "outputs": [
    {
     "name": "stderr",
     "output_type": "stream",
     "text": [
      "/tmp/ipykernel_91289/1932673567.py:29: UserWarning: set_ticklabels() should only be used with a fixed number of ticks, i.e. after set_ticks() or using a FixedLocator.\n",
      "  ax.set_xticklabels(ax.get_xticklabels(), rotation=45, horizontalalignment='right')\n"
     ]
    },
    {
     "data": {
      "text/plain": [
       "[Text(0, 0, 'full-splice_match'),\n",
       " Text(1, 0, 'incomplete-splice_match'),\n",
       " Text(2, 0, 'novel_in_catalog'),\n",
       " Text(3, 0, 'novel_not_in_catalog'),\n",
       " Text(4, 0, 'Other')]"
      ]
     },
     "execution_count": 19,
     "metadata": {},
     "output_type": "execute_result"
    },
    {
     "data": {
      "image/png": "[encoded data removed]",
      "text/plain": [
       "<Figure size 640x480 with 1 Axes>"
      ]
     },
     "metadata": {},
     "output_type": "display_data"
    }
   ],
   "source": [
    "lr_bulk.var = lr_bulk.var\\\n",
    "    .with_columns(\n",
    "        pl.col(\"structural_category\").cast(pl.String)\n",
    "    )\\\n",
    "    .with_columns(\n",
    "        pl.when(pl.col(\"structural_category\").is_in([\"novel_not_in_catalog\", \"novel_in_catalog\", \"full-splice_match\", \"incomplete-splice_match\"]))\\\n",
    "            .then(pl.col(\"structural_category\"))\\\n",
    "            .otherwise(pl.lit(\"Other\"))\n",
    "    )\n",
    "temp = lr_bulk.var\\\n",
    "    .with_columns(\n",
    "        pl.when(pl.col(\"ORF_type\")==\"complete\").then(pl.lit(True)).otherwise(pl.lit(False)).alias(\"complete_ORF\")\n",
    "    ).drop(\"ORF_type\")\\\n",
    "    .group_by(\"structural_category\")\\\n",
    "    .agg(\n",
    "        at_least_one_ORF = pl.col(\"at_least_one_orf\").sum(),\n",
    "        predicted_ORF = pl.col(\"predicted_orf\").sum(),\n",
    "        complete_ORF = pl.col(\"complete_ORF\").sum(),\n",
    "        validated_proteomics = pl.col(\"validated_proteomics\").sum()\n",
    "    )\\\n",
    "    .unpivot(index=\"structural_category\")\\\n",
    "    .with_columns(\n",
    "        pl.col(\"structural_category\").cast(pl.Enum([\"full-splice_match\", \"incomplete-splice_match\", \"novel_in_catalog\", \"novel_not_in_catalog\", \"Other\"]))\n",
    "    )\n",
    "import seaborn as sns\n",
    "import matplotlib.pyplot as plt\n",
    "fig, ax = plt.subplots()\n",
    "sns.barplot(data=temp.to_pandas(), x=\"structural_category\", y=\"value\", hue=\"variable\", ax =ax)\n",
    "ax.set_xticklabels(ax.get_xticklabels(), rotation=45, horizontalalignment='right')"
   ]
  },
  {
   "cell_type": "markdown",
   "metadata": {},
   "source": [
    "## Lengths don't match in PacBio files"
   ]
  },
  {
   "cell_type": "code",
   "execution_count": null,
   "metadata": {},
   "outputs": [],
   "source": [
    "def compare_sequence_len(fasta_tab_file, gtf_file):\n",
    "    fasta = pl.read_csv(fasta_tab_file, separator = \"\\t\", has_header=False, new_columns=[\"pbid\", \"sequence\", \"null\", \"len\"])[\"pbid\", \"len\"]\n",
    "    fasta = fasta\\\n",
    "        .with_columns(\n",
    "            pl.col(\"pbid\").str.split(\"|\").map_elements(lambda x: x[0], return_dtype=pl.String)\n",
    "        )\n",
    "    gtf = read_gtf(gtf_file)\n",
    "    gtf_len = gtf\\\n",
    "        .filter(\n",
    "            pl.col(\"feature\") == \"exon\"\n",
    "        )\\\n",
    "        .with_columns(\n",
    "            diff = pl.col(\"end\") - pl.col(\"start\") + 1\n",
    "        )\\\n",
    "        .group_by(\"transcript_id\")\\\n",
    "        .agg(\n",
    "            pl.col(\"diff\").sum()\n",
    "        )\n",
    "    return fasta\\\n",
    "        .join(\n",
    "            gtf_len.rename({\"transcript_id\": \"pbid\"}),\n",
    "            how = \"left\",\n",
    "            on = \"pbid\"\n",
    "        )"
   ]
  },
  {
   "cell_type": "code",
   "execution_count": 11,
   "metadata": {},
   "outputs": [
    {
     "data": {
      "text/html": [
       "<div><style>\n",
       ".dataframe > thead > tr,\n",
       ".dataframe > tbody > tr {\n",
       "  text-align: right;\n",
       "  white-space: pre-wrap;\n",
       "}\n",
       "</style>\n",
       "<small>shape: (4_900_923, 3)</small><table border=\"1\" class=\"dataframe\"><thead><tr><th>pbid</th><th>len</th><th>diff</th></tr><tr><td>str</td><td>i64</td><td>i64</td></tr></thead><tbody><tr><td>&quot;PB.1.1&quot;</td><td>2810</td><td>2809</td></tr><tr><td>&quot;PB.1.2&quot;</td><td>1680</td><td>1678</td></tr><tr><td>&quot;PB.1.3&quot;</td><td>2499</td><td>2498</td></tr><tr><td>&quot;PB.1.4&quot;</td><td>2113</td><td>2111</td></tr><tr><td>&quot;PB.1.5&quot;</td><td>3359</td><td>3360</td></tr><tr><td>&hellip;</td><td>&hellip;</td><td>&hellip;</td></tr><tr><td>&quot;PB.113109.1&quot;</td><td>1831</td><td>1837</td></tr><tr><td>&quot;PB.113110.1&quot;</td><td>723</td><td>726</td></tr><tr><td>&quot;PB.113111.1&quot;</td><td>1264</td><td>1264</td></tr><tr><td>&quot;PB.113112.1&quot;</td><td>1165</td><td>1162</td></tr><tr><td>&quot;PB.113113.1&quot;</td><td>1277</td><td>1282</td></tr></tbody></table></div>"
      ],
      "text/plain": [
       "shape: (4_900_923, 3)\n",
       "┌─────────────┬──────┬──────┐\n",
       "│ pbid        ┆ len  ┆ diff │\n",
       "│ ---         ┆ ---  ┆ ---  │\n",
       "│ str         ┆ i64  ┆ i64  │\n",
       "╞═════════════╪══════╪══════╡\n",
       "│ PB.1.1      ┆ 2810 ┆ 2809 │\n",
       "│ PB.1.2      ┆ 1680 ┆ 1678 │\n",
       "│ PB.1.3      ┆ 2499 ┆ 2498 │\n",
       "│ PB.1.4      ┆ 2113 ┆ 2111 │\n",
       "│ PB.1.5      ┆ 3359 ┆ 3360 │\n",
       "│ …           ┆ …    ┆ …    │\n",
       "│ PB.113109.1 ┆ 1831 ┆ 1837 │\n",
       "│ PB.113110.1 ┆ 723  ┆ 726  │\n",
       "│ PB.113111.1 ┆ 1264 ┆ 1264 │\n",
       "│ PB.113112.1 ┆ 1165 ┆ 1162 │\n",
       "│ PB.113113.1 ┆ 1277 ┆ 1282 │\n",
       "└─────────────┴──────┴──────┘"
      ]
     },
     "execution_count": 11,
     "metadata": {},
     "output_type": "execute_result"
    }
   ],
   "source": [
    "compare_sequence_len(\"proc/merged_collapsed.fasta.tab\", \"proc/merged_collapsed.gff\")"
   ]
  },
  {
   "cell_type": "code",
   "execution_count": 50,
   "metadata": {},
   "outputs": [
    {
     "data": {
      "text/html": [
       "<div><style>\n",
       ".dataframe > thead > tr,\n",
       ".dataframe > tbody > tr {\n",
       "  text-align: right;\n",
       "  white-space: pre-wrap;\n",
       "}\n",
       "</style>\n",
       "<small>shape: (1_455_907, 3)</small><table border=\"1\" class=\"dataframe\"><thead><tr><th>pbid</th><th>len</th><th>diff</th></tr><tr><td>str</td><td>i64</td><td>i64</td></tr></thead><tbody><tr><td>&quot;PB.6.9&quot;</td><td>3984</td><td>3984</td></tr><tr><td>&quot;PB.6.8&quot;</td><td>2646</td><td>2646</td></tr><tr><td>&quot;PB.6.10&quot;</td><td>2339</td><td>2339</td></tr><tr><td>&quot;PB.6.14&quot;</td><td>1898</td><td>1898</td></tr><tr><td>&quot;PB.6.2&quot;</td><td>1658</td><td>1658</td></tr><tr><td>&hellip;</td><td>&hellip;</td><td>&hellip;</td></tr><tr><td>&quot;PB.112873.1193&quot;</td><td>4436</td><td>4436</td></tr><tr><td>&quot;PB.112873.1196&quot;</td><td>3680</td><td>3680</td></tr><tr><td>&quot;PB.112873.1199&quot;</td><td>2482</td><td>2482</td></tr><tr><td>&quot;PB.112873.1205&quot;</td><td>4904</td><td>4904</td></tr><tr><td>&quot;PB.112873.1230&quot;</td><td>4291</td><td>4291</td></tr></tbody></table></div>"
      ],
      "text/plain": [
       "shape: (1_455_907, 3)\n",
       "┌────────────────┬──────┬──────┐\n",
       "│ pbid           ┆ len  ┆ diff │\n",
       "│ ---            ┆ ---  ┆ ---  │\n",
       "│ str            ┆ i64  ┆ i64  │\n",
       "╞════════════════╪══════╪══════╡\n",
       "│ PB.6.9         ┆ 3984 ┆ 3984 │\n",
       "│ PB.6.8         ┆ 2646 ┆ 2646 │\n",
       "│ PB.6.10        ┆ 2339 ┆ 2339 │\n",
       "│ PB.6.14        ┆ 1898 ┆ 1898 │\n",
       "│ PB.6.2         ┆ 1658 ┆ 1658 │\n",
       "│ …              ┆ …    ┆ …    │\n",
       "│ PB.112873.1193 ┆ 4436 ┆ 4436 │\n",
       "│ PB.112873.1196 ┆ 3680 ┆ 3680 │\n",
       "│ PB.112873.1199 ┆ 2482 ┆ 2482 │\n",
       "│ PB.112873.1205 ┆ 4904 ┆ 4904 │\n",
       "│ PB.112873.1230 ┆ 4291 ┆ 4291 │\n",
       "└────────────────┴──────┴──────┘"
      ]
     },
     "execution_count": 50,
     "metadata": {},
     "output_type": "execute_result"
    }
   ],
   "source": [
    "compare_sequence_len(\"/scratch/s/shreejoy/nxu/SFARI/work/c5/65ddff00571c118620e9321f40211d/transcripts.fasta.tab\", \"/scratch/s/shreejoy/nxu/SFARI/work/c5/65ddff00571c118620e9321f40211d/merged_collapsed.sorted.filtered_lite.gff\")"
   ]
  },
  {
   "cell_type": "code",
   "execution_count": 17,
   "metadata": {},
   "outputs": [],
   "source": [
    "TD_genome_gff3 = read_gff(\"nextflow_results/transcripts_filtered.fasta.transdecoder.genome.gff3\", attributes=[\"ID\", \"Parent\"]).drop_nulls(\"seqname\")\\\n",
    "    .with_columns(\n",
    "        pl.col(\"feature\").replace({\"gene\": \"gene\", \"five_prime_UTR\": \"five_prime_UTR\", \"exon\": \"exon\", \"mRNA\": \"transcript\", \"CDS\": \"CDS\", \"three_prime_UTR\": \"three_prime_UTR\"})\n",
    "    )\\\n",
    "    .with_columns(\n",
    "        pl.when(pl.col(\"feature\")==\"gene\")\\\n",
    "            .then(pl.col(\"ID\").str.split(\"^\").map_elements(lambda x: x[0], return_dtype=pl.String))\\\n",
    "            .when(pl.col(\"feature\")==\"transcript\")\\\n",
    "            .then(pl.col(\"ID\").str.extract(r\"^(.*)\\.p\\d+$\"))\\\n",
    "            .otherwise(pl.col(\"ID\")),\n",
    "        pl.when(pl.col(\"feature\")==\"transcript\")\\\n",
    "            .then(pl.col(\"Parent\").str.extract(r\"^(.*)\\^chr\"))\\\n",
    "            .when(pl.col(\"feature\").is_in([\"three_prime_UTR\", \"five_prime_UTR\", \"CDS\", \"exon\"]))\\\n",
    "            .then(pl.col(\"Parent\").str.extract(r\"^(.*)\\.p\\d+$\"))\\\n",
    "            .otherwise(pl.col(\"Parent\"))\n",
    "    )\\\n",
    "    .with_columns(\n",
    "        gene_id = pl.when(pl.col(\"feature\")==\"gene\")\\\n",
    "        .then(pl.col(\"ID\"))\\\n",
    "        .when(pl.col(\"feature\")==\"transcript\")\\\n",
    "        .then(pl.col(\"Parent\"))\\\n",
    "        .otherwise(pl.col(\"Parent\").str.split(\".\").map_elements(lambda x: \".\".join([x[0], x[1]]), return_dtype=pl.String)),\n",
    "\n",
    "        transcript_id = pl.when(pl.col(\"feature\")==\"gene\")\\\n",
    "        .then(pl.lit(None))\\\n",
    "        .when(pl.col(\"feature\")==\"transcript\")\\\n",
    "        .then(pl.col(\"ID\"))\\\n",
    "        .otherwise(pl.col(\"Parent\"))\n",
    "    )"
   ]
  },
  {
   "cell_type": "code",
   "execution_count": 32,
   "metadata": {},
   "outputs": [
    {
     "name": "stdout",
     "output_type": "stream",
     "text": [
      "\n",
      "\n",
      "\n",
      "\tDone.  180238 / 180238 transcript orfs could be propagated to the genome\n",
      "\n",
      "\n",
      "scontrol show job 13974842\n",
      "JobId=13974842 JobName=nf-cdnaAlignmentOrfToGenome\n",
      "   UserId=nxu(3122125) GroupId=shreejoy(6036412) MCS_label=N/A\n",
      "   Priority=2324467 Nice=0 Account=rrg-shreejoy QOS=normal\n",
      "   JobState=COMPLETING Reason=None Dependency=(null)\n",
      "   Requeue=0 Restarts=0 BatchFlag=1 Reboot=0 ExitCode=0:0\n",
      "   RunTime=00:09:58 TimeLimit=02:00:00 TimeMin=N/A\n",
      "   SubmitTime=2024-12-13T03:59:43 EligibleTime=2024-12-13T03:59:43\n",
      "   AccrueTime=2024-12-13T03:59:43\n",
      "   StartTime=2024-12-13T03:59:45 EndTime=2024-12-13T04:09:43 Deadline=N/A\n",
      "   SuspendTime=None SecsPreSuspend=0 LastSchedEval=2024-12-13T03:59:45 Scheduler=Main\n",
      "   Partition=compute AllocNode:Sid=nia-login05:182720\n",
      "   ReqNodeList=(null) ExcNodeList=(null)\n",
      "   NodeList=nia1340\n",
      "   BatchHost=nia1340\n",
      "   NumNodes=1 NumCPUs=80 NumTasks=1 CPUs/Task=40 ReqB:S:C:T=0:0:*:*\n",
      "   ReqTRES=cpu=40,mem=175000M,node=1,billing=20\n",
      "   AllocTRES=cpu=80,mem=175000M,node=1,billing=40\n",
      "   Socks/Node=* NtasksPerN:B:S:C=0:0:*:* CoreSpec=*\n",
      "   MinCPUsNode=40 MinMemoryNode=175000M MinTmpDiskNode=0\n",
      "   Features=[skylake|cascade] DelayBoot=00:00:00\n",
      "   OverSubscribe=NO Contiguous=0 Licenses=(null) Network=(null)\n",
      "   Command=.command.run\n",
      "   WorkDir=/gpfs/fs0/scratch/s/shreejoy/nxu/SFARI/work/d8/8eea1df17bff6a68d4805cd1a50cce\n",
      "   Comment=/opt/slurm/bin/sbatch .command.run \n",
      "   StdErr=/gpfs/fs0/scratch/s/shreejoy/nxu/SFARI/work/d8/8eea1df17bff6a68d4805cd1a50cce/.command.log\n",
      "   StdIn=/dev/null\n",
      "   StdOut=/gpfs/fs0/scratch/s/shreejoy/nxu/SFARI/work/d8/8eea1df17bff6a68d4805cd1a50cce/.command.log\n",
      "   TresPerTask=cpu=40\n",
      "   \n",
      "\n",
      "sacct -j 13974842\n",
      "JobID           JobName    Account    Elapsed  MaxVMSize     MaxRSS  SystemCPU    UserCPU ExitCode \n",
      "------------ ---------- ---------- ---------- ---------- ---------- ---------- ---------- -------- \n",
      "13974842     nf-cdnaAl+ rrg-shree+   00:09:58                        00:17.118  09:38.023      0:0 \n",
      "13974842.ba+      batch rrg-shree+   00:09:58  12327736K   9635656K  00:17.118  09:38.022      0:0 \n",
      "13974842.ex+     extern rrg-shree+   00:09:59    136828K      1040K   00:00:00   00:00:00      0:0 \n"
     ]
    }
   ],
   "source": [
    "!cat /scratch/s/shreejoy/nxu/SFARI/work/d8/8eea1df17bff6a68d4805cd1a50cce/.command.log"
   ]
  },
  {
   "cell_type": "code",
   "execution_count": 38,
   "metadata": {},
   "outputs": [
    {
     "data": {
      "text/html": [
       "<div><style>\n",
       ".dataframe > thead > tr,\n",
       ".dataframe > tbody > tr {\n",
       "  text-align: right;\n",
       "  white-space: pre-wrap;\n",
       "}\n",
       "</style>\n",
       "<small>shape: (180_238, 13)</small><table border=\"1\" class=\"dataframe\"><thead><tr><th>seqname</th><th>source</th><th>feature</th><th>start</th><th>end</th><th>score</th><th>strand</th><th>frame</th><th>attributes</th><th>ID</th><th>Parent</th><th>gene_id</th><th>transcript_id</th></tr><tr><td>str</td><td>str</td><td>str</td><td>i64</td><td>i64</td><td>str</td><td>str</td><td>str</td><td>str</td><td>str</td><td>str</td><td>str</td><td>str</td></tr></thead><tbody><tr><td>&quot;chr2&quot;</td><td>&quot;transdecoder&quot;</td><td>&quot;transcript&quot;</td><td>32165807</td><td>32221735</td><td>&quot;.&quot;</td><td>&quot;+&quot;</td><td>&quot;.&quot;</td><td>&quot;ID=PB.10002.1.p2;Parent=PB.100…</td><td>&quot;PB.10002.1&quot;</td><td>&quot;PB.10002&quot;</td><td>&quot;PB.10002&quot;</td><td>&quot;PB.10002.1&quot;</td></tr><tr><td>&quot;chr2&quot;</td><td>&quot;transdecoder&quot;</td><td>&quot;transcript&quot;</td><td>32416097</td><td>32524920</td><td>&quot;.&quot;</td><td>&quot;+&quot;</td><td>&quot;.&quot;</td><td>&quot;ID=PB.10002.1164.p1;Parent=PB.…</td><td>&quot;PB.10002.1164&quot;</td><td>&quot;PB.10002&quot;</td><td>&quot;PB.10002&quot;</td><td>&quot;PB.10002.1164&quot;</td></tr><tr><td>&quot;chr2&quot;</td><td>&quot;transdecoder&quot;</td><td>&quot;transcript&quot;</td><td>32165834</td><td>32222825</td><td>&quot;.&quot;</td><td>&quot;+&quot;</td><td>&quot;.&quot;</td><td>&quot;ID=PB.10002.12.p1;Parent=PB.10…</td><td>&quot;PB.10002.12&quot;</td><td>&quot;PB.10002&quot;</td><td>&quot;PB.10002&quot;</td><td>&quot;PB.10002.12&quot;</td></tr><tr><td>&quot;chr2&quot;</td><td>&quot;transdecoder&quot;</td><td>&quot;transcript&quot;</td><td>32436014</td><td>32476261</td><td>&quot;.&quot;</td><td>&quot;+&quot;</td><td>&quot;.&quot;</td><td>&quot;ID=PB.10002.1258.p1;Parent=PB.…</td><td>&quot;PB.10002.1258&quot;</td><td>&quot;PB.10002&quot;</td><td>&quot;PB.10002&quot;</td><td>&quot;PB.10002.1258&quot;</td></tr><tr><td>&quot;chr2&quot;</td><td>&quot;transdecoder&quot;</td><td>&quot;transcript&quot;</td><td>32453873</td><td>32524934</td><td>&quot;.&quot;</td><td>&quot;+&quot;</td><td>&quot;.&quot;</td><td>&quot;ID=PB.10002.1401.p1;Parent=PB.…</td><td>&quot;PB.10002.1401&quot;</td><td>&quot;PB.10002&quot;</td><td>&quot;PB.10002&quot;</td><td>&quot;PB.10002.1401&quot;</td></tr><tr><td>&hellip;</td><td>&hellip;</td><td>&hellip;</td><td>&hellip;</td><td>&hellip;</td><td>&hellip;</td><td>&hellip;</td><td>&hellip;</td><td>&hellip;</td><td>&hellip;</td><td>&hellip;</td><td>&hellip;</td><td>&hellip;</td></tr><tr><td>&quot;chr18&quot;</td><td>&quot;transdecoder&quot;</td><td>&quot;transcript&quot;</td><td>70289012</td><td>70327119</td><td>&quot;.&quot;</td><td>&quot;+&quot;</td><td>&quot;.&quot;</td><td>&quot;ID=PB.99951.20.p1;Parent=PB.99…</td><td>&quot;PB.99951.20&quot;</td><td>&quot;PB.99951&quot;</td><td>&quot;PB.99951&quot;</td><td>&quot;PB.99951.20&quot;</td></tr><tr><td>&quot;chr18&quot;</td><td>&quot;transdecoder&quot;</td><td>&quot;transcript&quot;</td><td>70288898</td><td>70327068</td><td>&quot;.&quot;</td><td>&quot;+&quot;</td><td>&quot;.&quot;</td><td>&quot;ID=PB.99951.4.p1;Parent=PB.999…</td><td>&quot;PB.99951.4&quot;</td><td>&quot;PB.99951&quot;</td><td>&quot;PB.99951&quot;</td><td>&quot;PB.99951.4&quot;</td></tr><tr><td>&quot;chr18&quot;</td><td>&quot;transdecoder&quot;</td><td>&quot;transcript&quot;</td><td>70289687</td><td>70327117</td><td>&quot;.&quot;</td><td>&quot;+&quot;</td><td>&quot;.&quot;</td><td>&quot;ID=PB.99951.43.p1;Parent=PB.99…</td><td>&quot;PB.99951.43&quot;</td><td>&quot;PB.99951&quot;</td><td>&quot;PB.99951&quot;</td><td>&quot;PB.99951.43&quot;</td></tr><tr><td>&quot;chr18&quot;</td><td>&quot;transdecoder&quot;</td><td>&quot;transcript&quot;</td><td>70288889</td><td>70330195</td><td>&quot;.&quot;</td><td>&quot;+&quot;</td><td>&quot;.&quot;</td><td>&quot;ID=PB.99951.6.p1;Parent=PB.999…</td><td>&quot;PB.99951.6&quot;</td><td>&quot;PB.99951&quot;</td><td>&quot;PB.99951&quot;</td><td>&quot;PB.99951.6&quot;</td></tr><tr><td>&quot;chr18&quot;</td><td>&quot;transdecoder&quot;</td><td>&quot;transcript&quot;</td><td>70288904</td><td>70327317</td><td>&quot;.&quot;</td><td>&quot;+&quot;</td><td>&quot;.&quot;</td><td>&quot;ID=PB.99951.7.p1;Parent=PB.999…</td><td>&quot;PB.99951.7&quot;</td><td>&quot;PB.99951&quot;</td><td>&quot;PB.99951&quot;</td><td>&quot;PB.99951.7&quot;</td></tr></tbody></table></div>"
      ],
      "text/plain": [
       "shape: (180_238, 13)\n",
       "┌─────────┬────────────┬────────────┬──────────┬───┬────────────┬──────────┬──────────┬────────────┐\n",
       "│ seqname ┆ source     ┆ feature    ┆ start    ┆ … ┆ ID         ┆ Parent   ┆ gene_id  ┆ transcript │\n",
       "│ ---     ┆ ---        ┆ ---        ┆ ---      ┆   ┆ ---        ┆ ---      ┆ ---      ┆ _id        │\n",
       "│ str     ┆ str        ┆ str        ┆ i64      ┆   ┆ str        ┆ str      ┆ str      ┆ ---        │\n",
       "│         ┆            ┆            ┆          ┆   ┆            ┆          ┆          ┆ str        │\n",
       "╞═════════╪════════════╪════════════╪══════════╪═══╪════════════╪══════════╪══════════╪════════════╡\n",
       "│ chr2    ┆ transdecod ┆ transcript ┆ 32165807 ┆ … ┆ PB.10002.1 ┆ PB.10002 ┆ PB.10002 ┆ PB.10002.1 │\n",
       "│         ┆ er         ┆            ┆          ┆   ┆            ┆          ┆          ┆            │\n",
       "│ chr2    ┆ transdecod ┆ transcript ┆ 32416097 ┆ … ┆ PB.10002.1 ┆ PB.10002 ┆ PB.10002 ┆ PB.10002.1 │\n",
       "│         ┆ er         ┆            ┆          ┆   ┆ 164        ┆          ┆          ┆ 164        │\n",
       "│ chr2    ┆ transdecod ┆ transcript ┆ 32165834 ┆ … ┆ PB.10002.1 ┆ PB.10002 ┆ PB.10002 ┆ PB.10002.1 │\n",
       "│         ┆ er         ┆            ┆          ┆   ┆ 2          ┆          ┆          ┆ 2          │\n",
       "│ chr2    ┆ transdecod ┆ transcript ┆ 32436014 ┆ … ┆ PB.10002.1 ┆ PB.10002 ┆ PB.10002 ┆ PB.10002.1 │\n",
       "│         ┆ er         ┆            ┆          ┆   ┆ 258        ┆          ┆          ┆ 258        │\n",
       "│ chr2    ┆ transdecod ┆ transcript ┆ 32453873 ┆ … ┆ PB.10002.1 ┆ PB.10002 ┆ PB.10002 ┆ PB.10002.1 │\n",
       "│         ┆ er         ┆            ┆          ┆   ┆ 401        ┆          ┆          ┆ 401        │\n",
       "│ …       ┆ …          ┆ …          ┆ …        ┆ … ┆ …          ┆ …        ┆ …        ┆ …          │\n",
       "│ chr18   ┆ transdecod ┆ transcript ┆ 70289012 ┆ … ┆ PB.99951.2 ┆ PB.99951 ┆ PB.99951 ┆ PB.99951.2 │\n",
       "│         ┆ er         ┆            ┆          ┆   ┆ 0          ┆          ┆          ┆ 0          │\n",
       "│ chr18   ┆ transdecod ┆ transcript ┆ 70288898 ┆ … ┆ PB.99951.4 ┆ PB.99951 ┆ PB.99951 ┆ PB.99951.4 │\n",
       "│         ┆ er         ┆            ┆          ┆   ┆            ┆          ┆          ┆            │\n",
       "│ chr18   ┆ transdecod ┆ transcript ┆ 70289687 ┆ … ┆ PB.99951.4 ┆ PB.99951 ┆ PB.99951 ┆ PB.99951.4 │\n",
       "│         ┆ er         ┆            ┆          ┆   ┆ 3          ┆          ┆          ┆ 3          │\n",
       "│ chr18   ┆ transdecod ┆ transcript ┆ 70288889 ┆ … ┆ PB.99951.6 ┆ PB.99951 ┆ PB.99951 ┆ PB.99951.6 │\n",
       "│         ┆ er         ┆            ┆          ┆   ┆            ┆          ┆          ┆            │\n",
       "│ chr18   ┆ transdecod ┆ transcript ┆ 70288904 ┆ … ┆ PB.99951.7 ┆ PB.99951 ┆ PB.99951 ┆ PB.99951.7 │\n",
       "│         ┆ er         ┆            ┆          ┆   ┆            ┆          ┆          ┆            │\n",
       "└─────────┴────────────┴────────────┴──────────┴───┴────────────┴──────────┴──────────┴────────────┘"
      ]
     },
     "execution_count": 38,
     "metadata": {},
     "output_type": "execute_result"
    }
   ],
   "source": [
    "TD_genome_gff3"
   ]
  },
  {
   "cell_type": "markdown",
   "metadata": {},
   "source": [
    "# Annotate lr_bulk"
   ]
  },
  {
   "cell_type": "code",
   "execution_count": 34,
   "metadata": {},
   "outputs": [],
   "source": [
    "lr_bulk.to_frame().write_parquet(\"export/pbid_count_matrix.parquet\")"
   ]
  },
  {
   "cell_type": "code",
   "execution_count": 40,
   "metadata": {},
   "outputs": [],
   "source": [
    "lr_bulk.var.write_csv(\"export/merged_collapsed_classification.filtered_lite_classification.txt\", separator=\"\\t\")"
   ]
  }
 ],
 "metadata": {
  "kernelspec": {
   "display_name": "Python 3 (ipykernel)",
   "language": "python",
   "name": "python3"
  },
  "language_info": {
   "name": "python",
   "version": "3.12.3"
  }
 },
 "nbformat": 4,
 "nbformat_minor": 2
}
