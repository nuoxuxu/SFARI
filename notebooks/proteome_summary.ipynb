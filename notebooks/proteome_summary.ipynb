{
 "cells": [
  {
   "cell_type": "markdown",
   "metadata": {},
   "source": [
    "# Import packages"
   ]
  },
  {
   "cell_type": "code",
   "execution_count": 1,
   "metadata": {},
   "outputs": [],
   "source": [
    "from src.utils import read_gtf, collapse_isoforms_to_proteoforms\n",
    "import polars as pl"
   ]
  },
  {
   "cell_type": "markdown",
   "metadata": {},
   "source": [
    "# Load datasets"
   ]
  },
  {
   "cell_type": "code",
   "execution_count": 2,
   "metadata": {},
   "outputs": [],
   "source": [
    "final_classification = pl.read_parquet(\"nextflow_results/V47/final_classification.parquet\")"
   ]
  },
  {
   "cell_type": "code",
   "execution_count": null,
   "metadata": {},
   "outputs": [],
   "source": [
    "orfanage_gtf = read_gtf(\"nextflow_results/V47/orfanage/orfanage.gtf\")"
   ]
  },
  {
   "cell_type": "markdown",
   "metadata": {},
   "source": [
    "# Start here"
   ]
  },
  {
   "cell_type": "code",
   "execution_count": 3,
   "metadata": {},
   "outputs": [
    {
     "name": "stdout",
     "output_type": "stream",
     "text": [
      "There are 198087 transcripts in the final classification\n"
     ]
    }
   ],
   "source": [
    "print(f\"There are {final_classification.shape[0]} transcripts in the final classification\")"
   ]
  },
  {
   "cell_type": "code",
   "execution_count": 24,
   "metadata": {},
   "outputs": [
    {
     "data": {
      "text/plain": [
       "1.9055438515482959"
      ]
     },
     "execution_count": 24,
     "metadata": {},
     "output_type": "execute_result"
    }
   ],
   "source": [
    "198087/103953"
   ]
  },
  {
   "cell_type": "code",
   "execution_count": 7,
   "metadata": {},
   "outputs": [
    {
     "name": "stdout",
     "output_type": "stream",
     "text": [
      "There are 103953 novel transcripts in the final classification\n"
     ]
    }
   ],
   "source": [
    "print(f\"There are {final_classification.filter(pl.col(\"structural_category\").is_in([\"novel_not_in_catalog\", \"novel_in_catalog\"])).shape[0]} novel transcripts in the final classification\")"
   ]
  },
  {
   "cell_type": "code",
   "execution_count": 4,
   "metadata": {},
   "outputs": [
    {
     "name": "stdout",
     "output_type": "stream",
     "text": [
      "There are 173897 transcripts that contain CDS predicted by ORFanage\n"
     ]
    }
   ],
   "source": [
    "print(f\"There are {orfanage_gtf.unique(\"transcript_id\").shape[0]} transcripts that contain CDS predicted by ORFanage\")"
   ]
  },
  {
   "cell_type": "code",
   "execution_count": 13,
   "metadata": {},
   "outputs": [
    {
     "name": "stderr",
     "output_type": "stream",
     "text": [
      "/gpfs/fs0/scratch/s/shreejoy/nxu/SFARI/src/utils.py:7013: MapWithoutReturnDtypeWarning: Calling `map_elements` without specifying `return_dtype` can lead to unpredictable results. Specify `return_dtype` to silence this warning.\n",
      "  .with_columns(\n"
     ]
    }
   ],
   "source": [
    "isoforms_to_proteoforms = collapse_isoforms_to_proteoforms(orfanage_gtf)"
   ]
  },
  {
   "cell_type": "code",
   "execution_count": 6,
   "metadata": {},
   "outputs": [
    {
     "data": {
      "text/plain": [
       "'There are 88404 unique ORFs.'"
      ]
     },
     "execution_count": 6,
     "metadata": {},
     "output_type": "execute_result"
    }
   ],
   "source": [
    "f\"There are {isoforms_to_proteoforms.unique(\"base_isoform\").shape[0]} unique ORFs.\""
   ]
  },
  {
   "cell_type": "code",
   "execution_count": 8,
   "metadata": {},
   "outputs": [],
   "source": [
    "protein_classification = pl.read_csv(\"nextflow_results/V47/orfanage/SFARI.protein_classification.tsv\", separator=\"\\t\")"
   ]
  },
  {
   "cell_type": "code",
   "execution_count": 22,
   "metadata": {},
   "outputs": [
    {
     "name": "stdout",
     "output_type": "stream",
     "text": [
      "There are 57489 novel protein isoforms\n"
     ]
    }
   ],
   "source": [
    "n_novel_protein_isoform = protein_classification\\\n",
    "    .join(\n",
    "        isoforms_to_proteoforms.rename({\"isoform\": \"pb\"}),\n",
    "        on = \"pb\",\n",
    "        how = \"left\"\n",
    "    ).unique(\"base_isoform\")\\\n",
    "    .filter(pl.col(\"protein_classification_base\").is_in([\"pNIC\", \"pNNC\"]))\\\n",
    "    .shape[0]\n",
    "print(f\"There are {n_novel_protein_isoform} novel protein isoforms\")"
   ]
  }
 ],
 "metadata": {
  "kernelspec": {
   "display_name": "patch_seq_spl",
   "language": "python",
   "name": "python3"
  },
  "language_info": {
   "codemirror_mode": {
    "name": "ipython",
    "version": 3
   },
   "file_extension": ".py",
   "mimetype": "text/x-python",
   "name": "python",
   "nbconvert_exporter": "python",
   "pygments_lexer": "ipython3",
   "version": "3.12.3"
  }
 },
 "nbformat": 4,
 "nbformat_minor": 2
}
