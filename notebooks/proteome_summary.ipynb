{
 "cells": [
  {
   "cell_type": "markdown",
   "metadata": {},
   "source": [
    "# Import packages"
   ]
  },
  {
   "cell_type": "code",
   "execution_count": 1,
   "metadata": {},
   "outputs": [],
   "source": [
    "from src.utils import read_gtf, collapse_isoforms_to_proteoforms\n",
    "import polars as pl"
   ]
  },
  {
   "cell_type": "markdown",
   "metadata": {},
   "source": [
    "# Load datasets"
   ]
  },
  {
   "cell_type": "code",
   "execution_count": 2,
   "metadata": {},
   "outputs": [],
   "source": [
    "final_classification = pl.read_parquet(\"nextflow_results/V47/final_classification.parquet\")"
   ]
  },
  {
   "cell_type": "code",
   "execution_count": 3,
   "metadata": {},
   "outputs": [],
   "source": [
    "orfanage_gtf = read_gtf(\"nextflow_results/V47/orfanage/orfanage.gtf\")"
   ]
  },
  {
   "cell_type": "code",
   "execution_count": 4,
   "metadata": {},
   "outputs": [],
   "source": [
    "annot_peptides_hybrid = read_gtf(\"nextflow_results/V47/orfanage/annot_peptides_hybrid.gtf\", attributes=[\"gene_name\", \"transcript_id\", \"novelty\", \"detected\"])"
   ]
  },
  {
   "cell_type": "code",
   "execution_count": 5,
   "metadata": {},
   "outputs": [],
   "source": [
    "peptide_mapping = pl.read_parquet(\"nextflow_results/V47/orfanage/peptide_mapping.parquet\")"
   ]
  },
  {
   "cell_type": "markdown",
   "metadata": {},
   "source": [
    "# Start here"
   ]
  },
  {
   "cell_type": "code",
   "execution_count": 4,
   "metadata": {},
   "outputs": [
    {
     "name": "stdout",
     "output_type": "stream",
     "text": [
      "There are 182371 transcripts in the final classification\n"
     ]
    }
   ],
   "source": [
    "print(f\"There are {final_classification.shape[0]} transcripts in the final classification\")"
   ]
  },
  {
   "cell_type": "code",
   "execution_count": 5,
   "metadata": {},
   "outputs": [
    {
     "name": "stdout",
     "output_type": "stream",
     "text": [
      "There are 103953 novel transcripts in the final classification\n"
     ]
    }
   ],
   "source": [
    "print(f\"There are {final_classification.filter(pl.col(\"structural_category\").is_in([\"novel_not_in_catalog\", \"novel_in_catalog\"])).shape[0]} novel transcripts in the final classification\")"
   ]
  },
  {
   "cell_type": "code",
   "execution_count": 7,
   "metadata": {},
   "outputs": [
    {
     "name": "stdout",
     "output_type": "stream",
     "text": [
      "There are 162913 transcripts that contain CDS predicted by ORFanage\n"
     ]
    }
   ],
   "source": [
    "print(f\"There are {orfanage_gtf.filter(pl.col(\"feature\")==\"transcript\").unique(\"transcript_id\").shape[0]} transcripts that contain CDS predicted by ORFanage\")"
   ]
  },
  {
   "cell_type": "code",
   "execution_count": 8,
   "metadata": {},
   "outputs": [],
   "source": [
    "isoforms_to_proteoforms = collapse_isoforms_to_proteoforms(orfanage_gtf)"
   ]
  },
  {
   "cell_type": "code",
   "execution_count": 9,
   "metadata": {},
   "outputs": [
    {
     "data": {
      "text/plain": [
       "'There are 81745 unique ORFs.'"
      ]
     },
     "execution_count": 9,
     "metadata": {},
     "output_type": "execute_result"
    }
   ],
   "source": [
    "f\"There are {isoforms_to_proteoforms.unique(\"base_isoform\").shape[0]} unique ORFs.\""
   ]
  },
  {
   "cell_type": "code",
   "execution_count": 8,
   "metadata": {},
   "outputs": [],
   "source": [
    "protein_classification = pl.read_csv(\"nextflow_results/V47/orfanage/SFARI.protein_classification.tsv\", separator=\"\\t\")"
   ]
  },
  {
   "cell_type": "code",
   "execution_count": 22,
   "metadata": {},
   "outputs": [
    {
     "name": "stdout",
     "output_type": "stream",
     "text": [
      "There are 57489 novel protein isoforms\n"
     ]
    }
   ],
   "source": [
    "n_novel_protein_isoform = protein_classification\\\n",
    "    .join(\n",
    "        isoforms_to_proteoforms.rename({\"isoform\": \"pb\"}),\n",
    "        on = \"pb\",\n",
    "        how = \"left\"\n",
    "    ).unique(\"base_isoform\")\\\n",
    "    .filter(pl.col(\"protein_classification_base\").is_in([\"pNIC\", \"pNNC\"]))\\\n",
    "    .shape[0]\n",
    "print(f\"There are {n_novel_protein_isoform} novel protein isoforms\")"
   ]
  },
  {
   "cell_type": "code",
   "execution_count": null,
   "metadata": {},
   "outputs": [
    {
     "name": "stdout",
     "output_type": "stream",
     "text": [
      "There are 160 novel peptides that have been detected.\n"
     ]
    }
   ],
   "source": [
    "n_novel_peptides = annot_peptides_hybrid\\\n",
    "    .filter(\n",
    "        pl.col(\"detected\")==\"True\",\n",
    "        pl.col(\"novelty\")==\"novel\"\n",
    "    )\\\n",
    "    .unique(\"transcript_id\")\\\n",
    "    .shape[0]\n",
    "\n",
    "novel_peptides = annot_peptides_hybrid\\\n",
    "    .filter(\n",
    "        pl.col(\"detected\")==\"True\",\n",
    "        pl.col(\"novelty\")==\"novel\"\n",
    "    )\\\n",
    "    .unique(\"transcript_id\")\\\n",
    "    [\"transcript_id\"]\n",
    "\n",
    "print(f\"There are {n_novel_peptides} novel peptides that have been detected.\")"
   ]
  },
  {
   "cell_type": "code",
   "execution_count": 24,
   "metadata": {},
   "outputs": [
    {
     "name": "stdout",
     "output_type": "stream",
     "text": [
      "440 transcripts have been validated by these novel peptides.\n"
     ]
    }
   ],
   "source": [
    "n_transcripts = peptide_mapping\\\n",
    "    .filter(\n",
    "        pl.col(\"peptide\").is_in(novel_peptides)\n",
    "    ).unique(\"pb\").shape[0]\n",
    "\n",
    "novel_transcripts_validated = peptide_mapping\\\n",
    "    .filter(\n",
    "        pl.col(\"peptide\").is_in(novel_peptides)\n",
    "    ).unique(\"pb\")[\"pb\"]\n",
    "\n",
    "print(f\"{n_transcripts} transcripts have been validated by these novel peptides.\")"
   ]
  },
  {
   "cell_type": "code",
   "execution_count": 29,
   "metadata": {},
   "outputs": [
    {
     "name": "stdout",
     "output_type": "stream",
     "text": [
      "There are 151 that these transcripts map to.\n"
     ]
    }
   ],
   "source": [
    "n_genes = final_classification\\\n",
    "    .filter(\n",
    "        pl.col(\"isoform\").is_in(novel_transcripts_validated)\n",
    "    ).unique(\"associated_gene\").unique(\"associated_gene\").shape[0]\n",
    "\n",
    "print(f\"There are {n_genes} that these transcripts map to.\")\n"
   ]
  },
  {
   "cell_type": "markdown",
   "metadata": {},
   "source": [
    "# Novel genes"
   ]
  },
  {
   "cell_type": "code",
   "execution_count": 19,
   "metadata": {},
   "outputs": [
    {
     "name": "stdout",
     "output_type": "stream",
     "text": [
      "There are 2919 novel genes.\n"
     ]
    }
   ],
   "source": [
    "n_novel_genes = final_classification\\\n",
    "    .filter(\n",
    "        pl.col(\"associated_gene\").str.starts_with(\"novel\") | pl.col(\"associated_gene\").str.contains(\"_\")\n",
    "    ).unique(\"associated_gene\").shape[0]\n",
    "\n",
    "print(f\"There are {n_novel_genes} novel genes.\")"
   ]
  },
  {
   "cell_type": "code",
   "execution_count": 20,
   "metadata": {},
   "outputs": [
    {
     "name": "stdout",
     "output_type": "stream",
     "text": [
      "There are 5167 transcripts that map to novel genes.\n"
     ]
    }
   ],
   "source": [
    "n_tx_novel_genes = final_classification\\\n",
    "    .filter(\n",
    "        pl.col(\"associated_gene\").str.starts_with(\"novel\") | pl.col(\"associated_gene\").str.contains(\"_\")\n",
    "    ).shape[0]\n",
    "\n",
    "print(f\"There are {n_tx_novel_genes} transcripts that map to novel genes.\")"
   ]
  },
  {
   "cell_type": "code",
   "execution_count": 23,
   "metadata": {},
   "outputs": [
    {
     "data": {
      "text/html": [
       "<div><style>\n",
       ".dataframe > thead > tr,\n",
       ".dataframe > tbody > tr {\n",
       "  text-align: right;\n",
       "  white-space: pre-wrap;\n",
       "}\n",
       "</style>\n",
       "<small>shape: (4_332, 51)</small><table border=\"1\" class=\"dataframe\"><thead><tr><th>isoform</th><th>chrom</th><th>strand</th><th>length</th><th>exons</th><th>structural_category</th><th>associated_gene</th><th>associated_transcript</th><th>ref_length</th><th>ref_exons</th><th>diff_to_TSS</th><th>diff_to_TTS</th><th>diff_to_gene_TSS</th><th>diff_to_gene_TTS</th><th>subcategory</th><th>RTS_stage</th><th>all_canonical</th><th>min_sample_cov</th><th>min_cov</th><th>min_cov_pos</th><th>sd_cov</th><th>FL</th><th>n_indels</th><th>n_indels_junc</th><th>bite</th><th>iso_exp</th><th>gene_exp</th><th>ratio_exp</th><th>FSM_class</th><th>coding</th><th>ORF_length</th><th>CDS_length</th><th>CDS_start</th><th>CDS_end</th><th>CDS_genomic_start</th><th>CDS_genomic_end</th><th>predicted_NMD</th><th>perc_A_downstream_TTS</th><th>seq_A_downstream_TTS</th><th>dist_to_CAGE_peak</th><th>within_CAGE_peak</th><th>dist_to_polyA_site</th><th>within_polyA_site</th><th>polyA_motif</th><th>polyA_dist</th><th>polyA_motif_found</th><th>ORF_seq</th><th>ratio_TSS</th><th>fl_assoc</th><th>cell_barcodes</th><th>containing_novel_spl</th></tr><tr><td>str</td><td>str</td><td>str</td><td>i32</td><td>i32</td><td>str</td><td>str</td><td>str</td><td>i32</td><td>i32</td><td>i32</td><td>i32</td><td>i32</td><td>i32</td><td>str</td><td>str</td><td>str</td><td>str</td><td>str</td><td>str</td><td>str</td><td>str</td><td>str</td><td>str</td><td>bool</td><td>str</td><td>str</td><td>str</td><td>str</td><td>str</td><td>str</td><td>str</td><td>str</td><td>str</td><td>str</td><td>str</td><td>str</td><td>f64</td><td>str</td><td>str</td><td>str</td><td>str</td><td>str</td><td>str</td><td>str</td><td>str</td><td>str</td><td>str</td><td>str</td><td>str</td><td>bool</td></tr></thead><tbody><tr><td>&quot;PB.10.5&quot;</td><td>&quot;chr1&quot;</td><td>&quot;+&quot;</td><td>3689</td><td>4</td><td>&quot;fusion&quot;</td><td>&quot;ENSG00000272438_ENSG0000029608…</td><td>&quot;novel&quot;</td><td>378</td><td>3</td><td>null</td><td>null</td><td>8</td><td>0</td><td>&quot;intron_retention&quot;</td><td>&quot;FALSE&quot;</td><td>&quot;canonical&quot;</td><td>null</td><td>null</td><td>null</td><td>null</td><td>null</td><td>null</td><td>null</td><td>false</td><td>null</td><td>null</td><td>null</td><td>&quot;B&quot;</td><td>&quot;non_coding&quot;</td><td>null</td><td>null</td><td>null</td><td>null</td><td>null</td><td>null</td><td>null</td><td>35.0</td><td>&quot;ATGAGGGGATGGATGAGAAG&quot;</td><td>null</td><td>null</td><td>null</td><td>null</td><td>null</td><td>null</td><td>null</td><td>null</td><td>null</td><td>null</td><td>null</td><td>false</td></tr><tr><td>&quot;PB.10.6&quot;</td><td>&quot;chr1&quot;</td><td>&quot;+&quot;</td><td>2589</td><td>2</td><td>&quot;fusion&quot;</td><td>&quot;ENSG00000272438_ENSG0000029608…</td><td>&quot;novel&quot;</td><td>657</td><td>2</td><td>null</td><td>null</td><td>22</td><td>0</td><td>&quot;intron_retention&quot;</td><td>&quot;FALSE&quot;</td><td>&quot;canonical&quot;</td><td>null</td><td>null</td><td>null</td><td>null</td><td>null</td><td>null</td><td>null</td><td>false</td><td>null</td><td>null</td><td>null</td><td>&quot;B&quot;</td><td>&quot;non_coding&quot;</td><td>null</td><td>null</td><td>null</td><td>null</td><td>null</td><td>null</td><td>null</td><td>30.0</td><td>&quot;GAGCTTGCCGCCCTAAAAAT&quot;</td><td>null</td><td>null</td><td>null</td><td>null</td><td>null</td><td>null</td><td>null</td><td>null</td><td>null</td><td>null</td><td>null</td><td>false</td></tr><tr><td>&quot;PB.10.7&quot;</td><td>&quot;chr1&quot;</td><td>&quot;+&quot;</td><td>5607</td><td>3</td><td>&quot;fusion&quot;</td><td>&quot;ENSG00000272438_ENSG0000029608…</td><td>&quot;novel&quot;</td><td>378</td><td>3</td><td>null</td><td>null</td><td>22</td><td>0</td><td>&quot;intron_retention&quot;</td><td>&quot;FALSE&quot;</td><td>&quot;canonical&quot;</td><td>null</td><td>null</td><td>null</td><td>null</td><td>null</td><td>null</td><td>null</td><td>false</td><td>null</td><td>null</td><td>null</td><td>&quot;B&quot;</td><td>&quot;non_coding&quot;</td><td>null</td><td>null</td><td>null</td><td>null</td><td>null</td><td>null</td><td>null</td><td>35.0</td><td>&quot;ATGAGGGGATGGATGAGAAG&quot;</td><td>null</td><td>null</td><td>null</td><td>null</td><td>null</td><td>null</td><td>null</td><td>null</td><td>null</td><td>null</td><td>null</td><td>false</td></tr><tr><td>&quot;PB.10.12&quot;</td><td>&quot;chr1&quot;</td><td>&quot;+&quot;</td><td>1609</td><td>4</td><td>&quot;fusion&quot;</td><td>&quot;ENSG00000272438_ENSG0000029608…</td><td>&quot;novel&quot;</td><td>378</td><td>3</td><td>null</td><td>null</td><td>38</td><td>0</td><td>&quot;multi-exon&quot;</td><td>&quot;FALSE&quot;</td><td>&quot;canonical&quot;</td><td>null</td><td>null</td><td>null</td><td>null</td><td>null</td><td>null</td><td>null</td><td>false</td><td>null</td><td>null</td><td>null</td><td>&quot;B&quot;</td><td>&quot;non_coding&quot;</td><td>null</td><td>null</td><td>null</td><td>null</td><td>null</td><td>null</td><td>null</td><td>30.0</td><td>&quot;TGAGGGGATGGATGAGAAGG&quot;</td><td>null</td><td>null</td><td>null</td><td>null</td><td>null</td><td>null</td><td>null</td><td>null</td><td>null</td><td>null</td><td>null</td><td>false</td></tr><tr><td>&quot;PB.10.16&quot;</td><td>&quot;chr1&quot;</td><td>&quot;+&quot;</td><td>3512</td><td>3</td><td>&quot;fusion&quot;</td><td>&quot;ENSG00000272438_ENSG0000029608…</td><td>&quot;novel&quot;</td><td>378</td><td>3</td><td>null</td><td>null</td><td>44</td><td>-4</td><td>&quot;intron_retention&quot;</td><td>&quot;FALSE&quot;</td><td>&quot;canonical&quot;</td><td>null</td><td>null</td><td>null</td><td>null</td><td>null</td><td>null</td><td>null</td><td>false</td><td>null</td><td>null</td><td>null</td><td>&quot;B&quot;</td><td>&quot;non_coding&quot;</td><td>null</td><td>null</td><td>null</td><td>null</td><td>null</td><td>null</td><td>null</td><td>40.0</td><td>&quot;ATGAGAAGGGCTCTAAGAGA&quot;</td><td>null</td><td>null</td><td>null</td><td>null</td><td>null</td><td>null</td><td>null</td><td>null</td><td>null</td><td>null</td><td>null</td><td>false</td></tr><tr><td>&hellip;</td><td>&hellip;</td><td>&hellip;</td><td>&hellip;</td><td>&hellip;</td><td>&hellip;</td><td>&hellip;</td><td>&hellip;</td><td>&hellip;</td><td>&hellip;</td><td>&hellip;</td><td>&hellip;</td><td>&hellip;</td><td>&hellip;</td><td>&hellip;</td><td>&hellip;</td><td>&hellip;</td><td>&hellip;</td><td>&hellip;</td><td>&hellip;</td><td>&hellip;</td><td>&hellip;</td><td>&hellip;</td><td>&hellip;</td><td>&hellip;</td><td>&hellip;</td><td>&hellip;</td><td>&hellip;</td><td>&hellip;</td><td>&hellip;</td><td>&hellip;</td><td>&hellip;</td><td>&hellip;</td><td>&hellip;</td><td>&hellip;</td><td>&hellip;</td><td>&hellip;</td><td>&hellip;</td><td>&hellip;</td><td>&hellip;</td><td>&hellip;</td><td>&hellip;</td><td>&hellip;</td><td>&hellip;</td><td>&hellip;</td><td>&hellip;</td><td>&hellip;</td><td>&hellip;</td><td>&hellip;</td><td>&hellip;</td><td>&hellip;</td></tr><tr><td>&quot;PB.112376.19&quot;</td><td>&quot;chrX&quot;</td><td>&quot;-&quot;</td><td>1594</td><td>6</td><td>&quot;fusion&quot;</td><td>&quot;CLIC2_ENSG00000224216&quot;</td><td>&quot;novel&quot;</td><td>2623</td><td>6</td><td>null</td><td>null</td><td>-55</td><td>813</td><td>&quot;multi-exon&quot;</td><td>&quot;FALSE&quot;</td><td>&quot;canonical&quot;</td><td>null</td><td>null</td><td>null</td><td>null</td><td>null</td><td>null</td><td>null</td><td>false</td><td>null</td><td>null</td><td>null</td><td>&quot;B&quot;</td><td>&quot;non_coding&quot;</td><td>null</td><td>null</td><td>null</td><td>null</td><td>null</td><td>null</td><td>null</td><td>20.0</td><td>&quot;AAAAGGTCTTCTTGTTGTCC&quot;</td><td>null</td><td>null</td><td>null</td><td>null</td><td>null</td><td>null</td><td>null</td><td>null</td><td>null</td><td>null</td><td>null</td><td>false</td></tr><tr><td>&quot;PB.112376.154&quot;</td><td>&quot;chrX&quot;</td><td>&quot;-&quot;</td><td>1594</td><td>7</td><td>&quot;fusion&quot;</td><td>&quot;H2AB3_TMLHE&quot;</td><td>&quot;novel&quot;</td><td>544</td><td>2</td><td>null</td><td>null</td><td>-19</td><td>-1</td><td>&quot;multi-exon&quot;</td><td>&quot;FALSE&quot;</td><td>&quot;canonical&quot;</td><td>null</td><td>null</td><td>null</td><td>null</td><td>null</td><td>null</td><td>null</td><td>false</td><td>null</td><td>null</td><td>null</td><td>&quot;B&quot;</td><td>&quot;non_coding&quot;</td><td>null</td><td>null</td><td>null</td><td>null</td><td>null</td><td>null</td><td>null</td><td>15.0</td><td>&quot;ATCTGCCCGCTTCAGTCACT&quot;</td><td>null</td><td>null</td><td>null</td><td>null</td><td>null</td><td>null</td><td>null</td><td>null</td><td>null</td><td>null</td><td>null</td><td>false</td></tr><tr><td>&quot;PB.112382.1000&quot;</td><td>&quot;chrX&quot;</td><td>&quot;+&quot;</td><td>2808</td><td>10</td><td>&quot;fusion&quot;</td><td>&quot;SPRY3_VAMP7&quot;</td><td>&quot;novel&quot;</td><td>8931</td><td>3</td><td>null</td><td>null</td><td>0</td><td>-4</td><td>&quot;multi-exon&quot;</td><td>&quot;FALSE&quot;</td><td>&quot;canonical&quot;</td><td>null</td><td>null</td><td>null</td><td>null</td><td>null</td><td>null</td><td>null</td><td>true</td><td>null</td><td>null</td><td>null</td><td>&quot;A&quot;</td><td>&quot;non_coding&quot;</td><td>null</td><td>null</td><td>null</td><td>null</td><td>null</td><td>null</td><td>null</td><td>25.0</td><td>&quot;ATGATTTGCTTGTTTTAGAA&quot;</td><td>null</td><td>null</td><td>null</td><td>null</td><td>null</td><td>null</td><td>null</td><td>null</td><td>null</td><td>null</td><td>null</td><td>false</td></tr><tr><td>&quot;PB.112711.17&quot;</td><td>&quot;chrY&quot;</td><td>&quot;+&quot;</td><td>3078</td><td>6</td><td>&quot;fusion&quot;</td><td>&quot;ENSG00000251510_USP9YP14&quot;</td><td>&quot;novel&quot;</td><td>1483</td><td>5</td><td>null</td><td>null</td><td>-4432</td><td>4698</td><td>&quot;multi-exon&quot;</td><td>&quot;FALSE&quot;</td><td>&quot;canonical&quot;</td><td>null</td><td>null</td><td>null</td><td>null</td><td>null</td><td>null</td><td>null</td><td>true</td><td>null</td><td>null</td><td>null</td><td>&quot;B&quot;</td><td>&quot;non_coding&quot;</td><td>null</td><td>null</td><td>null</td><td>null</td><td>null</td><td>null</td><td>null</td><td>10.0</td><td>&quot;ACTTTTGTGCTTAGCTTCTT&quot;</td><td>null</td><td>null</td><td>null</td><td>null</td><td>null</td><td>null</td><td>null</td><td>null</td><td>null</td><td>null</td><td>null</td><td>false</td></tr><tr><td>&quot;PB.112873.86&quot;</td><td>&quot;chrY&quot;</td><td>&quot;+&quot;</td><td>5008</td><td>12</td><td>&quot;fusion&quot;</td><td>&quot;CYCSP49_ENSG00000294742&quot;</td><td>&quot;novel&quot;</td><td>766</td><td>8</td><td>null</td><td>null</td><td>0</td><td>1375</td><td>&quot;multi-exon&quot;</td><td>&quot;FALSE&quot;</td><td>&quot;canonical&quot;</td><td>null</td><td>null</td><td>null</td><td>null</td><td>null</td><td>null</td><td>null</td><td>true</td><td>null</td><td>null</td><td>null</td><td>&quot;B&quot;</td><td>&quot;non_coding&quot;</td><td>null</td><td>null</td><td>null</td><td>null</td><td>null</td><td>null</td><td>null</td><td>10.0</td><td>&quot;TATAGGTCTGTTTCTGGGCT&quot;</td><td>null</td><td>null</td><td>null</td><td>null</td><td>null</td><td>null</td><td>null</td><td>null</td><td>null</td><td>null</td><td>null</td><td>false</td></tr></tbody></table></div>"
      ],
      "text/plain": [
       "shape: (4_332, 51)\n",
       "┌───────────────┬───────┬────────┬────────┬───┬───────────┬──────────┬──────────────┬──────────────┐\n",
       "│ isoform       ┆ chrom ┆ strand ┆ length ┆ … ┆ ratio_TSS ┆ fl_assoc ┆ cell_barcode ┆ containing_n │\n",
       "│ ---           ┆ ---   ┆ ---    ┆ ---    ┆   ┆ ---       ┆ ---      ┆ s            ┆ ovel_spl     │\n",
       "│ str           ┆ str   ┆ str    ┆ i32    ┆   ┆ str       ┆ str      ┆ ---          ┆ ---          │\n",
       "│               ┆       ┆        ┆        ┆   ┆           ┆          ┆ str          ┆ bool         │\n",
       "╞═══════════════╪═══════╪════════╪════════╪═══╪═══════════╪══════════╪══════════════╪══════════════╡\n",
       "│ PB.10.5       ┆ chr1  ┆ +      ┆ 3689   ┆ … ┆ null      ┆ null     ┆ null         ┆ false        │\n",
       "│ PB.10.6       ┆ chr1  ┆ +      ┆ 2589   ┆ … ┆ null      ┆ null     ┆ null         ┆ false        │\n",
       "│ PB.10.7       ┆ chr1  ┆ +      ┆ 5607   ┆ … ┆ null      ┆ null     ┆ null         ┆ false        │\n",
       "│ PB.10.12      ┆ chr1  ┆ +      ┆ 1609   ┆ … ┆ null      ┆ null     ┆ null         ┆ false        │\n",
       "│ PB.10.16      ┆ chr1  ┆ +      ┆ 3512   ┆ … ┆ null      ┆ null     ┆ null         ┆ false        │\n",
       "│ …             ┆ …     ┆ …      ┆ …      ┆ … ┆ …         ┆ …        ┆ …            ┆ …            │\n",
       "│ PB.112376.19  ┆ chrX  ┆ -      ┆ 1594   ┆ … ┆ null      ┆ null     ┆ null         ┆ false        │\n",
       "│ PB.112376.154 ┆ chrX  ┆ -      ┆ 1594   ┆ … ┆ null      ┆ null     ┆ null         ┆ false        │\n",
       "│ PB.112382.100 ┆ chrX  ┆ +      ┆ 2808   ┆ … ┆ null      ┆ null     ┆ null         ┆ false        │\n",
       "│ 0             ┆       ┆        ┆        ┆   ┆           ┆          ┆              ┆              │\n",
       "│ PB.112711.17  ┆ chrY  ┆ +      ┆ 3078   ┆ … ┆ null      ┆ null     ┆ null         ┆ false        │\n",
       "│ PB.112873.86  ┆ chrY  ┆ +      ┆ 5008   ┆ … ┆ null      ┆ null     ┆ null         ┆ false        │\n",
       "└───────────────┴───────┴────────┴────────┴───┴───────────┴──────────┴──────────────┴──────────────┘"
      ]
     },
     "execution_count": 23,
     "metadata": {},
     "output_type": "execute_result"
    }
   ],
   "source": [
    "final_classification\\\n",
    "    .filter(\n",
    "        pl.col(\"associated_gene\").str.starts_with(\"novel\") | pl.col(\"associated_gene\").str.contains(\"_\"),\n",
    "        pl.col(\"structural_category\").is_in([\"fusion\"])\n",
    "    )"
   ]
  },
  {
   "cell_type": "code",
   "execution_count": 24,
   "metadata": {},
   "outputs": [
    {
     "data": {
      "text/html": [
       "<div><style>\n",
       ".dataframe > thead > tr,\n",
       ".dataframe > tbody > tr {\n",
       "  text-align: right;\n",
       "  white-space: pre-wrap;\n",
       "}\n",
       "</style>\n",
       "<small>shape: (9,)</small><table border=\"1\" class=\"dataframe\"><thead><tr><th>structural_category</th></tr><tr><td>str</td></tr></thead><tbody><tr><td>&quot;novel_in_catalog&quot;</td></tr><tr><td>&quot;incomplete-splice_match&quot;</td></tr><tr><td>&quot;fusion&quot;</td></tr><tr><td>&quot;intergenic&quot;</td></tr><tr><td>&quot;full-splice_match&quot;</td></tr><tr><td>&quot;genic&quot;</td></tr><tr><td>&quot;antisense&quot;</td></tr><tr><td>&quot;moreJunctions&quot;</td></tr><tr><td>&quot;novel_not_in_catalog&quot;</td></tr></tbody></table></div>"
      ],
      "text/plain": [
       "shape: (9,)\n",
       "Series: 'structural_category' [str]\n",
       "[\n",
       "\t\"novel_in_catalog\"\n",
       "\t\"incomplete-splice_match\"\n",
       "\t\"fusion\"\n",
       "\t\"intergenic\"\n",
       "\t\"full-splice_match\"\n",
       "\t\"genic\"\n",
       "\t\"antisense\"\n",
       "\t\"moreJunctions\"\n",
       "\t\"novel_not_in_catalog\"\n",
       "]"
      ]
     },
     "execution_count": 24,
     "metadata": {},
     "output_type": "execute_result"
    }
   ],
   "source": [
    "final_classification[\"structural_category\"].unique()"
   ]
  },
  {
   "cell_type": "code",
   "execution_count": 26,
   "metadata": {},
   "outputs": [
    {
     "data": {
      "text/plain": [
       "445"
      ]
     },
     "execution_count": 26,
     "metadata": {},
     "output_type": "execute_result"
    }
   ],
   "source": [
    "final_classification.filter(pl.col(\"structural_category\")==\"intergenic\").shape[0]"
   ]
  },
  {
   "cell_type": "code",
   "execution_count": 29,
   "metadata": {},
   "outputs": [
    {
     "data": {
      "text/plain": [
       "4332"
      ]
     },
     "execution_count": 29,
     "metadata": {},
     "output_type": "execute_result"
    }
   ],
   "source": [
    "final_classification.filter(pl.col(\"structural_category\")==\"fusion\").shape[0]"
   ]
  },
  {
   "cell_type": "code",
   "execution_count": 31,
   "metadata": {},
   "outputs": [],
   "source": [
    "df = final_classification.filter(pl.col(\"structural_category\")==\"fusion\")"
   ]
  },
  {
   "cell_type": "code",
   "execution_count": null,
   "metadata": {},
   "outputs": [],
   "source": []
  }
 ],
 "metadata": {
  "kernelspec": {
   "display_name": "patch_seq_spl",
   "language": "python",
   "name": "python3"
  },
  "language_info": {
   "codemirror_mode": {
    "name": "ipython",
    "version": 3
   },
   "file_extension": ".py",
   "mimetype": "text/x-python",
   "name": "python",
   "nbconvert_exporter": "python",
   "pygments_lexer": "ipython3",
   "version": "3.12.3"
  }
 },
 "nbformat": 4,
 "nbformat_minor": 2
}
